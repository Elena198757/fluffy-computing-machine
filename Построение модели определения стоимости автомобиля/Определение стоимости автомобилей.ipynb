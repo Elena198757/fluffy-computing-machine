{
 "cells": [
  {
   "cell_type": "markdown",
   "metadata": {},
   "source": [
    "# Построение модели определения стоимости автомобиля"
   ]
  },
  {
   "cell_type": "markdown",
   "metadata": {},
   "source": [
    "Сервис по продаже автомобилей с пробегом «Не бит, не крашен» разрабатывает приложение для привлечения новых клиентов. В нём можно быстро узнать рыночную стоимость своего автомобиля. В вашем распоряжении исторические данные: технические характеристики, комплектации и цены автомобилей. \n",
    "Заказчику важны:\n",
    "\n",
    "- качество предсказания;\n",
    "- скорость предсказания;\n",
    "- время обучения."
   ]
  },
  {
   "cell_type": "markdown",
   "metadata": {},
   "source": [
    "Цель исследования - построить модель, которая умеет определять рыночную стоимость автомобиля.\n",
    "\n",
    "В нашем распоряжении данные о технических характеристиках, комплектации и ценах других автомобилей.\n",
    "\n",
    "Описание данных\n",
    "\n",
    "Признаки\n",
    "\n",
    "- DateCrawled — дата скачивания анкеты из базы\n",
    "- VehicleType — тип автомобильного кузова\n",
    "- RegistrationYear — год регистрации автомобиля\n",
    "- Gearbox — тип коробки передач\n",
    "- Power — мощность (л. с.)\n",
    "- Model — модель автомобиля\n",
    "- Kilometer — пробег (км)\n",
    "- RegistrationMonth — месяц регистрации автомобиля\n",
    "- FuelType — тип топлива\n",
    "- Brand — марка автомобиля\n",
    "- Repaired — была машина в ремонте или нет\n",
    "- DateCreated — дата создания анкеты\n",
    "- NumberOfPictures — количество фотографий автомобиля\n",
    "- PostalCode — почтовый индекс владельца анкеты (пользователя)\n",
    "- LastSeen — дата последней активности пользователя\n",
    "\n",
    "Целевой признак\n",
    "- Price — цена (евро)\n",
    "\n",
    "Критерии, которые необходимо учесть:\n",
    "- качество предсказания;\n",
    "- время обучения модели;\n",
    "- время предсказания модели.\n",
    "\n",
    "В рамках исследования необходимо:\n",
    "- Подготовить данные;\n",
    "- Подготовить выборки для обучения моделей;\n",
    "- Построить и обучить несколько моделей;\n",
    "- Проанализировать время обучения, время предсказания и качество моделей;\n",
    "- Проверить качество лучшей модели на тестовой выборке."
   ]
  },
  {
   "cell_type": "markdown",
   "metadata": {},
   "source": [
    "## Подготовка данных"
   ]
  },
  {
   "cell_type": "code",
   "execution_count": 1,
   "metadata": {},
   "outputs": [
    {
     "name": "stdout",
     "output_type": "stream",
     "text": [
      "Collecting scikit-learn==1.1.3\n",
      "  Downloading scikit_learn-1.1.3-cp39-cp39-manylinux_2_17_x86_64.manylinux2014_x86_64.whl (30.8 MB)\n",
      "\u001b[K     |████████████████████████████████| 30.8 MB 45 kB/s s eta 0:00:01   |▊                               | 706 kB 964 kB/s eta 0:00:32     |████████                        | 7.7 MB 2.8 MB/s eta 0:00:09     |████████████                    | 11.6 MB 2.8 MB/s eta 0:00:07\n",
      "\u001b[?25hRequirement already satisfied: joblib>=1.0.0 in /opt/conda/lib/python3.9/site-packages (from scikit-learn==1.1.3) (1.1.0)\n",
      "Requirement already satisfied: threadpoolctl>=2.0.0 in /opt/conda/lib/python3.9/site-packages (from scikit-learn==1.1.3) (3.1.0)\n",
      "Requirement already satisfied: scipy>=1.3.2 in /opt/conda/lib/python3.9/site-packages (from scikit-learn==1.1.3) (1.9.1)\n",
      "Requirement already satisfied: numpy>=1.17.3 in /opt/conda/lib/python3.9/site-packages (from scikit-learn==1.1.3) (1.21.1)\n",
      "Installing collected packages: scikit-learn\n",
      "  Attempting uninstall: scikit-learn\n",
      "    Found existing installation: scikit-learn 0.24.1\n",
      "    Uninstalling scikit-learn-0.24.1:\n",
      "      Successfully uninstalled scikit-learn-0.24.1\n",
      "Successfully installed scikit-learn-1.1.3\n"
     ]
    }
   ],
   "source": [
    "!pip install scikit-learn==1.1.3"
   ]
  },
  {
   "cell_type": "code",
   "execution_count": 2,
   "metadata": {},
   "outputs": [],
   "source": [
    "import warnings\n",
    "\n",
    "import pandas as pd\n",
    "import numpy as np\n",
    "\n",
    "import matplotlib.pyplot as plt\n",
    "import seaborn as sns\n",
    "\n",
    "from sklearn.metrics import mean_squared_error\n",
    "from sklearn.model_selection import train_test_split\n",
    "from sklearn.model_selection import RandomizedSearchCV\n",
    "from sklearn.model_selection import GridSearchCV\n",
    "\n",
    "\n",
    "from sklearn.linear_model import LinearRegression\n",
    "from sklearn.ensemble import RandomForestRegressor\n",
    "\n",
    "from sklearn.preprocessing import OneHotEncoder\n",
    "from sklearn.preprocessing import StandardScaler\n",
    "from sklearn.preprocessing import OrdinalEncoder\n",
    "\n",
    "import lightgbm as lgb\n",
    "from lightgbm import LGBMRegressor\n",
    "from catboost import CatBoostRegressor, Pool\n",
    "\n",
    "warnings.filterwarnings(\"ignore\")"
   ]
  },
  {
   "cell_type": "code",
   "execution_count": 3,
   "metadata": {},
   "outputs": [
    {
     "data": {
      "text/html": [
       "<div>\n",
       "<style scoped>\n",
       "    .dataframe tbody tr th:only-of-type {\n",
       "        vertical-align: middle;\n",
       "    }\n",
       "\n",
       "    .dataframe tbody tr th {\n",
       "        vertical-align: top;\n",
       "    }\n",
       "\n",
       "    .dataframe thead th {\n",
       "        text-align: right;\n",
       "    }\n",
       "</style>\n",
       "<table border=\"1\" class=\"dataframe\">\n",
       "  <thead>\n",
       "    <tr style=\"text-align: right;\">\n",
       "      <th></th>\n",
       "      <th>DateCrawled</th>\n",
       "      <th>Price</th>\n",
       "      <th>VehicleType</th>\n",
       "      <th>RegistrationYear</th>\n",
       "      <th>Gearbox</th>\n",
       "      <th>Power</th>\n",
       "      <th>Model</th>\n",
       "      <th>Kilometer</th>\n",
       "      <th>RegistrationMonth</th>\n",
       "      <th>FuelType</th>\n",
       "      <th>Brand</th>\n",
       "      <th>Repaired</th>\n",
       "      <th>DateCreated</th>\n",
       "      <th>NumberOfPictures</th>\n",
       "      <th>PostalCode</th>\n",
       "      <th>LastSeen</th>\n",
       "    </tr>\n",
       "  </thead>\n",
       "  <tbody>\n",
       "    <tr>\n",
       "      <th>0</th>\n",
       "      <td>2016-03-24 11:52:17</td>\n",
       "      <td>480</td>\n",
       "      <td>NaN</td>\n",
       "      <td>1993</td>\n",
       "      <td>manual</td>\n",
       "      <td>0</td>\n",
       "      <td>golf</td>\n",
       "      <td>150000</td>\n",
       "      <td>0</td>\n",
       "      <td>petrol</td>\n",
       "      <td>volkswagen</td>\n",
       "      <td>NaN</td>\n",
       "      <td>2016-03-24 00:00:00</td>\n",
       "      <td>0</td>\n",
       "      <td>70435</td>\n",
       "      <td>2016-04-07 03:16:57</td>\n",
       "    </tr>\n",
       "    <tr>\n",
       "      <th>1</th>\n",
       "      <td>2016-03-24 10:58:45</td>\n",
       "      <td>18300</td>\n",
       "      <td>coupe</td>\n",
       "      <td>2011</td>\n",
       "      <td>manual</td>\n",
       "      <td>190</td>\n",
       "      <td>NaN</td>\n",
       "      <td>125000</td>\n",
       "      <td>5</td>\n",
       "      <td>gasoline</td>\n",
       "      <td>audi</td>\n",
       "      <td>yes</td>\n",
       "      <td>2016-03-24 00:00:00</td>\n",
       "      <td>0</td>\n",
       "      <td>66954</td>\n",
       "      <td>2016-04-07 01:46:50</td>\n",
       "    </tr>\n",
       "    <tr>\n",
       "      <th>2</th>\n",
       "      <td>2016-03-14 12:52:21</td>\n",
       "      <td>9800</td>\n",
       "      <td>suv</td>\n",
       "      <td>2004</td>\n",
       "      <td>auto</td>\n",
       "      <td>163</td>\n",
       "      <td>grand</td>\n",
       "      <td>125000</td>\n",
       "      <td>8</td>\n",
       "      <td>gasoline</td>\n",
       "      <td>jeep</td>\n",
       "      <td>NaN</td>\n",
       "      <td>2016-03-14 00:00:00</td>\n",
       "      <td>0</td>\n",
       "      <td>90480</td>\n",
       "      <td>2016-04-05 12:47:46</td>\n",
       "    </tr>\n",
       "    <tr>\n",
       "      <th>3</th>\n",
       "      <td>2016-03-17 16:54:04</td>\n",
       "      <td>1500</td>\n",
       "      <td>small</td>\n",
       "      <td>2001</td>\n",
       "      <td>manual</td>\n",
       "      <td>75</td>\n",
       "      <td>golf</td>\n",
       "      <td>150000</td>\n",
       "      <td>6</td>\n",
       "      <td>petrol</td>\n",
       "      <td>volkswagen</td>\n",
       "      <td>no</td>\n",
       "      <td>2016-03-17 00:00:00</td>\n",
       "      <td>0</td>\n",
       "      <td>91074</td>\n",
       "      <td>2016-03-17 17:40:17</td>\n",
       "    </tr>\n",
       "    <tr>\n",
       "      <th>4</th>\n",
       "      <td>2016-03-31 17:25:20</td>\n",
       "      <td>3600</td>\n",
       "      <td>small</td>\n",
       "      <td>2008</td>\n",
       "      <td>manual</td>\n",
       "      <td>69</td>\n",
       "      <td>fabia</td>\n",
       "      <td>90000</td>\n",
       "      <td>7</td>\n",
       "      <td>gasoline</td>\n",
       "      <td>skoda</td>\n",
       "      <td>no</td>\n",
       "      <td>2016-03-31 00:00:00</td>\n",
       "      <td>0</td>\n",
       "      <td>60437</td>\n",
       "      <td>2016-04-06 10:17:21</td>\n",
       "    </tr>\n",
       "  </tbody>\n",
       "</table>\n",
       "</div>"
      ],
      "text/plain": [
       "           DateCrawled  Price VehicleType  RegistrationYear Gearbox  Power  \\\n",
       "0  2016-03-24 11:52:17    480         NaN              1993  manual      0   \n",
       "1  2016-03-24 10:58:45  18300       coupe              2011  manual    190   \n",
       "2  2016-03-14 12:52:21   9800         suv              2004    auto    163   \n",
       "3  2016-03-17 16:54:04   1500       small              2001  manual     75   \n",
       "4  2016-03-31 17:25:20   3600       small              2008  manual     69   \n",
       "\n",
       "   Model  Kilometer  RegistrationMonth  FuelType       Brand Repaired  \\\n",
       "0   golf     150000                  0    petrol  volkswagen      NaN   \n",
       "1    NaN     125000                  5  gasoline        audi      yes   \n",
       "2  grand     125000                  8  gasoline        jeep      NaN   \n",
       "3   golf     150000                  6    petrol  volkswagen       no   \n",
       "4  fabia      90000                  7  gasoline       skoda       no   \n",
       "\n",
       "           DateCreated  NumberOfPictures  PostalCode             LastSeen  \n",
       "0  2016-03-24 00:00:00                 0       70435  2016-04-07 03:16:57  \n",
       "1  2016-03-24 00:00:00                 0       66954  2016-04-07 01:46:50  \n",
       "2  2016-03-14 00:00:00                 0       90480  2016-04-05 12:47:46  \n",
       "3  2016-03-17 00:00:00                 0       91074  2016-03-17 17:40:17  \n",
       "4  2016-03-31 00:00:00                 0       60437  2016-04-06 10:17:21  "
      ]
     },
     "execution_count": 3,
     "metadata": {},
     "output_type": "execute_result"
    }
   ],
   "source": [
    "data = pd.read_csv('/datasets/autos.csv')\n",
    "data.head()"
   ]
  },
  {
   "cell_type": "code",
   "execution_count": 4,
   "metadata": {},
   "outputs": [
    {
     "data": {
      "text/plain": [
       "(354369, 16)"
      ]
     },
     "execution_count": 4,
     "metadata": {},
     "output_type": "execute_result"
    }
   ],
   "source": [
    "data.shape"
   ]
  },
  {
   "cell_type": "code",
   "execution_count": 5,
   "metadata": {
    "scrolled": true
   },
   "outputs": [
    {
     "name": "stdout",
     "output_type": "stream",
     "text": [
      "<class 'pandas.core.frame.DataFrame'>\n",
      "RangeIndex: 354369 entries, 0 to 354368\n",
      "Data columns (total 16 columns):\n",
      " #   Column             Non-Null Count   Dtype \n",
      "---  ------             --------------   ----- \n",
      " 0   DateCrawled        354369 non-null  object\n",
      " 1   Price              354369 non-null  int64 \n",
      " 2   VehicleType        316879 non-null  object\n",
      " 3   RegistrationYear   354369 non-null  int64 \n",
      " 4   Gearbox            334536 non-null  object\n",
      " 5   Power              354369 non-null  int64 \n",
      " 6   Model              334664 non-null  object\n",
      " 7   Kilometer          354369 non-null  int64 \n",
      " 8   RegistrationMonth  354369 non-null  int64 \n",
      " 9   FuelType           321474 non-null  object\n",
      " 10  Brand              354369 non-null  object\n",
      " 11  Repaired           283215 non-null  object\n",
      " 12  DateCreated        354369 non-null  object\n",
      " 13  NumberOfPictures   354369 non-null  int64 \n",
      " 14  PostalCode         354369 non-null  int64 \n",
      " 15  LastSeen           354369 non-null  object\n",
      "dtypes: int64(7), object(9)\n",
      "memory usage: 43.3+ MB\n"
     ]
    }
   ],
   "source": [
    "data.info()"
   ]
  },
  {
   "cell_type": "code",
   "execution_count": 6,
   "metadata": {},
   "outputs": [
    {
     "data": {
      "text/plain": [
       "4"
      ]
     },
     "execution_count": 6,
     "metadata": {},
     "output_type": "execute_result"
    }
   ],
   "source": [
    "data.duplicated().sum()"
   ]
  },
  {
   "cell_type": "code",
   "execution_count": 7,
   "metadata": {},
   "outputs": [],
   "source": [
    "data = data.drop_duplicates()"
   ]
  },
  {
   "cell_type": "code",
   "execution_count": 8,
   "metadata": {},
   "outputs": [
    {
     "data": {
      "text/plain": [
       "0"
      ]
     },
     "execution_count": 8,
     "metadata": {},
     "output_type": "execute_result"
    }
   ],
   "source": [
    "data.duplicated().sum()"
   ]
  },
  {
   "cell_type": "code",
   "execution_count": 9,
   "metadata": {},
   "outputs": [
    {
     "data": {
      "text/plain": [
       "DateCrawled           0.000000\n",
       "Price                 0.000000\n",
       "VehicleType          10.579487\n",
       "RegistrationYear      0.000000\n",
       "Gearbox               5.596772\n",
       "Power                 0.000000\n",
       "Model                 5.560651\n",
       "Kilometer             0.000000\n",
       "RegistrationMonth     0.000000\n",
       "FuelType              9.282802\n",
       "Brand                 0.000000\n",
       "Repaired             20.079297\n",
       "DateCreated           0.000000\n",
       "NumberOfPictures      0.000000\n",
       "PostalCode            0.000000\n",
       "LastSeen              0.000000\n",
       "dtype: float64"
      ]
     },
     "execution_count": 9,
     "metadata": {},
     "output_type": "execute_result"
    }
   ],
   "source": [
    "data.isna().sum()/len(data)*100"
   ]
  },
  {
   "cell_type": "markdown",
   "metadata": {},
   "source": [
    "Итак, около 5% пропусков в столбцах Модель автомобиля и тип коробки передач, удалим эти строки, так как запоолнить их не представлется возможным."
   ]
  },
  {
   "cell_type": "code",
   "execution_count": 10,
   "metadata": {},
   "outputs": [],
   "source": [
    "data = data.dropna(subset=['Gearbox', 'Model'])"
   ]
  },
  {
   "cell_type": "code",
   "execution_count": 11,
   "metadata": {},
   "outputs": [
    {
     "data": {
      "text/plain": [
       "DateCrawled           0.000000\n",
       "Price                 0.000000\n",
       "VehicleType           7.431699\n",
       "RegistrationYear      0.000000\n",
       "Gearbox               0.000000\n",
       "Power                 0.000000\n",
       "Model                 0.000000\n",
       "Kilometer             0.000000\n",
       "RegistrationMonth     0.000000\n",
       "FuelType              6.187021\n",
       "Brand                 0.000000\n",
       "Repaired             16.529763\n",
       "DateCreated           0.000000\n",
       "NumberOfPictures      0.000000\n",
       "PostalCode            0.000000\n",
       "LastSeen              0.000000\n",
       "dtype: float64"
      ]
     },
     "execution_count": 11,
     "metadata": {},
     "output_type": "execute_result"
    }
   ],
   "source": [
    "data.isna().sum()/len(data)*100"
   ]
  },
  {
   "cell_type": "markdown",
   "metadata": {},
   "source": [
    "Итак, остается довольно большой процент пропусков в столбцах с информацией о типе кузова, была ли машина в ремонте и тип топлива. \n",
    "Поскольку восстановить эти данные не представляется возможным, заменим пропуски на значение unknown."
   ]
  },
  {
   "cell_type": "code",
   "execution_count": 12,
   "metadata": {},
   "outputs": [],
   "source": [
    "data['VehicleType'].fillna('unknown', inplace=True)\n",
    "data['Repaired'].fillna('unknown', inplace=True)\n",
    "data['FuelType'].fillna('unknown', inplace=True)"
   ]
  },
  {
   "cell_type": "code",
   "execution_count": 13,
   "metadata": {},
   "outputs": [
    {
     "data": {
      "text/plain": [
       "DateCrawled          0.0\n",
       "Price                0.0\n",
       "VehicleType          0.0\n",
       "RegistrationYear     0.0\n",
       "Gearbox              0.0\n",
       "Power                0.0\n",
       "Model                0.0\n",
       "Kilometer            0.0\n",
       "RegistrationMonth    0.0\n",
       "FuelType             0.0\n",
       "Brand                0.0\n",
       "Repaired             0.0\n",
       "DateCreated          0.0\n",
       "NumberOfPictures     0.0\n",
       "PostalCode           0.0\n",
       "LastSeen             0.0\n",
       "dtype: float64"
      ]
     },
     "execution_count": 13,
     "metadata": {},
     "output_type": "execute_result"
    }
   ],
   "source": [
    "data.isna().sum()/len(data)*100"
   ]
  },
  {
   "cell_type": "code",
   "execution_count": 14,
   "metadata": {},
   "outputs": [
    {
     "data": {
      "text/html": [
       "<div>\n",
       "<style scoped>\n",
       "    .dataframe tbody tr th:only-of-type {\n",
       "        vertical-align: middle;\n",
       "    }\n",
       "\n",
       "    .dataframe tbody tr th {\n",
       "        vertical-align: top;\n",
       "    }\n",
       "\n",
       "    .dataframe thead th {\n",
       "        text-align: right;\n",
       "    }\n",
       "</style>\n",
       "<table border=\"1\" class=\"dataframe\">\n",
       "  <thead>\n",
       "    <tr style=\"text-align: right;\">\n",
       "      <th></th>\n",
       "      <th>Price</th>\n",
       "      <th>RegistrationYear</th>\n",
       "      <th>Power</th>\n",
       "      <th>Kilometer</th>\n",
       "      <th>RegistrationMonth</th>\n",
       "      <th>NumberOfPictures</th>\n",
       "      <th>PostalCode</th>\n",
       "    </tr>\n",
       "  </thead>\n",
       "  <tbody>\n",
       "    <tr>\n",
       "      <th>count</th>\n",
       "      <td>318958.000000</td>\n",
       "      <td>318958.000000</td>\n",
       "      <td>318958.000000</td>\n",
       "      <td>318958.000000</td>\n",
       "      <td>318958.000000</td>\n",
       "      <td>318958.0</td>\n",
       "      <td>318958.000000</td>\n",
       "    </tr>\n",
       "    <tr>\n",
       "      <th>mean</th>\n",
       "      <td>4608.905502</td>\n",
       "      <td>2003.427031</td>\n",
       "      <td>114.965265</td>\n",
       "      <td>128844.738179</td>\n",
       "      <td>5.908107</td>\n",
       "      <td>0.0</td>\n",
       "      <td>50766.394149</td>\n",
       "    </tr>\n",
       "    <tr>\n",
       "      <th>std</th>\n",
       "      <td>4564.241216</td>\n",
       "      <td>30.517461</td>\n",
       "      <td>185.627579</td>\n",
       "      <td>36620.680186</td>\n",
       "      <td>3.634281</td>\n",
       "      <td>0.0</td>\n",
       "      <td>25780.246706</td>\n",
       "    </tr>\n",
       "    <tr>\n",
       "      <th>min</th>\n",
       "      <td>0.000000</td>\n",
       "      <td>1000.000000</td>\n",
       "      <td>0.000000</td>\n",
       "      <td>5000.000000</td>\n",
       "      <td>0.000000</td>\n",
       "      <td>0.0</td>\n",
       "      <td>1067.000000</td>\n",
       "    </tr>\n",
       "    <tr>\n",
       "      <th>25%</th>\n",
       "      <td>1200.000000</td>\n",
       "      <td>1999.000000</td>\n",
       "      <td>75.000000</td>\n",
       "      <td>125000.000000</td>\n",
       "      <td>3.000000</td>\n",
       "      <td>0.0</td>\n",
       "      <td>30455.000000</td>\n",
       "    </tr>\n",
       "    <tr>\n",
       "      <th>50%</th>\n",
       "      <td>2900.000000</td>\n",
       "      <td>2003.000000</td>\n",
       "      <td>105.000000</td>\n",
       "      <td>150000.000000</td>\n",
       "      <td>6.000000</td>\n",
       "      <td>0.0</td>\n",
       "      <td>49610.000000</td>\n",
       "    </tr>\n",
       "    <tr>\n",
       "      <th>75%</th>\n",
       "      <td>6700.000000</td>\n",
       "      <td>2008.000000</td>\n",
       "      <td>143.000000</td>\n",
       "      <td>150000.000000</td>\n",
       "      <td>9.000000</td>\n",
       "      <td>0.0</td>\n",
       "      <td>71357.000000</td>\n",
       "    </tr>\n",
       "    <tr>\n",
       "      <th>max</th>\n",
       "      <td>20000.000000</td>\n",
       "      <td>9000.000000</td>\n",
       "      <td>20000.000000</td>\n",
       "      <td>150000.000000</td>\n",
       "      <td>12.000000</td>\n",
       "      <td>0.0</td>\n",
       "      <td>99998.000000</td>\n",
       "    </tr>\n",
       "  </tbody>\n",
       "</table>\n",
       "</div>"
      ],
      "text/plain": [
       "               Price  RegistrationYear          Power      Kilometer  \\\n",
       "count  318958.000000     318958.000000  318958.000000  318958.000000   \n",
       "mean     4608.905502       2003.427031     114.965265  128844.738179   \n",
       "std      4564.241216         30.517461     185.627579   36620.680186   \n",
       "min         0.000000       1000.000000       0.000000    5000.000000   \n",
       "25%      1200.000000       1999.000000      75.000000  125000.000000   \n",
       "50%      2900.000000       2003.000000     105.000000  150000.000000   \n",
       "75%      6700.000000       2008.000000     143.000000  150000.000000   \n",
       "max     20000.000000       9000.000000   20000.000000  150000.000000   \n",
       "\n",
       "       RegistrationMonth  NumberOfPictures     PostalCode  \n",
       "count      318958.000000          318958.0  318958.000000  \n",
       "mean            5.908107               0.0   50766.394149  \n",
       "std             3.634281               0.0   25780.246706  \n",
       "min             0.000000               0.0    1067.000000  \n",
       "25%             3.000000               0.0   30455.000000  \n",
       "50%             6.000000               0.0   49610.000000  \n",
       "75%             9.000000               0.0   71357.000000  \n",
       "max            12.000000               0.0   99998.000000  "
      ]
     },
     "execution_count": 14,
     "metadata": {},
     "output_type": "execute_result"
    }
   ],
   "source": [
    "data.describe()"
   ]
  },
  {
   "cell_type": "markdown",
   "metadata": {},
   "source": [
    "Теперь удалим столбцы, которые не нужны нам для целей машиного обучения:\n",
    "\n",
    "- PostalCode\n",
    "- NumberOfPictures(везде нулевые значения)\n",
    "- DateCrawled\n",
    "- DateCreated\n",
    "- LastSeen"
   ]
  },
  {
   "cell_type": "code",
   "execution_count": 15,
   "metadata": {},
   "outputs": [
    {
     "data": {
      "text/html": [
       "<div>\n",
       "<style scoped>\n",
       "    .dataframe tbody tr th:only-of-type {\n",
       "        vertical-align: middle;\n",
       "    }\n",
       "\n",
       "    .dataframe tbody tr th {\n",
       "        vertical-align: top;\n",
       "    }\n",
       "\n",
       "    .dataframe thead th {\n",
       "        text-align: right;\n",
       "    }\n",
       "</style>\n",
       "<table border=\"1\" class=\"dataframe\">\n",
       "  <thead>\n",
       "    <tr style=\"text-align: right;\">\n",
       "      <th></th>\n",
       "      <th>Price</th>\n",
       "      <th>VehicleType</th>\n",
       "      <th>RegistrationYear</th>\n",
       "      <th>Gearbox</th>\n",
       "      <th>Power</th>\n",
       "      <th>Model</th>\n",
       "      <th>Kilometer</th>\n",
       "      <th>RegistrationMonth</th>\n",
       "      <th>FuelType</th>\n",
       "      <th>Brand</th>\n",
       "      <th>Repaired</th>\n",
       "      <th>DateCreated</th>\n",
       "      <th>NumberOfPictures</th>\n",
       "      <th>PostalCode</th>\n",
       "      <th>LastSeen</th>\n",
       "    </tr>\n",
       "    <tr>\n",
       "      <th>DateCrawled</th>\n",
       "      <th></th>\n",
       "      <th></th>\n",
       "      <th></th>\n",
       "      <th></th>\n",
       "      <th></th>\n",
       "      <th></th>\n",
       "      <th></th>\n",
       "      <th></th>\n",
       "      <th></th>\n",
       "      <th></th>\n",
       "      <th></th>\n",
       "      <th></th>\n",
       "      <th></th>\n",
       "      <th></th>\n",
       "      <th></th>\n",
       "    </tr>\n",
       "  </thead>\n",
       "  <tbody>\n",
       "    <tr>\n",
       "      <th>2016-03-05 14:06:22</th>\n",
       "      <td>1</td>\n",
       "      <td>1</td>\n",
       "      <td>1</td>\n",
       "      <td>1</td>\n",
       "      <td>1</td>\n",
       "      <td>1</td>\n",
       "      <td>1</td>\n",
       "      <td>1</td>\n",
       "      <td>1</td>\n",
       "      <td>1</td>\n",
       "      <td>1</td>\n",
       "      <td>1</td>\n",
       "      <td>1</td>\n",
       "      <td>1</td>\n",
       "      <td>1</td>\n",
       "    </tr>\n",
       "    <tr>\n",
       "      <th>2016-03-05 14:06:23</th>\n",
       "      <td>1</td>\n",
       "      <td>1</td>\n",
       "      <td>1</td>\n",
       "      <td>1</td>\n",
       "      <td>1</td>\n",
       "      <td>1</td>\n",
       "      <td>1</td>\n",
       "      <td>1</td>\n",
       "      <td>1</td>\n",
       "      <td>1</td>\n",
       "      <td>1</td>\n",
       "      <td>1</td>\n",
       "      <td>1</td>\n",
       "      <td>1</td>\n",
       "      <td>1</td>\n",
       "    </tr>\n",
       "    <tr>\n",
       "      <th>2016-03-05 14:06:24</th>\n",
       "      <td>2</td>\n",
       "      <td>2</td>\n",
       "      <td>2</td>\n",
       "      <td>2</td>\n",
       "      <td>2</td>\n",
       "      <td>2</td>\n",
       "      <td>2</td>\n",
       "      <td>2</td>\n",
       "      <td>2</td>\n",
       "      <td>2</td>\n",
       "      <td>2</td>\n",
       "      <td>2</td>\n",
       "      <td>2</td>\n",
       "      <td>2</td>\n",
       "      <td>2</td>\n",
       "    </tr>\n",
       "    <tr>\n",
       "      <th>2016-03-05 14:06:25</th>\n",
       "      <td>1</td>\n",
       "      <td>1</td>\n",
       "      <td>1</td>\n",
       "      <td>1</td>\n",
       "      <td>1</td>\n",
       "      <td>1</td>\n",
       "      <td>1</td>\n",
       "      <td>1</td>\n",
       "      <td>1</td>\n",
       "      <td>1</td>\n",
       "      <td>1</td>\n",
       "      <td>1</td>\n",
       "      <td>1</td>\n",
       "      <td>1</td>\n",
       "      <td>1</td>\n",
       "    </tr>\n",
       "    <tr>\n",
       "      <th>2016-03-05 14:06:26</th>\n",
       "      <td>1</td>\n",
       "      <td>1</td>\n",
       "      <td>1</td>\n",
       "      <td>1</td>\n",
       "      <td>1</td>\n",
       "      <td>1</td>\n",
       "      <td>1</td>\n",
       "      <td>1</td>\n",
       "      <td>1</td>\n",
       "      <td>1</td>\n",
       "      <td>1</td>\n",
       "      <td>1</td>\n",
       "      <td>1</td>\n",
       "      <td>1</td>\n",
       "      <td>1</td>\n",
       "    </tr>\n",
       "    <tr>\n",
       "      <th>...</th>\n",
       "      <td>...</td>\n",
       "      <td>...</td>\n",
       "      <td>...</td>\n",
       "      <td>...</td>\n",
       "      <td>...</td>\n",
       "      <td>...</td>\n",
       "      <td>...</td>\n",
       "      <td>...</td>\n",
       "      <td>...</td>\n",
       "      <td>...</td>\n",
       "      <td>...</td>\n",
       "      <td>...</td>\n",
       "      <td>...</td>\n",
       "      <td>...</td>\n",
       "      <td>...</td>\n",
       "    </tr>\n",
       "    <tr>\n",
       "      <th>2016-04-07 14:36:53</th>\n",
       "      <td>1</td>\n",
       "      <td>1</td>\n",
       "      <td>1</td>\n",
       "      <td>1</td>\n",
       "      <td>1</td>\n",
       "      <td>1</td>\n",
       "      <td>1</td>\n",
       "      <td>1</td>\n",
       "      <td>1</td>\n",
       "      <td>1</td>\n",
       "      <td>1</td>\n",
       "      <td>1</td>\n",
       "      <td>1</td>\n",
       "      <td>1</td>\n",
       "      <td>1</td>\n",
       "    </tr>\n",
       "    <tr>\n",
       "      <th>2016-04-07 14:36:54</th>\n",
       "      <td>1</td>\n",
       "      <td>1</td>\n",
       "      <td>1</td>\n",
       "      <td>1</td>\n",
       "      <td>1</td>\n",
       "      <td>1</td>\n",
       "      <td>1</td>\n",
       "      <td>1</td>\n",
       "      <td>1</td>\n",
       "      <td>1</td>\n",
       "      <td>1</td>\n",
       "      <td>1</td>\n",
       "      <td>1</td>\n",
       "      <td>1</td>\n",
       "      <td>1</td>\n",
       "    </tr>\n",
       "    <tr>\n",
       "      <th>2016-04-07 14:36:55</th>\n",
       "      <td>1</td>\n",
       "      <td>1</td>\n",
       "      <td>1</td>\n",
       "      <td>1</td>\n",
       "      <td>1</td>\n",
       "      <td>1</td>\n",
       "      <td>1</td>\n",
       "      <td>1</td>\n",
       "      <td>1</td>\n",
       "      <td>1</td>\n",
       "      <td>1</td>\n",
       "      <td>1</td>\n",
       "      <td>1</td>\n",
       "      <td>1</td>\n",
       "      <td>1</td>\n",
       "    </tr>\n",
       "    <tr>\n",
       "      <th>2016-04-07 14:36:56</th>\n",
       "      <td>1</td>\n",
       "      <td>1</td>\n",
       "      <td>1</td>\n",
       "      <td>1</td>\n",
       "      <td>1</td>\n",
       "      <td>1</td>\n",
       "      <td>1</td>\n",
       "      <td>1</td>\n",
       "      <td>1</td>\n",
       "      <td>1</td>\n",
       "      <td>1</td>\n",
       "      <td>1</td>\n",
       "      <td>1</td>\n",
       "      <td>1</td>\n",
       "      <td>1</td>\n",
       "    </tr>\n",
       "    <tr>\n",
       "      <th>2016-04-07 14:36:58</th>\n",
       "      <td>1</td>\n",
       "      <td>1</td>\n",
       "      <td>1</td>\n",
       "      <td>1</td>\n",
       "      <td>1</td>\n",
       "      <td>1</td>\n",
       "      <td>1</td>\n",
       "      <td>1</td>\n",
       "      <td>1</td>\n",
       "      <td>1</td>\n",
       "      <td>1</td>\n",
       "      <td>1</td>\n",
       "      <td>1</td>\n",
       "      <td>1</td>\n",
       "      <td>1</td>\n",
       "    </tr>\n",
       "  </tbody>\n",
       "</table>\n",
       "<p>250929 rows × 15 columns</p>\n",
       "</div>"
      ],
      "text/plain": [
       "                     Price  VehicleType  RegistrationYear  Gearbox  Power  \\\n",
       "DateCrawled                                                                 \n",
       "2016-03-05 14:06:22      1            1                 1        1      1   \n",
       "2016-03-05 14:06:23      1            1                 1        1      1   \n",
       "2016-03-05 14:06:24      2            2                 2        2      2   \n",
       "2016-03-05 14:06:25      1            1                 1        1      1   \n",
       "2016-03-05 14:06:26      1            1                 1        1      1   \n",
       "...                    ...          ...               ...      ...    ...   \n",
       "2016-04-07 14:36:53      1            1                 1        1      1   \n",
       "2016-04-07 14:36:54      1            1                 1        1      1   \n",
       "2016-04-07 14:36:55      1            1                 1        1      1   \n",
       "2016-04-07 14:36:56      1            1                 1        1      1   \n",
       "2016-04-07 14:36:58      1            1                 1        1      1   \n",
       "\n",
       "                     Model  Kilometer  RegistrationMonth  FuelType  Brand  \\\n",
       "DateCrawled                                                                 \n",
       "2016-03-05 14:06:22      1          1                  1         1      1   \n",
       "2016-03-05 14:06:23      1          1                  1         1      1   \n",
       "2016-03-05 14:06:24      2          2                  2         2      2   \n",
       "2016-03-05 14:06:25      1          1                  1         1      1   \n",
       "2016-03-05 14:06:26      1          1                  1         1      1   \n",
       "...                    ...        ...                ...       ...    ...   \n",
       "2016-04-07 14:36:53      1          1                  1         1      1   \n",
       "2016-04-07 14:36:54      1          1                  1         1      1   \n",
       "2016-04-07 14:36:55      1          1                  1         1      1   \n",
       "2016-04-07 14:36:56      1          1                  1         1      1   \n",
       "2016-04-07 14:36:58      1          1                  1         1      1   \n",
       "\n",
       "                     Repaired  DateCreated  NumberOfPictures  PostalCode  \\\n",
       "DateCrawled                                                                \n",
       "2016-03-05 14:06:22         1            1                 1           1   \n",
       "2016-03-05 14:06:23         1            1                 1           1   \n",
       "2016-03-05 14:06:24         2            2                 2           2   \n",
       "2016-03-05 14:06:25         1            1                 1           1   \n",
       "2016-03-05 14:06:26         1            1                 1           1   \n",
       "...                       ...          ...               ...         ...   \n",
       "2016-04-07 14:36:53         1            1                 1           1   \n",
       "2016-04-07 14:36:54         1            1                 1           1   \n",
       "2016-04-07 14:36:55         1            1                 1           1   \n",
       "2016-04-07 14:36:56         1            1                 1           1   \n",
       "2016-04-07 14:36:58         1            1                 1           1   \n",
       "\n",
       "                     LastSeen  \n",
       "DateCrawled                    \n",
       "2016-03-05 14:06:22         1  \n",
       "2016-03-05 14:06:23         1  \n",
       "2016-03-05 14:06:24         2  \n",
       "2016-03-05 14:06:25         1  \n",
       "2016-03-05 14:06:26         1  \n",
       "...                       ...  \n",
       "2016-04-07 14:36:53         1  \n",
       "2016-04-07 14:36:54         1  \n",
       "2016-04-07 14:36:55         1  \n",
       "2016-04-07 14:36:56         1  \n",
       "2016-04-07 14:36:58         1  \n",
       "\n",
       "[250929 rows x 15 columns]"
      ]
     },
     "execution_count": 15,
     "metadata": {},
     "output_type": "execute_result"
    }
   ],
   "source": [
    "data.groupby('DateCrawled').count().sort_values(by='DateCrawled')"
   ]
  },
  {
   "cell_type": "code",
   "execution_count": 16,
   "metadata": {},
   "outputs": [],
   "source": [
    "data = data.drop(['PostalCode', 'NumberOfPictures', 'DateCrawled','DateCreated','LastSeen'], axis=1)"
   ]
  },
  {
   "cell_type": "code",
   "execution_count": 17,
   "metadata": {},
   "outputs": [
    {
     "name": "stdout",
     "output_type": "stream",
     "text": [
      "<class 'pandas.core.frame.DataFrame'>\n",
      "Int64Index: 318958 entries, 0 to 354368\n",
      "Data columns (total 11 columns):\n",
      " #   Column             Non-Null Count   Dtype \n",
      "---  ------             --------------   ----- \n",
      " 0   Price              318958 non-null  int64 \n",
      " 1   VehicleType        318958 non-null  object\n",
      " 2   RegistrationYear   318958 non-null  int64 \n",
      " 3   Gearbox            318958 non-null  object\n",
      " 4   Power              318958 non-null  int64 \n",
      " 5   Model              318958 non-null  object\n",
      " 6   Kilometer          318958 non-null  int64 \n",
      " 7   RegistrationMonth  318958 non-null  int64 \n",
      " 8   FuelType           318958 non-null  object\n",
      " 9   Brand              318958 non-null  object\n",
      " 10  Repaired           318958 non-null  object\n",
      "dtypes: int64(5), object(6)\n",
      "memory usage: 29.2+ MB\n"
     ]
    }
   ],
   "source": [
    "data.info()"
   ]
  },
  {
   "cell_type": "markdown",
   "metadata": {},
   "source": [
    "Далее разберемся со столбцами, в которых есть выбросы, выше мы заметили, что в столбе Цена есть нулевые значения, в столбце Год присутствуют значения 1000 и 9000,в столбце Мощность также есть аномальные значения, в графе Месяц регистристрации присутствуют нули. Рассмотрим по порядку."
   ]
  },
  {
   "cell_type": "code",
   "execution_count": 18,
   "metadata": {},
   "outputs": [
    {
     "data": {
      "text/plain": [
       "<AxesSubplot:xlabel='Price', ylabel='Count'>"
      ]
     },
     "execution_count": 18,
     "metadata": {},
     "output_type": "execute_result"
    },
    {
     "data": {
      "image/png": "[encoded data removed]",
      "text/plain": [
       "<Figure size 1080x360 with 1 Axes>"
      ]
     },
     "metadata": {
      "needs_background": "light"
     },
     "output_type": "display_data"
    }
   ],
   "source": [
    "# рассмотрим расспределение по цене\n",
    "plt.figure(figsize=(15,5))  \n",
    "sns.histplot(data['Price'],bins=200)"
   ]
  },
  {
   "cell_type": "code",
   "execution_count": 19,
   "metadata": {},
   "outputs": [
    {
     "data": {
      "text/html": [
       "<div>\n",
       "<style scoped>\n",
       "    .dataframe tbody tr th:only-of-type {\n",
       "        vertical-align: middle;\n",
       "    }\n",
       "\n",
       "    .dataframe tbody tr th {\n",
       "        vertical-align: top;\n",
       "    }\n",
       "\n",
       "    .dataframe thead th {\n",
       "        text-align: right;\n",
       "    }\n",
       "</style>\n",
       "<table border=\"1\" class=\"dataframe\">\n",
       "  <thead>\n",
       "    <tr style=\"text-align: right;\">\n",
       "      <th></th>\n",
       "      <th>VehicleType</th>\n",
       "      <th>RegistrationYear</th>\n",
       "      <th>Gearbox</th>\n",
       "      <th>Power</th>\n",
       "      <th>Model</th>\n",
       "      <th>Kilometer</th>\n",
       "      <th>RegistrationMonth</th>\n",
       "      <th>FuelType</th>\n",
       "      <th>Brand</th>\n",
       "      <th>Repaired</th>\n",
       "    </tr>\n",
       "    <tr>\n",
       "      <th>Price</th>\n",
       "      <th></th>\n",
       "      <th></th>\n",
       "      <th></th>\n",
       "      <th></th>\n",
       "      <th></th>\n",
       "      <th></th>\n",
       "      <th></th>\n",
       "      <th></th>\n",
       "      <th></th>\n",
       "      <th></th>\n",
       "    </tr>\n",
       "  </thead>\n",
       "  <tbody>\n",
       "    <tr>\n",
       "      <th>0</th>\n",
       "      <td>7156</td>\n",
       "      <td>7156</td>\n",
       "      <td>7156</td>\n",
       "      <td>7156</td>\n",
       "      <td>7156</td>\n",
       "      <td>7156</td>\n",
       "      <td>7156</td>\n",
       "      <td>7156</td>\n",
       "      <td>7156</td>\n",
       "      <td>7156</td>\n",
       "    </tr>\n",
       "    <tr>\n",
       "      <th>1</th>\n",
       "      <td>715</td>\n",
       "      <td>715</td>\n",
       "      <td>715</td>\n",
       "      <td>715</td>\n",
       "      <td>715</td>\n",
       "      <td>715</td>\n",
       "      <td>715</td>\n",
       "      <td>715</td>\n",
       "      <td>715</td>\n",
       "      <td>715</td>\n",
       "    </tr>\n",
       "    <tr>\n",
       "      <th>2</th>\n",
       "      <td>9</td>\n",
       "      <td>9</td>\n",
       "      <td>9</td>\n",
       "      <td>9</td>\n",
       "      <td>9</td>\n",
       "      <td>9</td>\n",
       "      <td>9</td>\n",
       "      <td>9</td>\n",
       "      <td>9</td>\n",
       "      <td>9</td>\n",
       "    </tr>\n",
       "    <tr>\n",
       "      <th>3</th>\n",
       "      <td>5</td>\n",
       "      <td>5</td>\n",
       "      <td>5</td>\n",
       "      <td>5</td>\n",
       "      <td>5</td>\n",
       "      <td>5</td>\n",
       "      <td>5</td>\n",
       "      <td>5</td>\n",
       "      <td>5</td>\n",
       "      <td>5</td>\n",
       "    </tr>\n",
       "    <tr>\n",
       "      <th>5</th>\n",
       "      <td>12</td>\n",
       "      <td>12</td>\n",
       "      <td>12</td>\n",
       "      <td>12</td>\n",
       "      <td>12</td>\n",
       "      <td>12</td>\n",
       "      <td>12</td>\n",
       "      <td>12</td>\n",
       "      <td>12</td>\n",
       "      <td>12</td>\n",
       "    </tr>\n",
       "    <tr>\n",
       "      <th>...</th>\n",
       "      <td>...</td>\n",
       "      <td>...</td>\n",
       "      <td>...</td>\n",
       "      <td>...</td>\n",
       "      <td>...</td>\n",
       "      <td>...</td>\n",
       "      <td>...</td>\n",
       "      <td>...</td>\n",
       "      <td>...</td>\n",
       "      <td>...</td>\n",
       "    </tr>\n",
       "    <tr>\n",
       "      <th>19995</th>\n",
       "      <td>10</td>\n",
       "      <td>10</td>\n",
       "      <td>10</td>\n",
       "      <td>10</td>\n",
       "      <td>10</td>\n",
       "      <td>10</td>\n",
       "      <td>10</td>\n",
       "      <td>10</td>\n",
       "      <td>10</td>\n",
       "      <td>10</td>\n",
       "    </tr>\n",
       "    <tr>\n",
       "      <th>19997</th>\n",
       "      <td>1</td>\n",
       "      <td>1</td>\n",
       "      <td>1</td>\n",
       "      <td>1</td>\n",
       "      <td>1</td>\n",
       "      <td>1</td>\n",
       "      <td>1</td>\n",
       "      <td>1</td>\n",
       "      <td>1</td>\n",
       "      <td>1</td>\n",
       "    </tr>\n",
       "    <tr>\n",
       "      <th>19998</th>\n",
       "      <td>6</td>\n",
       "      <td>6</td>\n",
       "      <td>6</td>\n",
       "      <td>6</td>\n",
       "      <td>6</td>\n",
       "      <td>6</td>\n",
       "      <td>6</td>\n",
       "      <td>6</td>\n",
       "      <td>6</td>\n",
       "      <td>6</td>\n",
       "    </tr>\n",
       "    <tr>\n",
       "      <th>19999</th>\n",
       "      <td>266</td>\n",
       "      <td>266</td>\n",
       "      <td>266</td>\n",
       "      <td>266</td>\n",
       "      <td>266</td>\n",
       "      <td>266</td>\n",
       "      <td>266</td>\n",
       "      <td>266</td>\n",
       "      <td>266</td>\n",
       "      <td>266</td>\n",
       "    </tr>\n",
       "    <tr>\n",
       "      <th>20000</th>\n",
       "      <td>237</td>\n",
       "      <td>237</td>\n",
       "      <td>237</td>\n",
       "      <td>237</td>\n",
       "      <td>237</td>\n",
       "      <td>237</td>\n",
       "      <td>237</td>\n",
       "      <td>237</td>\n",
       "      <td>237</td>\n",
       "      <td>237</td>\n",
       "    </tr>\n",
       "  </tbody>\n",
       "</table>\n",
       "<p>3625 rows × 10 columns</p>\n",
       "</div>"
      ],
      "text/plain": [
       "       VehicleType  RegistrationYear  Gearbox  Power  Model  Kilometer  \\\n",
       "Price                                                                    \n",
       "0             7156              7156     7156   7156   7156       7156   \n",
       "1              715               715      715    715    715        715   \n",
       "2                9                 9        9      9      9          9   \n",
       "3                5                 5        5      5      5          5   \n",
       "5               12                12       12     12     12         12   \n",
       "...            ...               ...      ...    ...    ...        ...   \n",
       "19995           10                10       10     10     10         10   \n",
       "19997            1                 1        1      1      1          1   \n",
       "19998            6                 6        6      6      6          6   \n",
       "19999          266               266      266    266    266        266   \n",
       "20000          237               237      237    237    237        237   \n",
       "\n",
       "       RegistrationMonth  FuelType  Brand  Repaired  \n",
       "Price                                                \n",
       "0                   7156      7156   7156      7156  \n",
       "1                    715       715    715       715  \n",
       "2                      9         9      9         9  \n",
       "3                      5         5      5         5  \n",
       "5                     12        12     12        12  \n",
       "...                  ...       ...    ...       ...  \n",
       "19995                 10        10     10        10  \n",
       "19997                  1         1      1         1  \n",
       "19998                  6         6      6         6  \n",
       "19999                266       266    266       266  \n",
       "20000                237       237    237       237  \n",
       "\n",
       "[3625 rows x 10 columns]"
      ]
     },
     "execution_count": 19,
     "metadata": {},
     "output_type": "execute_result"
    }
   ],
   "source": [
    "data.groupby('Price').count().sort_values(by='Price')"
   ]
  },
  {
   "cell_type": "markdown",
   "metadata": {},
   "source": [
    "Итак, мы видим большое количество автомобилей с нулевой ценой и около нее, считаем целесообразно удалить строки с ценой  менее 100."
   ]
  },
  {
   "cell_type": "code",
   "execution_count": 20,
   "metadata": {},
   "outputs": [],
   "source": [
    "data = data.query('Price>100')"
   ]
  },
  {
   "cell_type": "code",
   "execution_count": 21,
   "metadata": {},
   "outputs": [
    {
     "data": {
      "text/html": [
       "<div>\n",
       "<style scoped>\n",
       "    .dataframe tbody tr th:only-of-type {\n",
       "        vertical-align: middle;\n",
       "    }\n",
       "\n",
       "    .dataframe tbody tr th {\n",
       "        vertical-align: top;\n",
       "    }\n",
       "\n",
       "    .dataframe thead th {\n",
       "        text-align: right;\n",
       "    }\n",
       "</style>\n",
       "<table border=\"1\" class=\"dataframe\">\n",
       "  <thead>\n",
       "    <tr style=\"text-align: right;\">\n",
       "      <th></th>\n",
       "      <th>VehicleType</th>\n",
       "      <th>RegistrationYear</th>\n",
       "      <th>Gearbox</th>\n",
       "      <th>Power</th>\n",
       "      <th>Model</th>\n",
       "      <th>Kilometer</th>\n",
       "      <th>RegistrationMonth</th>\n",
       "      <th>FuelType</th>\n",
       "      <th>Brand</th>\n",
       "      <th>Repaired</th>\n",
       "    </tr>\n",
       "    <tr>\n",
       "      <th>Price</th>\n",
       "      <th></th>\n",
       "      <th></th>\n",
       "      <th></th>\n",
       "      <th></th>\n",
       "      <th></th>\n",
       "      <th></th>\n",
       "      <th></th>\n",
       "      <th></th>\n",
       "      <th></th>\n",
       "      <th></th>\n",
       "    </tr>\n",
       "  </thead>\n",
       "  <tbody>\n",
       "    <tr>\n",
       "      <th>101</th>\n",
       "      <td>3</td>\n",
       "      <td>3</td>\n",
       "      <td>3</td>\n",
       "      <td>3</td>\n",
       "      <td>3</td>\n",
       "      <td>3</td>\n",
       "      <td>3</td>\n",
       "      <td>3</td>\n",
       "      <td>3</td>\n",
       "      <td>3</td>\n",
       "    </tr>\n",
       "    <tr>\n",
       "      <th>105</th>\n",
       "      <td>2</td>\n",
       "      <td>2</td>\n",
       "      <td>2</td>\n",
       "      <td>2</td>\n",
       "      <td>2</td>\n",
       "      <td>2</td>\n",
       "      <td>2</td>\n",
       "      <td>2</td>\n",
       "      <td>2</td>\n",
       "      <td>2</td>\n",
       "    </tr>\n",
       "    <tr>\n",
       "      <th>108</th>\n",
       "      <td>1</td>\n",
       "      <td>1</td>\n",
       "      <td>1</td>\n",
       "      <td>1</td>\n",
       "      <td>1</td>\n",
       "      <td>1</td>\n",
       "      <td>1</td>\n",
       "      <td>1</td>\n",
       "      <td>1</td>\n",
       "      <td>1</td>\n",
       "    </tr>\n",
       "    <tr>\n",
       "      <th>110</th>\n",
       "      <td>23</td>\n",
       "      <td>23</td>\n",
       "      <td>23</td>\n",
       "      <td>23</td>\n",
       "      <td>23</td>\n",
       "      <td>23</td>\n",
       "      <td>23</td>\n",
       "      <td>23</td>\n",
       "      <td>23</td>\n",
       "      <td>23</td>\n",
       "    </tr>\n",
       "    <tr>\n",
       "      <th>111</th>\n",
       "      <td>7</td>\n",
       "      <td>7</td>\n",
       "      <td>7</td>\n",
       "      <td>7</td>\n",
       "      <td>7</td>\n",
       "      <td>7</td>\n",
       "      <td>7</td>\n",
       "      <td>7</td>\n",
       "      <td>7</td>\n",
       "      <td>7</td>\n",
       "    </tr>\n",
       "    <tr>\n",
       "      <th>...</th>\n",
       "      <td>...</td>\n",
       "      <td>...</td>\n",
       "      <td>...</td>\n",
       "      <td>...</td>\n",
       "      <td>...</td>\n",
       "      <td>...</td>\n",
       "      <td>...</td>\n",
       "      <td>...</td>\n",
       "      <td>...</td>\n",
       "      <td>...</td>\n",
       "    </tr>\n",
       "    <tr>\n",
       "      <th>19995</th>\n",
       "      <td>10</td>\n",
       "      <td>10</td>\n",
       "      <td>10</td>\n",
       "      <td>10</td>\n",
       "      <td>10</td>\n",
       "      <td>10</td>\n",
       "      <td>10</td>\n",
       "      <td>10</td>\n",
       "      <td>10</td>\n",
       "      <td>10</td>\n",
       "    </tr>\n",
       "    <tr>\n",
       "      <th>19997</th>\n",
       "      <td>1</td>\n",
       "      <td>1</td>\n",
       "      <td>1</td>\n",
       "      <td>1</td>\n",
       "      <td>1</td>\n",
       "      <td>1</td>\n",
       "      <td>1</td>\n",
       "      <td>1</td>\n",
       "      <td>1</td>\n",
       "      <td>1</td>\n",
       "    </tr>\n",
       "    <tr>\n",
       "      <th>19998</th>\n",
       "      <td>6</td>\n",
       "      <td>6</td>\n",
       "      <td>6</td>\n",
       "      <td>6</td>\n",
       "      <td>6</td>\n",
       "      <td>6</td>\n",
       "      <td>6</td>\n",
       "      <td>6</td>\n",
       "      <td>6</td>\n",
       "      <td>6</td>\n",
       "    </tr>\n",
       "    <tr>\n",
       "      <th>19999</th>\n",
       "      <td>266</td>\n",
       "      <td>266</td>\n",
       "      <td>266</td>\n",
       "      <td>266</td>\n",
       "      <td>266</td>\n",
       "      <td>266</td>\n",
       "      <td>266</td>\n",
       "      <td>266</td>\n",
       "      <td>266</td>\n",
       "      <td>266</td>\n",
       "    </tr>\n",
       "    <tr>\n",
       "      <th>20000</th>\n",
       "      <td>237</td>\n",
       "      <td>237</td>\n",
       "      <td>237</td>\n",
       "      <td>237</td>\n",
       "      <td>237</td>\n",
       "      <td>237</td>\n",
       "      <td>237</td>\n",
       "      <td>237</td>\n",
       "      <td>237</td>\n",
       "      <td>237</td>\n",
       "    </tr>\n",
       "  </tbody>\n",
       "</table>\n",
       "<p>3579 rows × 10 columns</p>\n",
       "</div>"
      ],
      "text/plain": [
       "       VehicleType  RegistrationYear  Gearbox  Power  Model  Kilometer  \\\n",
       "Price                                                                    \n",
       "101              3                 3        3      3      3          3   \n",
       "105              2                 2        2      2      2          2   \n",
       "108              1                 1        1      1      1          1   \n",
       "110             23                23       23     23     23         23   \n",
       "111              7                 7        7      7      7          7   \n",
       "...            ...               ...      ...    ...    ...        ...   \n",
       "19995           10                10       10     10     10         10   \n",
       "19997            1                 1        1      1      1          1   \n",
       "19998            6                 6        6      6      6          6   \n",
       "19999          266               266      266    266    266        266   \n",
       "20000          237               237      237    237    237        237   \n",
       "\n",
       "       RegistrationMonth  FuelType  Brand  Repaired  \n",
       "Price                                                \n",
       "101                    3         3      3         3  \n",
       "105                    2         2      2         2  \n",
       "108                    1         1      1         1  \n",
       "110                   23        23     23        23  \n",
       "111                    7         7      7         7  \n",
       "...                  ...       ...    ...       ...  \n",
       "19995                 10        10     10        10  \n",
       "19997                  1         1      1         1  \n",
       "19998                  6         6      6         6  \n",
       "19999                266       266    266       266  \n",
       "20000                237       237    237       237  \n",
       "\n",
       "[3579 rows x 10 columns]"
      ]
     },
     "execution_count": 21,
     "metadata": {},
     "output_type": "execute_result"
    }
   ],
   "source": [
    "data.groupby('Price').count().sort_values(by='Price')"
   ]
  },
  {
   "cell_type": "markdown",
   "metadata": {},
   "source": [
    "Посмотрим на выбивающиеся знаяения в столбце **Год регистрации**"
   ]
  },
  {
   "cell_type": "code",
   "execution_count": 22,
   "metadata": {},
   "outputs": [
    {
     "data": {
      "text/html": [
       "<div>\n",
       "<style scoped>\n",
       "    .dataframe tbody tr th:only-of-type {\n",
       "        vertical-align: middle;\n",
       "    }\n",
       "\n",
       "    .dataframe tbody tr th {\n",
       "        vertical-align: top;\n",
       "    }\n",
       "\n",
       "    .dataframe thead th {\n",
       "        text-align: right;\n",
       "    }\n",
       "</style>\n",
       "<table border=\"1\" class=\"dataframe\">\n",
       "  <thead>\n",
       "    <tr style=\"text-align: right;\">\n",
       "      <th></th>\n",
       "      <th>Price</th>\n",
       "      <th>VehicleType</th>\n",
       "      <th>Gearbox</th>\n",
       "      <th>Power</th>\n",
       "      <th>Model</th>\n",
       "      <th>Kilometer</th>\n",
       "      <th>RegistrationMonth</th>\n",
       "      <th>FuelType</th>\n",
       "      <th>Brand</th>\n",
       "      <th>Repaired</th>\n",
       "    </tr>\n",
       "    <tr>\n",
       "      <th>RegistrationYear</th>\n",
       "      <th></th>\n",
       "      <th></th>\n",
       "      <th></th>\n",
       "      <th></th>\n",
       "      <th></th>\n",
       "      <th></th>\n",
       "      <th></th>\n",
       "      <th></th>\n",
       "      <th></th>\n",
       "      <th></th>\n",
       "    </tr>\n",
       "  </thead>\n",
       "  <tbody>\n",
       "    <tr>\n",
       "      <th>1000</th>\n",
       "      <td>1</td>\n",
       "      <td>1</td>\n",
       "      <td>1</td>\n",
       "      <td>1</td>\n",
       "      <td>1</td>\n",
       "      <td>1</td>\n",
       "      <td>1</td>\n",
       "      <td>1</td>\n",
       "      <td>1</td>\n",
       "      <td>1</td>\n",
       "    </tr>\n",
       "    <tr>\n",
       "      <th>1400</th>\n",
       "      <td>1</td>\n",
       "      <td>1</td>\n",
       "      <td>1</td>\n",
       "      <td>1</td>\n",
       "      <td>1</td>\n",
       "      <td>1</td>\n",
       "      <td>1</td>\n",
       "      <td>1</td>\n",
       "      <td>1</td>\n",
       "      <td>1</td>\n",
       "    </tr>\n",
       "    <tr>\n",
       "      <th>1500</th>\n",
       "      <td>1</td>\n",
       "      <td>1</td>\n",
       "      <td>1</td>\n",
       "      <td>1</td>\n",
       "      <td>1</td>\n",
       "      <td>1</td>\n",
       "      <td>1</td>\n",
       "      <td>1</td>\n",
       "      <td>1</td>\n",
       "      <td>1</td>\n",
       "    </tr>\n",
       "    <tr>\n",
       "      <th>1600</th>\n",
       "      <td>1</td>\n",
       "      <td>1</td>\n",
       "      <td>1</td>\n",
       "      <td>1</td>\n",
       "      <td>1</td>\n",
       "      <td>1</td>\n",
       "      <td>1</td>\n",
       "      <td>1</td>\n",
       "      <td>1</td>\n",
       "      <td>1</td>\n",
       "    </tr>\n",
       "    <tr>\n",
       "      <th>1602</th>\n",
       "      <td>1</td>\n",
       "      <td>1</td>\n",
       "      <td>1</td>\n",
       "      <td>1</td>\n",
       "      <td>1</td>\n",
       "      <td>1</td>\n",
       "      <td>1</td>\n",
       "      <td>1</td>\n",
       "      <td>1</td>\n",
       "      <td>1</td>\n",
       "    </tr>\n",
       "    <tr>\n",
       "      <th>...</th>\n",
       "      <td>...</td>\n",
       "      <td>...</td>\n",
       "      <td>...</td>\n",
       "      <td>...</td>\n",
       "      <td>...</td>\n",
       "      <td>...</td>\n",
       "      <td>...</td>\n",
       "      <td>...</td>\n",
       "      <td>...</td>\n",
       "      <td>...</td>\n",
       "    </tr>\n",
       "    <tr>\n",
       "      <th>5000</th>\n",
       "      <td>6</td>\n",
       "      <td>6</td>\n",
       "      <td>6</td>\n",
       "      <td>6</td>\n",
       "      <td>6</td>\n",
       "      <td>6</td>\n",
       "      <td>6</td>\n",
       "      <td>6</td>\n",
       "      <td>6</td>\n",
       "      <td>6</td>\n",
       "    </tr>\n",
       "    <tr>\n",
       "      <th>5911</th>\n",
       "      <td>2</td>\n",
       "      <td>2</td>\n",
       "      <td>2</td>\n",
       "      <td>2</td>\n",
       "      <td>2</td>\n",
       "      <td>2</td>\n",
       "      <td>2</td>\n",
       "      <td>2</td>\n",
       "      <td>2</td>\n",
       "      <td>2</td>\n",
       "    </tr>\n",
       "    <tr>\n",
       "      <th>6000</th>\n",
       "      <td>1</td>\n",
       "      <td>1</td>\n",
       "      <td>1</td>\n",
       "      <td>1</td>\n",
       "      <td>1</td>\n",
       "      <td>1</td>\n",
       "      <td>1</td>\n",
       "      <td>1</td>\n",
       "      <td>1</td>\n",
       "      <td>1</td>\n",
       "    </tr>\n",
       "    <tr>\n",
       "      <th>7100</th>\n",
       "      <td>1</td>\n",
       "      <td>1</td>\n",
       "      <td>1</td>\n",
       "      <td>1</td>\n",
       "      <td>1</td>\n",
       "      <td>1</td>\n",
       "      <td>1</td>\n",
       "      <td>1</td>\n",
       "      <td>1</td>\n",
       "      <td>1</td>\n",
       "    </tr>\n",
       "    <tr>\n",
       "      <th>8200</th>\n",
       "      <td>1</td>\n",
       "      <td>1</td>\n",
       "      <td>1</td>\n",
       "      <td>1</td>\n",
       "      <td>1</td>\n",
       "      <td>1</td>\n",
       "      <td>1</td>\n",
       "      <td>1</td>\n",
       "      <td>1</td>\n",
       "      <td>1</td>\n",
       "    </tr>\n",
       "  </tbody>\n",
       "</table>\n",
       "<p>102 rows × 10 columns</p>\n",
       "</div>"
      ],
      "text/plain": [
       "                  Price  VehicleType  Gearbox  Power  Model  Kilometer  \\\n",
       "RegistrationYear                                                         \n",
       "1000                  1            1        1      1      1          1   \n",
       "1400                  1            1        1      1      1          1   \n",
       "1500                  1            1        1      1      1          1   \n",
       "1600                  1            1        1      1      1          1   \n",
       "1602                  1            1        1      1      1          1   \n",
       "...                 ...          ...      ...    ...    ...        ...   \n",
       "5000                  6            6        6      6      6          6   \n",
       "5911                  2            2        2      2      2          2   \n",
       "6000                  1            1        1      1      1          1   \n",
       "7100                  1            1        1      1      1          1   \n",
       "8200                  1            1        1      1      1          1   \n",
       "\n",
       "                  RegistrationMonth  FuelType  Brand  Repaired  \n",
       "RegistrationYear                                                \n",
       "1000                              1         1      1         1  \n",
       "1400                              1         1      1         1  \n",
       "1500                              1         1      1         1  \n",
       "1600                              1         1      1         1  \n",
       "1602                              1         1      1         1  \n",
       "...                             ...       ...    ...       ...  \n",
       "5000                              6         6      6         6  \n",
       "5911                              2         2      2         2  \n",
       "6000                              1         1      1         1  \n",
       "7100                              1         1      1         1  \n",
       "8200                              1         1      1         1  \n",
       "\n",
       "[102 rows x 10 columns]"
      ]
     },
     "execution_count": 22,
     "metadata": {},
     "output_type": "execute_result"
    }
   ],
   "source": [
    "data.groupby('RegistrationYear').count().sort_values(by='RegistrationYear')"
   ]
  },
  {
   "cell_type": "code",
   "execution_count": 23,
   "metadata": {},
   "outputs": [
    {
     "data": {
      "text/html": [
       "<div>\n",
       "<style scoped>\n",
       "    .dataframe tbody tr th:only-of-type {\n",
       "        vertical-align: middle;\n",
       "    }\n",
       "\n",
       "    .dataframe tbody tr th {\n",
       "        vertical-align: top;\n",
       "    }\n",
       "\n",
       "    .dataframe thead th {\n",
       "        text-align: right;\n",
       "    }\n",
       "</style>\n",
       "<table border=\"1\" class=\"dataframe\">\n",
       "  <thead>\n",
       "    <tr style=\"text-align: right;\">\n",
       "      <th></th>\n",
       "      <th>Price</th>\n",
       "      <th>VehicleType</th>\n",
       "      <th>Gearbox</th>\n",
       "      <th>Power</th>\n",
       "      <th>Model</th>\n",
       "      <th>Kilometer</th>\n",
       "      <th>RegistrationMonth</th>\n",
       "      <th>FuelType</th>\n",
       "      <th>Brand</th>\n",
       "      <th>Repaired</th>\n",
       "    </tr>\n",
       "    <tr>\n",
       "      <th>RegistrationYear</th>\n",
       "      <th></th>\n",
       "      <th></th>\n",
       "      <th></th>\n",
       "      <th></th>\n",
       "      <th></th>\n",
       "      <th></th>\n",
       "      <th></th>\n",
       "      <th></th>\n",
       "      <th></th>\n",
       "      <th></th>\n",
       "    </tr>\n",
       "  </thead>\n",
       "  <tbody>\n",
       "    <tr>\n",
       "      <th>1000</th>\n",
       "      <td>1</td>\n",
       "      <td>1</td>\n",
       "      <td>1</td>\n",
       "      <td>1</td>\n",
       "      <td>1</td>\n",
       "      <td>1</td>\n",
       "      <td>1</td>\n",
       "      <td>1</td>\n",
       "      <td>1</td>\n",
       "      <td>1</td>\n",
       "    </tr>\n",
       "    <tr>\n",
       "      <th>1400</th>\n",
       "      <td>1</td>\n",
       "      <td>1</td>\n",
       "      <td>1</td>\n",
       "      <td>1</td>\n",
       "      <td>1</td>\n",
       "      <td>1</td>\n",
       "      <td>1</td>\n",
       "      <td>1</td>\n",
       "      <td>1</td>\n",
       "      <td>1</td>\n",
       "    </tr>\n",
       "    <tr>\n",
       "      <th>1500</th>\n",
       "      <td>1</td>\n",
       "      <td>1</td>\n",
       "      <td>1</td>\n",
       "      <td>1</td>\n",
       "      <td>1</td>\n",
       "      <td>1</td>\n",
       "      <td>1</td>\n",
       "      <td>1</td>\n",
       "      <td>1</td>\n",
       "      <td>1</td>\n",
       "    </tr>\n",
       "    <tr>\n",
       "      <th>1600</th>\n",
       "      <td>1</td>\n",
       "      <td>1</td>\n",
       "      <td>1</td>\n",
       "      <td>1</td>\n",
       "      <td>1</td>\n",
       "      <td>1</td>\n",
       "      <td>1</td>\n",
       "      <td>1</td>\n",
       "      <td>1</td>\n",
       "      <td>1</td>\n",
       "    </tr>\n",
       "    <tr>\n",
       "      <th>1602</th>\n",
       "      <td>1</td>\n",
       "      <td>1</td>\n",
       "      <td>1</td>\n",
       "      <td>1</td>\n",
       "      <td>1</td>\n",
       "      <td>1</td>\n",
       "      <td>1</td>\n",
       "      <td>1</td>\n",
       "      <td>1</td>\n",
       "      <td>1</td>\n",
       "    </tr>\n",
       "    <tr>\n",
       "      <th>1910</th>\n",
       "      <td>10</td>\n",
       "      <td>10</td>\n",
       "      <td>10</td>\n",
       "      <td>10</td>\n",
       "      <td>10</td>\n",
       "      <td>10</td>\n",
       "      <td>10</td>\n",
       "      <td>10</td>\n",
       "      <td>10</td>\n",
       "      <td>10</td>\n",
       "    </tr>\n",
       "    <tr>\n",
       "      <th>1923</th>\n",
       "      <td>2</td>\n",
       "      <td>2</td>\n",
       "      <td>2</td>\n",
       "      <td>2</td>\n",
       "      <td>2</td>\n",
       "      <td>2</td>\n",
       "      <td>2</td>\n",
       "      <td>2</td>\n",
       "      <td>2</td>\n",
       "      <td>2</td>\n",
       "    </tr>\n",
       "    <tr>\n",
       "      <th>1927</th>\n",
       "      <td>1</td>\n",
       "      <td>1</td>\n",
       "      <td>1</td>\n",
       "      <td>1</td>\n",
       "      <td>1</td>\n",
       "      <td>1</td>\n",
       "      <td>1</td>\n",
       "      <td>1</td>\n",
       "      <td>1</td>\n",
       "      <td>1</td>\n",
       "    </tr>\n",
       "    <tr>\n",
       "      <th>1928</th>\n",
       "      <td>1</td>\n",
       "      <td>1</td>\n",
       "      <td>1</td>\n",
       "      <td>1</td>\n",
       "      <td>1</td>\n",
       "      <td>1</td>\n",
       "      <td>1</td>\n",
       "      <td>1</td>\n",
       "      <td>1</td>\n",
       "      <td>1</td>\n",
       "    </tr>\n",
       "    <tr>\n",
       "      <th>1929</th>\n",
       "      <td>3</td>\n",
       "      <td>3</td>\n",
       "      <td>3</td>\n",
       "      <td>3</td>\n",
       "      <td>3</td>\n",
       "      <td>3</td>\n",
       "      <td>3</td>\n",
       "      <td>3</td>\n",
       "      <td>3</td>\n",
       "      <td>3</td>\n",
       "    </tr>\n",
       "    <tr>\n",
       "      <th>1930</th>\n",
       "      <td>2</td>\n",
       "      <td>2</td>\n",
       "      <td>2</td>\n",
       "      <td>2</td>\n",
       "      <td>2</td>\n",
       "      <td>2</td>\n",
       "      <td>2</td>\n",
       "      <td>2</td>\n",
       "      <td>2</td>\n",
       "      <td>2</td>\n",
       "    </tr>\n",
       "    <tr>\n",
       "      <th>1931</th>\n",
       "      <td>1</td>\n",
       "      <td>1</td>\n",
       "      <td>1</td>\n",
       "      <td>1</td>\n",
       "      <td>1</td>\n",
       "      <td>1</td>\n",
       "      <td>1</td>\n",
       "      <td>1</td>\n",
       "      <td>1</td>\n",
       "      <td>1</td>\n",
       "    </tr>\n",
       "    <tr>\n",
       "      <th>1932</th>\n",
       "      <td>2</td>\n",
       "      <td>2</td>\n",
       "      <td>2</td>\n",
       "      <td>2</td>\n",
       "      <td>2</td>\n",
       "      <td>2</td>\n",
       "      <td>2</td>\n",
       "      <td>2</td>\n",
       "      <td>2</td>\n",
       "      <td>2</td>\n",
       "    </tr>\n",
       "    <tr>\n",
       "      <th>1933</th>\n",
       "      <td>1</td>\n",
       "      <td>1</td>\n",
       "      <td>1</td>\n",
       "      <td>1</td>\n",
       "      <td>1</td>\n",
       "      <td>1</td>\n",
       "      <td>1</td>\n",
       "      <td>1</td>\n",
       "      <td>1</td>\n",
       "      <td>1</td>\n",
       "    </tr>\n",
       "    <tr>\n",
       "      <th>1934</th>\n",
       "      <td>1</td>\n",
       "      <td>1</td>\n",
       "      <td>1</td>\n",
       "      <td>1</td>\n",
       "      <td>1</td>\n",
       "      <td>1</td>\n",
       "      <td>1</td>\n",
       "      <td>1</td>\n",
       "      <td>1</td>\n",
       "      <td>1</td>\n",
       "    </tr>\n",
       "    <tr>\n",
       "      <th>1935</th>\n",
       "      <td>1</td>\n",
       "      <td>1</td>\n",
       "      <td>1</td>\n",
       "      <td>1</td>\n",
       "      <td>1</td>\n",
       "      <td>1</td>\n",
       "      <td>1</td>\n",
       "      <td>1</td>\n",
       "      <td>1</td>\n",
       "      <td>1</td>\n",
       "    </tr>\n",
       "    <tr>\n",
       "      <th>1936</th>\n",
       "      <td>1</td>\n",
       "      <td>1</td>\n",
       "      <td>1</td>\n",
       "      <td>1</td>\n",
       "      <td>1</td>\n",
       "      <td>1</td>\n",
       "      <td>1</td>\n",
       "      <td>1</td>\n",
       "      <td>1</td>\n",
       "      <td>1</td>\n",
       "    </tr>\n",
       "    <tr>\n",
       "      <th>1937</th>\n",
       "      <td>6</td>\n",
       "      <td>6</td>\n",
       "      <td>6</td>\n",
       "      <td>6</td>\n",
       "      <td>6</td>\n",
       "      <td>6</td>\n",
       "      <td>6</td>\n",
       "      <td>6</td>\n",
       "      <td>6</td>\n",
       "      <td>6</td>\n",
       "    </tr>\n",
       "    <tr>\n",
       "      <th>1938</th>\n",
       "      <td>3</td>\n",
       "      <td>3</td>\n",
       "      <td>3</td>\n",
       "      <td>3</td>\n",
       "      <td>3</td>\n",
       "      <td>3</td>\n",
       "      <td>3</td>\n",
       "      <td>3</td>\n",
       "      <td>3</td>\n",
       "      <td>3</td>\n",
       "    </tr>\n",
       "    <tr>\n",
       "      <th>1942</th>\n",
       "      <td>2</td>\n",
       "      <td>2</td>\n",
       "      <td>2</td>\n",
       "      <td>2</td>\n",
       "      <td>2</td>\n",
       "      <td>2</td>\n",
       "      <td>2</td>\n",
       "      <td>2</td>\n",
       "      <td>2</td>\n",
       "      <td>2</td>\n",
       "    </tr>\n",
       "    <tr>\n",
       "      <th>1943</th>\n",
       "      <td>2</td>\n",
       "      <td>2</td>\n",
       "      <td>2</td>\n",
       "      <td>2</td>\n",
       "      <td>2</td>\n",
       "      <td>2</td>\n",
       "      <td>2</td>\n",
       "      <td>2</td>\n",
       "      <td>2</td>\n",
       "      <td>2</td>\n",
       "    </tr>\n",
       "    <tr>\n",
       "      <th>1945</th>\n",
       "      <td>3</td>\n",
       "      <td>3</td>\n",
       "      <td>3</td>\n",
       "      <td>3</td>\n",
       "      <td>3</td>\n",
       "      <td>3</td>\n",
       "      <td>3</td>\n",
       "      <td>3</td>\n",
       "      <td>3</td>\n",
       "      <td>3</td>\n",
       "    </tr>\n",
       "    <tr>\n",
       "      <th>1947</th>\n",
       "      <td>1</td>\n",
       "      <td>1</td>\n",
       "      <td>1</td>\n",
       "      <td>1</td>\n",
       "      <td>1</td>\n",
       "      <td>1</td>\n",
       "      <td>1</td>\n",
       "      <td>1</td>\n",
       "      <td>1</td>\n",
       "      <td>1</td>\n",
       "    </tr>\n",
       "    <tr>\n",
       "      <th>1950</th>\n",
       "      <td>10</td>\n",
       "      <td>10</td>\n",
       "      <td>10</td>\n",
       "      <td>10</td>\n",
       "      <td>10</td>\n",
       "      <td>10</td>\n",
       "      <td>10</td>\n",
       "      <td>10</td>\n",
       "      <td>10</td>\n",
       "      <td>10</td>\n",
       "    </tr>\n",
       "    <tr>\n",
       "      <th>1951</th>\n",
       "      <td>7</td>\n",
       "      <td>7</td>\n",
       "      <td>7</td>\n",
       "      <td>7</td>\n",
       "      <td>7</td>\n",
       "      <td>7</td>\n",
       "      <td>7</td>\n",
       "      <td>7</td>\n",
       "      <td>7</td>\n",
       "      <td>7</td>\n",
       "    </tr>\n",
       "    <tr>\n",
       "      <th>1952</th>\n",
       "      <td>3</td>\n",
       "      <td>3</td>\n",
       "      <td>3</td>\n",
       "      <td>3</td>\n",
       "      <td>3</td>\n",
       "      <td>3</td>\n",
       "      <td>3</td>\n",
       "      <td>3</td>\n",
       "      <td>3</td>\n",
       "      <td>3</td>\n",
       "    </tr>\n",
       "    <tr>\n",
       "      <th>1953</th>\n",
       "      <td>5</td>\n",
       "      <td>5</td>\n",
       "      <td>5</td>\n",
       "      <td>5</td>\n",
       "      <td>5</td>\n",
       "      <td>5</td>\n",
       "      <td>5</td>\n",
       "      <td>5</td>\n",
       "      <td>5</td>\n",
       "      <td>5</td>\n",
       "    </tr>\n",
       "    <tr>\n",
       "      <th>1954</th>\n",
       "      <td>4</td>\n",
       "      <td>4</td>\n",
       "      <td>4</td>\n",
       "      <td>4</td>\n",
       "      <td>4</td>\n",
       "      <td>4</td>\n",
       "      <td>4</td>\n",
       "      <td>4</td>\n",
       "      <td>4</td>\n",
       "      <td>4</td>\n",
       "    </tr>\n",
       "    <tr>\n",
       "      <th>1955</th>\n",
       "      <td>8</td>\n",
       "      <td>8</td>\n",
       "      <td>8</td>\n",
       "      <td>8</td>\n",
       "      <td>8</td>\n",
       "      <td>8</td>\n",
       "      <td>8</td>\n",
       "      <td>8</td>\n",
       "      <td>8</td>\n",
       "      <td>8</td>\n",
       "    </tr>\n",
       "    <tr>\n",
       "      <th>1956</th>\n",
       "      <td>10</td>\n",
       "      <td>10</td>\n",
       "      <td>10</td>\n",
       "      <td>10</td>\n",
       "      <td>10</td>\n",
       "      <td>10</td>\n",
       "      <td>10</td>\n",
       "      <td>10</td>\n",
       "      <td>10</td>\n",
       "      <td>10</td>\n",
       "    </tr>\n",
       "  </tbody>\n",
       "</table>\n",
       "</div>"
      ],
      "text/plain": [
       "                  Price  VehicleType  Gearbox  Power  Model  Kilometer  \\\n",
       "RegistrationYear                                                         \n",
       "1000                  1            1        1      1      1          1   \n",
       "1400                  1            1        1      1      1          1   \n",
       "1500                  1            1        1      1      1          1   \n",
       "1600                  1            1        1      1      1          1   \n",
       "1602                  1            1        1      1      1          1   \n",
       "1910                 10           10       10     10     10         10   \n",
       "1923                  2            2        2      2      2          2   \n",
       "1927                  1            1        1      1      1          1   \n",
       "1928                  1            1        1      1      1          1   \n",
       "1929                  3            3        3      3      3          3   \n",
       "1930                  2            2        2      2      2          2   \n",
       "1931                  1            1        1      1      1          1   \n",
       "1932                  2            2        2      2      2          2   \n",
       "1933                  1            1        1      1      1          1   \n",
       "1934                  1            1        1      1      1          1   \n",
       "1935                  1            1        1      1      1          1   \n",
       "1936                  1            1        1      1      1          1   \n",
       "1937                  6            6        6      6      6          6   \n",
       "1938                  3            3        3      3      3          3   \n",
       "1942                  2            2        2      2      2          2   \n",
       "1943                  2            2        2      2      2          2   \n",
       "1945                  3            3        3      3      3          3   \n",
       "1947                  1            1        1      1      1          1   \n",
       "1950                 10           10       10     10     10         10   \n",
       "1951                  7            7        7      7      7          7   \n",
       "1952                  3            3        3      3      3          3   \n",
       "1953                  5            5        5      5      5          5   \n",
       "1954                  4            4        4      4      4          4   \n",
       "1955                  8            8        8      8      8          8   \n",
       "1956                 10           10       10     10     10         10   \n",
       "\n",
       "                  RegistrationMonth  FuelType  Brand  Repaired  \n",
       "RegistrationYear                                                \n",
       "1000                              1         1      1         1  \n",
       "1400                              1         1      1         1  \n",
       "1500                              1         1      1         1  \n",
       "1600                              1         1      1         1  \n",
       "1602                              1         1      1         1  \n",
       "1910                             10        10     10        10  \n",
       "1923                              2         2      2         2  \n",
       "1927                              1         1      1         1  \n",
       "1928                              1         1      1         1  \n",
       "1929                              3         3      3         3  \n",
       "1930                              2         2      2         2  \n",
       "1931                              1         1      1         1  \n",
       "1932                              2         2      2         2  \n",
       "1933                              1         1      1         1  \n",
       "1934                              1         1      1         1  \n",
       "1935                              1         1      1         1  \n",
       "1936                              1         1      1         1  \n",
       "1937                              6         6      6         6  \n",
       "1938                              3         3      3         3  \n",
       "1942                              2         2      2         2  \n",
       "1943                              2         2      2         2  \n",
       "1945                              3         3      3         3  \n",
       "1947                              1         1      1         1  \n",
       "1950                             10        10     10        10  \n",
       "1951                              7         7      7         7  \n",
       "1952                              3         3      3         3  \n",
       "1953                              5         5      5         5  \n",
       "1954                              4         4      4         4  \n",
       "1955                              8         8      8         8  \n",
       "1956                             10        10     10        10  "
      ]
     },
     "execution_count": 23,
     "metadata": {},
     "output_type": "execute_result"
    }
   ],
   "source": [
    "data.groupby('RegistrationYear').count().sort_values(by='RegistrationYear').head(30)"
   ]
  },
  {
   "cell_type": "code",
   "execution_count": 24,
   "metadata": {},
   "outputs": [],
   "source": [
    "#Удалим строки с аномальными значениями оставим год выпуска начиная с 1950 года\n",
    "data = data.query('2023>RegistrationYear>=1950')"
   ]
  },
  {
   "cell_type": "code",
   "execution_count": 25,
   "metadata": {},
   "outputs": [
    {
     "data": {
      "text/html": [
       "<div>\n",
       "<style scoped>\n",
       "    .dataframe tbody tr th:only-of-type {\n",
       "        vertical-align: middle;\n",
       "    }\n",
       "\n",
       "    .dataframe tbody tr th {\n",
       "        vertical-align: top;\n",
       "    }\n",
       "\n",
       "    .dataframe thead th {\n",
       "        text-align: right;\n",
       "    }\n",
       "</style>\n",
       "<table border=\"1\" class=\"dataframe\">\n",
       "  <thead>\n",
       "    <tr style=\"text-align: right;\">\n",
       "      <th></th>\n",
       "      <th>Price</th>\n",
       "      <th>VehicleType</th>\n",
       "      <th>Gearbox</th>\n",
       "      <th>Power</th>\n",
       "      <th>Model</th>\n",
       "      <th>Kilometer</th>\n",
       "      <th>RegistrationMonth</th>\n",
       "      <th>FuelType</th>\n",
       "      <th>Brand</th>\n",
       "      <th>Repaired</th>\n",
       "    </tr>\n",
       "    <tr>\n",
       "      <th>RegistrationYear</th>\n",
       "      <th></th>\n",
       "      <th></th>\n",
       "      <th></th>\n",
       "      <th></th>\n",
       "      <th></th>\n",
       "      <th></th>\n",
       "      <th></th>\n",
       "      <th></th>\n",
       "      <th></th>\n",
       "      <th></th>\n",
       "    </tr>\n",
       "  </thead>\n",
       "  <tbody>\n",
       "    <tr>\n",
       "      <th>1950</th>\n",
       "      <td>10</td>\n",
       "      <td>10</td>\n",
       "      <td>10</td>\n",
       "      <td>10</td>\n",
       "      <td>10</td>\n",
       "      <td>10</td>\n",
       "      <td>10</td>\n",
       "      <td>10</td>\n",
       "      <td>10</td>\n",
       "      <td>10</td>\n",
       "    </tr>\n",
       "    <tr>\n",
       "      <th>1951</th>\n",
       "      <td>7</td>\n",
       "      <td>7</td>\n",
       "      <td>7</td>\n",
       "      <td>7</td>\n",
       "      <td>7</td>\n",
       "      <td>7</td>\n",
       "      <td>7</td>\n",
       "      <td>7</td>\n",
       "      <td>7</td>\n",
       "      <td>7</td>\n",
       "    </tr>\n",
       "    <tr>\n",
       "      <th>1952</th>\n",
       "      <td>3</td>\n",
       "      <td>3</td>\n",
       "      <td>3</td>\n",
       "      <td>3</td>\n",
       "      <td>3</td>\n",
       "      <td>3</td>\n",
       "      <td>3</td>\n",
       "      <td>3</td>\n",
       "      <td>3</td>\n",
       "      <td>3</td>\n",
       "    </tr>\n",
       "    <tr>\n",
       "      <th>1953</th>\n",
       "      <td>5</td>\n",
       "      <td>5</td>\n",
       "      <td>5</td>\n",
       "      <td>5</td>\n",
       "      <td>5</td>\n",
       "      <td>5</td>\n",
       "      <td>5</td>\n",
       "      <td>5</td>\n",
       "      <td>5</td>\n",
       "      <td>5</td>\n",
       "    </tr>\n",
       "    <tr>\n",
       "      <th>1954</th>\n",
       "      <td>4</td>\n",
       "      <td>4</td>\n",
       "      <td>4</td>\n",
       "      <td>4</td>\n",
       "      <td>4</td>\n",
       "      <td>4</td>\n",
       "      <td>4</td>\n",
       "      <td>4</td>\n",
       "      <td>4</td>\n",
       "      <td>4</td>\n",
       "    </tr>\n",
       "    <tr>\n",
       "      <th>...</th>\n",
       "      <td>...</td>\n",
       "      <td>...</td>\n",
       "      <td>...</td>\n",
       "      <td>...</td>\n",
       "      <td>...</td>\n",
       "      <td>...</td>\n",
       "      <td>...</td>\n",
       "      <td>...</td>\n",
       "      <td>...</td>\n",
       "      <td>...</td>\n",
       "    </tr>\n",
       "    <tr>\n",
       "      <th>2015</th>\n",
       "      <td>1043</td>\n",
       "      <td>1043</td>\n",
       "      <td>1043</td>\n",
       "      <td>1043</td>\n",
       "      <td>1043</td>\n",
       "      <td>1043</td>\n",
       "      <td>1043</td>\n",
       "      <td>1043</td>\n",
       "      <td>1043</td>\n",
       "      <td>1043</td>\n",
       "    </tr>\n",
       "    <tr>\n",
       "      <th>2016</th>\n",
       "      <td>6610</td>\n",
       "      <td>6610</td>\n",
       "      <td>6610</td>\n",
       "      <td>6610</td>\n",
       "      <td>6610</td>\n",
       "      <td>6610</td>\n",
       "      <td>6610</td>\n",
       "      <td>6610</td>\n",
       "      <td>6610</td>\n",
       "      <td>6610</td>\n",
       "    </tr>\n",
       "    <tr>\n",
       "      <th>2017</th>\n",
       "      <td>7587</td>\n",
       "      <td>7587</td>\n",
       "      <td>7587</td>\n",
       "      <td>7587</td>\n",
       "      <td>7587</td>\n",
       "      <td>7587</td>\n",
       "      <td>7587</td>\n",
       "      <td>7587</td>\n",
       "      <td>7587</td>\n",
       "      <td>7587</td>\n",
       "    </tr>\n",
       "    <tr>\n",
       "      <th>2018</th>\n",
       "      <td>2887</td>\n",
       "      <td>2887</td>\n",
       "      <td>2887</td>\n",
       "      <td>2887</td>\n",
       "      <td>2887</td>\n",
       "      <td>2887</td>\n",
       "      <td>2887</td>\n",
       "      <td>2887</td>\n",
       "      <td>2887</td>\n",
       "      <td>2887</td>\n",
       "    </tr>\n",
       "    <tr>\n",
       "      <th>2019</th>\n",
       "      <td>11</td>\n",
       "      <td>11</td>\n",
       "      <td>11</td>\n",
       "      <td>11</td>\n",
       "      <td>11</td>\n",
       "      <td>11</td>\n",
       "      <td>11</td>\n",
       "      <td>11</td>\n",
       "      <td>11</td>\n",
       "      <td>11</td>\n",
       "    </tr>\n",
       "  </tbody>\n",
       "</table>\n",
       "<p>70 rows × 10 columns</p>\n",
       "</div>"
      ],
      "text/plain": [
       "                  Price  VehicleType  Gearbox  Power  Model  Kilometer  \\\n",
       "RegistrationYear                                                         \n",
       "1950                 10           10       10     10     10         10   \n",
       "1951                  7            7        7      7      7          7   \n",
       "1952                  3            3        3      3      3          3   \n",
       "1953                  5            5        5      5      5          5   \n",
       "1954                  4            4        4      4      4          4   \n",
       "...                 ...          ...      ...    ...    ...        ...   \n",
       "2015               1043         1043     1043   1043   1043       1043   \n",
       "2016               6610         6610     6610   6610   6610       6610   \n",
       "2017               7587         7587     7587   7587   7587       7587   \n",
       "2018               2887         2887     2887   2887   2887       2887   \n",
       "2019                 11           11       11     11     11         11   \n",
       "\n",
       "                  RegistrationMonth  FuelType  Brand  Repaired  \n",
       "RegistrationYear                                                \n",
       "1950                             10        10     10        10  \n",
       "1951                              7         7      7         7  \n",
       "1952                              3         3      3         3  \n",
       "1953                              5         5      5         5  \n",
       "1954                              4         4      4         4  \n",
       "...                             ...       ...    ...       ...  \n",
       "2015                           1043      1043   1043      1043  \n",
       "2016                           6610      6610   6610      6610  \n",
       "2017                           7587      7587   7587      7587  \n",
       "2018                           2887      2887   2887      2887  \n",
       "2019                             11        11     11        11  \n",
       "\n",
       "[70 rows x 10 columns]"
      ]
     },
     "execution_count": 25,
     "metadata": {},
     "output_type": "execute_result"
    }
   ],
   "source": [
    "data.groupby('RegistrationYear').count().sort_values(by='RegistrationYear')"
   ]
  },
  {
   "cell_type": "markdown",
   "metadata": {},
   "source": [
    "Рассмотрим подробнее значения столбца **Мощность**"
   ]
  },
  {
   "cell_type": "code",
   "execution_count": 26,
   "metadata": {},
   "outputs": [
    {
     "data": {
      "text/html": [
       "<div>\n",
       "<style scoped>\n",
       "    .dataframe tbody tr th:only-of-type {\n",
       "        vertical-align: middle;\n",
       "    }\n",
       "\n",
       "    .dataframe tbody tr th {\n",
       "        vertical-align: top;\n",
       "    }\n",
       "\n",
       "    .dataframe thead th {\n",
       "        text-align: right;\n",
       "    }\n",
       "</style>\n",
       "<table border=\"1\" class=\"dataframe\">\n",
       "  <thead>\n",
       "    <tr style=\"text-align: right;\">\n",
       "      <th></th>\n",
       "      <th>Price</th>\n",
       "      <th>VehicleType</th>\n",
       "      <th>RegistrationYear</th>\n",
       "      <th>Gearbox</th>\n",
       "      <th>Model</th>\n",
       "      <th>Kilometer</th>\n",
       "      <th>RegistrationMonth</th>\n",
       "      <th>FuelType</th>\n",
       "      <th>Brand</th>\n",
       "      <th>Repaired</th>\n",
       "    </tr>\n",
       "    <tr>\n",
       "      <th>Power</th>\n",
       "      <th></th>\n",
       "      <th></th>\n",
       "      <th></th>\n",
       "      <th></th>\n",
       "      <th></th>\n",
       "      <th></th>\n",
       "      <th></th>\n",
       "      <th></th>\n",
       "      <th></th>\n",
       "      <th></th>\n",
       "    </tr>\n",
       "  </thead>\n",
       "  <tbody>\n",
       "    <tr>\n",
       "      <th>0</th>\n",
       "      <td>21812</td>\n",
       "      <td>21812</td>\n",
       "      <td>21812</td>\n",
       "      <td>21812</td>\n",
       "      <td>21812</td>\n",
       "      <td>21812</td>\n",
       "      <td>21812</td>\n",
       "      <td>21812</td>\n",
       "      <td>21812</td>\n",
       "      <td>21812</td>\n",
       "    </tr>\n",
       "    <tr>\n",
       "      <th>1</th>\n",
       "      <td>15</td>\n",
       "      <td>15</td>\n",
       "      <td>15</td>\n",
       "      <td>15</td>\n",
       "      <td>15</td>\n",
       "      <td>15</td>\n",
       "      <td>15</td>\n",
       "      <td>15</td>\n",
       "      <td>15</td>\n",
       "      <td>15</td>\n",
       "    </tr>\n",
       "    <tr>\n",
       "      <th>2</th>\n",
       "      <td>4</td>\n",
       "      <td>4</td>\n",
       "      <td>4</td>\n",
       "      <td>4</td>\n",
       "      <td>4</td>\n",
       "      <td>4</td>\n",
       "      <td>4</td>\n",
       "      <td>4</td>\n",
       "      <td>4</td>\n",
       "      <td>4</td>\n",
       "    </tr>\n",
       "    <tr>\n",
       "      <th>3</th>\n",
       "      <td>1</td>\n",
       "      <td>1</td>\n",
       "      <td>1</td>\n",
       "      <td>1</td>\n",
       "      <td>1</td>\n",
       "      <td>1</td>\n",
       "      <td>1</td>\n",
       "      <td>1</td>\n",
       "      <td>1</td>\n",
       "      <td>1</td>\n",
       "    </tr>\n",
       "    <tr>\n",
       "      <th>4</th>\n",
       "      <td>5</td>\n",
       "      <td>5</td>\n",
       "      <td>5</td>\n",
       "      <td>5</td>\n",
       "      <td>5</td>\n",
       "      <td>5</td>\n",
       "      <td>5</td>\n",
       "      <td>5</td>\n",
       "      <td>5</td>\n",
       "      <td>5</td>\n",
       "    </tr>\n",
       "    <tr>\n",
       "      <th>...</th>\n",
       "      <td>...</td>\n",
       "      <td>...</td>\n",
       "      <td>...</td>\n",
       "      <td>...</td>\n",
       "      <td>...</td>\n",
       "      <td>...</td>\n",
       "      <td>...</td>\n",
       "      <td>...</td>\n",
       "      <td>...</td>\n",
       "      <td>...</td>\n",
       "    </tr>\n",
       "    <tr>\n",
       "      <th>17932</th>\n",
       "      <td>1</td>\n",
       "      <td>1</td>\n",
       "      <td>1</td>\n",
       "      <td>1</td>\n",
       "      <td>1</td>\n",
       "      <td>1</td>\n",
       "      <td>1</td>\n",
       "      <td>1</td>\n",
       "      <td>1</td>\n",
       "      <td>1</td>\n",
       "    </tr>\n",
       "    <tr>\n",
       "      <th>19208</th>\n",
       "      <td>1</td>\n",
       "      <td>1</td>\n",
       "      <td>1</td>\n",
       "      <td>1</td>\n",
       "      <td>1</td>\n",
       "      <td>1</td>\n",
       "      <td>1</td>\n",
       "      <td>1</td>\n",
       "      <td>1</td>\n",
       "      <td>1</td>\n",
       "    </tr>\n",
       "    <tr>\n",
       "      <th>19211</th>\n",
       "      <td>1</td>\n",
       "      <td>1</td>\n",
       "      <td>1</td>\n",
       "      <td>1</td>\n",
       "      <td>1</td>\n",
       "      <td>1</td>\n",
       "      <td>1</td>\n",
       "      <td>1</td>\n",
       "      <td>1</td>\n",
       "      <td>1</td>\n",
       "    </tr>\n",
       "    <tr>\n",
       "      <th>19312</th>\n",
       "      <td>1</td>\n",
       "      <td>1</td>\n",
       "      <td>1</td>\n",
       "      <td>1</td>\n",
       "      <td>1</td>\n",
       "      <td>1</td>\n",
       "      <td>1</td>\n",
       "      <td>1</td>\n",
       "      <td>1</td>\n",
       "      <td>1</td>\n",
       "    </tr>\n",
       "    <tr>\n",
       "      <th>20000</th>\n",
       "      <td>1</td>\n",
       "      <td>1</td>\n",
       "      <td>1</td>\n",
       "      <td>1</td>\n",
       "      <td>1</td>\n",
       "      <td>1</td>\n",
       "      <td>1</td>\n",
       "      <td>1</td>\n",
       "      <td>1</td>\n",
       "      <td>1</td>\n",
       "    </tr>\n",
       "  </tbody>\n",
       "</table>\n",
       "<p>659 rows × 10 columns</p>\n",
       "</div>"
      ],
      "text/plain": [
       "       Price  VehicleType  RegistrationYear  Gearbox  Model  Kilometer  \\\n",
       "Power                                                                    \n",
       "0      21812        21812             21812    21812  21812      21812   \n",
       "1         15           15                15       15     15         15   \n",
       "2          4            4                 4        4      4          4   \n",
       "3          1            1                 1        1      1          1   \n",
       "4          5            5                 5        5      5          5   \n",
       "...      ...          ...               ...      ...    ...        ...   \n",
       "17932      1            1                 1        1      1          1   \n",
       "19208      1            1                 1        1      1          1   \n",
       "19211      1            1                 1        1      1          1   \n",
       "19312      1            1                 1        1      1          1   \n",
       "20000      1            1                 1        1      1          1   \n",
       "\n",
       "       RegistrationMonth  FuelType  Brand  Repaired  \n",
       "Power                                                \n",
       "0                  21812     21812  21812     21812  \n",
       "1                     15        15     15        15  \n",
       "2                      4         4      4         4  \n",
       "3                      1         1      1         1  \n",
       "4                      5         5      5         5  \n",
       "...                  ...       ...    ...       ...  \n",
       "17932                  1         1      1         1  \n",
       "19208                  1         1      1         1  \n",
       "19211                  1         1      1         1  \n",
       "19312                  1         1      1         1  \n",
       "20000                  1         1      1         1  \n",
       "\n",
       "[659 rows x 10 columns]"
      ]
     },
     "execution_count": 26,
     "metadata": {},
     "output_type": "execute_result"
    }
   ],
   "source": [
    "data.groupby('Power').count().sort_values(by='Power')"
   ]
  },
  {
   "cell_type": "code",
   "execution_count": 27,
   "metadata": {},
   "outputs": [
    {
     "data": {
      "text/plain": [
       "<AxesSubplot:xlabel='Power', ylabel='Count'>"
      ]
     },
     "execution_count": 27,
     "metadata": {},
     "output_type": "execute_result"
    },
    {
     "data": {
      "image/png": "[encoded data removed]",
      "text/plain": [
       "<Figure size 1080x360 with 1 Axes>"
      ]
     },
     "metadata": {
      "needs_background": "light"
     },
     "output_type": "display_data"
    }
   ],
   "source": [
    "# рассмотрим расспределение по мощности\n",
    "plt.figure(figsize=(15,5))  \n",
    "sns.histplot(data['Power'],bins=300)"
   ]
  },
  {
   "cell_type": "code",
   "execution_count": 28,
   "metadata": {},
   "outputs": [],
   "source": [
    "# Удалим строки с мощностью >1500 и <50\n",
    "data = data.query('20<Power<1500')"
   ]
  },
  {
   "cell_type": "code",
   "execution_count": 29,
   "metadata": {},
   "outputs": [
    {
     "data": {
      "text/html": [
       "<div>\n",
       "<style scoped>\n",
       "    .dataframe tbody tr th:only-of-type {\n",
       "        vertical-align: middle;\n",
       "    }\n",
       "\n",
       "    .dataframe tbody tr th {\n",
       "        vertical-align: top;\n",
       "    }\n",
       "\n",
       "    .dataframe thead th {\n",
       "        text-align: right;\n",
       "    }\n",
       "</style>\n",
       "<table border=\"1\" class=\"dataframe\">\n",
       "  <thead>\n",
       "    <tr style=\"text-align: right;\">\n",
       "      <th></th>\n",
       "      <th>Price</th>\n",
       "      <th>VehicleType</th>\n",
       "      <th>RegistrationYear</th>\n",
       "      <th>Gearbox</th>\n",
       "      <th>Model</th>\n",
       "      <th>Kilometer</th>\n",
       "      <th>RegistrationMonth</th>\n",
       "      <th>FuelType</th>\n",
       "      <th>Brand</th>\n",
       "      <th>Repaired</th>\n",
       "    </tr>\n",
       "    <tr>\n",
       "      <th>Power</th>\n",
       "      <th></th>\n",
       "      <th></th>\n",
       "      <th></th>\n",
       "      <th></th>\n",
       "      <th></th>\n",
       "      <th></th>\n",
       "      <th></th>\n",
       "      <th></th>\n",
       "      <th></th>\n",
       "      <th></th>\n",
       "    </tr>\n",
       "  </thead>\n",
       "  <tbody>\n",
       "    <tr>\n",
       "      <th>21</th>\n",
       "      <td>5</td>\n",
       "      <td>5</td>\n",
       "      <td>5</td>\n",
       "      <td>5</td>\n",
       "      <td>5</td>\n",
       "      <td>5</td>\n",
       "      <td>5</td>\n",
       "      <td>5</td>\n",
       "      <td>5</td>\n",
       "      <td>5</td>\n",
       "    </tr>\n",
       "    <tr>\n",
       "      <th>22</th>\n",
       "      <td>3</td>\n",
       "      <td>3</td>\n",
       "      <td>3</td>\n",
       "      <td>3</td>\n",
       "      <td>3</td>\n",
       "      <td>3</td>\n",
       "      <td>3</td>\n",
       "      <td>3</td>\n",
       "      <td>3</td>\n",
       "      <td>3</td>\n",
       "    </tr>\n",
       "    <tr>\n",
       "      <th>23</th>\n",
       "      <td>33</td>\n",
       "      <td>33</td>\n",
       "      <td>33</td>\n",
       "      <td>33</td>\n",
       "      <td>33</td>\n",
       "      <td>33</td>\n",
       "      <td>33</td>\n",
       "      <td>33</td>\n",
       "      <td>33</td>\n",
       "      <td>33</td>\n",
       "    </tr>\n",
       "    <tr>\n",
       "      <th>24</th>\n",
       "      <td>19</td>\n",
       "      <td>19</td>\n",
       "      <td>19</td>\n",
       "      <td>19</td>\n",
       "      <td>19</td>\n",
       "      <td>19</td>\n",
       "      <td>19</td>\n",
       "      <td>19</td>\n",
       "      <td>19</td>\n",
       "      <td>19</td>\n",
       "    </tr>\n",
       "    <tr>\n",
       "      <th>25</th>\n",
       "      <td>9</td>\n",
       "      <td>9</td>\n",
       "      <td>9</td>\n",
       "      <td>9</td>\n",
       "      <td>9</td>\n",
       "      <td>9</td>\n",
       "      <td>9</td>\n",
       "      <td>9</td>\n",
       "      <td>9</td>\n",
       "      <td>9</td>\n",
       "    </tr>\n",
       "    <tr>\n",
       "      <th>...</th>\n",
       "      <td>...</td>\n",
       "      <td>...</td>\n",
       "      <td>...</td>\n",
       "      <td>...</td>\n",
       "      <td>...</td>\n",
       "      <td>...</td>\n",
       "      <td>...</td>\n",
       "      <td>...</td>\n",
       "      <td>...</td>\n",
       "      <td>...</td>\n",
       "    </tr>\n",
       "    <tr>\n",
       "      <th>1405</th>\n",
       "      <td>1</td>\n",
       "      <td>1</td>\n",
       "      <td>1</td>\n",
       "      <td>1</td>\n",
       "      <td>1</td>\n",
       "      <td>1</td>\n",
       "      <td>1</td>\n",
       "      <td>1</td>\n",
       "      <td>1</td>\n",
       "      <td>1</td>\n",
       "    </tr>\n",
       "    <tr>\n",
       "      <th>1416</th>\n",
       "      <td>1</td>\n",
       "      <td>1</td>\n",
       "      <td>1</td>\n",
       "      <td>1</td>\n",
       "      <td>1</td>\n",
       "      <td>1</td>\n",
       "      <td>1</td>\n",
       "      <td>1</td>\n",
       "      <td>1</td>\n",
       "      <td>1</td>\n",
       "    </tr>\n",
       "    <tr>\n",
       "      <th>1432</th>\n",
       "      <td>1</td>\n",
       "      <td>1</td>\n",
       "      <td>1</td>\n",
       "      <td>1</td>\n",
       "      <td>1</td>\n",
       "      <td>1</td>\n",
       "      <td>1</td>\n",
       "      <td>1</td>\n",
       "      <td>1</td>\n",
       "      <td>1</td>\n",
       "    </tr>\n",
       "    <tr>\n",
       "      <th>1433</th>\n",
       "      <td>1</td>\n",
       "      <td>1</td>\n",
       "      <td>1</td>\n",
       "      <td>1</td>\n",
       "      <td>1</td>\n",
       "      <td>1</td>\n",
       "      <td>1</td>\n",
       "      <td>1</td>\n",
       "      <td>1</td>\n",
       "      <td>1</td>\n",
       "    </tr>\n",
       "    <tr>\n",
       "      <th>1436</th>\n",
       "      <td>1</td>\n",
       "      <td>1</td>\n",
       "      <td>1</td>\n",
       "      <td>1</td>\n",
       "      <td>1</td>\n",
       "      <td>1</td>\n",
       "      <td>1</td>\n",
       "      <td>1</td>\n",
       "      <td>1</td>\n",
       "      <td>1</td>\n",
       "    </tr>\n",
       "  </tbody>\n",
       "</table>\n",
       "<p>508 rows × 10 columns</p>\n",
       "</div>"
      ],
      "text/plain": [
       "       Price  VehicleType  RegistrationYear  Gearbox  Model  Kilometer  \\\n",
       "Power                                                                    \n",
       "21         5            5                 5        5      5          5   \n",
       "22         3            3                 3        3      3          3   \n",
       "23        33           33                33       33     33         33   \n",
       "24        19           19                19       19     19         19   \n",
       "25         9            9                 9        9      9          9   \n",
       "...      ...          ...               ...      ...    ...        ...   \n",
       "1405       1            1                 1        1      1          1   \n",
       "1416       1            1                 1        1      1          1   \n",
       "1432       1            1                 1        1      1          1   \n",
       "1433       1            1                 1        1      1          1   \n",
       "1436       1            1                 1        1      1          1   \n",
       "\n",
       "       RegistrationMonth  FuelType  Brand  Repaired  \n",
       "Power                                                \n",
       "21                     5         5      5         5  \n",
       "22                     3         3      3         3  \n",
       "23                    33        33     33        33  \n",
       "24                    19        19     19        19  \n",
       "25                     9         9      9         9  \n",
       "...                  ...       ...    ...       ...  \n",
       "1405                   1         1      1         1  \n",
       "1416                   1         1      1         1  \n",
       "1432                   1         1      1         1  \n",
       "1433                   1         1      1         1  \n",
       "1436                   1         1      1         1  \n",
       "\n",
       "[508 rows x 10 columns]"
      ]
     },
     "execution_count": 29,
     "metadata": {},
     "output_type": "execute_result"
    }
   ],
   "source": [
    "data.groupby('Power').count().sort_values(by='Power')"
   ]
  },
  {
   "cell_type": "markdown",
   "metadata": {},
   "source": [
    "Рассмотрим столбец **Месяц регистрации**"
   ]
  },
  {
   "cell_type": "code",
   "execution_count": 30,
   "metadata": {},
   "outputs": [
    {
     "data": {
      "text/html": [
       "<div>\n",
       "<style scoped>\n",
       "    .dataframe tbody tr th:only-of-type {\n",
       "        vertical-align: middle;\n",
       "    }\n",
       "\n",
       "    .dataframe tbody tr th {\n",
       "        vertical-align: top;\n",
       "    }\n",
       "\n",
       "    .dataframe thead th {\n",
       "        text-align: right;\n",
       "    }\n",
       "</style>\n",
       "<table border=\"1\" class=\"dataframe\">\n",
       "  <thead>\n",
       "    <tr style=\"text-align: right;\">\n",
       "      <th></th>\n",
       "      <th>Price</th>\n",
       "      <th>VehicleType</th>\n",
       "      <th>RegistrationYear</th>\n",
       "      <th>Gearbox</th>\n",
       "      <th>Power</th>\n",
       "      <th>Model</th>\n",
       "      <th>Kilometer</th>\n",
       "      <th>FuelType</th>\n",
       "      <th>Brand</th>\n",
       "      <th>Repaired</th>\n",
       "    </tr>\n",
       "    <tr>\n",
       "      <th>RegistrationMonth</th>\n",
       "      <th></th>\n",
       "      <th></th>\n",
       "      <th></th>\n",
       "      <th></th>\n",
       "      <th></th>\n",
       "      <th></th>\n",
       "      <th></th>\n",
       "      <th></th>\n",
       "      <th></th>\n",
       "      <th></th>\n",
       "    </tr>\n",
       "  </thead>\n",
       "  <tbody>\n",
       "    <tr>\n",
       "      <th>0</th>\n",
       "      <td>15699</td>\n",
       "      <td>15699</td>\n",
       "      <td>15699</td>\n",
       "      <td>15699</td>\n",
       "      <td>15699</td>\n",
       "      <td>15699</td>\n",
       "      <td>15699</td>\n",
       "      <td>15699</td>\n",
       "      <td>15699</td>\n",
       "      <td>15699</td>\n",
       "    </tr>\n",
       "    <tr>\n",
       "      <th>1</th>\n",
       "      <td>19659</td>\n",
       "      <td>19659</td>\n",
       "      <td>19659</td>\n",
       "      <td>19659</td>\n",
       "      <td>19659</td>\n",
       "      <td>19659</td>\n",
       "      <td>19659</td>\n",
       "      <td>19659</td>\n",
       "      <td>19659</td>\n",
       "      <td>19659</td>\n",
       "    </tr>\n",
       "    <tr>\n",
       "      <th>2</th>\n",
       "      <td>18405</td>\n",
       "      <td>18405</td>\n",
       "      <td>18405</td>\n",
       "      <td>18405</td>\n",
       "      <td>18405</td>\n",
       "      <td>18405</td>\n",
       "      <td>18405</td>\n",
       "      <td>18405</td>\n",
       "      <td>18405</td>\n",
       "      <td>18405</td>\n",
       "    </tr>\n",
       "    <tr>\n",
       "      <th>3</th>\n",
       "      <td>29881</td>\n",
       "      <td>29881</td>\n",
       "      <td>29881</td>\n",
       "      <td>29881</td>\n",
       "      <td>29881</td>\n",
       "      <td>29881</td>\n",
       "      <td>29881</td>\n",
       "      <td>29881</td>\n",
       "      <td>29881</td>\n",
       "      <td>29881</td>\n",
       "    </tr>\n",
       "    <tr>\n",
       "      <th>4</th>\n",
       "      <td>25150</td>\n",
       "      <td>25150</td>\n",
       "      <td>25150</td>\n",
       "      <td>25150</td>\n",
       "      <td>25150</td>\n",
       "      <td>25150</td>\n",
       "      <td>25150</td>\n",
       "      <td>25150</td>\n",
       "      <td>25150</td>\n",
       "      <td>25150</td>\n",
       "    </tr>\n",
       "    <tr>\n",
       "      <th>5</th>\n",
       "      <td>24944</td>\n",
       "      <td>24944</td>\n",
       "      <td>24944</td>\n",
       "      <td>24944</td>\n",
       "      <td>24944</td>\n",
       "      <td>24944</td>\n",
       "      <td>24944</td>\n",
       "      <td>24944</td>\n",
       "      <td>24944</td>\n",
       "      <td>24944</td>\n",
       "    </tr>\n",
       "    <tr>\n",
       "      <th>6</th>\n",
       "      <td>26873</td>\n",
       "      <td>26873</td>\n",
       "      <td>26873</td>\n",
       "      <td>26873</td>\n",
       "      <td>26873</td>\n",
       "      <td>26873</td>\n",
       "      <td>26873</td>\n",
       "      <td>26873</td>\n",
       "      <td>26873</td>\n",
       "      <td>26873</td>\n",
       "    </tr>\n",
       "    <tr>\n",
       "      <th>7</th>\n",
       "      <td>23181</td>\n",
       "      <td>23181</td>\n",
       "      <td>23181</td>\n",
       "      <td>23181</td>\n",
       "      <td>23181</td>\n",
       "      <td>23181</td>\n",
       "      <td>23181</td>\n",
       "      <td>23181</td>\n",
       "      <td>23181</td>\n",
       "      <td>23181</td>\n",
       "    </tr>\n",
       "    <tr>\n",
       "      <th>8</th>\n",
       "      <td>19295</td>\n",
       "      <td>19295</td>\n",
       "      <td>19295</td>\n",
       "      <td>19295</td>\n",
       "      <td>19295</td>\n",
       "      <td>19295</td>\n",
       "      <td>19295</td>\n",
       "      <td>19295</td>\n",
       "      <td>19295</td>\n",
       "      <td>19295</td>\n",
       "    </tr>\n",
       "    <tr>\n",
       "      <th>9</th>\n",
       "      <td>20551</td>\n",
       "      <td>20551</td>\n",
       "      <td>20551</td>\n",
       "      <td>20551</td>\n",
       "      <td>20551</td>\n",
       "      <td>20551</td>\n",
       "      <td>20551</td>\n",
       "      <td>20551</td>\n",
       "      <td>20551</td>\n",
       "      <td>20551</td>\n",
       "    </tr>\n",
       "    <tr>\n",
       "      <th>10</th>\n",
       "      <td>22450</td>\n",
       "      <td>22450</td>\n",
       "      <td>22450</td>\n",
       "      <td>22450</td>\n",
       "      <td>22450</td>\n",
       "      <td>22450</td>\n",
       "      <td>22450</td>\n",
       "      <td>22450</td>\n",
       "      <td>22450</td>\n",
       "      <td>22450</td>\n",
       "    </tr>\n",
       "    <tr>\n",
       "      <th>11</th>\n",
       "      <td>20695</td>\n",
       "      <td>20695</td>\n",
       "      <td>20695</td>\n",
       "      <td>20695</td>\n",
       "      <td>20695</td>\n",
       "      <td>20695</td>\n",
       "      <td>20695</td>\n",
       "      <td>20695</td>\n",
       "      <td>20695</td>\n",
       "      <td>20695</td>\n",
       "    </tr>\n",
       "    <tr>\n",
       "      <th>12</th>\n",
       "      <td>20753</td>\n",
       "      <td>20753</td>\n",
       "      <td>20753</td>\n",
       "      <td>20753</td>\n",
       "      <td>20753</td>\n",
       "      <td>20753</td>\n",
       "      <td>20753</td>\n",
       "      <td>20753</td>\n",
       "      <td>20753</td>\n",
       "      <td>20753</td>\n",
       "    </tr>\n",
       "  </tbody>\n",
       "</table>\n",
       "</div>"
      ],
      "text/plain": [
       "                   Price  VehicleType  RegistrationYear  Gearbox  Power  \\\n",
       "RegistrationMonth                                                         \n",
       "0                  15699        15699             15699    15699  15699   \n",
       "1                  19659        19659             19659    19659  19659   \n",
       "2                  18405        18405             18405    18405  18405   \n",
       "3                  29881        29881             29881    29881  29881   \n",
       "4                  25150        25150             25150    25150  25150   \n",
       "5                  24944        24944             24944    24944  24944   \n",
       "6                  26873        26873             26873    26873  26873   \n",
       "7                  23181        23181             23181    23181  23181   \n",
       "8                  19295        19295             19295    19295  19295   \n",
       "9                  20551        20551             20551    20551  20551   \n",
       "10                 22450        22450             22450    22450  22450   \n",
       "11                 20695        20695             20695    20695  20695   \n",
       "12                 20753        20753             20753    20753  20753   \n",
       "\n",
       "                   Model  Kilometer  FuelType  Brand  Repaired  \n",
       "RegistrationMonth                                               \n",
       "0                  15699      15699     15699  15699     15699  \n",
       "1                  19659      19659     19659  19659     19659  \n",
       "2                  18405      18405     18405  18405     18405  \n",
       "3                  29881      29881     29881  29881     29881  \n",
       "4                  25150      25150     25150  25150     25150  \n",
       "5                  24944      24944     24944  24944     24944  \n",
       "6                  26873      26873     26873  26873     26873  \n",
       "7                  23181      23181     23181  23181     23181  \n",
       "8                  19295      19295     19295  19295     19295  \n",
       "9                  20551      20551     20551  20551     20551  \n",
       "10                 22450      22450     22450  22450     22450  \n",
       "11                 20695      20695     20695  20695     20695  \n",
       "12                 20753      20753     20753  20753     20753  "
      ]
     },
     "execution_count": 30,
     "metadata": {},
     "output_type": "execute_result"
    }
   ],
   "source": [
    "data.groupby('RegistrationMonth').count().sort_values(by='RegistrationMonth')"
   ]
  },
  {
   "cell_type": "markdown",
   "metadata": {},
   "source": [
    "Большое количество строк с значением ноль, заменим эти строки на медиану."
   ]
  },
  {
   "cell_type": "code",
   "execution_count": 31,
   "metadata": {},
   "outputs": [],
   "source": [
    "data.loc[data['RegistrationMonth'] == 0, 'RegistrationMonth'] = data['RegistrationMonth'].median()"
   ]
  },
  {
   "cell_type": "code",
   "execution_count": 32,
   "metadata": {},
   "outputs": [
    {
     "data": {
      "text/html": [
       "<div>\n",
       "<style scoped>\n",
       "    .dataframe tbody tr th:only-of-type {\n",
       "        vertical-align: middle;\n",
       "    }\n",
       "\n",
       "    .dataframe tbody tr th {\n",
       "        vertical-align: top;\n",
       "    }\n",
       "\n",
       "    .dataframe thead th {\n",
       "        text-align: right;\n",
       "    }\n",
       "</style>\n",
       "<table border=\"1\" class=\"dataframe\">\n",
       "  <thead>\n",
       "    <tr style=\"text-align: right;\">\n",
       "      <th></th>\n",
       "      <th>Price</th>\n",
       "      <th>VehicleType</th>\n",
       "      <th>RegistrationYear</th>\n",
       "      <th>Gearbox</th>\n",
       "      <th>Power</th>\n",
       "      <th>Model</th>\n",
       "      <th>Kilometer</th>\n",
       "      <th>FuelType</th>\n",
       "      <th>Brand</th>\n",
       "      <th>Repaired</th>\n",
       "    </tr>\n",
       "    <tr>\n",
       "      <th>RegistrationMonth</th>\n",
       "      <th></th>\n",
       "      <th></th>\n",
       "      <th></th>\n",
       "      <th></th>\n",
       "      <th></th>\n",
       "      <th></th>\n",
       "      <th></th>\n",
       "      <th></th>\n",
       "      <th></th>\n",
       "      <th></th>\n",
       "    </tr>\n",
       "  </thead>\n",
       "  <tbody>\n",
       "    <tr>\n",
       "      <th>1.0</th>\n",
       "      <td>19659</td>\n",
       "      <td>19659</td>\n",
       "      <td>19659</td>\n",
       "      <td>19659</td>\n",
       "      <td>19659</td>\n",
       "      <td>19659</td>\n",
       "      <td>19659</td>\n",
       "      <td>19659</td>\n",
       "      <td>19659</td>\n",
       "      <td>19659</td>\n",
       "    </tr>\n",
       "    <tr>\n",
       "      <th>2.0</th>\n",
       "      <td>18405</td>\n",
       "      <td>18405</td>\n",
       "      <td>18405</td>\n",
       "      <td>18405</td>\n",
       "      <td>18405</td>\n",
       "      <td>18405</td>\n",
       "      <td>18405</td>\n",
       "      <td>18405</td>\n",
       "      <td>18405</td>\n",
       "      <td>18405</td>\n",
       "    </tr>\n",
       "    <tr>\n",
       "      <th>3.0</th>\n",
       "      <td>29881</td>\n",
       "      <td>29881</td>\n",
       "      <td>29881</td>\n",
       "      <td>29881</td>\n",
       "      <td>29881</td>\n",
       "      <td>29881</td>\n",
       "      <td>29881</td>\n",
       "      <td>29881</td>\n",
       "      <td>29881</td>\n",
       "      <td>29881</td>\n",
       "    </tr>\n",
       "    <tr>\n",
       "      <th>4.0</th>\n",
       "      <td>25150</td>\n",
       "      <td>25150</td>\n",
       "      <td>25150</td>\n",
       "      <td>25150</td>\n",
       "      <td>25150</td>\n",
       "      <td>25150</td>\n",
       "      <td>25150</td>\n",
       "      <td>25150</td>\n",
       "      <td>25150</td>\n",
       "      <td>25150</td>\n",
       "    </tr>\n",
       "    <tr>\n",
       "      <th>5.0</th>\n",
       "      <td>24944</td>\n",
       "      <td>24944</td>\n",
       "      <td>24944</td>\n",
       "      <td>24944</td>\n",
       "      <td>24944</td>\n",
       "      <td>24944</td>\n",
       "      <td>24944</td>\n",
       "      <td>24944</td>\n",
       "      <td>24944</td>\n",
       "      <td>24944</td>\n",
       "    </tr>\n",
       "    <tr>\n",
       "      <th>6.0</th>\n",
       "      <td>42572</td>\n",
       "      <td>42572</td>\n",
       "      <td>42572</td>\n",
       "      <td>42572</td>\n",
       "      <td>42572</td>\n",
       "      <td>42572</td>\n",
       "      <td>42572</td>\n",
       "      <td>42572</td>\n",
       "      <td>42572</td>\n",
       "      <td>42572</td>\n",
       "    </tr>\n",
       "    <tr>\n",
       "      <th>7.0</th>\n",
       "      <td>23181</td>\n",
       "      <td>23181</td>\n",
       "      <td>23181</td>\n",
       "      <td>23181</td>\n",
       "      <td>23181</td>\n",
       "      <td>23181</td>\n",
       "      <td>23181</td>\n",
       "      <td>23181</td>\n",
       "      <td>23181</td>\n",
       "      <td>23181</td>\n",
       "    </tr>\n",
       "    <tr>\n",
       "      <th>8.0</th>\n",
       "      <td>19295</td>\n",
       "      <td>19295</td>\n",
       "      <td>19295</td>\n",
       "      <td>19295</td>\n",
       "      <td>19295</td>\n",
       "      <td>19295</td>\n",
       "      <td>19295</td>\n",
       "      <td>19295</td>\n",
       "      <td>19295</td>\n",
       "      <td>19295</td>\n",
       "    </tr>\n",
       "    <tr>\n",
       "      <th>9.0</th>\n",
       "      <td>20551</td>\n",
       "      <td>20551</td>\n",
       "      <td>20551</td>\n",
       "      <td>20551</td>\n",
       "      <td>20551</td>\n",
       "      <td>20551</td>\n",
       "      <td>20551</td>\n",
       "      <td>20551</td>\n",
       "      <td>20551</td>\n",
       "      <td>20551</td>\n",
       "    </tr>\n",
       "    <tr>\n",
       "      <th>10.0</th>\n",
       "      <td>22450</td>\n",
       "      <td>22450</td>\n",
       "      <td>22450</td>\n",
       "      <td>22450</td>\n",
       "      <td>22450</td>\n",
       "      <td>22450</td>\n",
       "      <td>22450</td>\n",
       "      <td>22450</td>\n",
       "      <td>22450</td>\n",
       "      <td>22450</td>\n",
       "    </tr>\n",
       "    <tr>\n",
       "      <th>11.0</th>\n",
       "      <td>20695</td>\n",
       "      <td>20695</td>\n",
       "      <td>20695</td>\n",
       "      <td>20695</td>\n",
       "      <td>20695</td>\n",
       "      <td>20695</td>\n",
       "      <td>20695</td>\n",
       "      <td>20695</td>\n",
       "      <td>20695</td>\n",
       "      <td>20695</td>\n",
       "    </tr>\n",
       "    <tr>\n",
       "      <th>12.0</th>\n",
       "      <td>20753</td>\n",
       "      <td>20753</td>\n",
       "      <td>20753</td>\n",
       "      <td>20753</td>\n",
       "      <td>20753</td>\n",
       "      <td>20753</td>\n",
       "      <td>20753</td>\n",
       "      <td>20753</td>\n",
       "      <td>20753</td>\n",
       "      <td>20753</td>\n",
       "    </tr>\n",
       "  </tbody>\n",
       "</table>\n",
       "</div>"
      ],
      "text/plain": [
       "                   Price  VehicleType  RegistrationYear  Gearbox  Power  \\\n",
       "RegistrationMonth                                                         \n",
       "1.0                19659        19659             19659    19659  19659   \n",
       "2.0                18405        18405             18405    18405  18405   \n",
       "3.0                29881        29881             29881    29881  29881   \n",
       "4.0                25150        25150             25150    25150  25150   \n",
       "5.0                24944        24944             24944    24944  24944   \n",
       "6.0                42572        42572             42572    42572  42572   \n",
       "7.0                23181        23181             23181    23181  23181   \n",
       "8.0                19295        19295             19295    19295  19295   \n",
       "9.0                20551        20551             20551    20551  20551   \n",
       "10.0               22450        22450             22450    22450  22450   \n",
       "11.0               20695        20695             20695    20695  20695   \n",
       "12.0               20753        20753             20753    20753  20753   \n",
       "\n",
       "                   Model  Kilometer  FuelType  Brand  Repaired  \n",
       "RegistrationMonth                                               \n",
       "1.0                19659      19659     19659  19659     19659  \n",
       "2.0                18405      18405     18405  18405     18405  \n",
       "3.0                29881      29881     29881  29881     29881  \n",
       "4.0                25150      25150     25150  25150     25150  \n",
       "5.0                24944      24944     24944  24944     24944  \n",
       "6.0                42572      42572     42572  42572     42572  \n",
       "7.0                23181      23181     23181  23181     23181  \n",
       "8.0                19295      19295     19295  19295     19295  \n",
       "9.0                20551      20551     20551  20551     20551  \n",
       "10.0               22450      22450     22450  22450     22450  \n",
       "11.0               20695      20695     20695  20695     20695  \n",
       "12.0               20753      20753     20753  20753     20753  "
      ]
     },
     "execution_count": 32,
     "metadata": {},
     "output_type": "execute_result"
    }
   ],
   "source": [
    "data.groupby('RegistrationMonth').count().sort_values(by='RegistrationMonth')"
   ]
  },
  {
   "cell_type": "markdown",
   "metadata": {},
   "source": [
    "Итак, мы заполнили пропущенные значения и обработали аномалии в столбцах, неинформативные признаки были удалены."
   ]
  },
  {
   "cell_type": "code",
   "execution_count": 33,
   "metadata": {},
   "outputs": [
    {
     "name": "stdout",
     "output_type": "stream",
     "text": [
      "<class 'pandas.core.frame.DataFrame'>\n",
      "Int64Index: 287536 entries, 2 to 354368\n",
      "Data columns (total 11 columns):\n",
      " #   Column             Non-Null Count   Dtype  \n",
      "---  ------             --------------   -----  \n",
      " 0   Price              287536 non-null  int64  \n",
      " 1   VehicleType        287536 non-null  object \n",
      " 2   RegistrationYear   287536 non-null  int64  \n",
      " 3   Gearbox            287536 non-null  object \n",
      " 4   Power              287536 non-null  int64  \n",
      " 5   Model              287536 non-null  object \n",
      " 6   Kilometer          287536 non-null  int64  \n",
      " 7   RegistrationMonth  287536 non-null  float64\n",
      " 8   FuelType           287536 non-null  object \n",
      " 9   Brand              287536 non-null  object \n",
      " 10  Repaired           287536 non-null  object \n",
      "dtypes: float64(1), int64(4), object(6)\n",
      "memory usage: 26.3+ MB\n"
     ]
    }
   ],
   "source": [
    "data.info()"
   ]
  },
  {
   "cell_type": "code",
   "execution_count": 34,
   "metadata": {},
   "outputs": [
    {
     "data": {
      "text/plain": [
       "23116"
      ]
     },
     "execution_count": 34,
     "metadata": {},
     "output_type": "execute_result"
    }
   ],
   "source": [
    "data.duplicated().sum()"
   ]
  },
  {
   "cell_type": "code",
   "execution_count": 35,
   "metadata": {},
   "outputs": [],
   "source": [
    "data = data.drop_duplicates()"
   ]
  },
  {
   "cell_type": "code",
   "execution_count": 36,
   "metadata": {},
   "outputs": [
    {
     "data": {
      "text/plain": [
       "0"
      ]
     },
     "execution_count": 36,
     "metadata": {},
     "output_type": "execute_result"
    }
   ],
   "source": [
    "data.duplicated().sum()"
   ]
  },
  {
   "cell_type": "code",
   "execution_count": 37,
   "metadata": {},
   "outputs": [],
   "source": [
    "data = data.reset_index(drop=True)"
   ]
  },
  {
   "cell_type": "code",
   "execution_count": 38,
   "metadata": {},
   "outputs": [
    {
     "data": {
      "text/html": [
       "<div>\n",
       "<style scoped>\n",
       "    .dataframe tbody tr th:only-of-type {\n",
       "        vertical-align: middle;\n",
       "    }\n",
       "\n",
       "    .dataframe tbody tr th {\n",
       "        vertical-align: top;\n",
       "    }\n",
       "\n",
       "    .dataframe thead th {\n",
       "        text-align: right;\n",
       "    }\n",
       "</style>\n",
       "<table border=\"1\" class=\"dataframe\">\n",
       "  <thead>\n",
       "    <tr style=\"text-align: right;\">\n",
       "      <th></th>\n",
       "      <th>Price</th>\n",
       "      <th>VehicleType</th>\n",
       "      <th>RegistrationYear</th>\n",
       "      <th>Gearbox</th>\n",
       "      <th>Power</th>\n",
       "      <th>Model</th>\n",
       "      <th>Kilometer</th>\n",
       "      <th>RegistrationMonth</th>\n",
       "      <th>FuelType</th>\n",
       "      <th>Brand</th>\n",
       "      <th>Repaired</th>\n",
       "    </tr>\n",
       "  </thead>\n",
       "  <tbody>\n",
       "    <tr>\n",
       "      <th>0</th>\n",
       "      <td>9800</td>\n",
       "      <td>suv</td>\n",
       "      <td>2004</td>\n",
       "      <td>auto</td>\n",
       "      <td>163</td>\n",
       "      <td>grand</td>\n",
       "      <td>125000</td>\n",
       "      <td>8.0</td>\n",
       "      <td>gasoline</td>\n",
       "      <td>jeep</td>\n",
       "      <td>unknown</td>\n",
       "    </tr>\n",
       "    <tr>\n",
       "      <th>1</th>\n",
       "      <td>1500</td>\n",
       "      <td>small</td>\n",
       "      <td>2001</td>\n",
       "      <td>manual</td>\n",
       "      <td>75</td>\n",
       "      <td>golf</td>\n",
       "      <td>150000</td>\n",
       "      <td>6.0</td>\n",
       "      <td>petrol</td>\n",
       "      <td>volkswagen</td>\n",
       "      <td>no</td>\n",
       "    </tr>\n",
       "    <tr>\n",
       "      <th>2</th>\n",
       "      <td>3600</td>\n",
       "      <td>small</td>\n",
       "      <td>2008</td>\n",
       "      <td>manual</td>\n",
       "      <td>69</td>\n",
       "      <td>fabia</td>\n",
       "      <td>90000</td>\n",
       "      <td>7.0</td>\n",
       "      <td>gasoline</td>\n",
       "      <td>skoda</td>\n",
       "      <td>no</td>\n",
       "    </tr>\n",
       "    <tr>\n",
       "      <th>3</th>\n",
       "      <td>650</td>\n",
       "      <td>sedan</td>\n",
       "      <td>1995</td>\n",
       "      <td>manual</td>\n",
       "      <td>102</td>\n",
       "      <td>3er</td>\n",
       "      <td>150000</td>\n",
       "      <td>10.0</td>\n",
       "      <td>petrol</td>\n",
       "      <td>bmw</td>\n",
       "      <td>yes</td>\n",
       "    </tr>\n",
       "    <tr>\n",
       "      <th>4</th>\n",
       "      <td>2200</td>\n",
       "      <td>convertible</td>\n",
       "      <td>2004</td>\n",
       "      <td>manual</td>\n",
       "      <td>109</td>\n",
       "      <td>2_reihe</td>\n",
       "      <td>150000</td>\n",
       "      <td>8.0</td>\n",
       "      <td>petrol</td>\n",
       "      <td>peugeot</td>\n",
       "      <td>no</td>\n",
       "    </tr>\n",
       "    <tr>\n",
       "      <th>...</th>\n",
       "      <td>...</td>\n",
       "      <td>...</td>\n",
       "      <td>...</td>\n",
       "      <td>...</td>\n",
       "      <td>...</td>\n",
       "      <td>...</td>\n",
       "      <td>...</td>\n",
       "      <td>...</td>\n",
       "      <td>...</td>\n",
       "      <td>...</td>\n",
       "      <td>...</td>\n",
       "    </tr>\n",
       "    <tr>\n",
       "      <th>264415</th>\n",
       "      <td>5250</td>\n",
       "      <td>unknown</td>\n",
       "      <td>2016</td>\n",
       "      <td>auto</td>\n",
       "      <td>150</td>\n",
       "      <td>159</td>\n",
       "      <td>150000</td>\n",
       "      <td>12.0</td>\n",
       "      <td>unknown</td>\n",
       "      <td>alfa_romeo</td>\n",
       "      <td>no</td>\n",
       "    </tr>\n",
       "    <tr>\n",
       "      <th>264416</th>\n",
       "      <td>3200</td>\n",
       "      <td>sedan</td>\n",
       "      <td>2004</td>\n",
       "      <td>manual</td>\n",
       "      <td>225</td>\n",
       "      <td>leon</td>\n",
       "      <td>150000</td>\n",
       "      <td>5.0</td>\n",
       "      <td>petrol</td>\n",
       "      <td>seat</td>\n",
       "      <td>yes</td>\n",
       "    </tr>\n",
       "    <tr>\n",
       "      <th>264417</th>\n",
       "      <td>1199</td>\n",
       "      <td>convertible</td>\n",
       "      <td>2000</td>\n",
       "      <td>auto</td>\n",
       "      <td>101</td>\n",
       "      <td>fortwo</td>\n",
       "      <td>125000</td>\n",
       "      <td>3.0</td>\n",
       "      <td>petrol</td>\n",
       "      <td>smart</td>\n",
       "      <td>no</td>\n",
       "    </tr>\n",
       "    <tr>\n",
       "      <th>264418</th>\n",
       "      <td>9200</td>\n",
       "      <td>bus</td>\n",
       "      <td>1996</td>\n",
       "      <td>manual</td>\n",
       "      <td>102</td>\n",
       "      <td>transporter</td>\n",
       "      <td>150000</td>\n",
       "      <td>3.0</td>\n",
       "      <td>gasoline</td>\n",
       "      <td>volkswagen</td>\n",
       "      <td>no</td>\n",
       "    </tr>\n",
       "    <tr>\n",
       "      <th>264419</th>\n",
       "      <td>3400</td>\n",
       "      <td>wagon</td>\n",
       "      <td>2002</td>\n",
       "      <td>manual</td>\n",
       "      <td>100</td>\n",
       "      <td>golf</td>\n",
       "      <td>150000</td>\n",
       "      <td>6.0</td>\n",
       "      <td>gasoline</td>\n",
       "      <td>volkswagen</td>\n",
       "      <td>unknown</td>\n",
       "    </tr>\n",
       "  </tbody>\n",
       "</table>\n",
       "<p>264420 rows × 11 columns</p>\n",
       "</div>"
      ],
      "text/plain": [
       "        Price  VehicleType  RegistrationYear Gearbox  Power        Model  \\\n",
       "0        9800          suv              2004    auto    163        grand   \n",
       "1        1500        small              2001  manual     75         golf   \n",
       "2        3600        small              2008  manual     69        fabia   \n",
       "3         650        sedan              1995  manual    102          3er   \n",
       "4        2200  convertible              2004  manual    109      2_reihe   \n",
       "...       ...          ...               ...     ...    ...          ...   \n",
       "264415   5250      unknown              2016    auto    150          159   \n",
       "264416   3200        sedan              2004  manual    225         leon   \n",
       "264417   1199  convertible              2000    auto    101       fortwo   \n",
       "264418   9200          bus              1996  manual    102  transporter   \n",
       "264419   3400        wagon              2002  manual    100         golf   \n",
       "\n",
       "        Kilometer  RegistrationMonth  FuelType       Brand Repaired  \n",
       "0          125000                8.0  gasoline        jeep  unknown  \n",
       "1          150000                6.0    petrol  volkswagen       no  \n",
       "2           90000                7.0  gasoline       skoda       no  \n",
       "3          150000               10.0    petrol         bmw      yes  \n",
       "4          150000                8.0    petrol     peugeot       no  \n",
       "...           ...                ...       ...         ...      ...  \n",
       "264415     150000               12.0   unknown  alfa_romeo       no  \n",
       "264416     150000                5.0    petrol        seat      yes  \n",
       "264417     125000                3.0    petrol       smart       no  \n",
       "264418     150000                3.0  gasoline  volkswagen       no  \n",
       "264419     150000                6.0  gasoline  volkswagen  unknown  \n",
       "\n",
       "[264420 rows x 11 columns]"
      ]
     },
     "execution_count": 38,
     "metadata": {},
     "output_type": "execute_result"
    }
   ],
   "source": [
    "data"
   ]
  },
  {
   "cell_type": "markdown",
   "metadata": {},
   "source": [
    "***Подготовим выборки для обучения моделей***"
   ]
  },
  {
   "cell_type": "markdown",
   "metadata": {},
   "source": [
    "Так как в нашем распоряжении одна база, то нам необходимо разбить ее на три части: обучающую, валидационную и тестовую. Выделим части в соотношении 60%-20%-20% соответственно"
   ]
  },
  {
   "cell_type": "code",
   "execution_count": 39,
   "metadata": {},
   "outputs": [],
   "source": [
    "# Выедлим сначала обучающую часть\n",
    "data_train, data_for_split = train_test_split(data, test_size=0.4, random_state=12345) \n",
    "# Далее выделим тестовую и валидационную часть\n",
    "data_valid, data_test = train_test_split(data_for_split, test_size=0.5, random_state=12345)"
   ]
  },
  {
   "cell_type": "code",
   "execution_count": 40,
   "metadata": {},
   "outputs": [
    {
     "data": {
      "text/plain": [
       "158652"
      ]
     },
     "execution_count": 40,
     "metadata": {},
     "output_type": "execute_result"
    }
   ],
   "source": [
    "#Проверим размеры выборок\n",
    "len(data_train)"
   ]
  },
  {
   "cell_type": "code",
   "execution_count": 41,
   "metadata": {},
   "outputs": [
    {
     "data": {
      "text/plain": [
       "52884"
      ]
     },
     "execution_count": 41,
     "metadata": {},
     "output_type": "execute_result"
    }
   ],
   "source": [
    "len(data_valid)"
   ]
  },
  {
   "cell_type": "code",
   "execution_count": 42,
   "metadata": {},
   "outputs": [
    {
     "data": {
      "text/plain": [
       "52884"
      ]
     },
     "execution_count": 42,
     "metadata": {},
     "output_type": "execute_result"
    }
   ],
   "source": [
    "len(data_test)"
   ]
  },
  {
   "cell_type": "markdown",
   "metadata": {},
   "source": [
    "**Создадим переменные для признаков и целевого признака**"
   ]
  },
  {
   "cell_type": "code",
   "execution_count": 43,
   "metadata": {},
   "outputs": [],
   "source": [
    "features_train = data_train.drop(['Price'], axis=1)\n",
    "target_train = data_train['Price']\n",
    "features_valid = data_valid.drop(['Price'], axis=1)\n",
    "target_valid = data_valid['Price']\n",
    "features_test = data_test.drop(['Price'], axis=1)\n",
    "target_test = data_test['Price']"
   ]
  },
  {
   "cell_type": "markdown",
   "metadata": {},
   "source": [
    "**Далее стандартизируем численные признаки**"
   ]
  },
  {
   "cell_type": "code",
   "execution_count": 44,
   "metadata": {},
   "outputs": [],
   "source": [
    "# В переменную numeric добавим численные признаки\n",
    "numeric = ['RegistrationYear', 'Power', 'Kilometer', 'RegistrationMonth']"
   ]
  },
  {
   "cell_type": "code",
   "execution_count": 45,
   "metadata": {},
   "outputs": [],
   "source": [
    "# для обучающей, валидационной и тестовой выборки\n",
    "scaler = StandardScaler()\n",
    "scaler.fit(features_train[numeric])\n",
    "features_train[numeric] = scaler.transform(features_train[numeric])\n",
    "features_valid[numeric] = scaler.transform(features_valid[numeric])\n",
    "features_test[numeric] = scaler.transform(features_test[numeric])"
   ]
  },
  {
   "cell_type": "markdown",
   "metadata": {},
   "source": [
    "**Проведем кодирование категориадьных признаков техникой OHE**"
   ]
  },
  {
   "cell_type": "code",
   "execution_count": 46,
   "metadata": {},
   "outputs": [
    {
     "data": {
      "text/html": [
       "<div>\n",
       "<style scoped>\n",
       "    .dataframe tbody tr th:only-of-type {\n",
       "        vertical-align: middle;\n",
       "    }\n",
       "\n",
       "    .dataframe tbody tr th {\n",
       "        vertical-align: top;\n",
       "    }\n",
       "\n",
       "    .dataframe thead th {\n",
       "        text-align: right;\n",
       "    }\n",
       "</style>\n",
       "<table border=\"1\" class=\"dataframe\">\n",
       "  <thead>\n",
       "    <tr style=\"text-align: right;\">\n",
       "      <th></th>\n",
       "      <th>RegistrationYear</th>\n",
       "      <th>Power</th>\n",
       "      <th>Kilometer</th>\n",
       "      <th>RegistrationMonth</th>\n",
       "      <th>VehicleType_convertible</th>\n",
       "      <th>VehicleType_coupe</th>\n",
       "      <th>VehicleType_other</th>\n",
       "      <th>VehicleType_sedan</th>\n",
       "      <th>VehicleType_small</th>\n",
       "      <th>VehicleType_suv</th>\n",
       "      <th>...</th>\n",
       "      <th>Brand_skoda</th>\n",
       "      <th>Brand_smart</th>\n",
       "      <th>Brand_subaru</th>\n",
       "      <th>Brand_suzuki</th>\n",
       "      <th>Brand_toyota</th>\n",
       "      <th>Brand_trabant</th>\n",
       "      <th>Brand_volkswagen</th>\n",
       "      <th>Brand_volvo</th>\n",
       "      <th>Repaired_unknown</th>\n",
       "      <th>Repaired_yes</th>\n",
       "    </tr>\n",
       "  </thead>\n",
       "  <tbody>\n",
       "    <tr>\n",
       "      <th>222829</th>\n",
       "      <td>0.097987</td>\n",
       "      <td>-0.092187</td>\n",
       "      <td>-0.094565</td>\n",
       "      <td>1.734771</td>\n",
       "      <td>0.0</td>\n",
       "      <td>0.0</td>\n",
       "      <td>0.0</td>\n",
       "      <td>1.0</td>\n",
       "      <td>0.0</td>\n",
       "      <td>0.0</td>\n",
       "      <td>...</td>\n",
       "      <td>0.0</td>\n",
       "      <td>0.0</td>\n",
       "      <td>0.0</td>\n",
       "      <td>0.0</td>\n",
       "      <td>0.0</td>\n",
       "      <td>0.0</td>\n",
       "      <td>0.0</td>\n",
       "      <td>0.0</td>\n",
       "      <td>0.0</td>\n",
       "      <td>0.0</td>\n",
       "    </tr>\n",
       "    <tr>\n",
       "      <th>39826</th>\n",
       "      <td>2.035245</td>\n",
       "      <td>0.206695</td>\n",
       "      <td>0.590735</td>\n",
       "      <td>-0.416953</td>\n",
       "      <td>0.0</td>\n",
       "      <td>0.0</td>\n",
       "      <td>0.0</td>\n",
       "      <td>0.0</td>\n",
       "      <td>0.0</td>\n",
       "      <td>0.0</td>\n",
       "      <td>...</td>\n",
       "      <td>0.0</td>\n",
       "      <td>0.0</td>\n",
       "      <td>0.0</td>\n",
       "      <td>0.0</td>\n",
       "      <td>0.0</td>\n",
       "      <td>0.0</td>\n",
       "      <td>0.0</td>\n",
       "      <td>0.0</td>\n",
       "      <td>1.0</td>\n",
       "      <td>0.0</td>\n",
       "    </tr>\n",
       "    <tr>\n",
       "      <th>85559</th>\n",
       "      <td>0.694066</td>\n",
       "      <td>-0.918508</td>\n",
       "      <td>-1.053986</td>\n",
       "      <td>-0.724342</td>\n",
       "      <td>0.0</td>\n",
       "      <td>0.0</td>\n",
       "      <td>0.0</td>\n",
       "      <td>0.0</td>\n",
       "      <td>1.0</td>\n",
       "      <td>0.0</td>\n",
       "      <td>...</td>\n",
       "      <td>0.0</td>\n",
       "      <td>0.0</td>\n",
       "      <td>0.0</td>\n",
       "      <td>0.0</td>\n",
       "      <td>1.0</td>\n",
       "      <td>0.0</td>\n",
       "      <td>0.0</td>\n",
       "      <td>0.0</td>\n",
       "      <td>0.0</td>\n",
       "      <td>0.0</td>\n",
       "    </tr>\n",
       "    <tr>\n",
       "      <th>174046</th>\n",
       "      <td>0.097987</td>\n",
       "      <td>-0.461394</td>\n",
       "      <td>0.590735</td>\n",
       "      <td>-1.031731</td>\n",
       "      <td>1.0</td>\n",
       "      <td>0.0</td>\n",
       "      <td>0.0</td>\n",
       "      <td>0.0</td>\n",
       "      <td>0.0</td>\n",
       "      <td>0.0</td>\n",
       "      <td>...</td>\n",
       "      <td>0.0</td>\n",
       "      <td>0.0</td>\n",
       "      <td>0.0</td>\n",
       "      <td>0.0</td>\n",
       "      <td>0.0</td>\n",
       "      <td>0.0</td>\n",
       "      <td>0.0</td>\n",
       "      <td>0.0</td>\n",
       "      <td>0.0</td>\n",
       "      <td>0.0</td>\n",
       "    </tr>\n",
       "    <tr>\n",
       "      <th>4500</th>\n",
       "      <td>1.886225</td>\n",
       "      <td>-1.076739</td>\n",
       "      <td>-0.094565</td>\n",
       "      <td>-1.339121</td>\n",
       "      <td>0.0</td>\n",
       "      <td>0.0</td>\n",
       "      <td>0.0</td>\n",
       "      <td>0.0</td>\n",
       "      <td>0.0</td>\n",
       "      <td>0.0</td>\n",
       "      <td>...</td>\n",
       "      <td>0.0</td>\n",
       "      <td>0.0</td>\n",
       "      <td>0.0</td>\n",
       "      <td>0.0</td>\n",
       "      <td>0.0</td>\n",
       "      <td>0.0</td>\n",
       "      <td>0.0</td>\n",
       "      <td>0.0</td>\n",
       "      <td>0.0</td>\n",
       "      <td>0.0</td>\n",
       "    </tr>\n",
       "    <tr>\n",
       "      <th>...</th>\n",
       "      <td>...</td>\n",
       "      <td>...</td>\n",
       "      <td>...</td>\n",
       "      <td>...</td>\n",
       "      <td>...</td>\n",
       "      <td>...</td>\n",
       "      <td>...</td>\n",
       "      <td>...</td>\n",
       "      <td>...</td>\n",
       "      <td>...</td>\n",
       "      <td>...</td>\n",
       "      <td>...</td>\n",
       "      <td>...</td>\n",
       "      <td>...</td>\n",
       "      <td>...</td>\n",
       "      <td>...</td>\n",
       "      <td>...</td>\n",
       "      <td>...</td>\n",
       "      <td>...</td>\n",
       "      <td>...</td>\n",
       "      <td>...</td>\n",
       "    </tr>\n",
       "    <tr>\n",
       "      <th>158838</th>\n",
       "      <td>0.545046</td>\n",
       "      <td>-0.883345</td>\n",
       "      <td>-2.150466</td>\n",
       "      <td>-1.031731</td>\n",
       "      <td>0.0</td>\n",
       "      <td>0.0</td>\n",
       "      <td>0.0</td>\n",
       "      <td>0.0</td>\n",
       "      <td>1.0</td>\n",
       "      <td>0.0</td>\n",
       "      <td>...</td>\n",
       "      <td>0.0</td>\n",
       "      <td>1.0</td>\n",
       "      <td>0.0</td>\n",
       "      <td>0.0</td>\n",
       "      <td>0.0</td>\n",
       "      <td>0.0</td>\n",
       "      <td>0.0</td>\n",
       "      <td>0.0</td>\n",
       "      <td>0.0</td>\n",
       "      <td>0.0</td>\n",
       "    </tr>\n",
       "    <tr>\n",
       "      <th>47873</th>\n",
       "      <td>0.545046</td>\n",
       "      <td>1.929661</td>\n",
       "      <td>0.590735</td>\n",
       "      <td>-1.339121</td>\n",
       "      <td>0.0</td>\n",
       "      <td>0.0</td>\n",
       "      <td>0.0</td>\n",
       "      <td>0.0</td>\n",
       "      <td>0.0</td>\n",
       "      <td>0.0</td>\n",
       "      <td>...</td>\n",
       "      <td>0.0</td>\n",
       "      <td>0.0</td>\n",
       "      <td>0.0</td>\n",
       "      <td>0.0</td>\n",
       "      <td>0.0</td>\n",
       "      <td>0.0</td>\n",
       "      <td>0.0</td>\n",
       "      <td>0.0</td>\n",
       "      <td>0.0</td>\n",
       "      <td>0.0</td>\n",
       "    </tr>\n",
       "    <tr>\n",
       "      <th>86398</th>\n",
       "      <td>-0.498093</td>\n",
       "      <td>-1.076739</td>\n",
       "      <td>0.590735</td>\n",
       "      <td>1.119993</td>\n",
       "      <td>0.0</td>\n",
       "      <td>0.0</td>\n",
       "      <td>0.0</td>\n",
       "      <td>0.0</td>\n",
       "      <td>1.0</td>\n",
       "      <td>0.0</td>\n",
       "      <td>...</td>\n",
       "      <td>0.0</td>\n",
       "      <td>0.0</td>\n",
       "      <td>0.0</td>\n",
       "      <td>0.0</td>\n",
       "      <td>0.0</td>\n",
       "      <td>0.0</td>\n",
       "      <td>1.0</td>\n",
       "      <td>0.0</td>\n",
       "      <td>0.0</td>\n",
       "      <td>0.0</td>\n",
       "    </tr>\n",
       "    <tr>\n",
       "      <th>77285</th>\n",
       "      <td>0.843086</td>\n",
       "      <td>0.857203</td>\n",
       "      <td>0.590735</td>\n",
       "      <td>1.119993</td>\n",
       "      <td>0.0</td>\n",
       "      <td>0.0</td>\n",
       "      <td>0.0</td>\n",
       "      <td>0.0</td>\n",
       "      <td>0.0</td>\n",
       "      <td>1.0</td>\n",
       "      <td>...</td>\n",
       "      <td>0.0</td>\n",
       "      <td>0.0</td>\n",
       "      <td>0.0</td>\n",
       "      <td>0.0</td>\n",
       "      <td>0.0</td>\n",
       "      <td>0.0</td>\n",
       "      <td>0.0</td>\n",
       "      <td>0.0</td>\n",
       "      <td>0.0</td>\n",
       "      <td>0.0</td>\n",
       "    </tr>\n",
       "    <tr>\n",
       "      <th>217570</th>\n",
       "      <td>-0.498093</td>\n",
       "      <td>-0.549301</td>\n",
       "      <td>0.590735</td>\n",
       "      <td>-1.646510</td>\n",
       "      <td>0.0</td>\n",
       "      <td>0.0</td>\n",
       "      <td>0.0</td>\n",
       "      <td>1.0</td>\n",
       "      <td>0.0</td>\n",
       "      <td>0.0</td>\n",
       "      <td>...</td>\n",
       "      <td>0.0</td>\n",
       "      <td>0.0</td>\n",
       "      <td>0.0</td>\n",
       "      <td>0.0</td>\n",
       "      <td>0.0</td>\n",
       "      <td>0.0</td>\n",
       "      <td>0.0</td>\n",
       "      <td>0.0</td>\n",
       "      <td>0.0</td>\n",
       "      <td>0.0</td>\n",
       "    </tr>\n",
       "  </tbody>\n",
       "</table>\n",
       "<p>158652 rows × 308 columns</p>\n",
       "</div>"
      ],
      "text/plain": [
       "        RegistrationYear     Power  Kilometer  RegistrationMonth  \\\n",
       "222829          0.097987 -0.092187  -0.094565           1.734771   \n",
       "39826           2.035245  0.206695   0.590735          -0.416953   \n",
       "85559           0.694066 -0.918508  -1.053986          -0.724342   \n",
       "174046          0.097987 -0.461394   0.590735          -1.031731   \n",
       "4500            1.886225 -1.076739  -0.094565          -1.339121   \n",
       "...                  ...       ...        ...                ...   \n",
       "158838          0.545046 -0.883345  -2.150466          -1.031731   \n",
       "47873           0.545046  1.929661   0.590735          -1.339121   \n",
       "86398          -0.498093 -1.076739   0.590735           1.119993   \n",
       "77285           0.843086  0.857203   0.590735           1.119993   \n",
       "217570         -0.498093 -0.549301   0.590735          -1.646510   \n",
       "\n",
       "        VehicleType_convertible  VehicleType_coupe  VehicleType_other  \\\n",
       "222829                      0.0                0.0                0.0   \n",
       "39826                       0.0                0.0                0.0   \n",
       "85559                       0.0                0.0                0.0   \n",
       "174046                      1.0                0.0                0.0   \n",
       "4500                        0.0                0.0                0.0   \n",
       "...                         ...                ...                ...   \n",
       "158838                      0.0                0.0                0.0   \n",
       "47873                       0.0                0.0                0.0   \n",
       "86398                       0.0                0.0                0.0   \n",
       "77285                       0.0                0.0                0.0   \n",
       "217570                      0.0                0.0                0.0   \n",
       "\n",
       "        VehicleType_sedan  VehicleType_small  VehicleType_suv  ...  \\\n",
       "222829                1.0                0.0              0.0  ...   \n",
       "39826                 0.0                0.0              0.0  ...   \n",
       "85559                 0.0                1.0              0.0  ...   \n",
       "174046                0.0                0.0              0.0  ...   \n",
       "4500                  0.0                0.0              0.0  ...   \n",
       "...                   ...                ...              ...  ...   \n",
       "158838                0.0                1.0              0.0  ...   \n",
       "47873                 0.0                0.0              0.0  ...   \n",
       "86398                 0.0                1.0              0.0  ...   \n",
       "77285                 0.0                0.0              1.0  ...   \n",
       "217570                1.0                0.0              0.0  ...   \n",
       "\n",
       "        Brand_skoda  Brand_smart  Brand_subaru  Brand_suzuki  Brand_toyota  \\\n",
       "222829          0.0          0.0           0.0           0.0           0.0   \n",
       "39826           0.0          0.0           0.0           0.0           0.0   \n",
       "85559           0.0          0.0           0.0           0.0           1.0   \n",
       "174046          0.0          0.0           0.0           0.0           0.0   \n",
       "4500            0.0          0.0           0.0           0.0           0.0   \n",
       "...             ...          ...           ...           ...           ...   \n",
       "158838          0.0          1.0           0.0           0.0           0.0   \n",
       "47873           0.0          0.0           0.0           0.0           0.0   \n",
       "86398           0.0          0.0           0.0           0.0           0.0   \n",
       "77285           0.0          0.0           0.0           0.0           0.0   \n",
       "217570          0.0          0.0           0.0           0.0           0.0   \n",
       "\n",
       "        Brand_trabant  Brand_volkswagen  Brand_volvo  Repaired_unknown  \\\n",
       "222829            0.0               0.0          0.0               0.0   \n",
       "39826             0.0               0.0          0.0               1.0   \n",
       "85559             0.0               0.0          0.0               0.0   \n",
       "174046            0.0               0.0          0.0               0.0   \n",
       "4500              0.0               0.0          0.0               0.0   \n",
       "...               ...               ...          ...               ...   \n",
       "158838            0.0               0.0          0.0               0.0   \n",
       "47873             0.0               0.0          0.0               0.0   \n",
       "86398             0.0               1.0          0.0               0.0   \n",
       "77285             0.0               0.0          0.0               0.0   \n",
       "217570            0.0               0.0          0.0               0.0   \n",
       "\n",
       "        Repaired_yes  \n",
       "222829           0.0  \n",
       "39826            0.0  \n",
       "85559            0.0  \n",
       "174046           0.0  \n",
       "4500             0.0  \n",
       "...              ...  \n",
       "158838           0.0  \n",
       "47873            0.0  \n",
       "86398            0.0  \n",
       "77285            0.0  \n",
       "217570           0.0  \n",
       "\n",
       "[158652 rows x 308 columns]"
      ]
     },
     "execution_count": 46,
     "metadata": {},
     "output_type": "execute_result"
    }
   ],
   "source": [
    "#Выделим категориальные столбцы в переменную\n",
    "categotical = ['VehicleType', 'Gearbox','Model','FuelType','Brand','Repaired']\n",
    "\n",
    "features_train_ohe = features_train.copy()\n",
    "\n",
    "# обучаем энкодер на заданных категориальных признаках тренировочной выборки\n",
    "# drop='first' удаляет первый признак из закодированных\n",
    "enc = OneHotEncoder(drop='first', handle_unknown='ignore', sparse=False)\n",
    "enc.fit(features_train_ohe[categotical])\n",
    "\n",
    "enc.transform(features_train_ohe[categotical])\n",
    "#enc.get_feature_names_out() позволяет получить названия колонок\n",
    "features_train_ohe[enc.get_feature_names_out()] = enc.transform(features_train_ohe[categotical])\n",
    "\n",
    "# удаляем незакодированные категориальные признаки (изначальные колонки)\n",
    "features_train_ohe = features_train_ohe.drop(categotical, axis=1)\n",
    "features_train_ohe"
   ]
  },
  {
   "cell_type": "code",
   "execution_count": 47,
   "metadata": {},
   "outputs": [],
   "source": [
    "features_valid_ohe = features_valid.copy()\n",
    "features_valid_ohe[enc.get_feature_names_out()] = enc.transform(features_valid_ohe[categotical])\n",
    "features_valid_ohe = features_valid_ohe.drop(categotical, axis=1)"
   ]
  },
  {
   "cell_type": "code",
   "execution_count": 48,
   "metadata": {},
   "outputs": [],
   "source": [
    "features_test_ohe = features_test.copy()\n",
    "features_test_ohe[enc.get_feature_names_out()] = enc.transform(features_test_ohe[categotical])\n",
    "features_test_ohe = features_test_ohe.drop(categotical, axis=1)"
   ]
  },
  {
   "cell_type": "code",
   "execution_count": 49,
   "metadata": {},
   "outputs": [
    {
     "data": {
      "text/html": [
       "<div>\n",
       "<style scoped>\n",
       "    .dataframe tbody tr th:only-of-type {\n",
       "        vertical-align: middle;\n",
       "    }\n",
       "\n",
       "    .dataframe tbody tr th {\n",
       "        vertical-align: top;\n",
       "    }\n",
       "\n",
       "    .dataframe thead th {\n",
       "        text-align: right;\n",
       "    }\n",
       "</style>\n",
       "<table border=\"1\" class=\"dataframe\">\n",
       "  <thead>\n",
       "    <tr style=\"text-align: right;\">\n",
       "      <th></th>\n",
       "      <th>RegistrationYear</th>\n",
       "      <th>Power</th>\n",
       "      <th>Kilometer</th>\n",
       "      <th>RegistrationMonth</th>\n",
       "      <th>VehicleType_convertible</th>\n",
       "      <th>VehicleType_coupe</th>\n",
       "      <th>VehicleType_other</th>\n",
       "      <th>VehicleType_sedan</th>\n",
       "      <th>VehicleType_small</th>\n",
       "      <th>VehicleType_suv</th>\n",
       "      <th>...</th>\n",
       "      <th>Brand_skoda</th>\n",
       "      <th>Brand_smart</th>\n",
       "      <th>Brand_subaru</th>\n",
       "      <th>Brand_suzuki</th>\n",
       "      <th>Brand_toyota</th>\n",
       "      <th>Brand_trabant</th>\n",
       "      <th>Brand_volkswagen</th>\n",
       "      <th>Brand_volvo</th>\n",
       "      <th>Repaired_unknown</th>\n",
       "      <th>Repaired_yes</th>\n",
       "    </tr>\n",
       "  </thead>\n",
       "  <tbody>\n",
       "    <tr>\n",
       "      <th>234025</th>\n",
       "      <td>-0.349073</td>\n",
       "      <td>-0.092187</td>\n",
       "      <td>0.590735</td>\n",
       "      <td>-1.031731</td>\n",
       "      <td>0.0</td>\n",
       "      <td>0.0</td>\n",
       "      <td>0.0</td>\n",
       "      <td>0.0</td>\n",
       "      <td>0.0</td>\n",
       "      <td>0.0</td>\n",
       "      <td>...</td>\n",
       "      <td>0.0</td>\n",
       "      <td>0.0</td>\n",
       "      <td>0.0</td>\n",
       "      <td>0.0</td>\n",
       "      <td>0.0</td>\n",
       "      <td>0.0</td>\n",
       "      <td>1.0</td>\n",
       "      <td>0.0</td>\n",
       "      <td>1.0</td>\n",
       "      <td>0.0</td>\n",
       "    </tr>\n",
       "    <tr>\n",
       "      <th>146347</th>\n",
       "      <td>0.694066</td>\n",
       "      <td>0.382508</td>\n",
       "      <td>-0.779866</td>\n",
       "      <td>1.119993</td>\n",
       "      <td>0.0</td>\n",
       "      <td>0.0</td>\n",
       "      <td>0.0</td>\n",
       "      <td>1.0</td>\n",
       "      <td>0.0</td>\n",
       "      <td>0.0</td>\n",
       "      <td>...</td>\n",
       "      <td>0.0</td>\n",
       "      <td>0.0</td>\n",
       "      <td>0.0</td>\n",
       "      <td>0.0</td>\n",
       "      <td>0.0</td>\n",
       "      <td>0.0</td>\n",
       "      <td>0.0</td>\n",
       "      <td>0.0</td>\n",
       "      <td>0.0</td>\n",
       "      <td>0.0</td>\n",
       "    </tr>\n",
       "    <tr>\n",
       "      <th>107137</th>\n",
       "      <td>0.247006</td>\n",
       "      <td>-0.092187</td>\n",
       "      <td>0.590735</td>\n",
       "      <td>-1.339121</td>\n",
       "      <td>0.0</td>\n",
       "      <td>0.0</td>\n",
       "      <td>0.0</td>\n",
       "      <td>0.0</td>\n",
       "      <td>0.0</td>\n",
       "      <td>0.0</td>\n",
       "      <td>...</td>\n",
       "      <td>0.0</td>\n",
       "      <td>0.0</td>\n",
       "      <td>0.0</td>\n",
       "      <td>0.0</td>\n",
       "      <td>0.0</td>\n",
       "      <td>0.0</td>\n",
       "      <td>0.0</td>\n",
       "      <td>0.0</td>\n",
       "      <td>0.0</td>\n",
       "      <td>0.0</td>\n",
       "    </tr>\n",
       "    <tr>\n",
       "      <th>25505</th>\n",
       "      <td>0.396026</td>\n",
       "      <td>-0.092187</td>\n",
       "      <td>0.590735</td>\n",
       "      <td>-1.031731</td>\n",
       "      <td>0.0</td>\n",
       "      <td>1.0</td>\n",
       "      <td>0.0</td>\n",
       "      <td>0.0</td>\n",
       "      <td>0.0</td>\n",
       "      <td>0.0</td>\n",
       "      <td>...</td>\n",
       "      <td>0.0</td>\n",
       "      <td>0.0</td>\n",
       "      <td>0.0</td>\n",
       "      <td>0.0</td>\n",
       "      <td>0.0</td>\n",
       "      <td>0.0</td>\n",
       "      <td>0.0</td>\n",
       "      <td>0.0</td>\n",
       "      <td>0.0</td>\n",
       "      <td>0.0</td>\n",
       "    </tr>\n",
       "    <tr>\n",
       "      <th>173182</th>\n",
       "      <td>0.545046</td>\n",
       "      <td>-0.725114</td>\n",
       "      <td>0.590735</td>\n",
       "      <td>-0.724342</td>\n",
       "      <td>0.0</td>\n",
       "      <td>0.0</td>\n",
       "      <td>0.0</td>\n",
       "      <td>0.0</td>\n",
       "      <td>0.0</td>\n",
       "      <td>0.0</td>\n",
       "      <td>...</td>\n",
       "      <td>1.0</td>\n",
       "      <td>0.0</td>\n",
       "      <td>0.0</td>\n",
       "      <td>0.0</td>\n",
       "      <td>0.0</td>\n",
       "      <td>0.0</td>\n",
       "      <td>0.0</td>\n",
       "      <td>0.0</td>\n",
       "      <td>0.0</td>\n",
       "      <td>0.0</td>\n",
       "    </tr>\n",
       "  </tbody>\n",
       "</table>\n",
       "<p>5 rows × 308 columns</p>\n",
       "</div>"
      ],
      "text/plain": [
       "        RegistrationYear     Power  Kilometer  RegistrationMonth  \\\n",
       "234025         -0.349073 -0.092187   0.590735          -1.031731   \n",
       "146347          0.694066  0.382508  -0.779866           1.119993   \n",
       "107137          0.247006 -0.092187   0.590735          -1.339121   \n",
       "25505           0.396026 -0.092187   0.590735          -1.031731   \n",
       "173182          0.545046 -0.725114   0.590735          -0.724342   \n",
       "\n",
       "        VehicleType_convertible  VehicleType_coupe  VehicleType_other  \\\n",
       "234025                      0.0                0.0                0.0   \n",
       "146347                      0.0                0.0                0.0   \n",
       "107137                      0.0                0.0                0.0   \n",
       "25505                       0.0                1.0                0.0   \n",
       "173182                      0.0                0.0                0.0   \n",
       "\n",
       "        VehicleType_sedan  VehicleType_small  VehicleType_suv  ...  \\\n",
       "234025                0.0                0.0              0.0  ...   \n",
       "146347                1.0                0.0              0.0  ...   \n",
       "107137                0.0                0.0              0.0  ...   \n",
       "25505                 0.0                0.0              0.0  ...   \n",
       "173182                0.0                0.0              0.0  ...   \n",
       "\n",
       "        Brand_skoda  Brand_smart  Brand_subaru  Brand_suzuki  Brand_toyota  \\\n",
       "234025          0.0          0.0           0.0           0.0           0.0   \n",
       "146347          0.0          0.0           0.0           0.0           0.0   \n",
       "107137          0.0          0.0           0.0           0.0           0.0   \n",
       "25505           0.0          0.0           0.0           0.0           0.0   \n",
       "173182          1.0          0.0           0.0           0.0           0.0   \n",
       "\n",
       "        Brand_trabant  Brand_volkswagen  Brand_volvo  Repaired_unknown  \\\n",
       "234025            0.0               1.0          0.0               1.0   \n",
       "146347            0.0               0.0          0.0               0.0   \n",
       "107137            0.0               0.0          0.0               0.0   \n",
       "25505             0.0               0.0          0.0               0.0   \n",
       "173182            0.0               0.0          0.0               0.0   \n",
       "\n",
       "        Repaired_yes  \n",
       "234025           0.0  \n",
       "146347           0.0  \n",
       "107137           0.0  \n",
       "25505            0.0  \n",
       "173182           0.0  \n",
       "\n",
       "[5 rows x 308 columns]"
      ]
     },
     "execution_count": 49,
     "metadata": {},
     "output_type": "execute_result"
    }
   ],
   "source": [
    "features_test_ohe.head()"
   ]
  },
  {
   "cell_type": "markdown",
   "metadata": {},
   "source": [
    "## Обучение моделей"
   ]
  },
  {
   "cell_type": "markdown",
   "metadata": {},
   "source": [
    "***LinearRegression***"
   ]
  },
  {
   "cell_type": "code",
   "execution_count": null,
   "metadata": {},
   "outputs": [],
   "source": [
    "%%time\n",
    "#Обучим модель и сделаем предсказания на валидационной выборке \n",
    "model1 = LinearRegression()\n",
    "model1.fit(features_train_ohe,target_train)"
   ]
  },
  {
   "cell_type": "code",
   "execution_count": null,
   "metadata": {},
   "outputs": [],
   "source": [
    "%%time\n",
    "predictions1_valid = model1.predict(features_valid_ohe)\n"
   ]
  },
  {
   "cell_type": "code",
   "execution_count": null,
   "metadata": {},
   "outputs": [],
   "source": [
    "rmse_LR = mean_squared_error(target_valid, predictions1_valid, squared= False)\n",
    "print(\"RMSE модели:\",rmse_LR)"
   ]
  },
  {
   "cell_type": "markdown",
   "metadata": {},
   "source": [
    "**Проведем кодирование категориадьных признаков техникой OrdinalEncoding**"
   ]
  },
  {
   "cell_type": "code",
   "execution_count": null,
   "metadata": {},
   "outputs": [],
   "source": [
    "features_train_oe = features_train.copy()\n",
    "features_valid_oe = features_valid.copy()\n",
    "features_test_oe = features_test.copy()"
   ]
  },
  {
   "cell_type": "code",
   "execution_count": null,
   "metadata": {},
   "outputs": [],
   "source": [
    "features_test_oe"
   ]
  },
  {
   "cell_type": "code",
   "execution_count": null,
   "metadata": {},
   "outputs": [],
   "source": [
    "encoder = OrdinalEncoder(handle_unknown='use_encoded_value', unknown_value=-1)\n",
    "encoder.fit(features_train_oe[categotical])\n",
    "\n",
    "features_train_oe[categotical] = encoder.transform(features_train_oe[categotical])\n",
    "features_valid_oe[categotical] = encoder.transform(features_valid_oe[categotical])                    \n",
    "features_test_oe[categotical] = encoder.transform(features_test_oe[categotical])"
   ]
  },
  {
   "cell_type": "code",
   "execution_count": null,
   "metadata": {},
   "outputs": [],
   "source": [
    "features_train_oe"
   ]
  },
  {
   "cell_type": "markdown",
   "metadata": {},
   "source": [
    "**RandomForestRegressor**"
   ]
  },
  {
   "cell_type": "code",
   "execution_count": 57,
   "metadata": {},
   "outputs": [
    {
     "name": "stdout",
     "output_type": "stream",
     "text": [
      "1847.207334207355\n",
      "RMSE модели 1847.207334207355 Количество деревьев: 90 Глубина дерева: 10\n",
      "CPU times: user 1min 9s, sys: 484 ms, total: 1min 10s\n",
      "Wall time: 1min 10s\n"
     ]
    }
   ],
   "source": [
    "%%time\n",
    "best_model_forest = None\n",
    "best_result_forest = 2500\n",
    "best_est_forest = 0\n",
    "best_depth_forest = 0\n",
    "for est in range(80,100,10):\n",
    "    for depth in range(5,11,5):\n",
    "        model_forest = RandomForestRegressor(random_state=12345, n_estimators=est, max_depth=depth)\n",
    "        model_forest.fit(features_train_oe,target_train)\n",
    "        predictions_valid_forest = model_forest.predict(features_valid_oe) \n",
    "        result_forest = mean_squared_error(target_valid, predictions_valid_forest, squared= False)\n",
    "        print(result_forest)\n",
    "        if result_forest < best_result_forest:           \n",
    "            best_model_forest = model_forest\n",
    "            best_result_forest = result_forest\n",
    "            best_est_forest = est\n",
    "            best_depth_forest = depth\n",
    "print(\"RMSE модели\", best_result_forest, \"Количество деревьев:\", best_est_forest, \"Глубина дерева:\",best_depth_forest)"
   ]
  },
  {
   "cell_type": "markdown",
   "metadata": {},
   "source": [
    "Обучим модель ***RandomForestRegressor***, которая показала наилучшие результаты"
   ]
  },
  {
   "cell_type": "code",
   "execution_count": 58,
   "metadata": {},
   "outputs": [
    {
     "name": "stdout",
     "output_type": "stream",
     "text": [
      "CPU times: user 24 s, sys: 123 ms, total: 24.1 s\n",
      "Wall time: 24.2 s\n"
     ]
    },
    {
     "data": {
      "text/html": [
       "<style>#sk-container-id-2 {color: black;background-color: white;}#sk-container-id-2 pre{padding: 0;}#sk-container-id-2 div.sk-toggleable {background-color: white;}#sk-container-id-2 label.sk-toggleable__label {cursor: pointer;display: block;width: 100%;margin-bottom: 0;padding: 0.3em;box-sizing: border-box;text-align: center;}#sk-container-id-2 label.sk-toggleable__label-arrow:before {content: \"▸\";float: left;margin-right: 0.25em;color: #696969;}#sk-container-id-2 label.sk-toggleable__label-arrow:hover:before {color: black;}#sk-container-id-2 div.sk-estimator:hover label.sk-toggleable__label-arrow:before {color: black;}#sk-container-id-2 div.sk-toggleable__content {max-height: 0;max-width: 0;overflow: hidden;text-align: left;background-color: #f0f8ff;}#sk-container-id-2 div.sk-toggleable__content pre {margin: 0.2em;color: black;border-radius: 0.25em;background-color: #f0f8ff;}#sk-container-id-2 input.sk-toggleable__control:checked~div.sk-toggleable__content {max-height: 200px;max-width: 100%;overflow: auto;}#sk-container-id-2 input.sk-toggleable__control:checked~label.sk-toggleable__label-arrow:before {content: \"▾\";}#sk-container-id-2 div.sk-estimator input.sk-toggleable__control:checked~label.sk-toggleable__label {background-color: #d4ebff;}#sk-container-id-2 div.sk-label input.sk-toggleable__control:checked~label.sk-toggleable__label {background-color: #d4ebff;}#sk-container-id-2 input.sk-hidden--visually {border: 0;clip: rect(1px 1px 1px 1px);clip: rect(1px, 1px, 1px, 1px);height: 1px;margin: -1px;overflow: hidden;padding: 0;position: absolute;width: 1px;}#sk-container-id-2 div.sk-estimator {font-family: monospace;background-color: #f0f8ff;border: 1px dotted black;border-radius: 0.25em;box-sizing: border-box;margin-bottom: 0.5em;}#sk-container-id-2 div.sk-estimator:hover {background-color: #d4ebff;}#sk-container-id-2 div.sk-parallel-item::after {content: \"\";width: 100%;border-bottom: 1px solid gray;flex-grow: 1;}#sk-container-id-2 div.sk-label:hover label.sk-toggleable__label {background-color: #d4ebff;}#sk-container-id-2 div.sk-serial::before {content: \"\";position: absolute;border-left: 1px solid gray;box-sizing: border-box;top: 0;bottom: 0;left: 50%;z-index: 0;}#sk-container-id-2 div.sk-serial {display: flex;flex-direction: column;align-items: center;background-color: white;padding-right: 0.2em;padding-left: 0.2em;position: relative;}#sk-container-id-2 div.sk-item {position: relative;z-index: 1;}#sk-container-id-2 div.sk-parallel {display: flex;align-items: stretch;justify-content: center;background-color: white;position: relative;}#sk-container-id-2 div.sk-item::before, #sk-container-id-2 div.sk-parallel-item::before {content: \"\";position: absolute;border-left: 1px solid gray;box-sizing: border-box;top: 0;bottom: 0;left: 50%;z-index: -1;}#sk-container-id-2 div.sk-parallel-item {display: flex;flex-direction: column;z-index: 1;position: relative;background-color: white;}#sk-container-id-2 div.sk-parallel-item:first-child::after {align-self: flex-end;width: 50%;}#sk-container-id-2 div.sk-parallel-item:last-child::after {align-self: flex-start;width: 50%;}#sk-container-id-2 div.sk-parallel-item:only-child::after {width: 0;}#sk-container-id-2 div.sk-dashed-wrapped {border: 1px dashed gray;margin: 0 0.4em 0.5em 0.4em;box-sizing: border-box;padding-bottom: 0.4em;background-color: white;}#sk-container-id-2 div.sk-label label {font-family: monospace;font-weight: bold;display: inline-block;line-height: 1.2em;}#sk-container-id-2 div.sk-label-container {text-align: center;}#sk-container-id-2 div.sk-container {/* jupyter's `normalize.less` sets `[hidden] { display: none; }` but bootstrap.min.css set `[hidden] { display: none !important; }` so we also need the `!important` here to be able to override the default hidden behavior on the sphinx rendered scikit-learn.org. See: https://github.com/scikit-learn/scikit-learn/issues/21755 */display: inline-block !important;position: relative;}#sk-container-id-2 div.sk-text-repr-fallback {display: none;}</style><div id=\"sk-container-id-2\" class=\"sk-top-container\"><div class=\"sk-text-repr-fallback\"><pre>RandomForestRegressor(max_depth=10, n_estimators=90, random_state=12345)</pre><b>In a Jupyter environment, please rerun this cell to show the HTML representation or trust the notebook. <br />On GitHub, the HTML representation is unable to render, please try loading this page with nbviewer.org.</b></div><div class=\"sk-container\" hidden><div class=\"sk-item\"><div class=\"sk-estimator sk-toggleable\"><input class=\"sk-toggleable__control sk-hidden--visually\" id=\"sk-estimator-id-2\" type=\"checkbox\" checked><label for=\"sk-estimator-id-2\" class=\"sk-toggleable__label sk-toggleable__label-arrow\">RandomForestRegressor</label><div class=\"sk-toggleable__content\"><pre>RandomForestRegressor(max_depth=10, n_estimators=90, random_state=12345)</pre></div></div></div></div></div>"
      ],
      "text/plain": [
       "RandomForestRegressor(max_depth=10, n_estimators=90, random_state=12345)"
      ]
     },
     "execution_count": 58,
     "metadata": {},
     "output_type": "execute_result"
    }
   ],
   "source": [
    "%%time\n",
    "model_forest_best = RandomForestRegressor(random_state=12345, n_estimators=90, max_depth=10)\n",
    "model_forest_best.fit(features_train_oe,target_train)"
   ]
  },
  {
   "cell_type": "code",
   "execution_count": 59,
   "metadata": {},
   "outputs": [
    {
     "name": "stdout",
     "output_type": "stream",
     "text": [
      "CPU times: user 435 ms, sys: 983 µs, total: 436 ms\n",
      "Wall time: 446 ms\n"
     ]
    }
   ],
   "source": [
    "%%time\n",
    "predictions = model_forest_best.predict(features_valid_oe) "
   ]
  },
  {
   "cell_type": "code",
   "execution_count": 60,
   "metadata": {},
   "outputs": [
    {
     "name": "stdout",
     "output_type": "stream",
     "text": [
      "1847.207334207355\n"
     ]
    }
   ],
   "source": [
    "rmse_forest = mean_squared_error(target_valid,predictions, squared= False)\n",
    "print(rmse_forest)"
   ]
  },
  {
   "cell_type": "markdown",
   "metadata": {},
   "source": [
    " **LightGBM**"
   ]
  },
  {
   "cell_type": "code",
   "execution_count": 61,
   "metadata": {},
   "outputs": [],
   "source": [
    "features_train_gbm = features_train.copy()\n",
    "features_valid_gbm = features_valid.copy()\n",
    "features_test_gbm = features_test.copy()"
   ]
  },
  {
   "cell_type": "code",
   "execution_count": 62,
   "metadata": {},
   "outputs": [],
   "source": [
    "features_train_gbm[categotical] = features_train_gbm[categotical].astype('category')\n",
    "features_valid_gbm[categotical] = features_valid_gbm[categotical].astype('category')\n",
    "features_test_gbm[categotical] = features_test_gbm[categotical].astype('category')"
   ]
  },
  {
   "cell_type": "code",
   "execution_count": 63,
   "metadata": {},
   "outputs": [
    {
     "data": {
      "text/html": [
       "<div>\n",
       "<style scoped>\n",
       "    .dataframe tbody tr th:only-of-type {\n",
       "        vertical-align: middle;\n",
       "    }\n",
       "\n",
       "    .dataframe tbody tr th {\n",
       "        vertical-align: top;\n",
       "    }\n",
       "\n",
       "    .dataframe thead th {\n",
       "        text-align: right;\n",
       "    }\n",
       "</style>\n",
       "<table border=\"1\" class=\"dataframe\">\n",
       "  <thead>\n",
       "    <tr style=\"text-align: right;\">\n",
       "      <th></th>\n",
       "      <th>VehicleType</th>\n",
       "      <th>RegistrationYear</th>\n",
       "      <th>Gearbox</th>\n",
       "      <th>Power</th>\n",
       "      <th>Model</th>\n",
       "      <th>Kilometer</th>\n",
       "      <th>RegistrationMonth</th>\n",
       "      <th>FuelType</th>\n",
       "      <th>Brand</th>\n",
       "      <th>Repaired</th>\n",
       "    </tr>\n",
       "  </thead>\n",
       "  <tbody>\n",
       "    <tr>\n",
       "      <th>222829</th>\n",
       "      <td>sedan</td>\n",
       "      <td>0.097987</td>\n",
       "      <td>manual</td>\n",
       "      <td>-0.092187</td>\n",
       "      <td>3er</td>\n",
       "      <td>-0.094565</td>\n",
       "      <td>1.734771</td>\n",
       "      <td>petrol</td>\n",
       "      <td>bmw</td>\n",
       "      <td>no</td>\n",
       "    </tr>\n",
       "    <tr>\n",
       "      <th>39826</th>\n",
       "      <td>unknown</td>\n",
       "      <td>2.035245</td>\n",
       "      <td>manual</td>\n",
       "      <td>0.206695</td>\n",
       "      <td>a3</td>\n",
       "      <td>0.590735</td>\n",
       "      <td>-0.416953</td>\n",
       "      <td>unknown</td>\n",
       "      <td>audi</td>\n",
       "      <td>unknown</td>\n",
       "    </tr>\n",
       "    <tr>\n",
       "      <th>85559</th>\n",
       "      <td>small</td>\n",
       "      <td>0.694066</td>\n",
       "      <td>manual</td>\n",
       "      <td>-0.918508</td>\n",
       "      <td>yaris</td>\n",
       "      <td>-1.053986</td>\n",
       "      <td>-0.724342</td>\n",
       "      <td>petrol</td>\n",
       "      <td>toyota</td>\n",
       "      <td>no</td>\n",
       "    </tr>\n",
       "    <tr>\n",
       "      <th>174046</th>\n",
       "      <td>convertible</td>\n",
       "      <td>0.097987</td>\n",
       "      <td>manual</td>\n",
       "      <td>-0.461394</td>\n",
       "      <td>other</td>\n",
       "      <td>0.590735</td>\n",
       "      <td>-1.031731</td>\n",
       "      <td>petrol</td>\n",
       "      <td>ford</td>\n",
       "      <td>no</td>\n",
       "    </tr>\n",
       "    <tr>\n",
       "      <th>4500</th>\n",
       "      <td>unknown</td>\n",
       "      <td>1.886225</td>\n",
       "      <td>manual</td>\n",
       "      <td>-1.076739</td>\n",
       "      <td>punto</td>\n",
       "      <td>-0.094565</td>\n",
       "      <td>-1.339121</td>\n",
       "      <td>petrol</td>\n",
       "      <td>fiat</td>\n",
       "      <td>no</td>\n",
       "    </tr>\n",
       "    <tr>\n",
       "      <th>...</th>\n",
       "      <td>...</td>\n",
       "      <td>...</td>\n",
       "      <td>...</td>\n",
       "      <td>...</td>\n",
       "      <td>...</td>\n",
       "      <td>...</td>\n",
       "      <td>...</td>\n",
       "      <td>...</td>\n",
       "      <td>...</td>\n",
       "      <td>...</td>\n",
       "    </tr>\n",
       "    <tr>\n",
       "      <th>158838</th>\n",
       "      <td>small</td>\n",
       "      <td>0.545046</td>\n",
       "      <td>auto</td>\n",
       "      <td>-0.883345</td>\n",
       "      <td>fortwo</td>\n",
       "      <td>-2.150466</td>\n",
       "      <td>-1.031731</td>\n",
       "      <td>petrol</td>\n",
       "      <td>smart</td>\n",
       "      <td>no</td>\n",
       "    </tr>\n",
       "    <tr>\n",
       "      <th>47873</th>\n",
       "      <td>wagon</td>\n",
       "      <td>0.545046</td>\n",
       "      <td>auto</td>\n",
       "      <td>1.929661</td>\n",
       "      <td>3er</td>\n",
       "      <td>0.590735</td>\n",
       "      <td>-1.339121</td>\n",
       "      <td>gasoline</td>\n",
       "      <td>bmw</td>\n",
       "      <td>no</td>\n",
       "    </tr>\n",
       "    <tr>\n",
       "      <th>86398</th>\n",
       "      <td>small</td>\n",
       "      <td>-0.498093</td>\n",
       "      <td>manual</td>\n",
       "      <td>-1.076739</td>\n",
       "      <td>polo</td>\n",
       "      <td>0.590735</td>\n",
       "      <td>1.119993</td>\n",
       "      <td>petrol</td>\n",
       "      <td>volkswagen</td>\n",
       "      <td>no</td>\n",
       "    </tr>\n",
       "    <tr>\n",
       "      <th>77285</th>\n",
       "      <td>suv</td>\n",
       "      <td>0.843086</td>\n",
       "      <td>auto</td>\n",
       "      <td>0.857203</td>\n",
       "      <td>q5</td>\n",
       "      <td>0.590735</td>\n",
       "      <td>1.119993</td>\n",
       "      <td>gasoline</td>\n",
       "      <td>audi</td>\n",
       "      <td>no</td>\n",
       "    </tr>\n",
       "    <tr>\n",
       "      <th>217570</th>\n",
       "      <td>sedan</td>\n",
       "      <td>-0.498093</td>\n",
       "      <td>auto</td>\n",
       "      <td>-0.549301</td>\n",
       "      <td>a_klasse</td>\n",
       "      <td>0.590735</td>\n",
       "      <td>-1.646510</td>\n",
       "      <td>gasoline</td>\n",
       "      <td>mercedes_benz</td>\n",
       "      <td>no</td>\n",
       "    </tr>\n",
       "  </tbody>\n",
       "</table>\n",
       "<p>158652 rows × 10 columns</p>\n",
       "</div>"
      ],
      "text/plain": [
       "        VehicleType  RegistrationYear Gearbox     Power     Model  Kilometer  \\\n",
       "222829        sedan          0.097987  manual -0.092187       3er  -0.094565   \n",
       "39826       unknown          2.035245  manual  0.206695        a3   0.590735   \n",
       "85559         small          0.694066  manual -0.918508     yaris  -1.053986   \n",
       "174046  convertible          0.097987  manual -0.461394     other   0.590735   \n",
       "4500        unknown          1.886225  manual -1.076739     punto  -0.094565   \n",
       "...             ...               ...     ...       ...       ...        ...   \n",
       "158838        small          0.545046    auto -0.883345    fortwo  -2.150466   \n",
       "47873         wagon          0.545046    auto  1.929661       3er   0.590735   \n",
       "86398         small         -0.498093  manual -1.076739      polo   0.590735   \n",
       "77285           suv          0.843086    auto  0.857203        q5   0.590735   \n",
       "217570        sedan         -0.498093    auto -0.549301  a_klasse   0.590735   \n",
       "\n",
       "        RegistrationMonth  FuelType          Brand Repaired  \n",
       "222829           1.734771    petrol            bmw       no  \n",
       "39826           -0.416953   unknown           audi  unknown  \n",
       "85559           -0.724342    petrol         toyota       no  \n",
       "174046          -1.031731    petrol           ford       no  \n",
       "4500            -1.339121    petrol           fiat       no  \n",
       "...                   ...       ...            ...      ...  \n",
       "158838          -1.031731    petrol          smart       no  \n",
       "47873           -1.339121  gasoline            bmw       no  \n",
       "86398            1.119993    petrol     volkswagen       no  \n",
       "77285            1.119993  gasoline           audi       no  \n",
       "217570          -1.646510  gasoline  mercedes_benz       no  \n",
       "\n",
       "[158652 rows x 10 columns]"
      ]
     },
     "execution_count": 63,
     "metadata": {},
     "output_type": "execute_result"
    }
   ],
   "source": [
    "features_train_gbm"
   ]
  },
  {
   "cell_type": "code",
   "execution_count": 64,
   "metadata": {},
   "outputs": [
    {
     "name": "stdout",
     "output_type": "stream",
     "text": [
      "<class 'pandas.core.frame.DataFrame'>\n",
      "Int64Index: 158652 entries, 222829 to 217570\n",
      "Data columns (total 10 columns):\n",
      " #   Column             Non-Null Count   Dtype   \n",
      "---  ------             --------------   -----   \n",
      " 0   VehicleType        158652 non-null  category\n",
      " 1   RegistrationYear   158652 non-null  float64 \n",
      " 2   Gearbox            158652 non-null  category\n",
      " 3   Power              158652 non-null  float64 \n",
      " 4   Model              158652 non-null  category\n",
      " 5   Kilometer          158652 non-null  float64 \n",
      " 6   RegistrationMonth  158652 non-null  float64 \n",
      " 7   FuelType           158652 non-null  category\n",
      " 8   Brand              158652 non-null  category\n",
      " 9   Repaired           158652 non-null  category\n",
      "dtypes: category(6), float64(4)\n",
      "memory usage: 7.1 MB\n"
     ]
    }
   ],
   "source": [
    "features_train_gbm.info()"
   ]
  },
  {
   "cell_type": "code",
   "execution_count": 65,
   "metadata": {},
   "outputs": [
    {
     "name": "stdout",
     "output_type": "stream",
     "text": [
      "CPU times: user 2min 49s, sys: 2 s, total: 2min 51s\n",
      "Wall time: 2min 52s\n"
     ]
    },
    {
     "data": {
      "text/html": [
       "<style>#sk-container-id-3 {color: black;background-color: white;}#sk-container-id-3 pre{padding: 0;}#sk-container-id-3 div.sk-toggleable {background-color: white;}#sk-container-id-3 label.sk-toggleable__label {cursor: pointer;display: block;width: 100%;margin-bottom: 0;padding: 0.3em;box-sizing: border-box;text-align: center;}#sk-container-id-3 label.sk-toggleable__label-arrow:before {content: \"▸\";float: left;margin-right: 0.25em;color: #696969;}#sk-container-id-3 label.sk-toggleable__label-arrow:hover:before {color: black;}#sk-container-id-3 div.sk-estimator:hover label.sk-toggleable__label-arrow:before {color: black;}#sk-container-id-3 div.sk-toggleable__content {max-height: 0;max-width: 0;overflow: hidden;text-align: left;background-color: #f0f8ff;}#sk-container-id-3 div.sk-toggleable__content pre {margin: 0.2em;color: black;border-radius: 0.25em;background-color: #f0f8ff;}#sk-container-id-3 input.sk-toggleable__control:checked~div.sk-toggleable__content {max-height: 200px;max-width: 100%;overflow: auto;}#sk-container-id-3 input.sk-toggleable__control:checked~label.sk-toggleable__label-arrow:before {content: \"▾\";}#sk-container-id-3 div.sk-estimator input.sk-toggleable__control:checked~label.sk-toggleable__label {background-color: #d4ebff;}#sk-container-id-3 div.sk-label input.sk-toggleable__control:checked~label.sk-toggleable__label {background-color: #d4ebff;}#sk-container-id-3 input.sk-hidden--visually {border: 0;clip: rect(1px 1px 1px 1px);clip: rect(1px, 1px, 1px, 1px);height: 1px;margin: -1px;overflow: hidden;padding: 0;position: absolute;width: 1px;}#sk-container-id-3 div.sk-estimator {font-family: monospace;background-color: #f0f8ff;border: 1px dotted black;border-radius: 0.25em;box-sizing: border-box;margin-bottom: 0.5em;}#sk-container-id-3 div.sk-estimator:hover {background-color: #d4ebff;}#sk-container-id-3 div.sk-parallel-item::after {content: \"\";width: 100%;border-bottom: 1px solid gray;flex-grow: 1;}#sk-container-id-3 div.sk-label:hover label.sk-toggleable__label {background-color: #d4ebff;}#sk-container-id-3 div.sk-serial::before {content: \"\";position: absolute;border-left: 1px solid gray;box-sizing: border-box;top: 0;bottom: 0;left: 50%;z-index: 0;}#sk-container-id-3 div.sk-serial {display: flex;flex-direction: column;align-items: center;background-color: white;padding-right: 0.2em;padding-left: 0.2em;position: relative;}#sk-container-id-3 div.sk-item {position: relative;z-index: 1;}#sk-container-id-3 div.sk-parallel {display: flex;align-items: stretch;justify-content: center;background-color: white;position: relative;}#sk-container-id-3 div.sk-item::before, #sk-container-id-3 div.sk-parallel-item::before {content: \"\";position: absolute;border-left: 1px solid gray;box-sizing: border-box;top: 0;bottom: 0;left: 50%;z-index: -1;}#sk-container-id-3 div.sk-parallel-item {display: flex;flex-direction: column;z-index: 1;position: relative;background-color: white;}#sk-container-id-3 div.sk-parallel-item:first-child::after {align-self: flex-end;width: 50%;}#sk-container-id-3 div.sk-parallel-item:last-child::after {align-self: flex-start;width: 50%;}#sk-container-id-3 div.sk-parallel-item:only-child::after {width: 0;}#sk-container-id-3 div.sk-dashed-wrapped {border: 1px dashed gray;margin: 0 0.4em 0.5em 0.4em;box-sizing: border-box;padding-bottom: 0.4em;background-color: white;}#sk-container-id-3 div.sk-label label {font-family: monospace;font-weight: bold;display: inline-block;line-height: 1.2em;}#sk-container-id-3 div.sk-label-container {text-align: center;}#sk-container-id-3 div.sk-container {/* jupyter's `normalize.less` sets `[hidden] { display: none; }` but bootstrap.min.css set `[hidden] { display: none !important; }` so we also need the `!important` here to be able to override the default hidden behavior on the sphinx rendered scikit-learn.org. See: https://github.com/scikit-learn/scikit-learn/issues/21755 */display: inline-block !important;position: relative;}#sk-container-id-3 div.sk-text-repr-fallback {display: none;}</style><div id=\"sk-container-id-3\" class=\"sk-top-container\"><div class=\"sk-text-repr-fallback\"><pre>LGBMRegressor(categorical_feature=[&#x27;VehicleType&#x27;, &#x27;Gearbox&#x27;, &#x27;Model&#x27;,\n",
       "                                   &#x27;FuelType&#x27;, &#x27;Brand&#x27;, &#x27;Repaired&#x27;],\n",
       "              learning_rate=0.3, num_leaves=20, random_state=12345)</pre><b>In a Jupyter environment, please rerun this cell to show the HTML representation or trust the notebook. <br />On GitHub, the HTML representation is unable to render, please try loading this page with nbviewer.org.</b></div><div class=\"sk-container\" hidden><div class=\"sk-item\"><div class=\"sk-estimator sk-toggleable\"><input class=\"sk-toggleable__control sk-hidden--visually\" id=\"sk-estimator-id-3\" type=\"checkbox\" checked><label for=\"sk-estimator-id-3\" class=\"sk-toggleable__label sk-toggleable__label-arrow\">LGBMRegressor</label><div class=\"sk-toggleable__content\"><pre>LGBMRegressor(categorical_feature=[&#x27;VehicleType&#x27;, &#x27;Gearbox&#x27;, &#x27;Model&#x27;,\n",
       "                                   &#x27;FuelType&#x27;, &#x27;Brand&#x27;, &#x27;Repaired&#x27;],\n",
       "              learning_rate=0.3, num_leaves=20, random_state=12345)</pre></div></div></div></div></div>"
      ],
      "text/plain": [
       "LGBMRegressor(categorical_feature=['VehicleType', 'Gearbox', 'Model',\n",
       "                                   'FuelType', 'Brand', 'Repaired'],\n",
       "              learning_rate=0.3, num_leaves=20, random_state=12345)"
      ]
     },
     "execution_count": 65,
     "metadata": {},
     "output_type": "execute_result"
    }
   ],
   "source": [
    "%%time\n",
    "\n",
    "model_lgbmr = LGBMRegressor(learning_rate=0.3, num_leaves=20, random_state=12345, categorical_feature=categotical)\n",
    "model_lgbmr.fit(features_train_gbm, target_train)"
   ]
  },
  {
   "cell_type": "code",
   "execution_count": 66,
   "metadata": {},
   "outputs": [
    {
     "name": "stdout",
     "output_type": "stream",
     "text": [
      "CPU times: user 411 ms, sys: 0 ns, total: 411 ms\n",
      "Wall time: 401 ms\n"
     ]
    }
   ],
   "source": [
    "%%time\n",
    "\n",
    "predictions_lgbmr = model_lgbmr.predict(features_valid_gbm)\n"
   ]
  },
  {
   "cell_type": "code",
   "execution_count": 67,
   "metadata": {},
   "outputs": [
    {
     "name": "stdout",
     "output_type": "stream",
     "text": [
      "RMSE: 1594.373753291449\n"
     ]
    }
   ],
   "source": [
    "rmse_lgbmr = mean_squared_error(target_valid, predictions_lgbmr,squared= False)\n",
    "print('RMSE:', rmse_lgbmr)"
   ]
  },
  {
   "cell_type": "markdown",
   "metadata": {},
   "source": [
    "**Поменяем гипперпараметры модели LightGBM**, установим learning_rate=0.1, num_leaves=30 и посмотрим как изменится качество"
   ]
  },
  {
   "cell_type": "code",
   "execution_count": null,
   "metadata": {},
   "outputs": [],
   "source": [
    "%%time\n",
    "\n",
    "model_lgbmr1 = LGBMRegressor(learning_rate=0.1, num_leaves=30, random_state=12345, categorical_feature=categotical)\n",
    "model_lgbmr1.fit(features_train_gbm, target_train)"
   ]
  },
  {
   "cell_type": "code",
   "execution_count": null,
   "metadata": {},
   "outputs": [],
   "source": [
    "%%time\n",
    "\n",
    "predictions_lgbmr1 = model_lgbmr1.predict(features_valid_gbm)\n"
   ]
  },
  {
   "cell_type": "code",
   "execution_count": null,
   "metadata": {},
   "outputs": [],
   "source": [
    "rmse_lgbmr1 = mean_squared_error(target_valid, predictions_lgbmr1,squared= False)\n",
    "print('RMSE:', rmse_lgbmr1)"
   ]
  },
  {
   "cell_type": "markdown",
   "metadata": {},
   "source": [
    "**CatBoostRegressor**"
   ]
  },
  {
   "cell_type": "code",
   "execution_count": null,
   "metadata": {},
   "outputs": [],
   "source": [
    "%%time\n",
    "model_cbr = CatBoostRegressor(learning_rate=0.1, random_state=12345, cat_features = categotical, verbose=False) \n",
    "model_cbr.fit(features_train_gbm, target_train)"
   ]
  },
  {
   "cell_type": "code",
   "execution_count": null,
   "metadata": {},
   "outputs": [],
   "source": [
    "%%time\n",
    "model_cbr_oe = CatBoostRegressor(learning_rate=0.1, random_state=12345, verbose=False) \n",
    "model_cbr_oe.fit(features_train_oe, target_train)"
   ]
  },
  {
   "cell_type": "code",
   "execution_count": null,
   "metadata": {},
   "outputs": [],
   "source": [
    "%%time\n",
    "\n",
    "predictions_cbr = model_cbr.predict(features_valid_gbm)\n"
   ]
  },
  {
   "cell_type": "code",
   "execution_count": null,
   "metadata": {},
   "outputs": [],
   "source": [
    "rmse_cbr = mean_squared_error(target_valid, predictions_cbr, squared=False)\n",
    "print('RMSE:', rmse_cbr)"
   ]
  },
  {
   "cell_type": "code",
   "execution_count": null,
   "metadata": {},
   "outputs": [],
   "source": [
    "%%time\n",
    "\n",
    "predictions_cbr_oe = model_cbr_oe.predict(features_valid_oe)\n"
   ]
  },
  {
   "cell_type": "code",
   "execution_count": null,
   "metadata": {},
   "outputs": [],
   "source": [
    "rmse_cbr_oe = mean_squared_error(target_valid, predictions_cbr_oe, squared=False)\n",
    "print('RMSE:', rmse_cbr_oe)"
   ]
  },
  {
   "cell_type": "markdown",
   "metadata": {},
   "source": [
    "## Анализ моделей"
   ]
  },
  {
   "cell_type": "markdown",
   "metadata": {},
   "source": [
    "Таким образом, лучшую метрику качества показала модель CatBoostRegressor, также она оптимальна по времени обучения и скорости предсказания.\n",
    "\n",
    "Проверим качество модели на тестовых данных."
   ]
  },
  {
   "cell_type": "code",
   "execution_count": null,
   "metadata": {},
   "outputs": [],
   "source": [
    "%%time\n",
    "\n",
    "predictions_cbr_test = model_cbr.predict(features_test_gbm)"
   ]
  },
  {
   "cell_type": "code",
   "execution_count": null,
   "metadata": {
    "scrolled": true
   },
   "outputs": [],
   "source": [
    "rmse_cbr_test = mean_squared_error(target_test, predictions_cbr_test, squared=False)\n",
    "print('RMSE:', rmse_cbr_test)"
   ]
  },
  {
   "cell_type": "markdown",
   "metadata": {},
   "source": [
    "Значение RMSE на тестовых данных не сильно изменилось, качество модели удовлетворяет нашим требованиям."
   ]
  },
  {
   "cell_type": "markdown",
   "metadata": {},
   "source": [
    "**Общий вывод**"
   ]
  },
  {
   "cell_type": "markdown",
   "metadata": {},
   "source": [
    "Необходимо было построить модель для определения стоимости автомобиля, с лушими показателями качества предсказания, скорости и врмени обучения. \n",
    "Мы использовали для обучения модели CatBoostRegressor, LightGBM, LinearRegression, RandomForestRegressor.\n",
    "\n",
    "По итогам качества и скорости обучения побеждает модель ***CatBoostRegressor***, рекомендуем данную модель для определения рыночной стоимости авотмобиля.\n"
   ]
  }
 ],
 "metadata": {
  "ExecuteTimeLog": [
   {
    "duration": 1551,
    "start_time": "2023-03-09T07:45:45.791Z"
   },
   {
    "duration": 1003,
    "start_time": "2023-03-09T07:45:47.344Z"
   },
   {
    "duration": 5,
    "start_time": "2023-03-09T09:51:45.480Z"
   },
   {
    "duration": 147,
    "start_time": "2023-03-09T09:51:58.909Z"
   },
   {
    "duration": 141,
    "start_time": "2023-03-09T09:54:06.550Z"
   },
   {
    "duration": 451,
    "start_time": "2023-03-09T09:54:14.006Z"
   },
   {
    "duration": 460,
    "start_time": "2023-03-09T09:59:13.990Z"
   },
   {
    "duration": 453,
    "start_time": "2023-03-09T09:59:23.551Z"
   },
   {
    "duration": 10,
    "start_time": "2023-03-09T09:59:55.642Z"
   },
   {
    "duration": 134,
    "start_time": "2023-03-09T10:00:01.448Z"
   },
   {
    "duration": 122,
    "start_time": "2023-03-09T10:03:29.878Z"
   },
   {
    "duration": 140,
    "start_time": "2023-03-09T10:04:00.157Z"
   },
   {
    "duration": 135,
    "start_time": "2023-03-09T10:04:07.609Z"
   },
   {
    "duration": 79,
    "start_time": "2023-03-09T10:37:55.407Z"
   },
   {
    "duration": 140,
    "start_time": "2023-03-09T10:38:07.114Z"
   },
   {
    "duration": 988,
    "start_time": "2023-03-09T10:56:16.651Z"
   },
   {
    "duration": 54,
    "start_time": "2023-03-09T10:56:26.469Z"
   },
   {
    "duration": 138,
    "start_time": "2023-03-09T10:56:36.151Z"
   },
   {
    "duration": 76,
    "start_time": "2023-03-09T10:57:18.737Z"
   },
   {
    "duration": 22,
    "start_time": "2023-03-09T11:08:40.850Z"
   },
   {
    "duration": 144,
    "start_time": "2023-03-09T11:08:52.269Z"
   },
   {
    "duration": 34,
    "start_time": "2023-03-09T11:27:05.468Z"
   },
   {
    "duration": 169,
    "start_time": "2023-03-09T11:27:49.722Z"
   },
   {
    "duration": 46689,
    "start_time": "2023-03-09T11:29:59.517Z"
   },
   {
    "duration": 593,
    "start_time": "2023-03-09T11:34:03.313Z"
   },
   {
    "duration": 14,
    "start_time": "2023-03-09T11:36:05.460Z"
   },
   {
    "duration": 16,
    "start_time": "2023-03-09T11:36:33.673Z"
   },
   {
    "duration": 11,
    "start_time": "2023-03-09T11:37:10.396Z"
   },
   {
    "duration": 13,
    "start_time": "2023-03-09T11:38:20.625Z"
   },
   {
    "duration": 18,
    "start_time": "2023-03-09T11:38:43.505Z"
   },
   {
    "duration": 15,
    "start_time": "2023-03-09T11:40:40.581Z"
   },
   {
    "duration": 10,
    "start_time": "2023-03-09T11:43:54.614Z"
   },
   {
    "duration": 27,
    "start_time": "2023-03-09T11:44:18.278Z"
   },
   {
    "duration": 37,
    "start_time": "2023-03-09T11:45:21.210Z"
   },
   {
    "duration": 562,
    "start_time": "2023-03-09T11:46:33.384Z"
   },
   {
    "duration": 52,
    "start_time": "2023-03-10T13:52:54.323Z"
   },
   {
    "duration": 1662,
    "start_time": "2023-03-10T13:53:00.444Z"
   },
   {
    "duration": 3295,
    "start_time": "2023-03-10T13:53:02.108Z"
   },
   {
    "duration": 4,
    "start_time": "2023-03-10T13:53:05.406Z"
   },
   {
    "duration": 122,
    "start_time": "2023-03-10T13:53:05.412Z"
   },
   {
    "duration": 420,
    "start_time": "2023-03-10T13:53:05.536Z"
   },
   {
    "duration": 483,
    "start_time": "2023-03-10T13:53:05.958Z"
   },
   {
    "duration": 443,
    "start_time": "2023-03-10T13:53:06.443Z"
   },
   {
    "duration": 108,
    "start_time": "2023-03-10T13:53:06.887Z"
   },
   {
    "duration": 87,
    "start_time": "2023-03-10T13:53:06.996Z"
   },
   {
    "duration": 87,
    "start_time": "2023-03-10T13:53:07.085Z"
   },
   {
    "duration": 41,
    "start_time": "2023-03-10T13:53:07.173Z"
   },
   {
    "duration": 109,
    "start_time": "2023-03-10T13:53:07.215Z"
   },
   {
    "duration": 108,
    "start_time": "2023-03-10T13:53:07.326Z"
   },
   {
    "duration": 34,
    "start_time": "2023-03-10T13:53:07.435Z"
   },
   {
    "duration": 92,
    "start_time": "2023-03-10T13:53:07.471Z"
   },
   {
    "duration": 646,
    "start_time": "2023-03-10T13:53:07.565Z"
   },
   {
    "duration": 108,
    "start_time": "2023-03-10T13:53:08.213Z"
   },
   {
    "duration": 95,
    "start_time": "2023-03-10T13:53:25.491Z"
   },
   {
    "duration": 27,
    "start_time": "2023-03-10T13:57:10.258Z"
   },
   {
    "duration": 183,
    "start_time": "2023-03-10T13:57:45.444Z"
   },
   {
    "duration": 96,
    "start_time": "2023-03-10T13:57:52.077Z"
   },
   {
    "duration": 1476,
    "start_time": "2023-03-10T13:58:07.336Z"
   },
   {
    "duration": 833,
    "start_time": "2023-03-10T13:58:08.815Z"
   },
   {
    "duration": 5,
    "start_time": "2023-03-10T13:58:09.650Z"
   },
   {
    "duration": 134,
    "start_time": "2023-03-10T13:58:09.657Z"
   },
   {
    "duration": 533,
    "start_time": "2023-03-10T13:58:09.793Z"
   },
   {
    "duration": 583,
    "start_time": "2023-03-10T13:58:10.327Z"
   },
   {
    "duration": 494,
    "start_time": "2023-03-10T13:58:10.911Z"
   },
   {
    "duration": 117,
    "start_time": "2023-03-10T13:58:11.407Z"
   },
   {
    "duration": 91,
    "start_time": "2023-03-10T13:58:11.526Z"
   },
   {
    "duration": 89,
    "start_time": "2023-03-10T13:58:11.620Z"
   },
   {
    "duration": 48,
    "start_time": "2023-03-10T13:58:11.711Z"
   },
   {
    "duration": 97,
    "start_time": "2023-03-10T13:58:11.760Z"
   },
   {
    "duration": 98,
    "start_time": "2023-03-10T13:58:11.859Z"
   },
   {
    "duration": 31,
    "start_time": "2023-03-10T13:58:11.959Z"
   },
   {
    "duration": 85,
    "start_time": "2023-03-10T13:58:11.992Z"
   },
   {
    "duration": 613,
    "start_time": "2023-03-10T13:58:12.078Z"
   },
   {
    "duration": 115,
    "start_time": "2023-03-10T13:58:12.692Z"
   },
   {
    "duration": 28,
    "start_time": "2023-03-10T13:58:12.809Z"
   },
   {
    "duration": 95,
    "start_time": "2023-03-10T14:01:22.886Z"
   },
   {
    "duration": 104,
    "start_time": "2023-03-10T14:01:31.367Z"
   },
   {
    "duration": 118,
    "start_time": "2023-03-10T14:03:03.817Z"
   },
   {
    "duration": 501,
    "start_time": "2023-03-10T14:04:12.515Z"
   },
   {
    "duration": 1704,
    "start_time": "2023-03-10T14:04:27.534Z"
   },
   {
    "duration": 304,
    "start_time": "2023-03-10T14:04:38.299Z"
   },
   {
    "duration": 386,
    "start_time": "2023-03-10T14:04:57.858Z"
   },
   {
    "duration": 1035,
    "start_time": "2023-03-10T14:05:16.959Z"
   },
   {
    "duration": 1131,
    "start_time": "2023-03-10T14:08:47.598Z"
   },
   {
    "duration": 104,
    "start_time": "2023-03-10T14:10:16.467Z"
   },
   {
    "duration": 28,
    "start_time": "2023-03-10T14:13:01.434Z"
   },
   {
    "duration": 96,
    "start_time": "2023-03-10T14:13:17.734Z"
   },
   {
    "duration": 93,
    "start_time": "2023-03-10T14:16:15.865Z"
   },
   {
    "duration": 509,
    "start_time": "2023-03-10T14:21:11.599Z"
   },
   {
    "duration": 362,
    "start_time": "2023-03-10T14:21:19.533Z"
   },
   {
    "duration": 1140,
    "start_time": "2023-03-10T14:21:29.700Z"
   },
   {
    "duration": 1611,
    "start_time": "2023-03-12T07:39:29.285Z"
   },
   {
    "duration": 2965,
    "start_time": "2023-03-12T07:39:30.898Z"
   },
   {
    "duration": 5,
    "start_time": "2023-03-12T07:39:33.866Z"
   },
   {
    "duration": 180,
    "start_time": "2023-03-12T07:39:33.873Z"
   },
   {
    "duration": 587,
    "start_time": "2023-03-12T07:39:34.056Z"
   },
   {
    "duration": 564,
    "start_time": "2023-03-12T07:39:34.645Z"
   },
   {
    "duration": 506,
    "start_time": "2023-03-12T07:39:35.211Z"
   },
   {
    "duration": 197,
    "start_time": "2023-03-12T07:39:35.719Z"
   },
   {
    "duration": 99,
    "start_time": "2023-03-12T07:39:35.917Z"
   },
   {
    "duration": 135,
    "start_time": "2023-03-12T07:39:36.019Z"
   },
   {
    "duration": 43,
    "start_time": "2023-03-12T07:39:36.156Z"
   },
   {
    "duration": 135,
    "start_time": "2023-03-12T07:39:36.200Z"
   },
   {
    "duration": 81,
    "start_time": "2023-03-12T07:39:36.341Z"
   },
   {
    "duration": 43,
    "start_time": "2023-03-12T07:39:36.426Z"
   },
   {
    "duration": 110,
    "start_time": "2023-03-12T07:39:36.470Z"
   },
   {
    "duration": 674,
    "start_time": "2023-03-12T07:39:36.582Z"
   },
   {
    "duration": 217,
    "start_time": "2023-03-12T07:39:37.257Z"
   },
   {
    "duration": 30,
    "start_time": "2023-03-12T07:39:37.477Z"
   },
   {
    "duration": 130,
    "start_time": "2023-03-12T07:39:37.509Z"
   },
   {
    "duration": 121,
    "start_time": "2023-03-12T07:39:37.641Z"
   },
   {
    "duration": 131,
    "start_time": "2023-03-12T07:39:37.764Z"
   },
   {
    "duration": 44,
    "start_time": "2023-03-12T07:39:37.897Z"
   },
   {
    "duration": 124,
    "start_time": "2023-03-12T07:39:37.943Z"
   },
   {
    "duration": 121,
    "start_time": "2023-03-12T07:39:38.069Z"
   },
   {
    "duration": 528,
    "start_time": "2023-03-12T07:40:37.979Z"
   },
   {
    "duration": 925,
    "start_time": "2023-03-12T07:40:47.281Z"
   },
   {
    "duration": 487,
    "start_time": "2023-03-12T07:40:55.162Z"
   },
   {
    "duration": 527,
    "start_time": "2023-03-12T07:41:06.553Z"
   },
   {
    "duration": 648,
    "start_time": "2023-03-12T07:41:16.540Z"
   },
   {
    "duration": 32,
    "start_time": "2023-03-12T07:43:08.034Z"
   },
   {
    "duration": 27,
    "start_time": "2023-03-12T07:52:32.381Z"
   },
   {
    "duration": 101,
    "start_time": "2023-03-12T07:52:32.948Z"
   },
   {
    "duration": 30,
    "start_time": "2023-03-12T07:53:15.856Z"
   },
   {
    "duration": 138,
    "start_time": "2023-03-12T07:53:19.755Z"
   },
   {
    "duration": 27,
    "start_time": "2023-03-12T07:53:26.082Z"
   },
   {
    "duration": 31,
    "start_time": "2023-03-12T07:53:34.567Z"
   },
   {
    "duration": 109,
    "start_time": "2023-03-12T07:53:38.684Z"
   },
   {
    "duration": 1256,
    "start_time": "2023-03-12T07:55:15.135Z"
   },
   {
    "duration": 15,
    "start_time": "2023-03-12T07:56:23.263Z"
   },
   {
    "duration": 17,
    "start_time": "2023-03-12T07:58:15.357Z"
   },
   {
    "duration": 82,
    "start_time": "2023-03-12T07:58:16.317Z"
   },
   {
    "duration": 1519,
    "start_time": "2023-03-12T07:58:45.764Z"
   },
   {
    "duration": 1017,
    "start_time": "2023-03-12T07:58:47.284Z"
   },
   {
    "duration": 4,
    "start_time": "2023-03-12T07:58:48.303Z"
   },
   {
    "duration": 154,
    "start_time": "2023-03-12T07:58:48.310Z"
   },
   {
    "duration": 510,
    "start_time": "2023-03-12T07:58:48.466Z"
   },
   {
    "duration": 525,
    "start_time": "2023-03-12T07:58:48.978Z"
   },
   {
    "duration": 482,
    "start_time": "2023-03-12T07:58:49.505Z"
   },
   {
    "duration": 139,
    "start_time": "2023-03-12T07:58:49.988Z"
   },
   {
    "duration": 120,
    "start_time": "2023-03-12T07:58:50.129Z"
   },
   {
    "duration": 121,
    "start_time": "2023-03-12T07:58:50.253Z"
   },
   {
    "duration": 57,
    "start_time": "2023-03-12T07:58:50.376Z"
   },
   {
    "duration": 133,
    "start_time": "2023-03-12T07:58:50.434Z"
   },
   {
    "duration": 96,
    "start_time": "2023-03-12T07:58:50.569Z"
   },
   {
    "duration": 27,
    "start_time": "2023-03-12T07:58:50.667Z"
   },
   {
    "duration": 93,
    "start_time": "2023-03-12T07:58:50.696Z"
   },
   {
    "duration": 642,
    "start_time": "2023-03-12T07:58:50.791Z"
   },
   {
    "duration": 130,
    "start_time": "2023-03-12T07:58:51.440Z"
   },
   {
    "duration": 25,
    "start_time": "2023-03-12T07:58:51.571Z"
   },
   {
    "duration": 120,
    "start_time": "2023-03-12T07:58:51.598Z"
   },
   {
    "duration": 126,
    "start_time": "2023-03-12T07:58:51.719Z"
   },
   {
    "duration": 126,
    "start_time": "2023-03-12T07:58:51.847Z"
   },
   {
    "duration": 25,
    "start_time": "2023-03-12T07:58:51.974Z"
   },
   {
    "duration": 126,
    "start_time": "2023-03-12T07:58:52.000Z"
   },
   {
    "duration": 161,
    "start_time": "2023-03-12T07:58:52.127Z"
   },
   {
    "duration": 678,
    "start_time": "2023-03-12T07:58:52.289Z"
   },
   {
    "duration": 24,
    "start_time": "2023-03-12T07:58:52.969Z"
   },
   {
    "duration": 113,
    "start_time": "2023-03-12T07:58:52.995Z"
   },
   {
    "duration": 12,
    "start_time": "2023-03-12T07:58:53.111Z"
   },
   {
    "duration": 12,
    "start_time": "2023-03-12T09:05:51.296Z"
   },
   {
    "duration": 17,
    "start_time": "2023-03-12T09:05:59.921Z"
   },
   {
    "duration": 26,
    "start_time": "2023-03-12T09:07:31.906Z"
   },
   {
    "duration": 99,
    "start_time": "2023-03-12T09:07:34.473Z"
   },
   {
    "duration": 28,
    "start_time": "2023-03-12T09:07:40.220Z"
   },
   {
    "duration": 89,
    "start_time": "2023-03-12T09:07:41.307Z"
   },
   {
    "duration": 22,
    "start_time": "2023-03-12T09:07:49.022Z"
   },
   {
    "duration": 22,
    "start_time": "2023-03-12T09:08:06.372Z"
   },
   {
    "duration": 105,
    "start_time": "2023-03-12T09:08:07.024Z"
   },
   {
    "duration": 20,
    "start_time": "2023-03-12T09:08:08.283Z"
   },
   {
    "duration": 112,
    "start_time": "2023-03-12T09:10:31.526Z"
   },
   {
    "duration": 79,
    "start_time": "2023-03-12T09:11:33.862Z"
   },
   {
    "duration": 17,
    "start_time": "2023-03-12T09:18:20.005Z"
   },
   {
    "duration": 103,
    "start_time": "2023-03-12T09:18:35.221Z"
   },
   {
    "duration": 133,
    "start_time": "2023-03-12T09:20:33.662Z"
   },
   {
    "duration": 4,
    "start_time": "2023-03-12T09:21:24.878Z"
   },
   {
    "duration": 16,
    "start_time": "2023-03-12T09:29:14.206Z"
   },
   {
    "duration": 27,
    "start_time": "2023-03-12T09:29:43.928Z"
   },
   {
    "duration": 30,
    "start_time": "2023-03-12T09:29:59.985Z"
   },
   {
    "duration": 10,
    "start_time": "2023-03-12T09:31:54.570Z"
   },
   {
    "duration": 36,
    "start_time": "2023-03-12T09:32:01.300Z"
   },
   {
    "duration": 96,
    "start_time": "2023-03-12T09:32:44.319Z"
   },
   {
    "duration": 5,
    "start_time": "2023-03-12T09:33:28.417Z"
   },
   {
    "duration": 4,
    "start_time": "2023-03-12T09:33:41.603Z"
   },
   {
    "duration": 6,
    "start_time": "2023-03-12T09:33:52.968Z"
   },
   {
    "duration": 37,
    "start_time": "2023-03-12T09:35:03.718Z"
   },
   {
    "duration": 90,
    "start_time": "2023-03-12T09:35:33.112Z"
   },
   {
    "duration": 5,
    "start_time": "2023-03-12T10:23:43.693Z"
   },
   {
    "duration": 1551,
    "start_time": "2023-03-12T10:24:38.706Z"
   },
   {
    "duration": 895,
    "start_time": "2023-03-12T10:24:40.259Z"
   },
   {
    "duration": 4,
    "start_time": "2023-03-12T10:24:41.156Z"
   },
   {
    "duration": 146,
    "start_time": "2023-03-12T10:24:41.163Z"
   },
   {
    "duration": 487,
    "start_time": "2023-03-12T10:24:41.311Z"
   },
   {
    "duration": 584,
    "start_time": "2023-03-12T10:24:41.800Z"
   },
   {
    "duration": 504,
    "start_time": "2023-03-12T10:24:42.386Z"
   },
   {
    "duration": 154,
    "start_time": "2023-03-12T10:24:42.892Z"
   },
   {
    "duration": 108,
    "start_time": "2023-03-12T10:24:43.047Z"
   },
   {
    "duration": 118,
    "start_time": "2023-03-12T10:24:43.157Z"
   },
   {
    "duration": 51,
    "start_time": "2023-03-12T10:24:43.277Z"
   },
   {
    "duration": 120,
    "start_time": "2023-03-12T10:24:43.341Z"
   },
   {
    "duration": 97,
    "start_time": "2023-03-12T10:24:43.463Z"
   },
   {
    "duration": 25,
    "start_time": "2023-03-12T10:24:43.561Z"
   },
   {
    "duration": 100,
    "start_time": "2023-03-12T10:24:43.588Z"
   },
   {
    "duration": 630,
    "start_time": "2023-03-12T10:24:43.689Z"
   },
   {
    "duration": 117,
    "start_time": "2023-03-12T10:24:44.321Z"
   },
   {
    "duration": 23,
    "start_time": "2023-03-12T10:24:44.441Z"
   },
   {
    "duration": 110,
    "start_time": "2023-03-12T10:24:44.466Z"
   },
   {
    "duration": 104,
    "start_time": "2023-03-12T10:24:44.577Z"
   },
   {
    "duration": 104,
    "start_time": "2023-03-12T10:24:44.683Z"
   },
   {
    "duration": 27,
    "start_time": "2023-03-12T10:24:44.789Z"
   },
   {
    "duration": 110,
    "start_time": "2023-03-12T10:24:44.817Z"
   },
   {
    "duration": 119,
    "start_time": "2023-03-12T10:24:44.929Z"
   },
   {
    "duration": 691,
    "start_time": "2023-03-12T10:24:45.050Z"
   },
   {
    "duration": 23,
    "start_time": "2023-03-12T10:24:45.743Z"
   },
   {
    "duration": 103,
    "start_time": "2023-03-12T10:24:45.768Z"
   },
   {
    "duration": 99,
    "start_time": "2023-03-12T10:24:45.874Z"
   },
   {
    "duration": 13,
    "start_time": "2023-03-12T10:24:45.975Z"
   },
   {
    "duration": 111,
    "start_time": "2023-03-12T10:24:45.990Z"
   },
   {
    "duration": 80,
    "start_time": "2023-03-12T10:24:46.102Z"
   },
   {
    "duration": 13,
    "start_time": "2023-03-12T10:24:46.184Z"
   },
   {
    "duration": 19,
    "start_time": "2023-03-12T10:24:46.199Z"
   },
   {
    "duration": 85,
    "start_time": "2023-03-12T10:24:46.242Z"
   },
   {
    "duration": 5,
    "start_time": "2023-03-12T10:24:46.340Z"
   },
   {
    "duration": 8,
    "start_time": "2023-03-12T10:24:46.347Z"
   },
   {
    "duration": 13,
    "start_time": "2023-03-12T10:24:46.356Z"
   },
   {
    "duration": 25,
    "start_time": "2023-03-12T10:24:46.371Z"
   },
   {
    "duration": 136,
    "start_time": "2023-03-12T10:28:22.239Z"
   },
   {
    "duration": 579,
    "start_time": "2023-03-12T10:30:22.605Z"
   },
   {
    "duration": 7300,
    "start_time": "2023-03-12T10:37:42.956Z"
   },
   {
    "duration": 1339,
    "start_time": "2023-03-12T10:37:50.259Z"
   },
   {
    "duration": 935,
    "start_time": "2023-03-12T10:37:51.600Z"
   },
   {
    "duration": 5,
    "start_time": "2023-03-12T10:37:52.540Z"
   },
   {
    "duration": 156,
    "start_time": "2023-03-12T10:37:52.546Z"
   },
   {
    "duration": 508,
    "start_time": "2023-03-12T10:37:52.704Z"
   },
   {
    "duration": 509,
    "start_time": "2023-03-12T10:37:53.214Z"
   },
   {
    "duration": 449,
    "start_time": "2023-03-12T10:37:53.725Z"
   },
   {
    "duration": 135,
    "start_time": "2023-03-12T10:37:54.176Z"
   },
   {
    "duration": 93,
    "start_time": "2023-03-12T10:37:54.314Z"
   },
   {
    "duration": 118,
    "start_time": "2023-03-12T10:37:54.409Z"
   },
   {
    "duration": 53,
    "start_time": "2023-03-12T10:37:54.529Z"
   },
   {
    "duration": 133,
    "start_time": "2023-03-12T10:37:54.585Z"
   },
   {
    "duration": 98,
    "start_time": "2023-03-12T10:37:54.720Z"
   },
   {
    "duration": 36,
    "start_time": "2023-03-12T10:37:54.819Z"
   },
   {
    "duration": 92,
    "start_time": "2023-03-12T10:37:54.856Z"
   },
   {
    "duration": 576,
    "start_time": "2023-03-12T10:37:54.950Z"
   },
   {
    "duration": 121,
    "start_time": "2023-03-12T10:37:55.527Z"
   },
   {
    "duration": 24,
    "start_time": "2023-03-12T10:37:55.650Z"
   },
   {
    "duration": 110,
    "start_time": "2023-03-12T10:37:55.675Z"
   },
   {
    "duration": 108,
    "start_time": "2023-03-12T10:37:55.787Z"
   },
   {
    "duration": 109,
    "start_time": "2023-03-12T10:37:55.896Z"
   },
   {
    "duration": 36,
    "start_time": "2023-03-12T10:37:56.007Z"
   },
   {
    "duration": 97,
    "start_time": "2023-03-12T10:37:56.045Z"
   },
   {
    "duration": 101,
    "start_time": "2023-03-12T10:37:56.143Z"
   },
   {
    "duration": 772,
    "start_time": "2023-03-12T10:37:56.245Z"
   },
   {
    "duration": 38,
    "start_time": "2023-03-12T10:37:57.019Z"
   },
   {
    "duration": 104,
    "start_time": "2023-03-12T10:37:57.061Z"
   },
   {
    "duration": 102,
    "start_time": "2023-03-12T10:37:57.166Z"
   },
   {
    "duration": 14,
    "start_time": "2023-03-12T10:37:57.270Z"
   },
   {
    "duration": 137,
    "start_time": "2023-03-12T10:37:57.286Z"
   },
   {
    "duration": 108,
    "start_time": "2023-03-12T10:37:57.425Z"
   },
   {
    "duration": 14,
    "start_time": "2023-03-12T10:37:57.541Z"
   },
   {
    "duration": 25,
    "start_time": "2023-03-12T10:37:57.558Z"
   },
   {
    "duration": 139,
    "start_time": "2023-03-12T10:37:57.585Z"
   },
   {
    "duration": 4,
    "start_time": "2023-03-12T10:37:57.726Z"
   },
   {
    "duration": 13,
    "start_time": "2023-03-12T10:37:57.732Z"
   },
   {
    "duration": 7,
    "start_time": "2023-03-12T10:37:57.748Z"
   },
   {
    "duration": 27,
    "start_time": "2023-03-12T10:37:57.757Z"
   },
   {
    "duration": 887,
    "start_time": "2023-03-12T10:37:57.786Z"
   },
   {
    "duration": 993,
    "start_time": "2023-03-12T10:38:23.270Z"
   },
   {
    "duration": 608,
    "start_time": "2023-03-12T10:39:02.805Z"
   },
   {
    "duration": 593,
    "start_time": "2023-03-12T10:43:09.937Z"
   },
   {
    "duration": 1127,
    "start_time": "2023-03-12T10:48:35.379Z"
   },
   {
    "duration": 1138,
    "start_time": "2023-03-12T10:49:12.410Z"
   },
   {
    "duration": 46184,
    "start_time": "2023-03-12T10:51:47.593Z"
   },
   {
    "duration": 16055,
    "start_time": "2023-03-12T10:54:52.512Z"
   },
   {
    "duration": 13882,
    "start_time": "2023-03-12T10:55:12.059Z"
   },
   {
    "duration": 11,
    "start_time": "2023-03-12T10:59:05.407Z"
   },
   {
    "duration": 4,
    "start_time": "2023-03-12T10:59:38.326Z"
   },
   {
    "duration": 15,
    "start_time": "2023-03-12T10:59:47.465Z"
   },
   {
    "duration": 3,
    "start_time": "2023-03-12T10:59:55.495Z"
   },
   {
    "duration": 172,
    "start_time": "2023-03-12T10:59:55.999Z"
   },
   {
    "duration": 80,
    "start_time": "2023-03-12T11:06:21.094Z"
   },
   {
    "duration": 5,
    "start_time": "2023-03-12T11:08:05.173Z"
   },
   {
    "duration": 27912,
    "start_time": "2023-03-12T11:08:13.575Z"
   },
   {
    "duration": 224,
    "start_time": "2023-03-12T11:09:02.219Z"
   },
   {
    "duration": 6,
    "start_time": "2023-03-12T11:09:06.435Z"
   },
   {
    "duration": 206129,
    "start_time": "2023-03-12T11:27:16.899Z"
   },
   {
    "duration": 236135,
    "start_time": "2023-03-12T11:52:18.498Z"
   },
   {
    "duration": 635453,
    "start_time": "2023-03-12T11:57:00.262Z"
   },
   {
    "duration": 86,
    "start_time": "2023-03-12T12:13:20.730Z"
   },
   {
    "duration": 213150,
    "start_time": "2023-03-12T12:13:38.442Z"
   },
   {
    "duration": 100,
    "start_time": "2023-03-12T12:17:25.811Z"
   },
   {
    "duration": 652,
    "start_time": "2023-03-12T12:17:41.321Z"
   },
   {
    "duration": 4,
    "start_time": "2023-03-12T12:17:46.424Z"
   },
   {
    "duration": 520944,
    "start_time": "2023-03-12T12:42:10.705Z"
   },
   {
    "duration": 1412,
    "start_time": "2023-03-12T12:51:08.451Z"
   },
   {
    "duration": 35,
    "start_time": "2023-03-12T12:51:12.967Z"
   },
   {
    "duration": 2327,
    "start_time": "2023-03-12T15:18:07.144Z"
   },
   {
    "duration": 2785,
    "start_time": "2023-03-12T15:18:09.473Z"
   },
   {
    "duration": 2949,
    "start_time": "2023-03-12T15:18:12.260Z"
   },
   {
    "duration": 4,
    "start_time": "2023-03-12T15:18:15.211Z"
   },
   {
    "duration": 159,
    "start_time": "2023-03-12T15:18:15.217Z"
   },
   {
    "duration": 525,
    "start_time": "2023-03-12T15:18:15.377Z"
   },
   {
    "duration": 559,
    "start_time": "2023-03-12T15:18:15.904Z"
   },
   {
    "duration": 496,
    "start_time": "2023-03-12T15:18:16.464Z"
   },
   {
    "duration": 141,
    "start_time": "2023-03-12T15:18:16.962Z"
   },
   {
    "duration": 105,
    "start_time": "2023-03-12T15:18:17.105Z"
   },
   {
    "duration": 120,
    "start_time": "2023-03-12T15:18:17.212Z"
   },
   {
    "duration": 50,
    "start_time": "2023-03-12T15:18:17.341Z"
   },
   {
    "duration": 135,
    "start_time": "2023-03-12T15:18:17.393Z"
   },
   {
    "duration": 129,
    "start_time": "2023-03-12T15:18:17.530Z"
   },
   {
    "duration": 34,
    "start_time": "2023-03-12T15:18:17.661Z"
   },
   {
    "duration": 127,
    "start_time": "2023-03-12T15:18:17.698Z"
   },
   {
    "duration": 604,
    "start_time": "2023-03-12T15:18:17.827Z"
   },
   {
    "duration": 115,
    "start_time": "2023-03-12T15:18:18.433Z"
   },
   {
    "duration": 25,
    "start_time": "2023-03-12T15:18:18.550Z"
   },
   {
    "duration": 118,
    "start_time": "2023-03-12T15:18:18.577Z"
   },
   {
    "duration": 106,
    "start_time": "2023-03-12T15:18:18.697Z"
   },
   {
    "duration": 113,
    "start_time": "2023-03-12T15:18:18.805Z"
   },
   {
    "duration": 38,
    "start_time": "2023-03-12T15:18:18.920Z"
   },
   {
    "duration": 103,
    "start_time": "2023-03-12T15:18:18.959Z"
   },
   {
    "duration": 107,
    "start_time": "2023-03-12T15:18:19.064Z"
   },
   {
    "duration": 737,
    "start_time": "2023-03-12T15:18:19.173Z"
   },
   {
    "duration": 31,
    "start_time": "2023-03-12T15:18:19.913Z"
   },
   {
    "duration": 109,
    "start_time": "2023-03-12T15:18:19.948Z"
   },
   {
    "duration": 97,
    "start_time": "2023-03-12T15:18:20.059Z"
   },
   {
    "duration": 15,
    "start_time": "2023-03-12T15:18:20.157Z"
   },
   {
    "duration": 119,
    "start_time": "2023-03-12T15:18:20.174Z"
   },
   {
    "duration": 85,
    "start_time": "2023-03-12T15:18:20.294Z"
   },
   {
    "duration": 12,
    "start_time": "2023-03-12T15:18:20.381Z"
   },
   {
    "duration": 21,
    "start_time": "2023-03-12T15:18:20.395Z"
   },
   {
    "duration": 110,
    "start_time": "2023-03-12T15:18:20.417Z"
   },
   {
    "duration": 4,
    "start_time": "2023-03-12T15:18:20.529Z"
   },
   {
    "duration": 5,
    "start_time": "2023-03-12T15:18:20.541Z"
   },
   {
    "duration": 5,
    "start_time": "2023-03-12T15:18:20.547Z"
   },
   {
    "duration": 32,
    "start_time": "2023-03-12T15:18:20.554Z"
   },
   {
    "duration": 50299,
    "start_time": "2023-03-12T15:18:20.588Z"
   },
   {
    "duration": 16676,
    "start_time": "2023-03-12T15:19:10.889Z"
   },
   {
    "duration": 16974,
    "start_time": "2023-03-12T15:19:27.567Z"
   },
   {
    "duration": 2,
    "start_time": "2023-03-12T15:19:44.543Z"
   },
   {
    "duration": 182,
    "start_time": "2023-03-12T15:19:44.547Z"
   },
   {
    "duration": 23739,
    "start_time": "2023-03-12T15:19:44.731Z"
   },
   {
    "duration": 275,
    "start_time": "2023-03-12T15:20:08.472Z"
   },
   {
    "duration": 92,
    "start_time": "2023-03-12T15:20:08.750Z"
   },
   {
    "duration": 598038,
    "start_time": "2023-03-12T15:20:08.844Z"
   },
   {
    "duration": 205819,
    "start_time": "2023-03-12T15:30:06.884Z"
   },
   {
    "duration": 664,
    "start_time": "2023-03-12T15:33:32.705Z"
   },
   {
    "duration": 4,
    "start_time": "2023-03-12T15:33:33.371Z"
   },
   {
    "duration": 213,
    "start_time": "2023-03-12T15:33:33.377Z"
   },
   {
    "duration": 3,
    "start_time": "2023-03-12T15:33:33.591Z"
   },
   {
    "duration": 6,
    "start_time": "2023-03-12T15:33:33.596Z"
   },
   {
    "duration": 5,
    "start_time": "2023-03-12T15:33:33.603Z"
   },
   {
    "duration": 7,
    "start_time": "2023-03-12T15:35:10.147Z"
   },
   {
    "duration": 2790,
    "start_time": "2023-03-12T15:57:13.585Z"
   },
   {
    "duration": 2014,
    "start_time": "2023-03-12T15:57:16.378Z"
   },
   {
    "duration": 1198,
    "start_time": "2023-03-12T15:57:18.395Z"
   },
   {
    "duration": 4,
    "start_time": "2023-03-12T15:57:19.595Z"
   },
   {
    "duration": 405,
    "start_time": "2023-03-12T15:57:19.601Z"
   },
   {
    "duration": 589,
    "start_time": "2023-03-12T15:57:20.008Z"
   },
   {
    "duration": 646,
    "start_time": "2023-03-12T15:57:20.599Z"
   },
   {
    "duration": 723,
    "start_time": "2023-03-12T15:57:21.251Z"
   },
   {
    "duration": 238,
    "start_time": "2023-03-12T15:57:21.976Z"
   },
   {
    "duration": 118,
    "start_time": "2023-03-12T15:57:22.217Z"
   },
   {
    "duration": 178,
    "start_time": "2023-03-12T15:57:22.337Z"
   },
   {
    "duration": 75,
    "start_time": "2023-03-12T15:57:22.518Z"
   },
   {
    "duration": 174,
    "start_time": "2023-03-12T15:57:22.594Z"
   },
   {
    "duration": 114,
    "start_time": "2023-03-12T15:57:22.771Z"
   },
   {
    "duration": 32,
    "start_time": "2023-03-12T15:57:22.887Z"
   },
   {
    "duration": 165,
    "start_time": "2023-03-12T15:57:22.921Z"
   },
   {
    "duration": 752,
    "start_time": "2023-03-12T15:57:23.088Z"
   },
   {
    "duration": 161,
    "start_time": "2023-03-12T15:57:23.842Z"
   },
   {
    "duration": 30,
    "start_time": "2023-03-12T15:57:24.005Z"
   },
   {
    "duration": 143,
    "start_time": "2023-03-12T15:57:24.039Z"
   },
   {
    "duration": 174,
    "start_time": "2023-03-12T15:57:24.188Z"
   },
   {
    "duration": 140,
    "start_time": "2023-03-12T15:57:24.365Z"
   },
   {
    "duration": 43,
    "start_time": "2023-03-12T15:57:24.509Z"
   },
   {
    "duration": 115,
    "start_time": "2023-03-12T15:57:24.557Z"
   },
   {
    "duration": 129,
    "start_time": "2023-03-12T15:57:24.675Z"
   },
   {
    "duration": 949,
    "start_time": "2023-03-12T15:57:24.807Z"
   },
   {
    "duration": 29,
    "start_time": "2023-03-12T15:57:25.766Z"
   },
   {
    "duration": 126,
    "start_time": "2023-03-12T15:57:25.800Z"
   },
   {
    "duration": 110,
    "start_time": "2023-03-12T15:57:25.928Z"
   },
   {
    "duration": 38,
    "start_time": "2023-03-12T15:57:26.039Z"
   },
   {
    "duration": 140,
    "start_time": "2023-03-12T15:57:26.079Z"
   },
   {
    "duration": 109,
    "start_time": "2023-03-12T15:57:26.221Z"
   },
   {
    "duration": 37,
    "start_time": "2023-03-12T15:57:26.332Z"
   },
   {
    "duration": 22,
    "start_time": "2023-03-12T15:57:26.372Z"
   },
   {
    "duration": 111,
    "start_time": "2023-03-12T15:57:26.396Z"
   },
   {
    "duration": 6,
    "start_time": "2023-03-12T15:57:26.509Z"
   },
   {
    "duration": 7,
    "start_time": "2023-03-12T15:57:26.517Z"
   },
   {
    "duration": 18,
    "start_time": "2023-03-12T15:57:26.526Z"
   },
   {
    "duration": 34,
    "start_time": "2023-03-12T15:57:26.547Z"
   },
   {
    "duration": 57003,
    "start_time": "2023-03-12T15:57:26.586Z"
   },
   {
    "duration": 19022,
    "start_time": "2023-03-12T15:58:23.591Z"
   },
   {
    "duration": 17640,
    "start_time": "2023-03-12T15:58:42.615Z"
   },
   {
    "duration": 3,
    "start_time": "2023-03-12T15:59:00.258Z"
   },
   {
    "duration": 234,
    "start_time": "2023-03-12T15:59:00.264Z"
   },
   {
    "duration": 53955,
    "start_time": "2023-03-12T15:59:00.501Z"
   },
   {
    "duration": 211,
    "start_time": "2023-03-12T15:59:54.458Z"
   },
   {
    "duration": 106,
    "start_time": "2023-03-12T15:59:54.674Z"
   },
   {
    "duration": 659238,
    "start_time": "2023-03-12T15:59:54.782Z"
   },
   {
    "duration": 209915,
    "start_time": "2023-03-12T16:10:54.022Z"
   },
   {
    "duration": 593,
    "start_time": "2023-03-12T16:14:23.941Z"
   },
   {
    "duration": 10,
    "start_time": "2023-03-12T16:14:24.540Z"
   },
   {
    "duration": 4,
    "start_time": "2023-03-12T16:33:59.612Z"
   },
   {
    "duration": 5,
    "start_time": "2023-03-12T16:33:59.617Z"
   },
   {
    "duration": 4,
    "start_time": "2023-03-12T16:33:59.624Z"
   },
   {
    "duration": 11,
    "start_time": "2023-03-12T16:33:59.642Z"
   },
   {
    "duration": 5,
    "start_time": "2023-03-12T16:34:10.983Z"
   },
   {
    "duration": 253659,
    "start_time": "2023-03-12T16:34:32.600Z"
   },
   {
    "duration": 610,
    "start_time": "2023-03-12T16:38:46.268Z"
   },
   {
    "duration": 4,
    "start_time": "2023-03-12T16:38:46.881Z"
   },
   {
    "duration": 6,
    "start_time": "2023-03-12T16:40:43.625Z"
   },
   {
    "duration": 151272,
    "start_time": "2023-03-12T17:06:20.483Z"
   },
   {
    "duration": 807,
    "start_time": "2023-03-12T17:08:51.757Z"
   },
   {
    "duration": 5,
    "start_time": "2023-03-12T17:08:52.566Z"
   },
   {
    "duration": 27529,
    "start_time": "2023-03-12T17:12:12.887Z"
   },
   {
    "duration": 156,
    "start_time": "2023-03-12T17:12:40.418Z"
   },
   {
    "duration": 5,
    "start_time": "2023-03-12T17:12:46.895Z"
   },
   {
    "duration": 118,
    "start_time": "2023-03-12T17:43:16.988Z"
   },
   {
    "duration": 106,
    "start_time": "2023-03-12T17:43:54.152Z"
   },
   {
    "duration": 5,
    "start_time": "2023-03-12T17:44:16.128Z"
   },
   {
    "duration": 78,
    "start_time": "2023-03-12T17:46:05.736Z"
   },
   {
    "duration": 10762,
    "start_time": "2023-03-14T10:34:55.397Z"
   },
   {
    "duration": 1532,
    "start_time": "2023-03-14T10:35:06.162Z"
   },
   {
    "duration": 965,
    "start_time": "2023-03-14T10:35:07.696Z"
   },
   {
    "duration": 4,
    "start_time": "2023-03-14T10:35:08.663Z"
   },
   {
    "duration": 133,
    "start_time": "2023-03-14T10:35:08.669Z"
   },
   {
    "duration": 549,
    "start_time": "2023-03-14T10:35:08.804Z"
   },
   {
    "duration": 586,
    "start_time": "2023-03-14T10:35:09.355Z"
   },
   {
    "duration": 551,
    "start_time": "2023-03-14T10:35:09.943Z"
   },
   {
    "duration": 116,
    "start_time": "2023-03-14T10:35:10.496Z"
   },
   {
    "duration": 103,
    "start_time": "2023-03-14T10:35:10.614Z"
   },
   {
    "duration": 103,
    "start_time": "2023-03-14T10:35:10.718Z"
   },
   {
    "duration": 58,
    "start_time": "2023-03-14T10:35:10.823Z"
   },
   {
    "duration": 107,
    "start_time": "2023-03-14T10:35:10.883Z"
   },
   {
    "duration": 117,
    "start_time": "2023-03-14T10:35:10.994Z"
   },
   {
    "duration": 34,
    "start_time": "2023-03-14T10:35:11.113Z"
   },
   {
    "duration": 88,
    "start_time": "2023-03-14T10:35:11.148Z"
   },
   {
    "duration": 602,
    "start_time": "2023-03-14T10:35:11.238Z"
   },
   {
    "duration": 123,
    "start_time": "2023-03-14T10:35:11.842Z"
   },
   {
    "duration": 36,
    "start_time": "2023-03-14T10:35:11.967Z"
   },
   {
    "duration": 127,
    "start_time": "2023-03-14T10:35:12.006Z"
   },
   {
    "duration": 111,
    "start_time": "2023-03-14T10:35:12.135Z"
   },
   {
    "duration": 103,
    "start_time": "2023-03-14T10:35:12.248Z"
   },
   {
    "duration": 35,
    "start_time": "2023-03-14T10:35:12.353Z"
   },
   {
    "duration": 106,
    "start_time": "2023-03-14T10:35:12.390Z"
   },
   {
    "duration": 114,
    "start_time": "2023-03-14T10:35:12.498Z"
   },
   {
    "duration": 791,
    "start_time": "2023-03-14T10:35:12.614Z"
   },
   {
    "duration": 29,
    "start_time": "2023-03-14T10:35:13.407Z"
   },
   {
    "duration": 102,
    "start_time": "2023-03-14T10:35:13.438Z"
   },
   {
    "duration": 102,
    "start_time": "2023-03-14T10:35:13.542Z"
   },
   {
    "duration": 16,
    "start_time": "2023-03-14T10:35:13.646Z"
   },
   {
    "duration": 103,
    "start_time": "2023-03-14T10:35:13.664Z"
   },
   {
    "duration": 75,
    "start_time": "2023-03-14T10:35:13.769Z"
   },
   {
    "duration": 16,
    "start_time": "2023-03-14T10:35:13.847Z"
   },
   {
    "duration": 23,
    "start_time": "2023-03-14T10:35:13.881Z"
   },
   {
    "duration": 120,
    "start_time": "2023-03-14T10:35:13.906Z"
   },
   {
    "duration": 4,
    "start_time": "2023-03-14T10:35:14.028Z"
   },
   {
    "duration": 8,
    "start_time": "2023-03-14T10:35:14.034Z"
   },
   {
    "duration": 19,
    "start_time": "2023-03-14T10:35:14.044Z"
   },
   {
    "duration": 42,
    "start_time": "2023-03-14T10:35:14.065Z"
   },
   {
    "duration": 59324,
    "start_time": "2023-03-14T10:35:14.109Z"
   },
   {
    "duration": 19037,
    "start_time": "2023-03-14T10:36:13.437Z"
   },
   {
    "duration": 19132,
    "start_time": "2023-03-14T10:36:32.476Z"
   },
   {
    "duration": 3,
    "start_time": "2023-03-14T10:36:51.610Z"
   },
   {
    "duration": 205,
    "start_time": "2023-03-14T10:36:51.614Z"
   },
   {
    "duration": 26,
    "start_time": "2023-03-14T10:36:51.821Z"
   },
   {
    "duration": 7759,
    "start_time": "2023-03-14T16:29:09.038Z"
   },
   {
    "duration": 1783,
    "start_time": "2023-03-14T16:29:18.374Z"
   },
   {
    "duration": 1368,
    "start_time": "2023-03-14T16:29:33.025Z"
   },
   {
    "duration": 4,
    "start_time": "2023-03-14T16:29:35.847Z"
   },
   {
    "duration": 916,
    "start_time": "2023-03-14T16:35:59.793Z"
   },
   {
    "duration": 4,
    "start_time": "2023-03-14T16:36:00.711Z"
   },
   {
    "duration": 158,
    "start_time": "2023-03-14T16:36:00.792Z"
   },
   {
    "duration": 557,
    "start_time": "2023-03-14T16:36:03.197Z"
   },
   {
    "duration": 623,
    "start_time": "2023-03-14T16:36:03.994Z"
   },
   {
    "duration": 552,
    "start_time": "2023-03-14T16:36:04.619Z"
   },
   {
    "duration": 143,
    "start_time": "2023-03-14T16:36:05.394Z"
   },
   {
    "duration": 101,
    "start_time": "2023-03-14T16:36:06.893Z"
   },
   {
    "duration": 143,
    "start_time": "2023-03-14T16:36:07.262Z"
   },
   {
    "duration": 49,
    "start_time": "2023-03-14T16:36:08.627Z"
   },
   {
    "duration": 130,
    "start_time": "2023-03-14T16:36:09.728Z"
   },
   {
    "duration": 93,
    "start_time": "2023-03-14T16:36:10.219Z"
   },
   {
    "duration": 30,
    "start_time": "2023-03-14T16:36:13.011Z"
   },
   {
    "duration": 177,
    "start_time": "2023-03-14T16:36:49.811Z"
   },
   {
    "duration": 17,
    "start_time": "2023-03-14T16:37:31.506Z"
   },
   {
    "duration": 4,
    "start_time": "2023-03-14T16:37:40.208Z"
   },
   {
    "duration": 2487,
    "start_time": "2023-03-14T16:37:54.560Z"
   },
   {
    "duration": 4,
    "start_time": "2023-03-14T16:38:01.191Z"
   },
   {
    "duration": 996,
    "start_time": "2023-03-14T16:38:05.928Z"
   },
   {
    "duration": 4,
    "start_time": "2023-03-14T16:38:08.328Z"
   },
   {
    "duration": 159,
    "start_time": "2023-03-14T16:38:11.411Z"
   },
   {
    "duration": 490,
    "start_time": "2023-03-14T16:38:13.168Z"
   },
   {
    "duration": 490,
    "start_time": "2023-03-14T16:38:14.227Z"
   },
   {
    "duration": 485,
    "start_time": "2023-03-14T16:38:15.415Z"
   },
   {
    "duration": 166,
    "start_time": "2023-03-14T16:38:16.663Z"
   },
   {
    "duration": 106,
    "start_time": "2023-03-14T16:38:19.643Z"
   },
   {
    "duration": 154,
    "start_time": "2023-03-14T16:38:24.239Z"
   },
   {
    "duration": 51,
    "start_time": "2023-03-14T16:38:26.022Z"
   },
   {
    "duration": 138,
    "start_time": "2023-03-14T16:38:27.278Z"
   },
   {
    "duration": 98,
    "start_time": "2023-03-14T16:38:27.990Z"
   },
   {
    "duration": 1089,
    "start_time": "2023-03-14T16:38:30.279Z"
   },
   {
    "duration": 26,
    "start_time": "2023-03-14T16:39:03.398Z"
   },
   {
    "duration": 27,
    "start_time": "2023-03-14T16:44:10.263Z"
   },
   {
    "duration": 13,
    "start_time": "2023-03-14T16:44:14.913Z"
   },
   {
    "duration": 9,
    "start_time": "2023-03-14T16:44:24.975Z"
   },
   {
    "duration": 931,
    "start_time": "2023-03-14T16:44:26.401Z"
   },
   {
    "duration": 4,
    "start_time": "2023-03-14T16:44:27.334Z"
   },
   {
    "duration": 170,
    "start_time": "2023-03-14T16:44:27.340Z"
   },
   {
    "duration": 470,
    "start_time": "2023-03-14T16:44:27.512Z"
   },
   {
    "duration": 482,
    "start_time": "2023-03-14T16:44:27.990Z"
   },
   {
    "duration": 564,
    "start_time": "2023-03-14T16:44:28.473Z"
   },
   {
    "duration": 154,
    "start_time": "2023-03-14T16:44:29.039Z"
   },
   {
    "duration": 99,
    "start_time": "2023-03-14T16:44:29.195Z"
   },
   {
    "duration": 138,
    "start_time": "2023-03-14T16:44:29.405Z"
   },
   {
    "duration": 72,
    "start_time": "2023-03-14T16:44:31.546Z"
   },
   {
    "duration": 163,
    "start_time": "2023-03-14T16:44:32.650Z"
   },
   {
    "duration": 94,
    "start_time": "2023-03-14T16:44:39.194Z"
   },
   {
    "duration": 190,
    "start_time": "2023-03-14T16:44:41.428Z"
   },
   {
    "duration": 1207,
    "start_time": "2023-03-14T16:45:19.308Z"
   },
   {
    "duration": 8,
    "start_time": "2023-03-14T17:59:33.190Z"
   },
   {
    "duration": 1177,
    "start_time": "2023-03-14T17:59:34.168Z"
   },
   {
    "duration": 5,
    "start_time": "2023-03-14T17:59:35.350Z"
   },
   {
    "duration": 277,
    "start_time": "2023-03-14T17:59:35.357Z"
   },
   {
    "duration": 672,
    "start_time": "2023-03-14T17:59:35.637Z"
   },
   {
    "duration": 577,
    "start_time": "2023-03-14T17:59:36.311Z"
   },
   {
    "duration": 610,
    "start_time": "2023-03-14T17:59:36.899Z"
   },
   {
    "duration": 159,
    "start_time": "2023-03-14T17:59:37.511Z"
   },
   {
    "duration": 86,
    "start_time": "2023-03-14T17:59:37.678Z"
   },
   {
    "duration": 152,
    "start_time": "2023-03-14T17:59:37.779Z"
   },
   {
    "duration": 48,
    "start_time": "2023-03-14T17:59:38.527Z"
   },
   {
    "duration": 139,
    "start_time": "2023-03-14T17:59:39.396Z"
   },
   {
    "duration": 125,
    "start_time": "2023-03-14T17:59:39.864Z"
   },
   {
    "duration": 1154,
    "start_time": "2023-03-14T17:59:40.486Z"
   },
   {
    "duration": 30,
    "start_time": "2023-03-14T17:59:41.667Z"
   },
   {
    "duration": 101,
    "start_time": "2023-03-14T17:59:43.718Z"
   },
   {
    "duration": 727,
    "start_time": "2023-03-14T17:59:44.534Z"
   },
   {
    "duration": 145,
    "start_time": "2023-03-14T17:59:45.263Z"
   },
   {
    "duration": 27,
    "start_time": "2023-03-14T17:59:45.545Z"
   },
   {
    "duration": 124,
    "start_time": "2023-03-14T17:59:46.351Z"
   },
   {
    "duration": 116,
    "start_time": "2023-03-14T17:59:47.034Z"
   },
   {
    "duration": 131,
    "start_time": "2023-03-14T17:59:47.315Z"
   },
   {
    "duration": 34,
    "start_time": "2023-03-14T17:59:47.582Z"
   },
   {
    "duration": 116,
    "start_time": "2023-03-14T17:59:49.066Z"
   },
   {
    "duration": 142,
    "start_time": "2023-03-14T17:59:50.652Z"
   },
   {
    "duration": 921,
    "start_time": "2023-03-14T17:59:51.602Z"
   },
   {
    "duration": 33,
    "start_time": "2023-03-14T17:59:52.526Z"
   },
   {
    "duration": 123,
    "start_time": "2023-03-14T17:59:55.027Z"
   },
   {
    "duration": 145,
    "start_time": "2023-03-14T17:59:57.570Z"
   },
   {
    "duration": 16,
    "start_time": "2023-03-14T18:00:01.935Z"
   },
   {
    "duration": 110,
    "start_time": "2023-03-14T18:00:04.003Z"
   },
   {
    "duration": 114,
    "start_time": "2023-03-14T18:00:06.135Z"
   },
   {
    "duration": 227,
    "start_time": "2023-03-14T18:00:08.617Z"
   },
   {
    "duration": 47,
    "start_time": "2023-03-15T07:30:18.220Z"
   },
   {
    "duration": 1624,
    "start_time": "2023-03-15T07:30:27.121Z"
   },
   {
    "duration": 2682,
    "start_time": "2023-03-15T07:30:28.747Z"
   },
   {
    "duration": 4,
    "start_time": "2023-03-15T07:30:31.431Z"
   },
   {
    "duration": 169,
    "start_time": "2023-03-15T07:30:31.436Z"
   },
   {
    "duration": 496,
    "start_time": "2023-03-15T07:30:31.607Z"
   },
   {
    "duration": 502,
    "start_time": "2023-03-15T07:30:32.105Z"
   },
   {
    "duration": 463,
    "start_time": "2023-03-15T07:30:32.608Z"
   },
   {
    "duration": 125,
    "start_time": "2023-03-15T07:30:33.073Z"
   },
   {
    "duration": 95,
    "start_time": "2023-03-15T07:30:33.200Z"
   },
   {
    "duration": 115,
    "start_time": "2023-03-15T07:30:33.296Z"
   },
   {
    "duration": 46,
    "start_time": "2023-03-15T07:30:33.435Z"
   },
   {
    "duration": 107,
    "start_time": "2023-03-15T07:30:34.194Z"
   },
   {
    "duration": 92,
    "start_time": "2023-03-15T07:30:34.423Z"
   },
   {
    "duration": 897,
    "start_time": "2023-03-15T07:30:35.141Z"
   },
   {
    "duration": 37,
    "start_time": "2023-03-15T07:30:36.040Z"
   },
   {
    "duration": 78,
    "start_time": "2023-03-15T07:30:36.079Z"
   },
   {
    "duration": 593,
    "start_time": "2023-03-15T07:30:36.159Z"
   },
   {
    "duration": 112,
    "start_time": "2023-03-15T07:30:36.754Z"
   },
   {
    "duration": 22,
    "start_time": "2023-03-15T07:30:36.936Z"
   },
   {
    "duration": 96,
    "start_time": "2023-03-15T07:30:37.361Z"
   },
   {
    "duration": 102,
    "start_time": "2023-03-15T07:30:37.810Z"
   },
   {
    "duration": 91,
    "start_time": "2023-03-15T07:30:38.016Z"
   },
   {
    "duration": 24,
    "start_time": "2023-03-15T07:30:38.205Z"
   },
   {
    "duration": 88,
    "start_time": "2023-03-15T07:30:39.722Z"
   },
   {
    "duration": 92,
    "start_time": "2023-03-15T07:30:40.113Z"
   },
   {
    "duration": 576,
    "start_time": "2023-03-15T07:30:40.276Z"
   },
   {
    "duration": 30,
    "start_time": "2023-03-15T07:30:40.853Z"
   },
   {
    "duration": 107,
    "start_time": "2023-03-15T07:30:41.418Z"
   },
   {
    "duration": 83,
    "start_time": "2023-03-15T07:30:42.275Z"
   },
   {
    "duration": 15,
    "start_time": "2023-03-15T07:30:42.804Z"
   },
   {
    "duration": 96,
    "start_time": "2023-03-15T07:30:43.610Z"
   },
   {
    "duration": 96,
    "start_time": "2023-03-15T07:30:44.040Z"
   },
   {
    "duration": 135,
    "start_time": "2023-03-15T07:30:46.657Z"
   },
   {
    "duration": 143,
    "start_time": "2023-03-15T07:30:47.565Z"
   },
   {
    "duration": 116,
    "start_time": "2023-03-15T07:30:57.161Z"
   },
   {
    "duration": 12,
    "start_time": "2023-03-15T07:31:02.514Z"
   },
   {
    "duration": 18,
    "start_time": "2023-03-15T07:31:03.005Z"
   },
   {
    "duration": 70,
    "start_time": "2023-03-15T07:31:09.219Z"
   },
   {
    "duration": 4,
    "start_time": "2023-03-15T07:31:09.635Z"
   },
   {
    "duration": 3,
    "start_time": "2023-03-15T07:31:10.525Z"
   },
   {
    "duration": 4,
    "start_time": "2023-03-15T07:31:11.818Z"
   },
   {
    "duration": 21,
    "start_time": "2023-03-15T07:31:19.602Z"
   },
   {
    "duration": 91,
    "start_time": "2023-03-15T07:31:21.175Z"
   },
   {
    "duration": 7207,
    "start_time": "2023-03-15T07:31:29.642Z"
   },
   {
    "duration": 5,
    "start_time": "2023-03-15T07:31:36.852Z"
   },
   {
    "duration": 829,
    "start_time": "2023-03-15T07:31:37.810Z"
   },
   {
    "duration": 4,
    "start_time": "2023-03-15T07:31:38.641Z"
   },
   {
    "duration": 137,
    "start_time": "2023-03-15T07:31:38.646Z"
   },
   {
    "duration": 428,
    "start_time": "2023-03-15T07:31:38.837Z"
   },
   {
    "duration": 446,
    "start_time": "2023-03-15T07:31:39.267Z"
   },
   {
    "duration": 459,
    "start_time": "2023-03-15T07:31:39.715Z"
   },
   {
    "duration": 126,
    "start_time": "2023-03-15T07:31:40.175Z"
   },
   {
    "duration": 101,
    "start_time": "2023-03-15T07:31:40.302Z"
   },
   {
    "duration": 110,
    "start_time": "2023-03-15T07:31:40.405Z"
   },
   {
    "duration": 45,
    "start_time": "2023-03-15T07:31:40.633Z"
   },
   {
    "duration": 110,
    "start_time": "2023-03-15T07:31:41.254Z"
   },
   {
    "duration": 79,
    "start_time": "2023-03-15T07:31:41.712Z"
   },
   {
    "duration": 894,
    "start_time": "2023-03-15T07:31:42.604Z"
   },
   {
    "duration": 25,
    "start_time": "2023-03-15T07:31:43.500Z"
   },
   {
    "duration": 98,
    "start_time": "2023-03-15T07:31:44.017Z"
   },
   {
    "duration": 573,
    "start_time": "2023-03-15T07:31:44.776Z"
   },
   {
    "duration": 112,
    "start_time": "2023-03-15T07:31:45.350Z"
   },
   {
    "duration": 23,
    "start_time": "2023-03-15T07:31:45.570Z"
   },
   {
    "duration": 93,
    "start_time": "2023-03-15T07:31:46.295Z"
   },
   {
    "duration": 97,
    "start_time": "2023-03-15T07:31:46.726Z"
   },
   {
    "duration": 101,
    "start_time": "2023-03-15T07:31:47.136Z"
   },
   {
    "duration": 24,
    "start_time": "2023-03-15T07:31:47.843Z"
   },
   {
    "duration": 98,
    "start_time": "2023-03-15T07:31:48.373Z"
   },
   {
    "duration": 94,
    "start_time": "2023-03-15T07:31:49.159Z"
   },
   {
    "duration": 699,
    "start_time": "2023-03-15T07:31:49.632Z"
   },
   {
    "duration": 23,
    "start_time": "2023-03-15T07:31:50.333Z"
   },
   {
    "duration": 90,
    "start_time": "2023-03-15T07:31:51.106Z"
   },
   {
    "duration": 92,
    "start_time": "2023-03-15T07:31:52.826Z"
   },
   {
    "duration": 16,
    "start_time": "2023-03-15T07:31:54.110Z"
   },
   {
    "duration": 89,
    "start_time": "2023-03-15T07:31:55.517Z"
   },
   {
    "duration": 69,
    "start_time": "2023-03-15T07:31:56.828Z"
   },
   {
    "duration": 125,
    "start_time": "2023-03-15T07:32:00.056Z"
   },
   {
    "duration": 136,
    "start_time": "2023-03-15T07:32:00.917Z"
   },
   {
    "duration": 122,
    "start_time": "2023-03-15T07:32:01.425Z"
   },
   {
    "duration": 12,
    "start_time": "2023-03-15T07:32:01.809Z"
   },
   {
    "duration": 19,
    "start_time": "2023-03-15T07:32:02.038Z"
   },
   {
    "duration": 92,
    "start_time": "2023-03-15T07:32:04.010Z"
   },
   {
    "duration": 4,
    "start_time": "2023-03-15T07:32:04.497Z"
   },
   {
    "duration": 4,
    "start_time": "2023-03-15T07:32:05.308Z"
   },
   {
    "duration": 4,
    "start_time": "2023-03-15T07:32:05.957Z"
   },
   {
    "duration": 23,
    "start_time": "2023-03-15T07:32:07.157Z"
   },
   {
    "duration": 22,
    "start_time": "2023-03-15T07:32:08.575Z"
   },
   {
    "duration": 18,
    "start_time": "2023-03-15T07:32:09.456Z"
   },
   {
    "duration": 15,
    "start_time": "2023-03-15T07:32:10.725Z"
   },
   {
    "duration": 20,
    "start_time": "2023-03-15T07:32:40.955Z"
   },
   {
    "duration": 2423,
    "start_time": "2023-03-15T07:46:42.738Z"
   },
   {
    "duration": 1336,
    "start_time": "2023-03-15T07:46:45.164Z"
   },
   {
    "duration": 815,
    "start_time": "2023-03-15T07:46:46.501Z"
   },
   {
    "duration": 4,
    "start_time": "2023-03-15T07:46:47.318Z"
   },
   {
    "duration": 166,
    "start_time": "2023-03-15T07:46:47.323Z"
   },
   {
    "duration": 487,
    "start_time": "2023-03-15T07:46:47.491Z"
   },
   {
    "duration": 537,
    "start_time": "2023-03-15T07:46:47.980Z"
   },
   {
    "duration": 478,
    "start_time": "2023-03-15T07:46:48.519Z"
   },
   {
    "duration": 132,
    "start_time": "2023-03-15T07:46:48.999Z"
   },
   {
    "duration": 90,
    "start_time": "2023-03-15T07:46:49.134Z"
   },
   {
    "duration": 127,
    "start_time": "2023-03-15T07:46:49.226Z"
   },
   {
    "duration": 51,
    "start_time": "2023-03-15T07:46:49.355Z"
   },
   {
    "duration": 123,
    "start_time": "2023-03-15T07:46:49.407Z"
   },
   {
    "duration": 97,
    "start_time": "2023-03-15T07:46:49.531Z"
   },
   {
    "duration": 1018,
    "start_time": "2023-03-15T07:46:49.630Z"
   },
   {
    "duration": 39,
    "start_time": "2023-03-15T07:46:50.650Z"
   },
   {
    "duration": 94,
    "start_time": "2023-03-15T07:46:50.691Z"
   },
   {
    "duration": 558,
    "start_time": "2023-03-15T07:46:50.787Z"
   },
   {
    "duration": 124,
    "start_time": "2023-03-15T07:46:51.346Z"
   },
   {
    "duration": 25,
    "start_time": "2023-03-15T07:46:51.471Z"
   },
   {
    "duration": 114,
    "start_time": "2023-03-15T07:46:51.498Z"
   },
   {
    "duration": 104,
    "start_time": "2023-03-15T07:46:51.614Z"
   },
   {
    "duration": 113,
    "start_time": "2023-03-15T07:46:51.719Z"
   },
   {
    "duration": 23,
    "start_time": "2023-03-15T07:46:51.834Z"
   },
   {
    "duration": 112,
    "start_time": "2023-03-15T07:46:51.858Z"
   },
   {
    "duration": 108,
    "start_time": "2023-03-15T07:46:51.971Z"
   },
   {
    "duration": 765,
    "start_time": "2023-03-15T07:46:52.080Z"
   },
   {
    "duration": 33,
    "start_time": "2023-03-15T07:46:52.850Z"
   },
   {
    "duration": 99,
    "start_time": "2023-03-15T07:46:52.885Z"
   },
   {
    "duration": 107,
    "start_time": "2023-03-15T07:46:52.986Z"
   },
   {
    "duration": 14,
    "start_time": "2023-03-15T07:46:53.095Z"
   },
   {
    "duration": 111,
    "start_time": "2023-03-15T07:46:53.111Z"
   },
   {
    "duration": 83,
    "start_time": "2023-03-15T07:46:53.224Z"
   },
   {
    "duration": 150,
    "start_time": "2023-03-15T07:46:53.308Z"
   },
   {
    "duration": 145,
    "start_time": "2023-03-15T07:46:53.460Z"
   },
   {
    "duration": 130,
    "start_time": "2023-03-15T07:46:53.607Z"
   },
   {
    "duration": 13,
    "start_time": "2023-03-15T07:46:53.739Z"
   },
   {
    "duration": 35,
    "start_time": "2023-03-15T07:46:53.754Z"
   },
   {
    "duration": 90,
    "start_time": "2023-03-15T07:46:53.791Z"
   },
   {
    "duration": 4,
    "start_time": "2023-03-15T07:46:53.883Z"
   },
   {
    "duration": 9,
    "start_time": "2023-03-15T07:46:53.889Z"
   },
   {
    "duration": 8,
    "start_time": "2023-03-15T07:46:53.899Z"
   },
   {
    "duration": 22,
    "start_time": "2023-03-15T07:46:53.909Z"
   },
   {
    "duration": 44437,
    "start_time": "2023-03-15T07:46:53.933Z"
   },
   {
    "duration": 11629,
    "start_time": "2023-03-15T07:47:38.372Z"
   },
   {
    "duration": 12849,
    "start_time": "2023-03-15T07:47:50.003Z"
   },
   {
    "duration": 3,
    "start_time": "2023-03-15T07:48:02.854Z"
   },
   {
    "duration": 219,
    "start_time": "2023-03-15T07:48:02.859Z"
   },
   {
    "duration": 25,
    "start_time": "2023-03-15T07:48:03.079Z"
   },
   {
    "duration": 21586,
    "start_time": "2023-03-15T07:48:03.106Z"
   },
   {
    "duration": 277,
    "start_time": "2023-03-15T07:48:24.694Z"
   },
   {
    "duration": 6,
    "start_time": "2023-03-15T07:48:24.973Z"
   },
   {
    "duration": 99,
    "start_time": "2023-03-15T07:48:24.981Z"
   },
   {
    "duration": 14,
    "start_time": "2023-03-15T07:48:25.081Z"
   },
   {
    "duration": 11,
    "start_time": "2023-03-15T07:48:25.097Z"
   },
   {
    "duration": 11,
    "start_time": "2023-03-15T07:48:25.109Z"
   },
   {
    "duration": 7,
    "start_time": "2023-03-15T07:48:25.122Z"
   },
   {
    "duration": 9,
    "start_time": "2023-03-15T07:48:25.131Z"
   },
   {
    "duration": 17,
    "start_time": "2023-03-15T07:48:25.142Z"
   },
   {
    "duration": 13,
    "start_time": "2023-03-15T07:48:25.168Z"
   },
   {
    "duration": 8,
    "start_time": "2023-03-15T07:48:25.184Z"
   },
   {
    "duration": 7,
    "start_time": "2023-03-15T07:48:25.194Z"
   },
   {
    "duration": 14,
    "start_time": "2023-03-15T07:48:25.203Z"
   },
   {
    "duration": 6,
    "start_time": "2023-03-15T07:48:25.219Z"
   },
   {
    "duration": 8,
    "start_time": "2023-03-15T07:48:25.227Z"
   },
   {
    "duration": 5,
    "start_time": "2023-03-15T07:48:25.237Z"
   },
   {
    "duration": 6,
    "start_time": "2023-03-15T07:48:25.244Z"
   },
   {
    "duration": 5,
    "start_time": "2023-03-15T07:50:45.337Z"
   },
   {
    "duration": 4,
    "start_time": "2023-03-15T07:50:57.737Z"
   },
   {
    "duration": 124,
    "start_time": "2023-03-15T08:12:27.417Z"
   },
   {
    "duration": 2389,
    "start_time": "2023-03-15T08:13:13.975Z"
   },
   {
    "duration": 1341,
    "start_time": "2023-03-15T08:13:16.367Z"
   },
   {
    "duration": 808,
    "start_time": "2023-03-15T08:13:17.710Z"
   },
   {
    "duration": 3,
    "start_time": "2023-03-15T08:13:18.520Z"
   },
   {
    "duration": 145,
    "start_time": "2023-03-15T08:13:18.525Z"
   },
   {
    "duration": 479,
    "start_time": "2023-03-15T08:13:18.672Z"
   },
   {
    "duration": 528,
    "start_time": "2023-03-15T08:13:19.153Z"
   },
   {
    "duration": 490,
    "start_time": "2023-03-15T08:13:19.683Z"
   },
   {
    "duration": 133,
    "start_time": "2023-03-15T08:13:20.174Z"
   },
   {
    "duration": 92,
    "start_time": "2023-03-15T08:13:20.310Z"
   },
   {
    "duration": 112,
    "start_time": "2023-03-15T08:13:20.404Z"
   },
   {
    "duration": 57,
    "start_time": "2023-03-15T08:13:20.517Z"
   },
   {
    "duration": 117,
    "start_time": "2023-03-15T08:13:20.576Z"
   },
   {
    "duration": 105,
    "start_time": "2023-03-15T08:13:20.695Z"
   },
   {
    "duration": 966,
    "start_time": "2023-03-15T08:13:20.802Z"
   },
   {
    "duration": 33,
    "start_time": "2023-03-15T08:13:21.770Z"
   },
   {
    "duration": 94,
    "start_time": "2023-03-15T08:13:21.805Z"
   },
   {
    "duration": 547,
    "start_time": "2023-03-15T08:13:21.901Z"
   },
   {
    "duration": 123,
    "start_time": "2023-03-15T08:13:22.450Z"
   },
   {
    "duration": 25,
    "start_time": "2023-03-15T08:13:22.574Z"
   },
   {
    "duration": 124,
    "start_time": "2023-03-15T08:13:22.601Z"
   },
   {
    "duration": 108,
    "start_time": "2023-03-15T08:13:22.727Z"
   },
   {
    "duration": 107,
    "start_time": "2023-03-15T08:13:22.837Z"
   },
   {
    "duration": 34,
    "start_time": "2023-03-15T08:13:22.945Z"
   },
   {
    "duration": 111,
    "start_time": "2023-03-15T08:13:22.981Z"
   },
   {
    "duration": 105,
    "start_time": "2023-03-15T08:13:23.094Z"
   },
   {
    "duration": 765,
    "start_time": "2023-03-15T08:13:23.200Z"
   },
   {
    "duration": 27,
    "start_time": "2023-03-15T08:13:23.971Z"
   },
   {
    "duration": 134,
    "start_time": "2023-03-15T08:13:24.000Z"
   },
   {
    "duration": 110,
    "start_time": "2023-03-15T08:13:24.136Z"
   },
   {
    "duration": 22,
    "start_time": "2023-03-15T08:13:24.247Z"
   },
   {
    "duration": 115,
    "start_time": "2023-03-15T08:13:24.271Z"
   },
   {
    "duration": 81,
    "start_time": "2023-03-15T08:13:24.388Z"
   },
   {
    "duration": 134,
    "start_time": "2023-03-15T08:13:24.471Z"
   },
   {
    "duration": 147,
    "start_time": "2023-03-15T08:13:24.607Z"
   },
   {
    "duration": 120,
    "start_time": "2023-03-15T08:13:24.756Z"
   },
   {
    "duration": 12,
    "start_time": "2023-03-15T08:13:24.877Z"
   },
   {
    "duration": 21,
    "start_time": "2023-03-15T08:13:24.891Z"
   },
   {
    "duration": 102,
    "start_time": "2023-03-15T08:13:24.913Z"
   },
   {
    "duration": 5,
    "start_time": "2023-03-15T08:13:25.016Z"
   },
   {
    "duration": 68,
    "start_time": "2023-03-15T08:13:25.023Z"
   },
   {
    "duration": 21,
    "start_time": "2023-03-15T08:13:25.092Z"
   },
   {
    "duration": 37,
    "start_time": "2023-03-15T08:13:25.115Z"
   },
   {
    "duration": 1562,
    "start_time": "2023-03-15T08:13:25.154Z"
   },
   {
    "duration": 0,
    "start_time": "2023-03-15T08:13:26.717Z"
   },
   {
    "duration": 0,
    "start_time": "2023-03-15T08:13:26.719Z"
   },
   {
    "duration": 0,
    "start_time": "2023-03-15T08:13:26.720Z"
   },
   {
    "duration": 0,
    "start_time": "2023-03-15T08:13:26.721Z"
   },
   {
    "duration": 0,
    "start_time": "2023-03-15T08:13:26.722Z"
   },
   {
    "duration": 0,
    "start_time": "2023-03-15T08:13:26.723Z"
   },
   {
    "duration": 0,
    "start_time": "2023-03-15T08:13:26.725Z"
   },
   {
    "duration": 0,
    "start_time": "2023-03-15T08:13:26.726Z"
   },
   {
    "duration": 0,
    "start_time": "2023-03-15T08:13:26.727Z"
   },
   {
    "duration": 0,
    "start_time": "2023-03-15T08:13:26.728Z"
   },
   {
    "duration": 0,
    "start_time": "2023-03-15T08:13:26.729Z"
   },
   {
    "duration": 0,
    "start_time": "2023-03-15T08:13:26.730Z"
   },
   {
    "duration": 0,
    "start_time": "2023-03-15T08:13:26.731Z"
   },
   {
    "duration": 0,
    "start_time": "2023-03-15T08:13:26.732Z"
   },
   {
    "duration": 0,
    "start_time": "2023-03-15T08:13:26.733Z"
   },
   {
    "duration": 0,
    "start_time": "2023-03-15T08:13:26.734Z"
   },
   {
    "duration": 0,
    "start_time": "2023-03-15T08:13:26.735Z"
   },
   {
    "duration": 0,
    "start_time": "2023-03-15T08:13:26.736Z"
   },
   {
    "duration": 0,
    "start_time": "2023-03-15T08:13:26.770Z"
   },
   {
    "duration": 0,
    "start_time": "2023-03-15T08:13:26.771Z"
   },
   {
    "duration": 0,
    "start_time": "2023-03-15T08:13:26.772Z"
   },
   {
    "duration": 0,
    "start_time": "2023-03-15T08:13:26.773Z"
   },
   {
    "duration": 0,
    "start_time": "2023-03-15T08:13:26.774Z"
   },
   {
    "duration": 0,
    "start_time": "2023-03-15T08:13:26.776Z"
   },
   {
    "duration": 43443,
    "start_time": "2023-03-15T08:16:30.336Z"
   },
   {
    "duration": 12518,
    "start_time": "2023-03-15T08:17:34.421Z"
   },
   {
    "duration": 78,
    "start_time": "2023-03-15T08:18:27.021Z"
   },
   {
    "duration": 2146,
    "start_time": "2023-03-15T08:20:09.108Z"
   },
   {
    "duration": 1339,
    "start_time": "2023-03-15T08:20:11.257Z"
   },
   {
    "duration": 851,
    "start_time": "2023-03-15T08:20:12.599Z"
   },
   {
    "duration": 4,
    "start_time": "2023-03-15T08:20:13.452Z"
   },
   {
    "duration": 151,
    "start_time": "2023-03-15T08:20:13.458Z"
   },
   {
    "duration": 502,
    "start_time": "2023-03-15T08:20:13.610Z"
   },
   {
    "duration": 525,
    "start_time": "2023-03-15T08:20:14.114Z"
   },
   {
    "duration": 484,
    "start_time": "2023-03-15T08:20:14.641Z"
   },
   {
    "duration": 144,
    "start_time": "2023-03-15T08:20:15.127Z"
   },
   {
    "duration": 97,
    "start_time": "2023-03-15T08:20:15.275Z"
   },
   {
    "duration": 117,
    "start_time": "2023-03-15T08:20:15.374Z"
   },
   {
    "duration": 42,
    "start_time": "2023-03-15T08:20:15.493Z"
   },
   {
    "duration": 133,
    "start_time": "2023-03-15T08:20:15.537Z"
   },
   {
    "duration": 104,
    "start_time": "2023-03-15T08:20:15.672Z"
   },
   {
    "duration": 970,
    "start_time": "2023-03-15T08:20:15.778Z"
   },
   {
    "duration": 33,
    "start_time": "2023-03-15T08:20:16.750Z"
   },
   {
    "duration": 89,
    "start_time": "2023-03-15T08:20:16.785Z"
   },
   {
    "duration": 548,
    "start_time": "2023-03-15T08:20:16.876Z"
   },
   {
    "duration": 109,
    "start_time": "2023-03-15T08:20:17.426Z"
   },
   {
    "duration": 33,
    "start_time": "2023-03-15T08:20:17.536Z"
   },
   {
    "duration": 106,
    "start_time": "2023-03-15T08:20:17.571Z"
   },
   {
    "duration": 110,
    "start_time": "2023-03-15T08:20:17.679Z"
   },
   {
    "duration": 108,
    "start_time": "2023-03-15T08:20:17.791Z"
   },
   {
    "duration": 23,
    "start_time": "2023-03-15T08:20:17.901Z"
   },
   {
    "duration": 109,
    "start_time": "2023-03-15T08:20:17.926Z"
   },
   {
    "duration": 95,
    "start_time": "2023-03-15T08:20:18.037Z"
   },
   {
    "duration": 717,
    "start_time": "2023-03-15T08:20:18.134Z"
   },
   {
    "duration": 29,
    "start_time": "2023-03-15T08:20:18.855Z"
   },
   {
    "duration": 91,
    "start_time": "2023-03-15T08:20:18.886Z"
   },
   {
    "duration": 100,
    "start_time": "2023-03-15T08:20:18.978Z"
   },
   {
    "duration": 14,
    "start_time": "2023-03-15T08:20:19.080Z"
   },
   {
    "duration": 106,
    "start_time": "2023-03-15T08:20:19.095Z"
   },
   {
    "duration": 81,
    "start_time": "2023-03-15T08:20:19.202Z"
   },
   {
    "duration": 138,
    "start_time": "2023-03-15T08:20:19.285Z"
   },
   {
    "duration": 147,
    "start_time": "2023-03-15T08:20:19.425Z"
   },
   {
    "duration": 120,
    "start_time": "2023-03-15T08:20:19.574Z"
   },
   {
    "duration": 12,
    "start_time": "2023-03-15T08:20:19.696Z"
   },
   {
    "duration": 18,
    "start_time": "2023-03-15T08:20:19.711Z"
   },
   {
    "duration": 95,
    "start_time": "2023-03-15T08:20:19.731Z"
   },
   {
    "duration": 3,
    "start_time": "2023-03-15T08:20:19.828Z"
   },
   {
    "duration": 9,
    "start_time": "2023-03-15T08:20:19.833Z"
   },
   {
    "duration": 6,
    "start_time": "2023-03-15T08:20:19.844Z"
   },
   {
    "duration": 31,
    "start_time": "2023-03-15T08:20:19.852Z"
   },
   {
    "duration": 42046,
    "start_time": "2023-03-15T08:20:19.885Z"
   },
   {
    "duration": 12849,
    "start_time": "2023-03-15T08:21:01.932Z"
   },
   {
    "duration": 12779,
    "start_time": "2023-03-15T08:21:14.783Z"
   },
   {
    "duration": 5,
    "start_time": "2023-03-15T08:21:27.564Z"
   },
   {
    "duration": 174,
    "start_time": "2023-03-15T08:21:27.571Z"
   },
   {
    "duration": 12,
    "start_time": "2023-03-15T08:21:27.748Z"
   },
   {
    "duration": 251,
    "start_time": "2023-03-15T08:21:27.762Z"
   },
   {
    "duration": 107,
    "start_time": "2023-03-15T08:21:28.015Z"
   },
   {
    "duration": 10,
    "start_time": "2023-03-15T08:21:28.124Z"
   },
   {
    "duration": 0,
    "start_time": "2023-03-15T08:21:28.136Z"
   },
   {
    "duration": 0,
    "start_time": "2023-03-15T08:21:28.137Z"
   },
   {
    "duration": 0,
    "start_time": "2023-03-15T08:21:28.138Z"
   },
   {
    "duration": 0,
    "start_time": "2023-03-15T08:21:28.139Z"
   },
   {
    "duration": 0,
    "start_time": "2023-03-15T08:21:28.140Z"
   },
   {
    "duration": 0,
    "start_time": "2023-03-15T08:21:28.142Z"
   },
   {
    "duration": 0,
    "start_time": "2023-03-15T08:21:28.143Z"
   },
   {
    "duration": 0,
    "start_time": "2023-03-15T08:21:28.144Z"
   },
   {
    "duration": 0,
    "start_time": "2023-03-15T08:21:28.145Z"
   },
   {
    "duration": 0,
    "start_time": "2023-03-15T08:21:28.148Z"
   },
   {
    "duration": 0,
    "start_time": "2023-03-15T08:21:28.149Z"
   },
   {
    "duration": 0,
    "start_time": "2023-03-15T08:21:28.150Z"
   },
   {
    "duration": 0,
    "start_time": "2023-03-15T08:21:28.152Z"
   },
   {
    "duration": 0,
    "start_time": "2023-03-15T08:21:28.153Z"
   },
   {
    "duration": 0,
    "start_time": "2023-03-15T08:21:28.156Z"
   },
   {
    "duration": 0,
    "start_time": "2023-03-15T08:21:28.157Z"
   },
   {
    "duration": 21071,
    "start_time": "2023-03-15T08:22:30.318Z"
   },
   {
    "duration": 141,
    "start_time": "2023-03-15T08:25:03.931Z"
   },
   {
    "duration": 6,
    "start_time": "2023-03-15T08:25:11.119Z"
   },
   {
    "duration": 20,
    "start_time": "2023-03-15T08:25:58.906Z"
   },
   {
    "duration": 72,
    "start_time": "2023-03-15T08:27:24.738Z"
   },
   {
    "duration": 3,
    "start_time": "2023-03-15T08:27:42.025Z"
   },
   {
    "duration": 161,
    "start_time": "2023-03-15T08:27:55.646Z"
   },
   {
    "duration": 2196,
    "start_time": "2023-03-15T08:29:44.018Z"
   },
   {
    "duration": 1295,
    "start_time": "2023-03-15T08:29:46.216Z"
   },
   {
    "duration": 848,
    "start_time": "2023-03-15T08:29:47.513Z"
   },
   {
    "duration": 7,
    "start_time": "2023-03-15T08:29:48.363Z"
   },
   {
    "duration": 156,
    "start_time": "2023-03-15T08:29:48.372Z"
   },
   {
    "duration": 488,
    "start_time": "2023-03-15T08:29:48.530Z"
   },
   {
    "duration": 501,
    "start_time": "2023-03-15T08:29:49.019Z"
   },
   {
    "duration": 447,
    "start_time": "2023-03-15T08:29:49.522Z"
   },
   {
    "duration": 128,
    "start_time": "2023-03-15T08:29:49.971Z"
   },
   {
    "duration": 95,
    "start_time": "2023-03-15T08:29:50.101Z"
   },
   {
    "duration": 115,
    "start_time": "2023-03-15T08:29:50.198Z"
   },
   {
    "duration": 57,
    "start_time": "2023-03-15T08:29:50.315Z"
   },
   {
    "duration": 113,
    "start_time": "2023-03-15T08:29:50.374Z"
   },
   {
    "duration": 105,
    "start_time": "2023-03-15T08:29:50.491Z"
   },
   {
    "duration": 914,
    "start_time": "2023-03-15T08:29:50.598Z"
   },
   {
    "duration": 31,
    "start_time": "2023-03-15T08:29:51.514Z"
   },
   {
    "duration": 92,
    "start_time": "2023-03-15T08:29:51.546Z"
   },
   {
    "duration": 527,
    "start_time": "2023-03-15T08:29:51.639Z"
   },
   {
    "duration": 108,
    "start_time": "2023-03-15T08:29:52.169Z"
   },
   {
    "duration": 23,
    "start_time": "2023-03-15T08:29:52.279Z"
   },
   {
    "duration": 116,
    "start_time": "2023-03-15T08:29:52.304Z"
   },
   {
    "duration": 102,
    "start_time": "2023-03-15T08:29:52.421Z"
   },
   {
    "duration": 109,
    "start_time": "2023-03-15T08:29:52.525Z"
   },
   {
    "duration": 33,
    "start_time": "2023-03-15T08:29:52.636Z"
   },
   {
    "duration": 107,
    "start_time": "2023-03-15T08:29:52.671Z"
   },
   {
    "duration": 104,
    "start_time": "2023-03-15T08:29:52.780Z"
   },
   {
    "duration": 713,
    "start_time": "2023-03-15T08:29:52.886Z"
   },
   {
    "duration": 22,
    "start_time": "2023-03-15T08:29:53.601Z"
   },
   {
    "duration": 99,
    "start_time": "2023-03-15T08:29:53.625Z"
   },
   {
    "duration": 88,
    "start_time": "2023-03-15T08:29:53.726Z"
   },
   {
    "duration": 14,
    "start_time": "2023-03-15T08:29:53.815Z"
   },
   {
    "duration": 111,
    "start_time": "2023-03-15T08:29:53.831Z"
   },
   {
    "duration": 87,
    "start_time": "2023-03-15T08:29:53.946Z"
   },
   {
    "duration": 168,
    "start_time": "2023-03-15T08:29:54.034Z"
   },
   {
    "duration": 150,
    "start_time": "2023-03-15T08:29:54.204Z"
   },
   {
    "duration": 132,
    "start_time": "2023-03-15T08:29:54.355Z"
   },
   {
    "duration": 11,
    "start_time": "2023-03-15T08:29:54.489Z"
   },
   {
    "duration": 28,
    "start_time": "2023-03-15T08:29:54.501Z"
   },
   {
    "duration": 76,
    "start_time": "2023-03-15T08:29:54.531Z"
   },
   {
    "duration": 3,
    "start_time": "2023-03-15T08:29:54.609Z"
   },
   {
    "duration": 4,
    "start_time": "2023-03-15T08:29:54.617Z"
   },
   {
    "duration": 7,
    "start_time": "2023-03-15T08:29:54.623Z"
   },
   {
    "duration": 42,
    "start_time": "2023-03-15T08:29:54.632Z"
   },
   {
    "duration": 3,
    "start_time": "2023-03-15T08:29:54.675Z"
   },
   {
    "duration": 170,
    "start_time": "2023-03-15T08:29:54.679Z"
   },
   {
    "duration": 41872,
    "start_time": "2023-03-15T08:29:54.851Z"
   },
   {
    "duration": 14012,
    "start_time": "2023-03-15T08:30:36.725Z"
   },
   {
    "duration": 11828,
    "start_time": "2023-03-15T08:30:50.739Z"
   },
   {
    "duration": 12,
    "start_time": "2023-03-15T08:31:02.569Z"
   },
   {
    "duration": 20007,
    "start_time": "2023-03-15T08:31:02.583Z"
   },
   {
    "duration": 177,
    "start_time": "2023-03-15T08:31:22.592Z"
   },
   {
    "duration": 5,
    "start_time": "2023-03-15T08:31:22.772Z"
   },
   {
    "duration": 116,
    "start_time": "2023-03-15T08:31:22.782Z"
   },
   {
    "duration": 122,
    "start_time": "2023-03-15T08:31:22.900Z"
   },
   {
    "duration": 0,
    "start_time": "2023-03-15T08:31:23.023Z"
   },
   {
    "duration": 0,
    "start_time": "2023-03-15T08:31:23.024Z"
   },
   {
    "duration": 0,
    "start_time": "2023-03-15T08:31:23.026Z"
   },
   {
    "duration": 0,
    "start_time": "2023-03-15T08:31:23.027Z"
   },
   {
    "duration": 0,
    "start_time": "2023-03-15T08:31:23.028Z"
   },
   {
    "duration": 0,
    "start_time": "2023-03-15T08:31:23.029Z"
   },
   {
    "duration": 0,
    "start_time": "2023-03-15T08:31:23.030Z"
   },
   {
    "duration": 0,
    "start_time": "2023-03-15T08:31:23.032Z"
   },
   {
    "duration": 0,
    "start_time": "2023-03-15T08:31:23.033Z"
   },
   {
    "duration": 0,
    "start_time": "2023-03-15T08:31:23.034Z"
   },
   {
    "duration": 0,
    "start_time": "2023-03-15T08:31:23.036Z"
   },
   {
    "duration": 0,
    "start_time": "2023-03-15T08:31:23.037Z"
   },
   {
    "duration": 0,
    "start_time": "2023-03-15T08:31:23.038Z"
   },
   {
    "duration": 0,
    "start_time": "2023-03-15T08:31:23.039Z"
   },
   {
    "duration": 0,
    "start_time": "2023-03-15T08:31:23.069Z"
   },
   {
    "duration": 25,
    "start_time": "2023-03-15T08:31:32.812Z"
   },
   {
    "duration": 11,
    "start_time": "2023-03-15T08:33:22.516Z"
   },
   {
    "duration": 2394,
    "start_time": "2023-03-15T08:46:52.008Z"
   },
   {
    "duration": 1344,
    "start_time": "2023-03-15T08:46:54.404Z"
   },
   {
    "duration": 875,
    "start_time": "2023-03-15T08:46:55.750Z"
   },
   {
    "duration": 4,
    "start_time": "2023-03-15T08:46:56.626Z"
   },
   {
    "duration": 156,
    "start_time": "2023-03-15T08:46:56.632Z"
   },
   {
    "duration": 477,
    "start_time": "2023-03-15T08:46:56.789Z"
   },
   {
    "duration": 503,
    "start_time": "2023-03-15T08:46:57.272Z"
   },
   {
    "duration": 466,
    "start_time": "2023-03-15T08:46:57.781Z"
   },
   {
    "duration": 154,
    "start_time": "2023-03-15T08:46:58.249Z"
   },
   {
    "duration": 99,
    "start_time": "2023-03-15T08:46:58.404Z"
   },
   {
    "duration": 127,
    "start_time": "2023-03-15T08:46:58.505Z"
   },
   {
    "duration": 60,
    "start_time": "2023-03-15T08:46:58.634Z"
   },
   {
    "duration": 128,
    "start_time": "2023-03-15T08:46:58.696Z"
   },
   {
    "duration": 104,
    "start_time": "2023-03-15T08:46:58.828Z"
   },
   {
    "duration": 993,
    "start_time": "2023-03-15T08:46:58.934Z"
   },
   {
    "duration": 30,
    "start_time": "2023-03-15T08:46:59.928Z"
   },
   {
    "duration": 122,
    "start_time": "2023-03-15T08:46:59.959Z"
   },
   {
    "duration": 538,
    "start_time": "2023-03-15T08:47:00.083Z"
   },
   {
    "duration": 118,
    "start_time": "2023-03-15T08:47:00.622Z"
   },
   {
    "duration": 37,
    "start_time": "2023-03-15T08:47:00.742Z"
   },
   {
    "duration": 102,
    "start_time": "2023-03-15T08:47:00.783Z"
   },
   {
    "duration": 105,
    "start_time": "2023-03-15T08:47:00.887Z"
   },
   {
    "duration": 124,
    "start_time": "2023-03-15T08:47:00.993Z"
   },
   {
    "duration": 25,
    "start_time": "2023-03-15T08:47:01.118Z"
   },
   {
    "duration": 142,
    "start_time": "2023-03-15T08:47:01.144Z"
   },
   {
    "duration": 109,
    "start_time": "2023-03-15T08:47:01.287Z"
   },
   {
    "duration": 754,
    "start_time": "2023-03-15T08:47:01.398Z"
   },
   {
    "duration": 31,
    "start_time": "2023-03-15T08:47:02.154Z"
   },
   {
    "duration": 109,
    "start_time": "2023-03-15T08:47:02.186Z"
   },
   {
    "duration": 93,
    "start_time": "2023-03-15T08:47:02.296Z"
   },
   {
    "duration": 15,
    "start_time": "2023-03-15T08:47:02.391Z"
   },
   {
    "duration": 122,
    "start_time": "2023-03-15T08:47:02.408Z"
   },
   {
    "duration": 81,
    "start_time": "2023-03-15T08:47:02.532Z"
   },
   {
    "duration": 140,
    "start_time": "2023-03-15T08:47:02.614Z"
   },
   {
    "duration": 166,
    "start_time": "2023-03-15T08:47:02.756Z"
   },
   {
    "duration": 125,
    "start_time": "2023-03-15T08:47:02.924Z"
   },
   {
    "duration": 11,
    "start_time": "2023-03-15T08:47:03.050Z"
   },
   {
    "duration": 35,
    "start_time": "2023-03-15T08:47:03.068Z"
   },
   {
    "duration": 95,
    "start_time": "2023-03-15T08:47:03.105Z"
   },
   {
    "duration": 4,
    "start_time": "2023-03-15T08:47:03.202Z"
   },
   {
    "duration": 17,
    "start_time": "2023-03-15T08:47:03.210Z"
   },
   {
    "duration": 15,
    "start_time": "2023-03-15T08:47:03.228Z"
   },
   {
    "duration": 32,
    "start_time": "2023-03-15T08:47:03.244Z"
   },
   {
    "duration": 7,
    "start_time": "2023-03-15T08:47:03.278Z"
   },
   {
    "duration": 197,
    "start_time": "2023-03-15T08:47:03.288Z"
   },
   {
    "duration": 43194,
    "start_time": "2023-03-15T08:47:03.486Z"
   },
   {
    "duration": 12402,
    "start_time": "2023-03-15T08:47:46.682Z"
   },
   {
    "duration": 12015,
    "start_time": "2023-03-15T08:47:59.085Z"
   },
   {
    "duration": 25,
    "start_time": "2023-03-15T08:48:11.101Z"
   },
   {
    "duration": 3471,
    "start_time": "2023-03-15T08:48:11.128Z"
   },
   {
    "duration": 1111,
    "start_time": "2023-03-15T08:48:14.601Z"
   },
   {
    "duration": 10,
    "start_time": "2023-03-15T08:48:15.715Z"
   },
   {
    "duration": 0,
    "start_time": "2023-03-15T08:48:15.727Z"
   },
   {
    "duration": 0,
    "start_time": "2023-03-15T08:48:15.728Z"
   },
   {
    "duration": 0,
    "start_time": "2023-03-15T08:48:15.729Z"
   },
   {
    "duration": 0,
    "start_time": "2023-03-15T08:48:15.731Z"
   },
   {
    "duration": 0,
    "start_time": "2023-03-15T08:48:15.732Z"
   },
   {
    "duration": 0,
    "start_time": "2023-03-15T08:48:15.733Z"
   },
   {
    "duration": 0,
    "start_time": "2023-03-15T08:48:15.734Z"
   },
   {
    "duration": 0,
    "start_time": "2023-03-15T08:48:15.735Z"
   },
   {
    "duration": 0,
    "start_time": "2023-03-15T08:48:15.736Z"
   },
   {
    "duration": 0,
    "start_time": "2023-03-15T08:48:15.737Z"
   },
   {
    "duration": 0,
    "start_time": "2023-03-15T08:48:15.739Z"
   },
   {
    "duration": 0,
    "start_time": "2023-03-15T08:48:15.740Z"
   },
   {
    "duration": 0,
    "start_time": "2023-03-15T08:48:15.741Z"
   },
   {
    "duration": 0,
    "start_time": "2023-03-15T08:48:15.742Z"
   },
   {
    "duration": 0,
    "start_time": "2023-03-15T08:48:15.743Z"
   },
   {
    "duration": 0,
    "start_time": "2023-03-15T08:48:15.744Z"
   },
   {
    "duration": 0,
    "start_time": "2023-03-15T08:48:15.745Z"
   },
   {
    "duration": 2218,
    "start_time": "2023-03-15T08:52:15.864Z"
   },
   {
    "duration": 1330,
    "start_time": "2023-03-15T08:52:18.084Z"
   },
   {
    "duration": 838,
    "start_time": "2023-03-15T08:52:19.415Z"
   },
   {
    "duration": 3,
    "start_time": "2023-03-15T08:52:20.255Z"
   },
   {
    "duration": 128,
    "start_time": "2023-03-15T08:52:20.269Z"
   },
   {
    "duration": 478,
    "start_time": "2023-03-15T08:52:20.399Z"
   },
   {
    "duration": 511,
    "start_time": "2023-03-15T08:52:20.878Z"
   },
   {
    "duration": 469,
    "start_time": "2023-03-15T08:52:21.390Z"
   },
   {
    "duration": 125,
    "start_time": "2023-03-15T08:52:21.861Z"
   },
   {
    "duration": 93,
    "start_time": "2023-03-15T08:52:21.989Z"
   },
   {
    "duration": 115,
    "start_time": "2023-03-15T08:52:22.084Z"
   },
   {
    "duration": 51,
    "start_time": "2023-03-15T08:52:22.201Z"
   },
   {
    "duration": 122,
    "start_time": "2023-03-15T08:52:22.253Z"
   },
   {
    "duration": 97,
    "start_time": "2023-03-15T08:52:22.377Z"
   },
   {
    "duration": 1045,
    "start_time": "2023-03-15T08:52:22.476Z"
   },
   {
    "duration": 31,
    "start_time": "2023-03-15T08:52:23.523Z"
   },
   {
    "duration": 95,
    "start_time": "2023-03-15T08:52:23.555Z"
   },
   {
    "duration": 649,
    "start_time": "2023-03-15T08:52:23.652Z"
   },
   {
    "duration": 119,
    "start_time": "2023-03-15T08:52:24.302Z"
   },
   {
    "duration": 24,
    "start_time": "2023-03-15T08:52:24.423Z"
   },
   {
    "duration": 111,
    "start_time": "2023-03-15T08:52:24.448Z"
   },
   {
    "duration": 102,
    "start_time": "2023-03-15T08:52:24.560Z"
   },
   {
    "duration": 94,
    "start_time": "2023-03-15T08:52:24.668Z"
   },
   {
    "duration": 29,
    "start_time": "2023-03-15T08:52:24.769Z"
   },
   {
    "duration": 109,
    "start_time": "2023-03-15T08:52:24.800Z"
   },
   {
    "duration": 101,
    "start_time": "2023-03-15T08:52:24.910Z"
   },
   {
    "duration": 765,
    "start_time": "2023-03-15T08:52:25.013Z"
   },
   {
    "duration": 25,
    "start_time": "2023-03-15T08:52:25.781Z"
   },
   {
    "duration": 105,
    "start_time": "2023-03-15T08:52:25.808Z"
   },
   {
    "duration": 95,
    "start_time": "2023-03-15T08:52:25.915Z"
   },
   {
    "duration": 15,
    "start_time": "2023-03-15T08:52:26.012Z"
   },
   {
    "duration": 103,
    "start_time": "2023-03-15T08:52:26.029Z"
   },
   {
    "duration": 76,
    "start_time": "2023-03-15T08:52:26.133Z"
   },
   {
    "duration": 138,
    "start_time": "2023-03-15T08:52:26.211Z"
   },
   {
    "duration": 146,
    "start_time": "2023-03-15T08:52:26.351Z"
   },
   {
    "duration": 122,
    "start_time": "2023-03-15T08:52:26.499Z"
   },
   {
    "duration": 12,
    "start_time": "2023-03-15T08:52:26.622Z"
   },
   {
    "duration": 34,
    "start_time": "2023-03-15T08:52:26.636Z"
   },
   {
    "duration": 76,
    "start_time": "2023-03-15T08:52:26.672Z"
   },
   {
    "duration": 4,
    "start_time": "2023-03-15T08:52:26.750Z"
   },
   {
    "duration": 17,
    "start_time": "2023-03-15T08:52:26.755Z"
   },
   {
    "duration": 10,
    "start_time": "2023-03-15T08:52:26.773Z"
   },
   {
    "duration": 23,
    "start_time": "2023-03-15T08:52:26.784Z"
   },
   {
    "duration": 3,
    "start_time": "2023-03-15T08:52:26.808Z"
   },
   {
    "duration": 199,
    "start_time": "2023-03-15T08:52:26.813Z"
   },
   {
    "duration": 44548,
    "start_time": "2023-03-15T08:52:27.014Z"
   },
   {
    "duration": 14751,
    "start_time": "2023-03-15T08:53:11.563Z"
   },
   {
    "duration": 14878,
    "start_time": "2023-03-15T08:53:26.316Z"
   },
   {
    "duration": 24,
    "start_time": "2023-03-15T08:53:41.196Z"
   },
   {
    "duration": 18971,
    "start_time": "2023-03-15T08:53:41.222Z"
   },
   {
    "duration": 78,
    "start_time": "2023-03-15T08:54:00.195Z"
   },
   {
    "duration": 117,
    "start_time": "2023-03-15T08:54:00.275Z"
   },
   {
    "duration": 34,
    "start_time": "2023-03-15T08:54:00.394Z"
   },
   {
    "duration": 111,
    "start_time": "2023-03-15T08:54:00.430Z"
   },
   {
    "duration": 0,
    "start_time": "2023-03-15T08:54:00.543Z"
   },
   {
    "duration": 0,
    "start_time": "2023-03-15T08:54:00.544Z"
   },
   {
    "duration": 0,
    "start_time": "2023-03-15T08:54:00.546Z"
   },
   {
    "duration": 0,
    "start_time": "2023-03-15T08:54:00.547Z"
   },
   {
    "duration": 0,
    "start_time": "2023-03-15T08:54:00.548Z"
   },
   {
    "duration": 0,
    "start_time": "2023-03-15T08:54:00.549Z"
   },
   {
    "duration": 0,
    "start_time": "2023-03-15T08:54:00.550Z"
   },
   {
    "duration": 0,
    "start_time": "2023-03-15T08:54:00.551Z"
   },
   {
    "duration": 0,
    "start_time": "2023-03-15T08:54:00.552Z"
   },
   {
    "duration": 0,
    "start_time": "2023-03-15T08:54:00.553Z"
   },
   {
    "duration": 0,
    "start_time": "2023-03-15T08:54:00.554Z"
   },
   {
    "duration": 0,
    "start_time": "2023-03-15T08:54:00.555Z"
   },
   {
    "duration": 0,
    "start_time": "2023-03-15T08:54:00.569Z"
   },
   {
    "duration": 0,
    "start_time": "2023-03-15T08:54:00.570Z"
   },
   {
    "duration": 0,
    "start_time": "2023-03-15T08:54:00.571Z"
   },
   {
    "duration": 559,
    "start_time": "2023-03-15T09:04:03.613Z"
   },
   {
    "duration": 6,
    "start_time": "2023-03-15T09:04:24.011Z"
   },
   {
    "duration": 149,
    "start_time": "2023-03-15T09:07:27.205Z"
   },
   {
    "duration": 65009,
    "start_time": "2023-03-15T09:08:01.635Z"
   },
   {
    "duration": 21319,
    "start_time": "2023-03-15T09:10:34.930Z"
   },
   {
    "duration": 418,
    "start_time": "2023-03-15T09:10:56.251Z"
   },
   {
    "duration": 4,
    "start_time": "2023-03-15T09:10:56.671Z"
   },
   {
    "duration": 12,
    "start_time": "2023-03-15T09:12:50.626Z"
   },
   {
    "duration": 158,
    "start_time": "2023-03-15T09:17:24.536Z"
   },
   {
    "duration": 28,
    "start_time": "2023-03-15T09:17:41.528Z"
   },
   {
    "duration": 10,
    "start_time": "2023-03-15T09:19:20.636Z"
   },
   {
    "duration": 15,
    "start_time": "2023-03-15T09:19:21.776Z"
   },
   {
    "duration": 30,
    "start_time": "2023-03-15T09:19:22.737Z"
   },
   {
    "duration": 2312,
    "start_time": "2023-03-15T09:19:29.522Z"
   },
   {
    "duration": 1278,
    "start_time": "2023-03-15T09:19:31.836Z"
   },
   {
    "duration": 1081,
    "start_time": "2023-03-15T09:19:33.117Z"
   },
   {
    "duration": 5,
    "start_time": "2023-03-15T09:19:34.200Z"
   },
   {
    "duration": 256,
    "start_time": "2023-03-15T09:19:34.208Z"
   },
   {
    "duration": 643,
    "start_time": "2023-03-15T09:19:34.466Z"
   },
   {
    "duration": 540,
    "start_time": "2023-03-15T09:19:35.111Z"
   },
   {
    "duration": 469,
    "start_time": "2023-03-15T09:19:35.653Z"
   },
   {
    "duration": 151,
    "start_time": "2023-03-15T09:19:36.125Z"
   },
   {
    "duration": 91,
    "start_time": "2023-03-15T09:19:36.278Z"
   },
   {
    "duration": 117,
    "start_time": "2023-03-15T09:19:36.371Z"
   },
   {
    "duration": 52,
    "start_time": "2023-03-15T09:19:36.490Z"
   },
   {
    "duration": 127,
    "start_time": "2023-03-15T09:19:36.544Z"
   },
   {
    "duration": 103,
    "start_time": "2023-03-15T09:19:36.674Z"
   },
   {
    "duration": 1105,
    "start_time": "2023-03-15T09:19:36.779Z"
   },
   {
    "duration": 37,
    "start_time": "2023-03-15T09:19:37.887Z"
   },
   {
    "duration": 93,
    "start_time": "2023-03-15T09:19:37.927Z"
   },
   {
    "duration": 551,
    "start_time": "2023-03-15T09:19:38.022Z"
   },
   {
    "duration": 120,
    "start_time": "2023-03-15T09:19:38.575Z"
   },
   {
    "duration": 25,
    "start_time": "2023-03-15T09:19:38.697Z"
   },
   {
    "duration": 122,
    "start_time": "2023-03-15T09:19:38.724Z"
   },
   {
    "duration": 103,
    "start_time": "2023-03-15T09:19:38.848Z"
   },
   {
    "duration": 102,
    "start_time": "2023-03-15T09:19:38.953Z"
   },
   {
    "duration": 39,
    "start_time": "2023-03-15T09:19:39.057Z"
   },
   {
    "duration": 120,
    "start_time": "2023-03-15T09:19:39.098Z"
   },
   {
    "duration": 107,
    "start_time": "2023-03-15T09:19:39.220Z"
   },
   {
    "duration": 798,
    "start_time": "2023-03-15T09:19:39.329Z"
   },
   {
    "duration": 28,
    "start_time": "2023-03-15T09:19:40.129Z"
   },
   {
    "duration": 95,
    "start_time": "2023-03-15T09:19:40.159Z"
   },
   {
    "duration": 94,
    "start_time": "2023-03-15T09:19:40.255Z"
   },
   {
    "duration": 30,
    "start_time": "2023-03-15T09:19:40.351Z"
   },
   {
    "duration": 101,
    "start_time": "2023-03-15T09:19:40.383Z"
   },
   {
    "duration": 92,
    "start_time": "2023-03-15T09:19:40.486Z"
   },
   {
    "duration": 164,
    "start_time": "2023-03-15T09:19:40.580Z"
   },
   {
    "duration": 224,
    "start_time": "2023-03-15T09:19:40.746Z"
   },
   {
    "duration": 123,
    "start_time": "2023-03-15T09:19:40.972Z"
   },
   {
    "duration": 13,
    "start_time": "2023-03-15T09:19:41.097Z"
   },
   {
    "duration": 24,
    "start_time": "2023-03-15T09:19:41.112Z"
   },
   {
    "duration": 91,
    "start_time": "2023-03-15T09:19:41.143Z"
   },
   {
    "duration": 6,
    "start_time": "2023-03-15T09:19:41.237Z"
   },
   {
    "duration": 18,
    "start_time": "2023-03-15T09:19:41.249Z"
   },
   {
    "duration": 7,
    "start_time": "2023-03-15T09:19:41.269Z"
   },
   {
    "duration": 32,
    "start_time": "2023-03-15T09:19:41.278Z"
   },
   {
    "duration": 3,
    "start_time": "2023-03-15T09:19:41.312Z"
   },
   {
    "duration": 213,
    "start_time": "2023-03-15T09:19:41.317Z"
   },
   {
    "duration": 43323,
    "start_time": "2023-03-15T09:19:41.532Z"
   },
   {
    "duration": 12188,
    "start_time": "2023-03-15T09:20:24.857Z"
   },
   {
    "duration": 11843,
    "start_time": "2023-03-15T09:20:37.046Z"
   },
   {
    "duration": 24,
    "start_time": "2023-03-15T09:20:48.891Z"
   },
   {
    "duration": 38568,
    "start_time": "2023-03-15T09:20:48.917Z"
   },
   {
    "duration": 91,
    "start_time": "2023-03-15T09:21:27.487Z"
   },
   {
    "duration": 134,
    "start_time": "2023-03-15T09:21:27.580Z"
   },
   {
    "duration": 19,
    "start_time": "2023-03-15T09:21:27.717Z"
   },
   {
    "duration": 172,
    "start_time": "2023-03-15T09:21:27.739Z"
   },
   {
    "duration": 1,
    "start_time": "2023-03-15T09:21:27.916Z"
   },
   {
    "duration": 0,
    "start_time": "2023-03-15T09:21:27.918Z"
   },
   {
    "duration": 0,
    "start_time": "2023-03-15T09:21:27.920Z"
   },
   {
    "duration": 0,
    "start_time": "2023-03-15T09:21:27.921Z"
   },
   {
    "duration": 0,
    "start_time": "2023-03-15T09:21:27.922Z"
   },
   {
    "duration": 0,
    "start_time": "2023-03-15T09:21:27.923Z"
   },
   {
    "duration": 0,
    "start_time": "2023-03-15T09:21:27.926Z"
   },
   {
    "duration": 0,
    "start_time": "2023-03-15T09:21:27.928Z"
   },
   {
    "duration": 0,
    "start_time": "2023-03-15T09:21:27.929Z"
   },
   {
    "duration": 0,
    "start_time": "2023-03-15T09:21:27.931Z"
   },
   {
    "duration": 0,
    "start_time": "2023-03-15T09:21:27.934Z"
   },
   {
    "duration": 0,
    "start_time": "2023-03-15T09:21:27.936Z"
   },
   {
    "duration": 0,
    "start_time": "2023-03-15T09:21:27.937Z"
   },
   {
    "duration": 0,
    "start_time": "2023-03-15T09:21:27.939Z"
   },
   {
    "duration": 0,
    "start_time": "2023-03-15T09:21:27.940Z"
   },
   {
    "duration": 1,
    "start_time": "2023-03-15T09:21:27.942Z"
   },
   {
    "duration": 0,
    "start_time": "2023-03-15T09:21:27.944Z"
   },
   {
    "duration": 0,
    "start_time": "2023-03-15T09:21:27.945Z"
   },
   {
    "duration": 0,
    "start_time": "2023-03-15T09:21:27.947Z"
   },
   {
    "duration": 408,
    "start_time": "2023-03-15T09:22:05.254Z"
   },
   {
    "duration": 6,
    "start_time": "2023-03-15T09:22:08.539Z"
   },
   {
    "duration": 31999,
    "start_time": "2023-03-15T09:22:10.822Z"
   },
   {
    "duration": 9446,
    "start_time": "2023-03-15T09:22:42.823Z"
   },
   {
    "duration": 6897,
    "start_time": "2023-03-15T11:17:51.027Z"
   },
   {
    "duration": 1502,
    "start_time": "2023-03-15T11:17:57.926Z"
   },
   {
    "duration": 1075,
    "start_time": "2023-03-15T11:17:59.430Z"
   },
   {
    "duration": 3,
    "start_time": "2023-03-15T11:18:00.507Z"
   },
   {
    "duration": 153,
    "start_time": "2023-03-15T11:18:00.512Z"
   },
   {
    "duration": 457,
    "start_time": "2023-03-15T11:18:00.667Z"
   },
   {
    "duration": 525,
    "start_time": "2023-03-15T11:18:01.126Z"
   },
   {
    "duration": 468,
    "start_time": "2023-03-15T11:18:01.653Z"
   },
   {
    "duration": 135,
    "start_time": "2023-03-15T11:18:02.123Z"
   },
   {
    "duration": 92,
    "start_time": "2023-03-15T11:18:02.260Z"
   },
   {
    "duration": 118,
    "start_time": "2023-03-15T11:18:02.354Z"
   },
   {
    "duration": 62,
    "start_time": "2023-03-15T11:18:02.473Z"
   },
   {
    "duration": 122,
    "start_time": "2023-03-15T11:18:02.537Z"
   },
   {
    "duration": 97,
    "start_time": "2023-03-15T11:18:02.661Z"
   },
   {
    "duration": 952,
    "start_time": "2023-03-15T11:18:02.760Z"
   },
   {
    "duration": 43,
    "start_time": "2023-03-15T11:18:03.714Z"
   },
   {
    "duration": 80,
    "start_time": "2023-03-15T11:18:03.759Z"
   },
   {
    "duration": 626,
    "start_time": "2023-03-15T11:18:03.840Z"
   },
   {
    "duration": 141,
    "start_time": "2023-03-15T11:18:04.468Z"
   },
   {
    "duration": 24,
    "start_time": "2023-03-15T11:18:04.610Z"
   },
   {
    "duration": 133,
    "start_time": "2023-03-15T11:18:04.636Z"
   },
   {
    "duration": 107,
    "start_time": "2023-03-15T11:18:04.770Z"
   },
   {
    "duration": 110,
    "start_time": "2023-03-15T11:18:04.878Z"
   },
   {
    "duration": 116,
    "start_time": "2023-03-15T11:18:04.989Z"
   },
   {
    "duration": 120,
    "start_time": "2023-03-15T11:18:05.107Z"
   },
   {
    "duration": 147,
    "start_time": "2023-03-15T11:18:05.229Z"
   },
   {
    "duration": 755,
    "start_time": "2023-03-15T11:18:05.379Z"
   },
   {
    "duration": 32,
    "start_time": "2023-03-15T11:18:06.140Z"
   },
   {
    "duration": 121,
    "start_time": "2023-03-15T11:18:06.173Z"
   },
   {
    "duration": 125,
    "start_time": "2023-03-15T11:18:06.296Z"
   },
   {
    "duration": 15,
    "start_time": "2023-03-15T11:18:06.423Z"
   },
   {
    "duration": 122,
    "start_time": "2023-03-15T11:18:06.440Z"
   },
   {
    "duration": 79,
    "start_time": "2023-03-15T11:18:06.564Z"
   },
   {
    "duration": 152,
    "start_time": "2023-03-15T11:18:06.657Z"
   },
   {
    "duration": 161,
    "start_time": "2023-03-15T11:18:06.811Z"
   },
   {
    "duration": 124,
    "start_time": "2023-03-15T11:18:06.974Z"
   },
   {
    "duration": 11,
    "start_time": "2023-03-15T11:18:07.099Z"
   },
   {
    "duration": 20,
    "start_time": "2023-03-15T11:18:07.112Z"
   },
   {
    "duration": 97,
    "start_time": "2023-03-15T11:18:07.134Z"
   },
   {
    "duration": 5,
    "start_time": "2023-03-15T11:18:07.233Z"
   },
   {
    "duration": 6,
    "start_time": "2023-03-15T11:18:07.239Z"
   },
   {
    "duration": 22,
    "start_time": "2023-03-15T11:18:07.246Z"
   },
   {
    "duration": 27,
    "start_time": "2023-03-15T11:18:07.270Z"
   },
   {
    "duration": 3,
    "start_time": "2023-03-15T11:18:07.299Z"
   },
   {
    "duration": 176,
    "start_time": "2023-03-15T11:18:07.303Z"
   },
   {
    "duration": 44697,
    "start_time": "2023-03-15T11:18:07.480Z"
   },
   {
    "duration": 11292,
    "start_time": "2023-03-15T11:18:52.179Z"
   },
   {
    "duration": 12300,
    "start_time": "2023-03-15T11:19:03.473Z"
   },
   {
    "duration": 24,
    "start_time": "2023-03-15T11:19:15.774Z"
   },
   {
    "duration": 17681,
    "start_time": "2023-03-15T11:19:15.800Z"
   },
   {
    "duration": 83,
    "start_time": "2023-03-15T11:19:33.483Z"
   },
   {
    "duration": 5,
    "start_time": "2023-03-15T11:19:33.658Z"
   },
   {
    "duration": 15,
    "start_time": "2023-03-15T11:19:33.664Z"
   },
   {
    "duration": 420,
    "start_time": "2023-03-15T11:19:33.681Z"
   },
   {
    "duration": 4,
    "start_time": "2023-03-15T11:19:34.103Z"
   },
   {
    "duration": 26184,
    "start_time": "2023-03-15T11:19:34.109Z"
   },
   {
    "duration": 8080,
    "start_time": "2023-03-15T11:20:00.294Z"
   },
   {
    "duration": 355,
    "start_time": "2023-03-15T11:20:08.375Z"
   },
   {
    "duration": 4,
    "start_time": "2023-03-15T11:20:08.732Z"
   },
   {
    "duration": 35,
    "start_time": "2023-03-15T11:20:08.738Z"
   },
   {
    "duration": 175,
    "start_time": "2023-03-15T11:20:08.775Z"
   },
   {
    "duration": 21,
    "start_time": "2023-03-15T11:20:08.951Z"
   },
   {
    "duration": 20,
    "start_time": "2023-03-15T11:20:08.974Z"
   },
   {
    "duration": 41,
    "start_time": "2023-03-15T11:20:08.996Z"
   },
   {
    "duration": 25,
    "start_time": "2023-03-15T11:20:09.038Z"
   },
   {
    "duration": 43,
    "start_time": "2023-03-15T11:20:09.064Z"
   },
   {
    "duration": 41,
    "start_time": "2023-03-15T11:20:09.109Z"
   },
   {
    "duration": 41,
    "start_time": "2023-03-15T11:20:09.152Z"
   },
   {
    "duration": 37,
    "start_time": "2023-03-15T11:20:09.195Z"
   },
   {
    "duration": 45,
    "start_time": "2023-03-15T11:20:09.234Z"
   },
   {
    "duration": 43,
    "start_time": "2023-03-15T11:20:09.280Z"
   },
   {
    "duration": 22,
    "start_time": "2023-03-15T11:20:09.325Z"
   },
   {
    "duration": 46,
    "start_time": "2023-03-15T11:20:09.348Z"
   },
   {
    "duration": 4,
    "start_time": "2023-03-15T11:21:41.963Z"
   },
   {
    "duration": 10,
    "start_time": "2023-03-15T11:21:52.019Z"
   },
   {
    "duration": 19,
    "start_time": "2023-03-15T11:21:53.029Z"
   },
   {
    "duration": 170,
    "start_time": "2023-03-15T11:23:56.119Z"
   },
   {
    "duration": 21,
    "start_time": "2023-03-15T11:23:57.175Z"
   },
   {
    "duration": 10,
    "start_time": "2023-03-15T11:24:06.829Z"
   },
   {
    "duration": 2189,
    "start_time": "2023-03-15T11:24:32.023Z"
   },
   {
    "duration": 1231,
    "start_time": "2023-03-15T11:24:34.215Z"
   },
   {
    "duration": 893,
    "start_time": "2023-03-15T11:24:35.450Z"
   },
   {
    "duration": 4,
    "start_time": "2023-03-15T11:24:36.345Z"
   },
   {
    "duration": 143,
    "start_time": "2023-03-15T11:24:36.356Z"
   },
   {
    "duration": 472,
    "start_time": "2023-03-15T11:24:36.500Z"
   },
   {
    "duration": 538,
    "start_time": "2023-03-15T11:24:36.974Z"
   },
   {
    "duration": 453,
    "start_time": "2023-03-15T11:24:37.513Z"
   },
   {
    "duration": 132,
    "start_time": "2023-03-15T11:24:37.968Z"
   },
   {
    "duration": 93,
    "start_time": "2023-03-15T11:24:38.102Z"
   },
   {
    "duration": 117,
    "start_time": "2023-03-15T11:24:38.197Z"
   },
   {
    "duration": 57,
    "start_time": "2023-03-15T11:24:38.315Z"
   },
   {
    "duration": 122,
    "start_time": "2023-03-15T11:24:38.374Z"
   },
   {
    "duration": 99,
    "start_time": "2023-03-15T11:24:38.499Z"
   },
   {
    "duration": 956,
    "start_time": "2023-03-15T11:24:38.600Z"
   },
   {
    "duration": 35,
    "start_time": "2023-03-15T11:24:39.558Z"
   },
   {
    "duration": 97,
    "start_time": "2023-03-15T11:24:39.595Z"
   },
   {
    "duration": 543,
    "start_time": "2023-03-15T11:24:39.694Z"
   },
   {
    "duration": 113,
    "start_time": "2023-03-15T11:24:40.239Z"
   },
   {
    "duration": 25,
    "start_time": "2023-03-15T11:24:40.354Z"
   },
   {
    "duration": 105,
    "start_time": "2023-03-15T11:24:40.381Z"
   },
   {
    "duration": 102,
    "start_time": "2023-03-15T11:24:40.488Z"
   },
   {
    "duration": 100,
    "start_time": "2023-03-15T11:24:40.592Z"
   },
   {
    "duration": 22,
    "start_time": "2023-03-15T11:24:40.694Z"
   },
   {
    "duration": 107,
    "start_time": "2023-03-15T11:24:40.718Z"
   },
   {
    "duration": 105,
    "start_time": "2023-03-15T11:24:40.826Z"
   },
   {
    "duration": 734,
    "start_time": "2023-03-15T11:24:40.933Z"
   },
   {
    "duration": 25,
    "start_time": "2023-03-15T11:24:41.671Z"
   },
   {
    "duration": 107,
    "start_time": "2023-03-15T11:24:41.698Z"
   },
   {
    "duration": 96,
    "start_time": "2023-03-15T11:24:41.806Z"
   },
   {
    "duration": 12,
    "start_time": "2023-03-15T11:24:41.904Z"
   },
   {
    "duration": 106,
    "start_time": "2023-03-15T11:24:41.918Z"
   },
   {
    "duration": 78,
    "start_time": "2023-03-15T11:24:42.026Z"
   },
   {
    "duration": 140,
    "start_time": "2023-03-15T11:24:42.106Z"
   },
   {
    "duration": 146,
    "start_time": "2023-03-15T11:24:42.248Z"
   },
   {
    "duration": 120,
    "start_time": "2023-03-15T11:24:42.395Z"
   },
   {
    "duration": 10,
    "start_time": "2023-03-15T11:24:42.517Z"
   },
   {
    "duration": 34,
    "start_time": "2023-03-15T11:24:42.528Z"
   },
   {
    "duration": 70,
    "start_time": "2023-03-15T11:24:42.564Z"
   },
   {
    "duration": 4,
    "start_time": "2023-03-15T11:24:42.635Z"
   },
   {
    "duration": 19,
    "start_time": "2023-03-15T11:24:42.640Z"
   },
   {
    "duration": 6,
    "start_time": "2023-03-15T11:24:42.661Z"
   },
   {
    "duration": 22,
    "start_time": "2023-03-15T11:24:42.668Z"
   },
   {
    "duration": 3,
    "start_time": "2023-03-15T11:24:42.691Z"
   },
   {
    "duration": 182,
    "start_time": "2023-03-15T11:24:42.696Z"
   },
   {
    "duration": 44228,
    "start_time": "2023-03-15T11:24:42.879Z"
   },
   {
    "duration": 11303,
    "start_time": "2023-03-15T11:25:27.108Z"
   },
   {
    "duration": 11658,
    "start_time": "2023-03-15T11:25:38.412Z"
   },
   {
    "duration": 24,
    "start_time": "2023-03-15T11:25:50.072Z"
   },
   {
    "duration": 14879,
    "start_time": "2023-03-15T11:25:50.098Z"
   },
   {
    "duration": 81,
    "start_time": "2023-03-15T11:26:04.978Z"
   },
   {
    "duration": 96,
    "start_time": "2023-03-15T11:26:05.061Z"
   },
   {
    "duration": 10,
    "start_time": "2023-03-15T11:26:05.159Z"
   },
   {
    "duration": 22,
    "start_time": "2023-03-15T11:26:05.171Z"
   },
   {
    "duration": 176,
    "start_time": "2023-03-15T11:26:05.195Z"
   },
   {
    "duration": 0,
    "start_time": "2023-03-15T11:26:05.373Z"
   },
   {
    "duration": 0,
    "start_time": "2023-03-15T11:26:05.374Z"
   },
   {
    "duration": 0,
    "start_time": "2023-03-15T11:26:05.376Z"
   },
   {
    "duration": 0,
    "start_time": "2023-03-15T11:26:05.377Z"
   },
   {
    "duration": 0,
    "start_time": "2023-03-15T11:26:05.378Z"
   },
   {
    "duration": 0,
    "start_time": "2023-03-15T11:26:05.379Z"
   },
   {
    "duration": 0,
    "start_time": "2023-03-15T11:26:05.380Z"
   },
   {
    "duration": 0,
    "start_time": "2023-03-15T11:26:05.382Z"
   },
   {
    "duration": 0,
    "start_time": "2023-03-15T11:26:05.383Z"
   },
   {
    "duration": 0,
    "start_time": "2023-03-15T11:26:05.384Z"
   },
   {
    "duration": 0,
    "start_time": "2023-03-15T11:26:05.385Z"
   },
   {
    "duration": 0,
    "start_time": "2023-03-15T11:26:05.385Z"
   },
   {
    "duration": 0,
    "start_time": "2023-03-15T11:26:05.386Z"
   },
   {
    "duration": 0,
    "start_time": "2023-03-15T11:26:05.388Z"
   },
   {
    "duration": 0,
    "start_time": "2023-03-15T11:26:05.389Z"
   },
   {
    "duration": 0,
    "start_time": "2023-03-15T11:26:05.389Z"
   },
   {
    "duration": 0,
    "start_time": "2023-03-15T11:26:05.390Z"
   },
   {
    "duration": 0,
    "start_time": "2023-03-15T11:26:05.391Z"
   },
   {
    "duration": 0,
    "start_time": "2023-03-15T11:26:05.392Z"
   },
   {
    "duration": 10,
    "start_time": "2023-03-15T11:36:24.371Z"
   },
   {
    "duration": 11,
    "start_time": "2023-03-15T11:36:40.351Z"
   },
   {
    "duration": 11,
    "start_time": "2023-03-15T11:43:24.311Z"
   },
   {
    "duration": 11,
    "start_time": "2023-03-15T11:43:31.639Z"
   },
   {
    "duration": 11,
    "start_time": "2023-03-15T11:45:38.906Z"
   },
   {
    "duration": 21,
    "start_time": "2023-03-15T11:45:40.626Z"
   },
   {
    "duration": 11,
    "start_time": "2023-03-15T11:46:10.927Z"
   },
   {
    "duration": 20,
    "start_time": "2023-03-15T11:46:12.207Z"
   },
   {
    "duration": 12,
    "start_time": "2023-03-15T11:46:14.355Z"
   },
   {
    "duration": 11,
    "start_time": "2023-03-15T11:49:57.651Z"
   },
   {
    "duration": 2173,
    "start_time": "2023-03-15T11:50:11.004Z"
   },
   {
    "duration": 1314,
    "start_time": "2023-03-15T11:50:13.180Z"
   },
   {
    "duration": 865,
    "start_time": "2023-03-15T11:50:14.496Z"
   },
   {
    "duration": 4,
    "start_time": "2023-03-15T11:50:15.362Z"
   },
   {
    "duration": 170,
    "start_time": "2023-03-15T11:50:15.368Z"
   },
   {
    "duration": 519,
    "start_time": "2023-03-15T11:50:15.540Z"
   },
   {
    "duration": 520,
    "start_time": "2023-03-15T11:50:16.060Z"
   },
   {
    "duration": 459,
    "start_time": "2023-03-15T11:50:16.582Z"
   },
   {
    "duration": 145,
    "start_time": "2023-03-15T11:50:17.043Z"
   },
   {
    "duration": 97,
    "start_time": "2023-03-15T11:50:17.189Z"
   },
   {
    "duration": 129,
    "start_time": "2023-03-15T11:50:17.287Z"
   },
   {
    "duration": 61,
    "start_time": "2023-03-15T11:50:17.418Z"
   },
   {
    "duration": 121,
    "start_time": "2023-03-15T11:50:17.481Z"
   },
   {
    "duration": 100,
    "start_time": "2023-03-15T11:50:17.605Z"
   },
   {
    "duration": 971,
    "start_time": "2023-03-15T11:50:17.707Z"
   },
   {
    "duration": 33,
    "start_time": "2023-03-15T11:50:18.680Z"
   },
   {
    "duration": 90,
    "start_time": "2023-03-15T11:50:18.715Z"
   },
   {
    "duration": 566,
    "start_time": "2023-03-15T11:50:18.807Z"
   },
   {
    "duration": 115,
    "start_time": "2023-03-15T11:50:19.375Z"
   },
   {
    "duration": 22,
    "start_time": "2023-03-15T11:50:19.492Z"
   },
   {
    "duration": 108,
    "start_time": "2023-03-15T11:50:19.516Z"
   },
   {
    "duration": 102,
    "start_time": "2023-03-15T11:50:19.626Z"
   },
   {
    "duration": 102,
    "start_time": "2023-03-15T11:50:19.730Z"
   },
   {
    "duration": 34,
    "start_time": "2023-03-15T11:50:19.834Z"
   },
   {
    "duration": 107,
    "start_time": "2023-03-15T11:50:19.870Z"
   },
   {
    "duration": 111,
    "start_time": "2023-03-15T11:50:19.979Z"
   },
   {
    "duration": 738,
    "start_time": "2023-03-15T11:50:20.092Z"
   },
   {
    "duration": 33,
    "start_time": "2023-03-15T11:50:20.831Z"
   },
   {
    "duration": 98,
    "start_time": "2023-03-15T11:50:20.866Z"
   },
   {
    "duration": 100,
    "start_time": "2023-03-15T11:50:20.965Z"
   },
   {
    "duration": 15,
    "start_time": "2023-03-15T11:50:21.067Z"
   },
   {
    "duration": 104,
    "start_time": "2023-03-15T11:50:21.084Z"
   },
   {
    "duration": 76,
    "start_time": "2023-03-15T11:50:21.190Z"
   },
   {
    "duration": 141,
    "start_time": "2023-03-15T11:50:21.268Z"
   },
   {
    "duration": 143,
    "start_time": "2023-03-15T11:50:21.411Z"
   },
   {
    "duration": 118,
    "start_time": "2023-03-15T11:50:21.556Z"
   },
   {
    "duration": 11,
    "start_time": "2023-03-15T11:50:21.675Z"
   },
   {
    "duration": 23,
    "start_time": "2023-03-15T11:50:21.688Z"
   },
   {
    "duration": 90,
    "start_time": "2023-03-15T11:50:21.713Z"
   },
   {
    "duration": 4,
    "start_time": "2023-03-15T11:50:21.805Z"
   },
   {
    "duration": 4,
    "start_time": "2023-03-15T11:50:21.813Z"
   },
   {
    "duration": 7,
    "start_time": "2023-03-15T11:50:21.819Z"
   },
   {
    "duration": 33,
    "start_time": "2023-03-15T11:50:21.828Z"
   },
   {
    "duration": 2,
    "start_time": "2023-03-15T11:50:21.863Z"
   },
   {
    "duration": 185,
    "start_time": "2023-03-15T11:50:21.867Z"
   },
   {
    "duration": 44466,
    "start_time": "2023-03-15T11:50:22.054Z"
   },
   {
    "duration": 11483,
    "start_time": "2023-03-15T11:51:06.522Z"
   },
   {
    "duration": 11152,
    "start_time": "2023-03-15T11:51:18.006Z"
   },
   {
    "duration": 24,
    "start_time": "2023-03-15T11:51:29.160Z"
   },
   {
    "duration": 21086,
    "start_time": "2023-03-15T11:51:29.186Z"
   },
   {
    "duration": 86,
    "start_time": "2023-03-15T11:51:50.274Z"
   },
   {
    "duration": 95,
    "start_time": "2023-03-15T11:51:50.363Z"
   },
   {
    "duration": 11,
    "start_time": "2023-03-15T11:51:50.460Z"
   },
   {
    "duration": 20,
    "start_time": "2023-03-15T11:51:50.472Z"
   },
   {
    "duration": 494,
    "start_time": "2023-03-15T11:51:50.493Z"
   },
   {
    "duration": 19,
    "start_time": "2023-03-15T11:51:50.989Z"
   },
   {
    "duration": 10766,
    "start_time": "2023-03-15T11:51:51.009Z"
   },
   {
    "duration": 21254,
    "start_time": "2023-03-15T11:52:01.777Z"
   },
   {
    "duration": 73,
    "start_time": "2023-03-15T11:52:23.033Z"
   },
   {
    "duration": 10,
    "start_time": "2023-03-15T11:52:23.108Z"
   },
   {
    "duration": 0,
    "start_time": "2023-03-15T11:52:23.119Z"
   },
   {
    "duration": 0,
    "start_time": "2023-03-15T11:52:23.121Z"
   },
   {
    "duration": 0,
    "start_time": "2023-03-15T11:52:23.122Z"
   },
   {
    "duration": 0,
    "start_time": "2023-03-15T11:52:23.123Z"
   },
   {
    "duration": 0,
    "start_time": "2023-03-15T11:52:23.124Z"
   },
   {
    "duration": 0,
    "start_time": "2023-03-15T11:52:23.125Z"
   },
   {
    "duration": 0,
    "start_time": "2023-03-15T11:52:23.126Z"
   },
   {
    "duration": 0,
    "start_time": "2023-03-15T11:52:23.127Z"
   },
   {
    "duration": 0,
    "start_time": "2023-03-15T11:52:23.128Z"
   },
   {
    "duration": 0,
    "start_time": "2023-03-15T11:52:23.129Z"
   },
   {
    "duration": 0,
    "start_time": "2023-03-15T11:52:23.130Z"
   },
   {
    "duration": 0,
    "start_time": "2023-03-15T11:52:23.131Z"
   },
   {
    "duration": 0,
    "start_time": "2023-03-15T11:52:23.132Z"
   },
   {
    "duration": 0,
    "start_time": "2023-03-15T11:52:23.133Z"
   },
   {
    "duration": 17,
    "start_time": "2023-03-15T11:52:23.707Z"
   },
   {
    "duration": 391,
    "start_time": "2023-03-15T11:53:15.243Z"
   },
   {
    "duration": 19,
    "start_time": "2023-03-15T11:53:18.156Z"
   },
   {
    "duration": 63435,
    "start_time": "2023-03-15T11:53:24.510Z"
   },
   {
    "duration": 22404,
    "start_time": "2023-03-15T11:55:20.234Z"
   },
   {
    "duration": 327,
    "start_time": "2023-03-15T11:55:42.640Z"
   },
   {
    "duration": 5,
    "start_time": "2023-03-15T11:55:42.969Z"
   },
   {
    "duration": 111,
    "start_time": "2023-03-15T11:59:26.804Z"
   },
   {
    "duration": 184002,
    "start_time": "2023-03-15T11:59:34.801Z"
   },
   {
    "duration": 592,
    "start_time": "2023-03-15T12:02:38.805Z"
   },
   {
    "duration": 5,
    "start_time": "2023-03-15T12:02:39.399Z"
   },
   {
    "duration": 31,
    "start_time": "2023-03-15T12:08:22.440Z"
   },
   {
    "duration": 166,
    "start_time": "2023-03-15T12:08:23.598Z"
   },
   {
    "duration": 21,
    "start_time": "2023-03-15T12:08:24.387Z"
   },
   {
    "duration": 3939,
    "start_time": "2023-03-15T12:18:02.124Z"
   },
   {
    "duration": 283,
    "start_time": "2023-03-15T12:18:46.187Z"
   },
   {
    "duration": 5,
    "start_time": "2023-03-15T12:18:47.587Z"
   },
   {
    "duration": 25,
    "start_time": "2023-03-15T12:23:42.436Z"
   },
   {
    "duration": 10263,
    "start_time": "2023-03-15T12:23:45.603Z"
   },
   {
    "duration": 592,
    "start_time": "2023-03-15T12:23:55.867Z"
   },
   {
    "duration": 5,
    "start_time": "2023-03-15T12:23:56.460Z"
   },
   {
    "duration": 4384,
    "start_time": "2023-03-15T12:24:29.784Z"
   },
   {
    "duration": 592,
    "start_time": "2023-03-15T12:24:34.170Z"
   },
   {
    "duration": 5,
    "start_time": "2023-03-15T12:24:34.763Z"
   },
   {
    "duration": 29,
    "start_time": "2023-03-15T12:25:05.979Z"
   },
   {
    "duration": 21621,
    "start_time": "2023-03-15T12:25:53.588Z"
   },
   {
    "duration": 65,
    "start_time": "2023-03-15T12:26:15.211Z"
   },
   {
    "duration": 4,
    "start_time": "2023-03-15T12:26:15.278Z"
   },
   {
    "duration": 16,
    "start_time": "2023-03-15T12:27:41.643Z"
   },
   {
    "duration": 4,
    "start_time": "2023-03-15T12:28:29.138Z"
   },
   {
    "duration": 305,
    "start_time": "2023-03-15T12:29:14.535Z"
   },
   {
    "duration": 21775,
    "start_time": "2023-03-15T12:29:27.137Z"
   },
   {
    "duration": 59,
    "start_time": "2023-03-15T12:29:48.915Z"
   },
   {
    "duration": 4,
    "start_time": "2023-03-15T12:29:48.976Z"
   },
   {
    "duration": 73,
    "start_time": "2023-03-15T12:29:54.238Z"
   },
   {
    "duration": 3,
    "start_time": "2023-03-15T12:29:55.275Z"
   },
   {
    "duration": 5,
    "start_time": "2023-03-15T12:30:00.753Z"
   },
   {
    "duration": 153746,
    "start_time": "2023-03-15T12:32:15.277Z"
   },
   {
    "duration": 433,
    "start_time": "2023-03-15T12:34:49.025Z"
   },
   {
    "duration": 9,
    "start_time": "2023-03-15T12:34:49.460Z"
   },
   {
    "duration": 440,
    "start_time": "2023-03-15T12:35:34.468Z"
   },
   {
    "duration": 4,
    "start_time": "2023-03-15T12:35:36.022Z"
   },
   {
    "duration": 24495,
    "start_time": "2023-03-15T12:41:01.491Z"
   },
   {
    "duration": 25164,
    "start_time": "2023-03-15T12:41:37.040Z"
   },
   {
    "duration": 64,
    "start_time": "2023-03-15T12:42:20.446Z"
   },
   {
    "duration": 7,
    "start_time": "2023-03-15T12:42:40.275Z"
   },
   {
    "duration": 2210,
    "start_time": "2023-03-15T12:47:43.989Z"
   },
   {
    "duration": 1288,
    "start_time": "2023-03-15T12:47:46.201Z"
   },
   {
    "duration": 867,
    "start_time": "2023-03-15T12:47:47.491Z"
   },
   {
    "duration": 4,
    "start_time": "2023-03-15T12:47:48.360Z"
   },
   {
    "duration": 142,
    "start_time": "2023-03-15T12:47:48.365Z"
   },
   {
    "duration": 472,
    "start_time": "2023-03-15T12:47:48.509Z"
   },
   {
    "duration": 513,
    "start_time": "2023-03-15T12:47:48.982Z"
   },
   {
    "duration": 482,
    "start_time": "2023-03-15T12:47:49.496Z"
   },
   {
    "duration": 144,
    "start_time": "2023-03-15T12:47:49.980Z"
   },
   {
    "duration": 96,
    "start_time": "2023-03-15T12:47:50.127Z"
   },
   {
    "duration": 115,
    "start_time": "2023-03-15T12:47:50.224Z"
   },
   {
    "duration": 50,
    "start_time": "2023-03-15T12:47:50.340Z"
   },
   {
    "duration": 116,
    "start_time": "2023-03-15T12:47:50.392Z"
   },
   {
    "duration": 97,
    "start_time": "2023-03-15T12:47:50.510Z"
   },
   {
    "duration": 971,
    "start_time": "2023-03-15T12:47:50.608Z"
   },
   {
    "duration": 32,
    "start_time": "2023-03-15T12:47:51.580Z"
   },
   {
    "duration": 129,
    "start_time": "2023-03-15T12:47:51.614Z"
   },
   {
    "duration": 546,
    "start_time": "2023-03-15T12:47:51.745Z"
   },
   {
    "duration": 123,
    "start_time": "2023-03-15T12:47:52.293Z"
   },
   {
    "duration": 23,
    "start_time": "2023-03-15T12:47:52.418Z"
   },
   {
    "duration": 119,
    "start_time": "2023-03-15T12:47:52.443Z"
   },
   {
    "duration": 110,
    "start_time": "2023-03-15T12:47:52.565Z"
   },
   {
    "duration": 112,
    "start_time": "2023-03-15T12:47:52.678Z"
   },
   {
    "duration": 24,
    "start_time": "2023-03-15T12:47:52.792Z"
   },
   {
    "duration": 118,
    "start_time": "2023-03-15T12:47:52.819Z"
   },
   {
    "duration": 104,
    "start_time": "2023-03-15T12:47:52.939Z"
   },
   {
    "duration": 753,
    "start_time": "2023-03-15T12:47:53.044Z"
   },
   {
    "duration": 25,
    "start_time": "2023-03-15T12:47:53.801Z"
   },
   {
    "duration": 105,
    "start_time": "2023-03-15T12:47:53.829Z"
   },
   {
    "duration": 95,
    "start_time": "2023-03-15T12:47:53.936Z"
   },
   {
    "duration": 12,
    "start_time": "2023-03-15T12:47:54.033Z"
   },
   {
    "duration": 102,
    "start_time": "2023-03-15T12:47:54.056Z"
   },
   {
    "duration": 80,
    "start_time": "2023-03-15T12:47:54.160Z"
   },
   {
    "duration": 205,
    "start_time": "2023-03-15T12:47:54.243Z"
   },
   {
    "duration": 151,
    "start_time": "2023-03-15T12:47:54.450Z"
   },
   {
    "duration": 135,
    "start_time": "2023-03-15T12:47:54.602Z"
   },
   {
    "duration": 19,
    "start_time": "2023-03-15T12:47:54.738Z"
   },
   {
    "duration": 29,
    "start_time": "2023-03-15T12:47:54.759Z"
   },
   {
    "duration": 82,
    "start_time": "2023-03-15T12:47:54.789Z"
   },
   {
    "duration": 4,
    "start_time": "2023-03-15T12:47:54.873Z"
   },
   {
    "duration": 7,
    "start_time": "2023-03-15T12:47:54.878Z"
   },
   {
    "duration": 10,
    "start_time": "2023-03-15T12:47:54.887Z"
   },
   {
    "duration": 25,
    "start_time": "2023-03-15T12:47:54.898Z"
   },
   {
    "duration": 3,
    "start_time": "2023-03-15T12:47:54.924Z"
   },
   {
    "duration": 195,
    "start_time": "2023-03-15T12:47:54.929Z"
   },
   {
    "duration": 45278,
    "start_time": "2023-03-15T12:47:55.126Z"
   },
   {
    "duration": 9517,
    "start_time": "2023-03-15T12:48:40.406Z"
   },
   {
    "duration": 9135,
    "start_time": "2023-03-15T12:48:49.925Z"
   },
   {
    "duration": 23,
    "start_time": "2023-03-15T12:48:59.062Z"
   },
   {
    "duration": 20986,
    "start_time": "2023-03-15T12:48:59.087Z"
   },
   {
    "duration": 92,
    "start_time": "2023-03-15T12:49:20.074Z"
   },
   {
    "duration": 94,
    "start_time": "2023-03-15T12:49:20.168Z"
   },
   {
    "duration": 18,
    "start_time": "2023-03-15T12:49:20.263Z"
   },
   {
    "duration": 75,
    "start_time": "2023-03-15T12:49:20.283Z"
   },
   {
    "duration": 713,
    "start_time": "2023-03-15T12:49:20.361Z"
   },
   {
    "duration": 18,
    "start_time": "2023-03-15T12:49:21.076Z"
   },
   {
    "duration": 189065,
    "start_time": "2023-03-15T12:50:31.757Z"
   },
   {
    "duration": 574,
    "start_time": "2023-03-15T12:53:40.824Z"
   },
   {
    "duration": 5,
    "start_time": "2023-03-15T12:53:41.400Z"
   },
   {
    "duration": 26,
    "start_time": "2023-03-15T12:53:41.407Z"
   },
   {
    "duration": 175,
    "start_time": "2023-03-15T12:53:41.435Z"
   },
   {
    "duration": 30,
    "start_time": "2023-03-15T12:53:41.612Z"
   },
   {
    "duration": 35,
    "start_time": "2023-03-15T12:53:41.644Z"
   },
   {
    "duration": 8362,
    "start_time": "2023-03-15T14:17:23.026Z"
   },
   {
    "duration": 1623,
    "start_time": "2023-03-15T14:17:31.391Z"
   },
   {
    "duration": 3864,
    "start_time": "2023-03-15T14:17:33.016Z"
   },
   {
    "duration": 5,
    "start_time": "2023-03-15T14:17:36.883Z"
   },
   {
    "duration": 168,
    "start_time": "2023-03-15T14:17:36.890Z"
   },
   {
    "duration": 605,
    "start_time": "2023-03-15T14:17:37.065Z"
   },
   {
    "duration": 705,
    "start_time": "2023-03-15T14:17:37.671Z"
   },
   {
    "duration": 602,
    "start_time": "2023-03-15T14:17:38.379Z"
   },
   {
    "duration": 156,
    "start_time": "2023-03-15T14:17:38.984Z"
   },
   {
    "duration": 105,
    "start_time": "2023-03-15T14:17:39.142Z"
   },
   {
    "duration": 125,
    "start_time": "2023-03-15T14:17:39.249Z"
   },
   {
    "duration": 51,
    "start_time": "2023-03-15T14:17:39.376Z"
   },
   {
    "duration": 172,
    "start_time": "2023-03-15T14:17:39.429Z"
   },
   {
    "duration": 143,
    "start_time": "2023-03-15T14:17:39.607Z"
   },
   {
    "duration": 1370,
    "start_time": "2023-03-15T14:17:39.755Z"
   },
   {
    "duration": 42,
    "start_time": "2023-03-15T14:17:41.127Z"
   },
   {
    "duration": 104,
    "start_time": "2023-03-15T14:17:41.171Z"
   },
   {
    "duration": 707,
    "start_time": "2023-03-15T14:17:41.279Z"
   },
   {
    "duration": 132,
    "start_time": "2023-03-15T14:17:41.988Z"
   },
   {
    "duration": 44,
    "start_time": "2023-03-15T14:17:42.122Z"
   },
   {
    "duration": 108,
    "start_time": "2023-03-15T14:17:42.171Z"
   },
   {
    "duration": 111,
    "start_time": "2023-03-15T14:17:42.281Z"
   },
   {
    "duration": 120,
    "start_time": "2023-03-15T14:17:42.394Z"
   },
   {
    "duration": 27,
    "start_time": "2023-03-15T14:17:42.516Z"
   },
   {
    "duration": 114,
    "start_time": "2023-03-15T14:17:42.553Z"
   },
   {
    "duration": 96,
    "start_time": "2023-03-15T14:17:42.669Z"
   },
   {
    "duration": 894,
    "start_time": "2023-03-15T14:17:42.767Z"
   },
   {
    "duration": 33,
    "start_time": "2023-03-15T14:17:43.668Z"
   },
   {
    "duration": 99,
    "start_time": "2023-03-15T14:17:43.704Z"
   },
   {
    "duration": 134,
    "start_time": "2023-03-15T14:17:43.806Z"
   },
   {
    "duration": 23,
    "start_time": "2023-03-15T14:17:43.942Z"
   },
   {
    "duration": 118,
    "start_time": "2023-03-15T14:17:43.971Z"
   },
   {
    "duration": 105,
    "start_time": "2023-03-15T14:17:44.092Z"
   },
   {
    "duration": 223,
    "start_time": "2023-03-15T14:17:44.200Z"
   },
   {
    "duration": 186,
    "start_time": "2023-03-15T14:17:44.426Z"
   },
   {
    "duration": 153,
    "start_time": "2023-03-15T14:17:44.615Z"
   },
   {
    "duration": 14,
    "start_time": "2023-03-15T14:17:44.772Z"
   },
   {
    "duration": 28,
    "start_time": "2023-03-15T14:17:44.789Z"
   },
   {
    "duration": 150,
    "start_time": "2023-03-15T14:17:44.820Z"
   },
   {
    "duration": 6,
    "start_time": "2023-03-15T14:17:44.975Z"
   },
   {
    "duration": 8,
    "start_time": "2023-03-15T14:17:44.989Z"
   },
   {
    "duration": 6,
    "start_time": "2023-03-15T14:17:44.999Z"
   },
   {
    "duration": 45,
    "start_time": "2023-03-15T14:17:45.007Z"
   },
   {
    "duration": 14,
    "start_time": "2023-03-15T14:17:45.056Z"
   },
   {
    "duration": 210,
    "start_time": "2023-03-15T14:17:45.076Z"
   },
   {
    "duration": 49362,
    "start_time": "2023-03-15T14:17:45.288Z"
   },
   {
    "duration": 16791,
    "start_time": "2023-03-15T14:18:34.653Z"
   },
   {
    "duration": 16712,
    "start_time": "2023-03-15T14:18:51.447Z"
   },
   {
    "duration": 39,
    "start_time": "2023-03-15T14:19:08.165Z"
   },
   {
    "duration": 45497,
    "start_time": "2023-03-15T14:19:08.207Z"
   },
   {
    "duration": 83,
    "start_time": "2023-03-15T14:19:53.706Z"
   },
   {
    "duration": 12,
    "start_time": "2023-03-15T14:19:53.855Z"
   },
   {
    "duration": 88,
    "start_time": "2023-03-15T14:19:53.870Z"
   },
   {
    "duration": 36,
    "start_time": "2023-03-15T14:19:53.972Z"
   },
   {
    "duration": 968,
    "start_time": "2023-03-15T14:19:54.012Z"
   },
   {
    "duration": 30,
    "start_time": "2023-03-15T14:19:54.982Z"
   },
   {
    "duration": 78274,
    "start_time": "2023-03-15T14:19:55.015Z"
   },
   {
    "duration": 205458,
    "start_time": "2023-03-15T14:21:13.291Z"
   },
   {
    "duration": 675,
    "start_time": "2023-03-15T14:24:38.751Z"
   },
   {
    "duration": 7,
    "start_time": "2023-03-15T14:24:39.432Z"
   },
   {
    "duration": 33,
    "start_time": "2023-03-15T14:24:39.441Z"
   },
   {
    "duration": 201,
    "start_time": "2023-03-15T14:24:39.476Z"
   },
   {
    "duration": 47,
    "start_time": "2023-03-15T14:24:39.680Z"
   },
   {
    "duration": 58,
    "start_time": "2023-03-15T14:24:39.730Z"
   },
   {
    "duration": 242798,
    "start_time": "2023-03-15T14:24:39.790Z"
   },
   {
    "duration": 469,
    "start_time": "2023-03-15T14:28:42.591Z"
   },
   {
    "duration": 12,
    "start_time": "2023-03-15T14:28:43.063Z"
   },
   {
    "duration": 7017,
    "start_time": "2023-03-15T16:26:47.889Z"
   },
   {
    "duration": 1446,
    "start_time": "2023-03-15T16:26:54.909Z"
   },
   {
    "duration": 2543,
    "start_time": "2023-03-15T16:26:56.357Z"
   },
   {
    "duration": 4,
    "start_time": "2023-03-15T16:26:58.902Z"
   },
   {
    "duration": 128,
    "start_time": "2023-03-15T16:26:58.909Z"
   },
   {
    "duration": 404,
    "start_time": "2023-03-15T16:26:59.039Z"
   },
   {
    "duration": 456,
    "start_time": "2023-03-15T16:26:59.446Z"
   },
   {
    "duration": 398,
    "start_time": "2023-03-15T16:26:59.903Z"
   },
   {
    "duration": 113,
    "start_time": "2023-03-15T16:27:00.303Z"
   },
   {
    "duration": 90,
    "start_time": "2023-03-15T16:27:00.417Z"
   },
   {
    "duration": 99,
    "start_time": "2023-03-15T16:27:00.508Z"
   },
   {
    "duration": 61,
    "start_time": "2023-03-15T16:27:00.609Z"
   },
   {
    "duration": 107,
    "start_time": "2023-03-15T16:27:00.671Z"
   },
   {
    "duration": 104,
    "start_time": "2023-03-15T16:27:00.782Z"
   },
   {
    "duration": 817,
    "start_time": "2023-03-15T16:27:00.888Z"
   },
   {
    "duration": 32,
    "start_time": "2023-03-15T16:27:01.706Z"
   },
   {
    "duration": 82,
    "start_time": "2023-03-15T16:27:01.740Z"
   },
   {
    "duration": 517,
    "start_time": "2023-03-15T16:27:01.823Z"
   },
   {
    "duration": 107,
    "start_time": "2023-03-15T16:27:02.342Z"
   },
   {
    "duration": 23,
    "start_time": "2023-03-15T16:27:02.454Z"
   },
   {
    "duration": 101,
    "start_time": "2023-03-15T16:27:02.479Z"
   },
   {
    "duration": 91,
    "start_time": "2023-03-15T16:27:02.582Z"
   },
   {
    "duration": 96,
    "start_time": "2023-03-15T16:27:02.675Z"
   },
   {
    "duration": 24,
    "start_time": "2023-03-15T16:27:02.773Z"
   },
   {
    "duration": 98,
    "start_time": "2023-03-15T16:27:02.798Z"
   },
   {
    "duration": 93,
    "start_time": "2023-03-15T16:27:02.898Z"
   },
   {
    "duration": 622,
    "start_time": "2023-03-15T16:27:02.992Z"
   },
   {
    "duration": 23,
    "start_time": "2023-03-15T16:27:03.617Z"
   },
   {
    "duration": 92,
    "start_time": "2023-03-15T16:27:03.642Z"
   },
   {
    "duration": 84,
    "start_time": "2023-03-15T16:27:03.735Z"
   },
   {
    "duration": 13,
    "start_time": "2023-03-15T16:27:03.821Z"
   },
   {
    "duration": 101,
    "start_time": "2023-03-15T16:27:03.836Z"
   },
   {
    "duration": 73,
    "start_time": "2023-03-15T16:27:03.938Z"
   },
   {
    "duration": 150,
    "start_time": "2023-03-15T16:27:04.013Z"
   },
   {
    "duration": 194,
    "start_time": "2023-03-15T16:27:04.164Z"
   },
   {
    "duration": 122,
    "start_time": "2023-03-15T16:27:04.360Z"
   },
   {
    "duration": 10,
    "start_time": "2023-03-15T16:27:04.483Z"
   },
   {
    "duration": 19,
    "start_time": "2023-03-15T16:27:04.495Z"
   },
   {
    "duration": 64,
    "start_time": "2023-03-15T16:27:04.516Z"
   },
   {
    "duration": 3,
    "start_time": "2023-03-15T16:27:04.582Z"
   },
   {
    "duration": 3,
    "start_time": "2023-03-15T16:27:04.589Z"
   },
   {
    "duration": 3,
    "start_time": "2023-03-15T16:27:04.594Z"
   },
   {
    "duration": 21,
    "start_time": "2023-03-15T16:27:04.599Z"
   },
   {
    "duration": 3,
    "start_time": "2023-03-15T16:27:04.621Z"
   },
   {
    "duration": 155,
    "start_time": "2023-03-15T16:27:04.655Z"
   },
   {
    "duration": 24633,
    "start_time": "2023-03-15T16:27:04.811Z"
   },
   {
    "duration": 5097,
    "start_time": "2023-03-15T16:27:29.446Z"
   },
   {
    "duration": 4998,
    "start_time": "2023-03-15T16:27:34.546Z"
   },
   {
    "duration": 22,
    "start_time": "2023-03-15T16:27:39.545Z"
   },
   {
    "duration": 15302,
    "start_time": "2023-03-15T16:27:39.569Z"
   },
   {
    "duration": 91,
    "start_time": "2023-03-15T16:27:54.873Z"
   },
   {
    "duration": 5,
    "start_time": "2023-03-15T16:27:55.054Z"
   },
   {
    "duration": 18,
    "start_time": "2023-03-15T16:27:55.061Z"
   },
   {
    "duration": 24,
    "start_time": "2023-03-15T16:27:55.081Z"
   },
   {
    "duration": 634,
    "start_time": "2023-03-15T16:27:55.154Z"
   },
   {
    "duration": 16,
    "start_time": "2023-03-15T16:27:55.790Z"
   },
   {
    "duration": 63994,
    "start_time": "2023-03-15T16:27:55.808Z"
   },
   {
    "duration": 130014,
    "start_time": "2023-03-15T16:28:59.804Z"
   },
   {
    "duration": 446,
    "start_time": "2023-03-15T16:31:09.820Z"
   },
   {
    "duration": 4,
    "start_time": "2023-03-15T16:31:10.268Z"
   },
   {
    "duration": 25,
    "start_time": "2023-03-15T16:31:10.273Z"
   },
   {
    "duration": 166,
    "start_time": "2023-03-15T16:31:10.300Z"
   },
   {
    "duration": 24,
    "start_time": "2023-03-15T16:31:10.468Z"
   },
   {
    "duration": 19,
    "start_time": "2023-03-15T16:31:10.494Z"
   },
   {
    "duration": 119056,
    "start_time": "2023-03-15T16:31:10.514Z"
   },
   {
    "duration": 498,
    "start_time": "2023-03-15T16:33:09.571Z"
   },
   {
    "duration": 5,
    "start_time": "2023-03-15T16:33:10.156Z"
   },
   {
    "duration": 4898,
    "start_time": "2023-03-15T16:33:10.162Z"
   },
   {
    "duration": 604,
    "start_time": "2023-03-15T16:33:15.062Z"
   },
   {
    "duration": 91,
    "start_time": "2023-03-15T16:33:15.667Z"
   },
   {
    "duration": 152676,
    "start_time": "2023-03-15T16:33:15.759Z"
   },
   {
    "duration": 23054,
    "start_time": "2023-03-15T16:35:48.437Z"
   },
   {
    "duration": 392,
    "start_time": "2023-03-15T16:36:11.493Z"
   },
   {
    "duration": 5,
    "start_time": "2023-03-15T16:36:11.886Z"
   },
   {
    "duration": 66,
    "start_time": "2023-03-15T16:36:11.893Z"
   },
   {
    "duration": 4,
    "start_time": "2023-03-15T16:36:11.961Z"
   },
   {
    "duration": 397,
    "start_time": "2023-03-15T16:36:11.967Z"
   },
   {
    "duration": 4,
    "start_time": "2023-03-15T16:36:12.365Z"
   },
   {
    "duration": 4,
    "start_time": "2023-03-15T16:38:19.669Z"
   },
   {
    "duration": 21294,
    "start_time": "2023-03-15T16:39:50.935Z"
   },
   {
    "duration": 439,
    "start_time": "2023-03-15T16:40:12.586Z"
   },
   {
    "duration": 3,
    "start_time": "2023-03-15T16:40:13.027Z"
   },
   {
    "duration": 2074,
    "start_time": "2023-03-15T16:43:55.271Z"
   },
   {
    "duration": 1217,
    "start_time": "2023-03-15T16:43:57.347Z"
   },
   {
    "duration": 776,
    "start_time": "2023-03-15T16:43:58.566Z"
   },
   {
    "duration": 3,
    "start_time": "2023-03-15T16:43:59.344Z"
   },
   {
    "duration": 123,
    "start_time": "2023-03-15T16:43:59.349Z"
   },
   {
    "duration": 442,
    "start_time": "2023-03-15T16:43:59.473Z"
   },
   {
    "duration": 438,
    "start_time": "2023-03-15T16:43:59.917Z"
   },
   {
    "duration": 399,
    "start_time": "2023-03-15T16:44:00.356Z"
   },
   {
    "duration": 113,
    "start_time": "2023-03-15T16:44:00.757Z"
   },
   {
    "duration": 92,
    "start_time": "2023-03-15T16:44:00.872Z"
   },
   {
    "duration": 100,
    "start_time": "2023-03-15T16:44:00.965Z"
   },
   {
    "duration": 56,
    "start_time": "2023-03-15T16:44:01.066Z"
   },
   {
    "duration": 96,
    "start_time": "2023-03-15T16:44:01.123Z"
   },
   {
    "duration": 94,
    "start_time": "2023-03-15T16:44:01.220Z"
   },
   {
    "duration": 840,
    "start_time": "2023-03-15T16:44:01.316Z"
   },
   {
    "duration": 32,
    "start_time": "2023-03-15T16:44:02.157Z"
   },
   {
    "duration": 82,
    "start_time": "2023-03-15T16:44:02.191Z"
   },
   {
    "duration": 487,
    "start_time": "2023-03-15T16:44:02.275Z"
   },
   {
    "duration": 103,
    "start_time": "2023-03-15T16:44:02.763Z"
   },
   {
    "duration": 23,
    "start_time": "2023-03-15T16:44:02.867Z"
   },
   {
    "duration": 98,
    "start_time": "2023-03-15T16:44:02.892Z"
   },
   {
    "duration": 95,
    "start_time": "2023-03-15T16:44:02.992Z"
   },
   {
    "duration": 98,
    "start_time": "2023-03-15T16:44:03.088Z"
   },
   {
    "duration": 23,
    "start_time": "2023-03-15T16:44:03.187Z"
   },
   {
    "duration": 88,
    "start_time": "2023-03-15T16:44:03.212Z"
   },
   {
    "duration": 95,
    "start_time": "2023-03-15T16:44:03.301Z"
   },
   {
    "duration": 635,
    "start_time": "2023-03-15T16:44:03.397Z"
   },
   {
    "duration": 30,
    "start_time": "2023-03-15T16:44:04.036Z"
   },
   {
    "duration": 88,
    "start_time": "2023-03-15T16:44:04.068Z"
   },
   {
    "duration": 78,
    "start_time": "2023-03-15T16:44:04.158Z"
   },
   {
    "duration": 23,
    "start_time": "2023-03-15T16:44:04.238Z"
   },
   {
    "duration": 93,
    "start_time": "2023-03-15T16:44:04.263Z"
   },
   {
    "duration": 64,
    "start_time": "2023-03-15T16:44:04.357Z"
   },
   {
    "duration": 142,
    "start_time": "2023-03-15T16:44:04.423Z"
   },
   {
    "duration": 152,
    "start_time": "2023-03-15T16:44:04.567Z"
   },
   {
    "duration": 127,
    "start_time": "2023-03-15T16:44:04.720Z"
   },
   {
    "duration": 14,
    "start_time": "2023-03-15T16:44:04.848Z"
   },
   {
    "duration": 19,
    "start_time": "2023-03-15T16:44:04.863Z"
   },
   {
    "duration": 73,
    "start_time": "2023-03-15T16:44:04.884Z"
   },
   {
    "duration": 6,
    "start_time": "2023-03-15T16:44:04.958Z"
   },
   {
    "duration": 4,
    "start_time": "2023-03-15T16:44:04.966Z"
   },
   {
    "duration": 4,
    "start_time": "2023-03-15T16:44:04.971Z"
   },
   {
    "duration": 19,
    "start_time": "2023-03-15T16:44:04.978Z"
   },
   {
    "duration": 3,
    "start_time": "2023-03-15T16:44:04.999Z"
   },
   {
    "duration": 203,
    "start_time": "2023-03-15T16:44:05.003Z"
   },
   {
    "duration": 23830,
    "start_time": "2023-03-15T16:44:05.207Z"
   },
   {
    "duration": 5231,
    "start_time": "2023-03-15T16:44:29.038Z"
   },
   {
    "duration": 5390,
    "start_time": "2023-03-15T16:44:34.271Z"
   },
   {
    "duration": 19,
    "start_time": "2023-03-15T16:44:39.662Z"
   },
   {
    "duration": 12388,
    "start_time": "2023-03-15T16:44:39.683Z"
   },
   {
    "duration": 85,
    "start_time": "2023-03-15T16:44:52.072Z"
   },
   {
    "duration": 95,
    "start_time": "2023-03-15T16:44:52.161Z"
   },
   {
    "duration": 16,
    "start_time": "2023-03-15T16:44:52.257Z"
   },
   {
    "duration": 19,
    "start_time": "2023-03-15T16:44:52.275Z"
   },
   {
    "duration": 660,
    "start_time": "2023-03-15T16:44:52.295Z"
   },
   {
    "duration": 19,
    "start_time": "2023-03-15T16:44:52.956Z"
   },
   {
    "duration": 63407,
    "start_time": "2023-03-15T16:44:52.976Z"
   },
   {
    "duration": 20982,
    "start_time": "2023-03-15T16:45:56.385Z"
   },
   {
    "duration": 449,
    "start_time": "2023-03-15T16:46:17.368Z"
   },
   {
    "duration": 6,
    "start_time": "2023-03-15T16:46:17.819Z"
   },
   {
    "duration": 18,
    "start_time": "2023-03-15T16:46:17.826Z"
   },
   {
    "duration": 147,
    "start_time": "2023-03-15T16:46:17.855Z"
   },
   {
    "duration": 22,
    "start_time": "2023-03-15T16:46:18.004Z"
   },
   {
    "duration": 31,
    "start_time": "2023-03-15T16:46:18.028Z"
   },
   {
    "duration": 3600,
    "start_time": "2023-03-15T16:46:18.061Z"
   },
   {
    "duration": 402,
    "start_time": "2023-03-15T16:46:21.663Z"
   },
   {
    "duration": 4,
    "start_time": "2023-03-15T16:46:22.067Z"
   },
   {
    "duration": 4989,
    "start_time": "2023-03-15T16:46:22.073Z"
   },
   {
    "duration": 604,
    "start_time": "2023-03-15T16:46:27.064Z"
   },
   {
    "duration": 5,
    "start_time": "2023-03-15T16:46:27.754Z"
   },
   {
    "duration": 151973,
    "start_time": "2023-03-15T16:46:27.761Z"
   },
   {
    "duration": 22755,
    "start_time": "2023-03-15T16:48:59.735Z"
   },
   {
    "duration": 398,
    "start_time": "2023-03-15T16:49:22.492Z"
   },
   {
    "duration": 5,
    "start_time": "2023-03-15T16:49:22.891Z"
   },
   {
    "duration": 67,
    "start_time": "2023-03-15T16:49:22.898Z"
   },
   {
    "duration": 5,
    "start_time": "2023-03-15T16:49:22.966Z"
   },
   {
    "duration": 391,
    "start_time": "2023-03-15T16:49:22.972Z"
   },
   {
    "duration": 4,
    "start_time": "2023-03-15T16:49:23.364Z"
   },
   {
    "duration": 7881,
    "start_time": "2023-06-28T12:30:54.245Z"
   },
   {
    "duration": 1400,
    "start_time": "2023-06-28T12:31:02.128Z"
   },
   {
    "duration": 1293,
    "start_time": "2023-06-28T12:31:03.530Z"
   },
   {
    "duration": 4,
    "start_time": "2023-06-28T12:31:04.824Z"
   },
   {
    "duration": 185,
    "start_time": "2023-06-28T12:31:04.831Z"
   },
   {
    "duration": 486,
    "start_time": "2023-06-28T12:31:05.018Z"
   },
   {
    "duration": 513,
    "start_time": "2023-06-28T12:31:05.505Z"
   },
   {
    "duration": 504,
    "start_time": "2023-06-28T12:31:06.020Z"
   },
   {
    "duration": 155,
    "start_time": "2023-06-28T12:31:06.526Z"
   },
   {
    "duration": 91,
    "start_time": "2023-06-28T12:31:06.683Z"
   },
   {
    "duration": 134,
    "start_time": "2023-06-28T12:31:06.779Z"
   },
   {
    "duration": 58,
    "start_time": "2023-06-28T12:31:06.915Z"
   },
   {
    "duration": 129,
    "start_time": "2023-06-28T12:31:06.979Z"
   },
   {
    "duration": 116,
    "start_time": "2023-06-28T12:31:07.110Z"
   },
   {
    "duration": 983,
    "start_time": "2023-06-28T12:31:07.228Z"
   },
   {
    "duration": 32,
    "start_time": "2023-06-28T12:31:08.212Z"
   },
   {
    "duration": 104,
    "start_time": "2023-06-28T12:31:08.245Z"
   },
   {
    "duration": 549,
    "start_time": "2023-06-28T12:31:08.351Z"
   },
   {
    "duration": 118,
    "start_time": "2023-06-28T12:31:08.908Z"
   },
   {
    "duration": 22,
    "start_time": "2023-06-28T12:31:09.027Z"
   },
   {
    "duration": 119,
    "start_time": "2023-06-28T12:31:09.050Z"
   },
   {
    "duration": 132,
    "start_time": "2023-06-28T12:31:09.182Z"
   },
   {
    "duration": 110,
    "start_time": "2023-06-28T12:31:09.316Z"
   },
   {
    "duration": 22,
    "start_time": "2023-06-28T12:31:09.428Z"
   },
   {
    "duration": 154,
    "start_time": "2023-06-28T12:31:09.452Z"
   },
   {
    "duration": 111,
    "start_time": "2023-06-28T12:31:09.607Z"
   },
   {
    "duration": 716,
    "start_time": "2023-06-28T12:31:09.720Z"
   },
   {
    "duration": 22,
    "start_time": "2023-06-28T12:31:10.438Z"
   },
   {
    "duration": 103,
    "start_time": "2023-06-28T12:31:10.462Z"
   },
   {
    "duration": 127,
    "start_time": "2023-06-28T12:31:10.566Z"
   },
   {
    "duration": 15,
    "start_time": "2023-06-28T12:31:10.695Z"
   },
   {
    "duration": 99,
    "start_time": "2023-06-28T12:31:10.712Z"
   },
   {
    "duration": 71,
    "start_time": "2023-06-28T12:31:10.812Z"
   },
   {
    "duration": 157,
    "start_time": "2023-06-28T12:31:10.891Z"
   },
   {
    "duration": 165,
    "start_time": "2023-06-28T12:31:11.049Z"
   },
   {
    "duration": 132,
    "start_time": "2023-06-28T12:31:11.216Z"
   },
   {
    "duration": 10,
    "start_time": "2023-06-28T12:31:11.350Z"
   },
   {
    "duration": 1122,
    "start_time": "2023-06-28T12:31:11.362Z"
   },
   {
    "duration": 894,
    "start_time": "2023-06-28T12:31:12.486Z"
   },
   {
    "duration": 15,
    "start_time": "2023-06-28T12:31:13.383Z"
   },
   {
    "duration": 41,
    "start_time": "2023-06-28T12:31:13.404Z"
   },
   {
    "duration": 55,
    "start_time": "2023-06-28T12:31:13.447Z"
   },
   {
    "duration": 43,
    "start_time": "2023-06-28T12:31:13.504Z"
   },
   {
    "duration": 3,
    "start_time": "2023-06-28T12:31:13.549Z"
   },
   {
    "duration": 210,
    "start_time": "2023-06-28T12:31:13.554Z"
   },
   {
    "duration": 48660,
    "start_time": "2023-06-28T12:31:13.766Z"
   },
   {
    "duration": 11088,
    "start_time": "2023-06-28T12:32:02.428Z"
   },
   {
    "duration": 10795,
    "start_time": "2023-06-28T12:32:13.518Z"
   },
   {
    "duration": 23,
    "start_time": "2023-06-28T12:32:24.315Z"
   },
   {
    "duration": 51184,
    "start_time": "2023-06-28T12:32:24.340Z"
   },
   {
    "duration": 73,
    "start_time": "2023-06-28T12:33:15.527Z"
   },
   {
    "duration": 9,
    "start_time": "2023-06-28T12:33:15.605Z"
   },
   {
    "duration": 15,
    "start_time": "2023-06-28T12:33:15.676Z"
   },
   {
    "duration": 106,
    "start_time": "2023-06-28T12:33:15.692Z"
   },
   {
    "duration": 840,
    "start_time": "2023-06-28T12:33:15.801Z"
   },
   {
    "duration": 17,
    "start_time": "2023-06-28T12:33:16.643Z"
   },
   {
    "duration": 221574,
    "start_time": "2023-06-28T12:34:40.404Z"
   },
   {
    "duration": 399,
    "start_time": "2023-06-28T12:38:21.979Z"
   },
   {
    "duration": 5,
    "start_time": "2023-06-28T12:38:22.379Z"
   },
   {
    "duration": 18460,
    "start_time": "2023-06-28T18:18:12.330Z"
   },
   {
    "duration": 1791,
    "start_time": "2023-06-28T18:18:30.793Z"
   },
   {
    "duration": 1837,
    "start_time": "2023-06-28T18:18:32.586Z"
   },
   {
    "duration": 9,
    "start_time": "2023-06-28T18:18:34.430Z"
   },
   {
    "duration": 170,
    "start_time": "2023-06-28T18:18:34.444Z"
   },
   {
    "duration": 547,
    "start_time": "2023-06-28T18:18:34.620Z"
   },
   {
    "duration": 606,
    "start_time": "2023-06-28T18:18:35.169Z"
   },
   {
    "duration": 538,
    "start_time": "2023-06-28T18:18:35.777Z"
   },
   {
    "duration": 159,
    "start_time": "2023-06-28T18:18:36.316Z"
   },
   {
    "duration": 97,
    "start_time": "2023-06-28T18:18:36.479Z"
   },
   {
    "duration": 141,
    "start_time": "2023-06-28T18:18:36.578Z"
   },
   {
    "duration": 121,
    "start_time": "2023-06-28T18:18:36.727Z"
   },
   {
    "duration": 198,
    "start_time": "2023-06-28T18:18:36.858Z"
   },
   {
    "duration": 126,
    "start_time": "2023-06-28T18:18:37.061Z"
   },
   {
    "duration": 1240,
    "start_time": "2023-06-28T18:18:37.189Z"
   },
   {
    "duration": 46,
    "start_time": "2023-06-28T18:18:38.431Z"
   },
   {
    "duration": 102,
    "start_time": "2023-06-28T18:18:38.479Z"
   },
   {
    "duration": 773,
    "start_time": "2023-06-28T18:18:38.583Z"
   },
   {
    "duration": 131,
    "start_time": "2023-06-28T18:18:39.364Z"
   },
   {
    "duration": 31,
    "start_time": "2023-06-28T18:18:39.498Z"
   },
   {
    "duration": 121,
    "start_time": "2023-06-28T18:18:39.534Z"
   },
   {
    "duration": 122,
    "start_time": "2023-06-28T18:18:39.659Z"
   },
   {
    "duration": 145,
    "start_time": "2023-06-28T18:18:39.783Z"
   },
   {
    "duration": 39,
    "start_time": "2023-06-28T18:18:39.933Z"
   },
   {
    "duration": 137,
    "start_time": "2023-06-28T18:18:39.974Z"
   },
   {
    "duration": 114,
    "start_time": "2023-06-28T18:18:40.112Z"
   },
   {
    "duration": 1017,
    "start_time": "2023-06-28T18:18:40.228Z"
   },
   {
    "duration": 41,
    "start_time": "2023-06-28T18:18:41.255Z"
   },
   {
    "duration": 239,
    "start_time": "2023-06-28T18:18:41.298Z"
   },
   {
    "duration": 127,
    "start_time": "2023-06-28T18:18:41.547Z"
   },
   {
    "duration": 13,
    "start_time": "2023-06-28T18:18:41.676Z"
   },
   {
    "duration": 127,
    "start_time": "2023-06-28T18:18:41.691Z"
   },
   {
    "duration": 88,
    "start_time": "2023-06-28T18:18:41.820Z"
   },
   {
    "duration": 167,
    "start_time": "2023-06-28T18:18:41.918Z"
   },
   {
    "duration": 195,
    "start_time": "2023-06-28T18:18:42.086Z"
   },
   {
    "duration": 156,
    "start_time": "2023-06-28T18:18:42.283Z"
   },
   {
    "duration": 19,
    "start_time": "2023-06-28T18:18:42.444Z"
   },
   {
    "duration": 32,
    "start_time": "2023-06-28T18:18:42.466Z"
   },
   {
    "duration": 165,
    "start_time": "2023-06-28T18:18:42.500Z"
   },
   {
    "duration": 4,
    "start_time": "2023-06-28T18:18:42.668Z"
   },
   {
    "duration": 9,
    "start_time": "2023-06-28T18:18:42.673Z"
   },
   {
    "duration": 11,
    "start_time": "2023-06-28T18:18:42.683Z"
   },
   {
    "duration": 47,
    "start_time": "2023-06-28T18:18:42.695Z"
   },
   {
    "duration": 27,
    "start_time": "2023-06-28T18:18:42.748Z"
   },
   {
    "duration": 203,
    "start_time": "2023-06-28T18:18:42.777Z"
   },
   {
    "duration": 67579,
    "start_time": "2023-06-28T18:18:42.982Z"
   },
   {
    "duration": 19747,
    "start_time": "2023-06-28T18:19:50.562Z"
   },
   {
    "duration": 21105,
    "start_time": "2023-06-28T18:20:10.310Z"
   },
   {
    "duration": 48,
    "start_time": "2023-06-28T18:20:31.420Z"
   },
   {
    "duration": 70872,
    "start_time": "2023-06-28T18:21:51.762Z"
   },
   {
    "duration": 24249,
    "start_time": "2023-06-28T18:23:02.641Z"
   },
   {
    "duration": 457,
    "start_time": "2023-06-28T18:23:26.892Z"
   },
   {
    "duration": 4,
    "start_time": "2023-06-28T18:23:27.358Z"
   },
   {
    "duration": 22,
    "start_time": "2023-06-28T18:23:27.363Z"
   },
   {
    "duration": 180,
    "start_time": "2023-06-28T18:23:27.387Z"
   },
   {
    "duration": 53,
    "start_time": "2023-06-28T18:23:27.569Z"
   },
   {
    "duration": 32,
    "start_time": "2023-06-28T18:23:27.628Z"
   },
   {
    "duration": 172387,
    "start_time": "2023-06-28T18:23:27.662Z"
   },
   {
    "duration": 461,
    "start_time": "2023-06-28T18:26:20.056Z"
   },
   {
    "duration": 14,
    "start_time": "2023-06-28T18:26:20.532Z"
   }
  ],
  "kernelspec": {
   "display_name": "Python 3 (ipykernel)",
   "language": "python",
   "name": "python3"
  },
  "language_info": {
   "codemirror_mode": {
    "name": "ipython",
    "version": 3
   },
   "file_extension": ".py",
   "mimetype": "text/x-python",
   "name": "python",
   "nbconvert_exporter": "python",
   "pygments_lexer": "ipython3",
   "version": "3.9.12"
  },
  "toc": {
   "base_numbering": 1,
   "nav_menu": {},
   "number_sections": true,
   "sideBar": true,
   "skip_h1_title": true,
   "title_cell": "Table of Contents",
   "title_sidebar": "Contents",
   "toc_cell": false,
   "toc_position": {
    "height": "calc(100% - 180px)",
    "left": "10px",
    "top": "150px",
    "width": "165px"
   },
   "toc_section_display": true,
   "toc_window_display": true
  }
 },
 "nbformat": 4,
 "nbformat_minor": 2
}
