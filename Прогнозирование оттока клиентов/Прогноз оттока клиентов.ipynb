{
 "cells": [
  {
   "cell_type": "markdown",
   "id": "efc29141",
   "metadata": {},
   "source": [
    " # Название проекта"
   ]
  },
  {
   "cell_type": "markdown",
   "id": "f2c301e3",
   "metadata": {},
   "source": [
    "**Прогнозирование оттока клиентов оператора связи**"
   ]
  },
  {
   "cell_type": "markdown",
   "id": "ec0d4466",
   "metadata": {},
   "source": [
    "## Описание проекта"
   ]
  },
  {
   "cell_type": "markdown",
   "id": "3076faf7",
   "metadata": {},
   "source": [
    "Оператор связи «Ниединогоразрыва.ком» хочет научиться прогнозировать отток клиентов. Если выяснится, что пользователь планирует уйти, ему будут предложены промокоды и специальные условия."
   ]
  },
  {
   "cell_type": "markdown",
   "id": "a409e38a",
   "metadata": {},
   "source": [
    "## Описание данных"
   ]
  },
  {
   "cell_type": "markdown",
   "id": "67f418a7",
   "metadata": {},
   "source": [
    "\n",
    "Данные состоят из файлов, полученных из разных источников:\n",
    "\n",
    "- `contract_new.csv` — информация о договоре;\n",
    "- `personal_new.csv` — персональные данные клиента;\n",
    "- `internet_new.csv` — информация об интернет-услугах;\n",
    "- `phone_new.csv` — информация об услугах телефонии."
   ]
  },
  {
   "cell_type": "markdown",
   "id": "74be75e9",
   "metadata": {},
   "source": [
    "## Описание полей данных"
   ]
  },
  {
   "cell_type": "markdown",
   "id": "da25a97b",
   "metadata": {},
   "source": [
    "• BeginDate – дата начала пользования услугами,\n",
    "\n",
    "• EndDate – дата окончания пользования услугами,\n",
    "\n",
    "• Type – тип оплаты: ежемесячный, годовой и тд,\n",
    "\n",
    "• PaperlessBilling – электронный платёжный документ,\n",
    "\n",
    "• PaymentMethod – способ оплаты,\n",
    "\n",
    "• MonthlyCharges – ежемесячные траты на услуги,\n",
    "\n",
    "• TotalCharges – всего потрачено денег на услуги\n",
    "\n",
    "• Dependents – наличие иждивенцев\n",
    "\n",
    "• Senior Citizen – наличие пенсионного статуса по возрасту\n",
    "\n",
    "• Partner – наличие супруга(и)\n",
    "\n",
    "• MultipleLines – наличие возможности ведения параллельных линий во\n",
    "время звонка"
   ]
  },
  {
   "cell_type": "code",
   "execution_count": 1,
   "id": "9fcc4110",
   "metadata": {},
   "outputs": [],
   "source": [
    "import pandas as pd"
   ]
  },
  {
   "cell_type": "markdown",
   "id": "7b04d292",
   "metadata": {},
   "source": [
    "***Загрузим и ознакомимся с данными о договре***"
   ]
  },
  {
   "cell_type": "code",
   "execution_count": 2,
   "id": "988c030e",
   "metadata": {},
   "outputs": [],
   "source": [
    "contract = pd.read_csv('contract_new.csv')"
   ]
  },
  {
   "cell_type": "code",
   "execution_count": 3,
   "id": "53725630",
   "metadata": {},
   "outputs": [
    {
     "data": {
      "text/html": [
       "<div>\n",
       "<style scoped>\n",
       "    .dataframe tbody tr th:only-of-type {\n",
       "        vertical-align: middle;\n",
       "    }\n",
       "\n",
       "    .dataframe tbody tr th {\n",
       "        vertical-align: top;\n",
       "    }\n",
       "\n",
       "    .dataframe thead th {\n",
       "        text-align: right;\n",
       "    }\n",
       "</style>\n",
       "<table border=\"1\" class=\"dataframe\">\n",
       "  <thead>\n",
       "    <tr style=\"text-align: right;\">\n",
       "      <th></th>\n",
       "      <th>customerID</th>\n",
       "      <th>BeginDate</th>\n",
       "      <th>EndDate</th>\n",
       "      <th>Type</th>\n",
       "      <th>PaperlessBilling</th>\n",
       "      <th>PaymentMethod</th>\n",
       "      <th>MonthlyCharges</th>\n",
       "      <th>TotalCharges</th>\n",
       "    </tr>\n",
       "  </thead>\n",
       "  <tbody>\n",
       "    <tr>\n",
       "      <th>0</th>\n",
       "      <td>7590-VHVEG</td>\n",
       "      <td>2020-01-01</td>\n",
       "      <td>No</td>\n",
       "      <td>Month-to-month</td>\n",
       "      <td>Yes</td>\n",
       "      <td>Electronic check</td>\n",
       "      <td>29.85</td>\n",
       "      <td>31.04</td>\n",
       "    </tr>\n",
       "    <tr>\n",
       "      <th>1</th>\n",
       "      <td>5575-GNVDE</td>\n",
       "      <td>2017-04-01</td>\n",
       "      <td>No</td>\n",
       "      <td>One year</td>\n",
       "      <td>No</td>\n",
       "      <td>Mailed check</td>\n",
       "      <td>56.95</td>\n",
       "      <td>2071.84</td>\n",
       "    </tr>\n",
       "    <tr>\n",
       "      <th>2</th>\n",
       "      <td>3668-QPYBK</td>\n",
       "      <td>2019-10-01</td>\n",
       "      <td>No</td>\n",
       "      <td>Month-to-month</td>\n",
       "      <td>Yes</td>\n",
       "      <td>Mailed check</td>\n",
       "      <td>53.85</td>\n",
       "      <td>226.17</td>\n",
       "    </tr>\n",
       "    <tr>\n",
       "      <th>3</th>\n",
       "      <td>7795-CFOCW</td>\n",
       "      <td>2016-05-01</td>\n",
       "      <td>No</td>\n",
       "      <td>One year</td>\n",
       "      <td>No</td>\n",
       "      <td>Bank transfer (automatic)</td>\n",
       "      <td>42.30</td>\n",
       "      <td>1960.6</td>\n",
       "    </tr>\n",
       "    <tr>\n",
       "      <th>4</th>\n",
       "      <td>9237-HQITU</td>\n",
       "      <td>2019-09-01</td>\n",
       "      <td>No</td>\n",
       "      <td>Month-to-month</td>\n",
       "      <td>Yes</td>\n",
       "      <td>Electronic check</td>\n",
       "      <td>70.70</td>\n",
       "      <td>353.5</td>\n",
       "    </tr>\n",
       "  </tbody>\n",
       "</table>\n",
       "</div>"
      ],
      "text/plain": [
       "   customerID   BeginDate EndDate            Type PaperlessBilling  \\\n",
       "0  7590-VHVEG  2020-01-01      No  Month-to-month              Yes   \n",
       "1  5575-GNVDE  2017-04-01      No        One year               No   \n",
       "2  3668-QPYBK  2019-10-01      No  Month-to-month              Yes   \n",
       "3  7795-CFOCW  2016-05-01      No        One year               No   \n",
       "4  9237-HQITU  2019-09-01      No  Month-to-month              Yes   \n",
       "\n",
       "               PaymentMethod  MonthlyCharges TotalCharges  \n",
       "0           Electronic check           29.85        31.04  \n",
       "1               Mailed check           56.95      2071.84  \n",
       "2               Mailed check           53.85       226.17  \n",
       "3  Bank transfer (automatic)           42.30       1960.6  \n",
       "4           Electronic check           70.70        353.5  "
      ]
     },
     "execution_count": 3,
     "metadata": {},
     "output_type": "execute_result"
    }
   ],
   "source": [
    "contract.head()"
   ]
  },
  {
   "cell_type": "code",
   "execution_count": 4,
   "id": "1ea423ea",
   "metadata": {},
   "outputs": [
    {
     "name": "stdout",
     "output_type": "stream",
     "text": [
      "<class 'pandas.core.frame.DataFrame'>\n",
      "RangeIndex: 7043 entries, 0 to 7042\n",
      "Data columns (total 8 columns):\n",
      " #   Column            Non-Null Count  Dtype  \n",
      "---  ------            --------------  -----  \n",
      " 0   customerID        7043 non-null   object \n",
      " 1   BeginDate         7043 non-null   object \n",
      " 2   EndDate           7043 non-null   object \n",
      " 3   Type              7043 non-null   object \n",
      " 4   PaperlessBilling  7043 non-null   object \n",
      " 5   PaymentMethod     7043 non-null   object \n",
      " 6   MonthlyCharges    7043 non-null   float64\n",
      " 7   TotalCharges      7043 non-null   object \n",
      "dtypes: float64(1), object(7)\n",
      "memory usage: 440.3+ KB\n"
     ]
    }
   ],
   "source": [
    "contract.info()"
   ]
  },
  {
   "cell_type": "markdown",
   "id": "304664a2",
   "metadata": {},
   "source": [
    "Итак, мы видим пропусков в данных нет, тип данных во всех столбцах кроме ежемесячных трат на услуги представлен в виде  object, надо будет изменять по необходимости."
   ]
  },
  {
   "cell_type": "code",
   "execution_count": 5,
   "id": "dcfc2847",
   "metadata": {},
   "outputs": [
    {
     "data": {
      "text/plain": [
       "0"
      ]
     },
     "execution_count": 5,
     "metadata": {},
     "output_type": "execute_result"
    }
   ],
   "source": [
    "#Проверим дубликаты\n",
    "contract.duplicated().sum()"
   ]
  },
  {
   "cell_type": "markdown",
   "id": "5984499f",
   "metadata": {},
   "source": [
    "Дубликатов нет"
   ]
  },
  {
   "cell_type": "markdown",
   "id": "545125cf",
   "metadata": {},
   "source": [
    "В Столбцах Type, PaperlessBilling, PaymentMethod  категориальные признаки, поэтому менять тип данных не будем."
   ]
  },
  {
   "cell_type": "markdown",
   "id": "4237eab2",
   "metadata": {},
   "source": [
    "Рассмотрим столбец TotalCharges"
   ]
  },
  {
   "cell_type": "code",
   "execution_count": 6,
   "id": "7a4ea82b",
   "metadata": {},
   "outputs": [
    {
     "data": {
      "text/plain": [
       "           11\n",
       "20.45       6\n",
       "101.0       5\n",
       "255.0       4\n",
       "732.6       4\n",
       "           ..\n",
       "1587.3      1\n",
       "44.75       1\n",
       "5180.43     1\n",
       "732.54      1\n",
       "3381.75     1\n",
       "Name: TotalCharges, Length: 6658, dtype: int64"
      ]
     },
     "execution_count": 6,
     "metadata": {},
     "output_type": "execute_result"
    }
   ],
   "source": [
    "contract['TotalCharges'].value_counts()"
   ]
  },
  {
   "cell_type": "code",
   "execution_count": 7,
   "id": "0e6c2218",
   "metadata": {},
   "outputs": [],
   "source": [
    "missing_rows = contract.loc[contract['TotalCharges'] == ' ']"
   ]
  },
  {
   "cell_type": "code",
   "execution_count": 8,
   "id": "e79c45a7",
   "metadata": {},
   "outputs": [
    {
     "data": {
      "text/html": [
       "<div>\n",
       "<style scoped>\n",
       "    .dataframe tbody tr th:only-of-type {\n",
       "        vertical-align: middle;\n",
       "    }\n",
       "\n",
       "    .dataframe tbody tr th {\n",
       "        vertical-align: top;\n",
       "    }\n",
       "\n",
       "    .dataframe thead th {\n",
       "        text-align: right;\n",
       "    }\n",
       "</style>\n",
       "<table border=\"1\" class=\"dataframe\">\n",
       "  <thead>\n",
       "    <tr style=\"text-align: right;\">\n",
       "      <th></th>\n",
       "      <th>customerID</th>\n",
       "      <th>BeginDate</th>\n",
       "      <th>EndDate</th>\n",
       "      <th>Type</th>\n",
       "      <th>PaperlessBilling</th>\n",
       "      <th>PaymentMethod</th>\n",
       "      <th>MonthlyCharges</th>\n",
       "      <th>TotalCharges</th>\n",
       "    </tr>\n",
       "  </thead>\n",
       "  <tbody>\n",
       "    <tr>\n",
       "      <th>488</th>\n",
       "      <td>4472-LVYGI</td>\n",
       "      <td>2020-02-01</td>\n",
       "      <td>No</td>\n",
       "      <td>Two year</td>\n",
       "      <td>Yes</td>\n",
       "      <td>Bank transfer (automatic)</td>\n",
       "      <td>52.55</td>\n",
       "      <td></td>\n",
       "    </tr>\n",
       "    <tr>\n",
       "      <th>753</th>\n",
       "      <td>3115-CZMZD</td>\n",
       "      <td>2020-02-01</td>\n",
       "      <td>No</td>\n",
       "      <td>Two year</td>\n",
       "      <td>No</td>\n",
       "      <td>Mailed check</td>\n",
       "      <td>20.25</td>\n",
       "      <td></td>\n",
       "    </tr>\n",
       "    <tr>\n",
       "      <th>936</th>\n",
       "      <td>5709-LVOEQ</td>\n",
       "      <td>2020-02-01</td>\n",
       "      <td>No</td>\n",
       "      <td>Two year</td>\n",
       "      <td>No</td>\n",
       "      <td>Mailed check</td>\n",
       "      <td>80.85</td>\n",
       "      <td></td>\n",
       "    </tr>\n",
       "    <tr>\n",
       "      <th>1082</th>\n",
       "      <td>4367-NUYAO</td>\n",
       "      <td>2020-02-01</td>\n",
       "      <td>No</td>\n",
       "      <td>Two year</td>\n",
       "      <td>No</td>\n",
       "      <td>Mailed check</td>\n",
       "      <td>25.75</td>\n",
       "      <td></td>\n",
       "    </tr>\n",
       "    <tr>\n",
       "      <th>1340</th>\n",
       "      <td>1371-DWPAZ</td>\n",
       "      <td>2020-02-01</td>\n",
       "      <td>No</td>\n",
       "      <td>Two year</td>\n",
       "      <td>No</td>\n",
       "      <td>Credit card (automatic)</td>\n",
       "      <td>56.05</td>\n",
       "      <td></td>\n",
       "    </tr>\n",
       "    <tr>\n",
       "      <th>3331</th>\n",
       "      <td>7644-OMVMY</td>\n",
       "      <td>2020-02-01</td>\n",
       "      <td>No</td>\n",
       "      <td>Two year</td>\n",
       "      <td>No</td>\n",
       "      <td>Mailed check</td>\n",
       "      <td>19.85</td>\n",
       "      <td></td>\n",
       "    </tr>\n",
       "    <tr>\n",
       "      <th>3826</th>\n",
       "      <td>3213-VVOLG</td>\n",
       "      <td>2020-02-01</td>\n",
       "      <td>No</td>\n",
       "      <td>Two year</td>\n",
       "      <td>No</td>\n",
       "      <td>Mailed check</td>\n",
       "      <td>25.35</td>\n",
       "      <td></td>\n",
       "    </tr>\n",
       "    <tr>\n",
       "      <th>4380</th>\n",
       "      <td>2520-SGTTA</td>\n",
       "      <td>2020-02-01</td>\n",
       "      <td>No</td>\n",
       "      <td>Two year</td>\n",
       "      <td>No</td>\n",
       "      <td>Mailed check</td>\n",
       "      <td>20.00</td>\n",
       "      <td></td>\n",
       "    </tr>\n",
       "    <tr>\n",
       "      <th>5218</th>\n",
       "      <td>2923-ARZLG</td>\n",
       "      <td>2020-02-01</td>\n",
       "      <td>No</td>\n",
       "      <td>One year</td>\n",
       "      <td>Yes</td>\n",
       "      <td>Mailed check</td>\n",
       "      <td>19.70</td>\n",
       "      <td></td>\n",
       "    </tr>\n",
       "    <tr>\n",
       "      <th>6670</th>\n",
       "      <td>4075-WKNIU</td>\n",
       "      <td>2020-02-01</td>\n",
       "      <td>No</td>\n",
       "      <td>Two year</td>\n",
       "      <td>No</td>\n",
       "      <td>Mailed check</td>\n",
       "      <td>73.35</td>\n",
       "      <td></td>\n",
       "    </tr>\n",
       "    <tr>\n",
       "      <th>6754</th>\n",
       "      <td>2775-SEFEE</td>\n",
       "      <td>2020-02-01</td>\n",
       "      <td>No</td>\n",
       "      <td>Two year</td>\n",
       "      <td>Yes</td>\n",
       "      <td>Bank transfer (automatic)</td>\n",
       "      <td>61.90</td>\n",
       "      <td></td>\n",
       "    </tr>\n",
       "  </tbody>\n",
       "</table>\n",
       "</div>"
      ],
      "text/plain": [
       "      customerID   BeginDate EndDate      Type PaperlessBilling  \\\n",
       "488   4472-LVYGI  2020-02-01      No  Two year              Yes   \n",
       "753   3115-CZMZD  2020-02-01      No  Two year               No   \n",
       "936   5709-LVOEQ  2020-02-01      No  Two year               No   \n",
       "1082  4367-NUYAO  2020-02-01      No  Two year               No   \n",
       "1340  1371-DWPAZ  2020-02-01      No  Two year               No   \n",
       "3331  7644-OMVMY  2020-02-01      No  Two year               No   \n",
       "3826  3213-VVOLG  2020-02-01      No  Two year               No   \n",
       "4380  2520-SGTTA  2020-02-01      No  Two year               No   \n",
       "5218  2923-ARZLG  2020-02-01      No  One year              Yes   \n",
       "6670  4075-WKNIU  2020-02-01      No  Two year               No   \n",
       "6754  2775-SEFEE  2020-02-01      No  Two year              Yes   \n",
       "\n",
       "                  PaymentMethod  MonthlyCharges TotalCharges  \n",
       "488   Bank transfer (automatic)           52.55               \n",
       "753                Mailed check           20.25               \n",
       "936                Mailed check           80.85               \n",
       "1082               Mailed check           25.75               \n",
       "1340    Credit card (automatic)           56.05               \n",
       "3331               Mailed check           19.85               \n",
       "3826               Mailed check           25.35               \n",
       "4380               Mailed check           20.00               \n",
       "5218               Mailed check           19.70               \n",
       "6670               Mailed check           73.35               \n",
       "6754  Bank transfer (automatic)           61.90               "
      ]
     },
     "execution_count": 8,
     "metadata": {},
     "output_type": "execute_result"
    }
   ],
   "source": [
    "missing_rows"
   ]
  },
  {
   "cell_type": "markdown",
   "id": "d2f115f7",
   "metadata": {},
   "source": [
    "Итак, мы видим, что это все новые клиенты которые пришли 1.02.2020, заполнять эти пропуски не будем, целесообразнее удалить эти строки, их все 11 штук."
   ]
  },
  {
   "cell_type": "code",
   "execution_count": 9,
   "id": "bd685928",
   "metadata": {},
   "outputs": [],
   "source": [
    "contract = contract.loc[contract['TotalCharges'] != ' ']"
   ]
  },
  {
   "cell_type": "markdown",
   "id": "8fc5b39d",
   "metadata": {},
   "source": [
    "Теперь поменям тип данных в столбце TotalCharges на float64"
   ]
  },
  {
   "cell_type": "code",
   "execution_count": 10,
   "id": "f08087ca",
   "metadata": {},
   "outputs": [],
   "source": [
    "contract['TotalCharges'] = contract['TotalCharges'].astype(float)"
   ]
  },
  {
   "cell_type": "code",
   "execution_count": 11,
   "id": "d0e322e6",
   "metadata": {},
   "outputs": [
    {
     "name": "stdout",
     "output_type": "stream",
     "text": [
      "<class 'pandas.core.frame.DataFrame'>\n",
      "Int64Index: 7032 entries, 0 to 7042\n",
      "Data columns (total 8 columns):\n",
      " #   Column            Non-Null Count  Dtype  \n",
      "---  ------            --------------  -----  \n",
      " 0   customerID        7032 non-null   object \n",
      " 1   BeginDate         7032 non-null   object \n",
      " 2   EndDate           7032 non-null   object \n",
      " 3   Type              7032 non-null   object \n",
      " 4   PaperlessBilling  7032 non-null   object \n",
      " 5   PaymentMethod     7032 non-null   object \n",
      " 6   MonthlyCharges    7032 non-null   float64\n",
      " 7   TotalCharges      7032 non-null   float64\n",
      "dtypes: float64(2), object(6)\n",
      "memory usage: 494.4+ KB\n"
     ]
    }
   ],
   "source": [
    "contract.info()"
   ]
  },
  {
   "cell_type": "markdown",
   "id": "fc81dc86",
   "metadata": {},
   "source": [
    "Также, рассмотрим столбец EndDate, из него в последствии мы сделаем целевой признак, ушел клиент или остался. Но также, на основе этого столбца, нам необходимо вычислить срок, в течении которого человек является клиентом компании. Займемся этим позже."
   ]
  },
  {
   "cell_type": "markdown",
   "id": "63179bc8",
   "metadata": {},
   "source": [
    "***Загрузим и ознакомимся с данными о персональных данных клиента***"
   ]
  },
  {
   "cell_type": "code",
   "execution_count": 12,
   "id": "720e0887",
   "metadata": {},
   "outputs": [],
   "source": [
    "personal = pd.read_csv('personal_new.csv')   "
   ]
  },
  {
   "cell_type": "code",
   "execution_count": 13,
   "id": "0d9a8dd3",
   "metadata": {},
   "outputs": [
    {
     "data": {
      "text/html": [
       "<div>\n",
       "<style scoped>\n",
       "    .dataframe tbody tr th:only-of-type {\n",
       "        vertical-align: middle;\n",
       "    }\n",
       "\n",
       "    .dataframe tbody tr th {\n",
       "        vertical-align: top;\n",
       "    }\n",
       "\n",
       "    .dataframe thead th {\n",
       "        text-align: right;\n",
       "    }\n",
       "</style>\n",
       "<table border=\"1\" class=\"dataframe\">\n",
       "  <thead>\n",
       "    <tr style=\"text-align: right;\">\n",
       "      <th></th>\n",
       "      <th>customerID</th>\n",
       "      <th>gender</th>\n",
       "      <th>SeniorCitizen</th>\n",
       "      <th>Partner</th>\n",
       "      <th>Dependents</th>\n",
       "    </tr>\n",
       "  </thead>\n",
       "  <tbody>\n",
       "    <tr>\n",
       "      <th>0</th>\n",
       "      <td>7590-VHVEG</td>\n",
       "      <td>Female</td>\n",
       "      <td>0</td>\n",
       "      <td>Yes</td>\n",
       "      <td>No</td>\n",
       "    </tr>\n",
       "    <tr>\n",
       "      <th>1</th>\n",
       "      <td>5575-GNVDE</td>\n",
       "      <td>Male</td>\n",
       "      <td>0</td>\n",
       "      <td>No</td>\n",
       "      <td>No</td>\n",
       "    </tr>\n",
       "    <tr>\n",
       "      <th>2</th>\n",
       "      <td>3668-QPYBK</td>\n",
       "      <td>Male</td>\n",
       "      <td>0</td>\n",
       "      <td>No</td>\n",
       "      <td>No</td>\n",
       "    </tr>\n",
       "    <tr>\n",
       "      <th>3</th>\n",
       "      <td>7795-CFOCW</td>\n",
       "      <td>Male</td>\n",
       "      <td>0</td>\n",
       "      <td>No</td>\n",
       "      <td>No</td>\n",
       "    </tr>\n",
       "    <tr>\n",
       "      <th>4</th>\n",
       "      <td>9237-HQITU</td>\n",
       "      <td>Female</td>\n",
       "      <td>0</td>\n",
       "      <td>No</td>\n",
       "      <td>No</td>\n",
       "    </tr>\n",
       "  </tbody>\n",
       "</table>\n",
       "</div>"
      ],
      "text/plain": [
       "   customerID  gender  SeniorCitizen Partner Dependents\n",
       "0  7590-VHVEG  Female              0     Yes         No\n",
       "1  5575-GNVDE    Male              0      No         No\n",
       "2  3668-QPYBK    Male              0      No         No\n",
       "3  7795-CFOCW    Male              0      No         No\n",
       "4  9237-HQITU  Female              0      No         No"
      ]
     },
     "execution_count": 13,
     "metadata": {},
     "output_type": "execute_result"
    }
   ],
   "source": [
    "personal.head()"
   ]
  },
  {
   "cell_type": "code",
   "execution_count": 14,
   "id": "6eebd09f",
   "metadata": {},
   "outputs": [
    {
     "name": "stdout",
     "output_type": "stream",
     "text": [
      "<class 'pandas.core.frame.DataFrame'>\n",
      "RangeIndex: 7043 entries, 0 to 7042\n",
      "Data columns (total 5 columns):\n",
      " #   Column         Non-Null Count  Dtype \n",
      "---  ------         --------------  ----- \n",
      " 0   customerID     7043 non-null   object\n",
      " 1   gender         7043 non-null   object\n",
      " 2   SeniorCitizen  7043 non-null   int64 \n",
      " 3   Partner        7043 non-null   object\n",
      " 4   Dependents     7043 non-null   object\n",
      "dtypes: int64(1), object(4)\n",
      "memory usage: 275.2+ KB\n"
     ]
    }
   ],
   "source": [
    "personal.info()"
   ]
  },
  {
   "cell_type": "markdown",
   "id": "19260b46",
   "metadata": {},
   "source": [
    "Итак, пропусков в данных нет, во всех столбцах категориальные данные, но в столбце SeniorCitizen тип данных int64, заменим его на object"
   ]
  },
  {
   "cell_type": "code",
   "execution_count": 15,
   "id": "0f59bd22",
   "metadata": {},
   "outputs": [],
   "source": [
    "personal['SeniorCitizen'] = personal['SeniorCitizen'].map({1: 'Yes', 0: 'No'})"
   ]
  },
  {
   "cell_type": "code",
   "execution_count": 16,
   "id": "d345e6ac",
   "metadata": {},
   "outputs": [],
   "source": [
    "personal['SeniorCitizen'] = personal['SeniorCitizen'].astype(object)"
   ]
  },
  {
   "cell_type": "code",
   "execution_count": 17,
   "id": "f4733b4e",
   "metadata": {},
   "outputs": [
    {
     "name": "stdout",
     "output_type": "stream",
     "text": [
      "<class 'pandas.core.frame.DataFrame'>\n",
      "RangeIndex: 7043 entries, 0 to 7042\n",
      "Data columns (total 5 columns):\n",
      " #   Column         Non-Null Count  Dtype \n",
      "---  ------         --------------  ----- \n",
      " 0   customerID     7043 non-null   object\n",
      " 1   gender         7043 non-null   object\n",
      " 2   SeniorCitizen  7043 non-null   object\n",
      " 3   Partner        7043 non-null   object\n",
      " 4   Dependents     7043 non-null   object\n",
      "dtypes: object(5)\n",
      "memory usage: 275.2+ KB\n"
     ]
    }
   ],
   "source": [
    "personal.info()"
   ]
  },
  {
   "cell_type": "code",
   "execution_count": 18,
   "id": "41aba422",
   "metadata": {},
   "outputs": [
    {
     "data": {
      "text/plain": [
       "No     5901\n",
       "Yes    1142\n",
       "Name: SeniorCitizen, dtype: int64"
      ]
     },
     "execution_count": 18,
     "metadata": {},
     "output_type": "execute_result"
    }
   ],
   "source": [
    "personal['SeniorCitizen'].value_counts()"
   ]
  },
  {
   "cell_type": "code",
   "execution_count": 19,
   "id": "bb76c78e",
   "metadata": {},
   "outputs": [
    {
     "data": {
      "text/plain": [
       "0"
      ]
     },
     "execution_count": 19,
     "metadata": {},
     "output_type": "execute_result"
    }
   ],
   "source": [
    "#Проверим дубликаты\n",
    "personal.duplicated().sum()"
   ]
  },
  {
   "cell_type": "markdown",
   "id": "44c10904",
   "metadata": {},
   "source": [
    "***Загрузим и ознакомимся с данными об интернет-услугах***"
   ]
  },
  {
   "cell_type": "code",
   "execution_count": 20,
   "id": "ec12c155",
   "metadata": {},
   "outputs": [],
   "source": [
    "try:\n",
    "    internet = pd.read_csv('internet_new.csv')\n",
    "except:\n",
    "    internet = pd.read_csv('https://code.s3.yandex.net/datasets/internet_new.csv')"
   ]
  },
  {
   "cell_type": "code",
   "execution_count": 21,
   "id": "9708173b",
   "metadata": {},
   "outputs": [
    {
     "data": {
      "text/html": [
       "<div>\n",
       "<style scoped>\n",
       "    .dataframe tbody tr th:only-of-type {\n",
       "        vertical-align: middle;\n",
       "    }\n",
       "\n",
       "    .dataframe tbody tr th {\n",
       "        vertical-align: top;\n",
       "    }\n",
       "\n",
       "    .dataframe thead th {\n",
       "        text-align: right;\n",
       "    }\n",
       "</style>\n",
       "<table border=\"1\" class=\"dataframe\">\n",
       "  <thead>\n",
       "    <tr style=\"text-align: right;\">\n",
       "      <th></th>\n",
       "      <th>customerID</th>\n",
       "      <th>InternetService</th>\n",
       "      <th>OnlineSecurity</th>\n",
       "      <th>OnlineBackup</th>\n",
       "      <th>DeviceProtection</th>\n",
       "      <th>TechSupport</th>\n",
       "      <th>StreamingTV</th>\n",
       "      <th>StreamingMovies</th>\n",
       "    </tr>\n",
       "  </thead>\n",
       "  <tbody>\n",
       "    <tr>\n",
       "      <th>0</th>\n",
       "      <td>7590-VHVEG</td>\n",
       "      <td>DSL</td>\n",
       "      <td>No</td>\n",
       "      <td>Yes</td>\n",
       "      <td>No</td>\n",
       "      <td>No</td>\n",
       "      <td>No</td>\n",
       "      <td>No</td>\n",
       "    </tr>\n",
       "    <tr>\n",
       "      <th>1</th>\n",
       "      <td>5575-GNVDE</td>\n",
       "      <td>DSL</td>\n",
       "      <td>Yes</td>\n",
       "      <td>No</td>\n",
       "      <td>Yes</td>\n",
       "      <td>No</td>\n",
       "      <td>No</td>\n",
       "      <td>No</td>\n",
       "    </tr>\n",
       "    <tr>\n",
       "      <th>2</th>\n",
       "      <td>3668-QPYBK</td>\n",
       "      <td>DSL</td>\n",
       "      <td>Yes</td>\n",
       "      <td>Yes</td>\n",
       "      <td>No</td>\n",
       "      <td>No</td>\n",
       "      <td>No</td>\n",
       "      <td>No</td>\n",
       "    </tr>\n",
       "    <tr>\n",
       "      <th>3</th>\n",
       "      <td>7795-CFOCW</td>\n",
       "      <td>DSL</td>\n",
       "      <td>Yes</td>\n",
       "      <td>No</td>\n",
       "      <td>Yes</td>\n",
       "      <td>Yes</td>\n",
       "      <td>No</td>\n",
       "      <td>No</td>\n",
       "    </tr>\n",
       "    <tr>\n",
       "      <th>4</th>\n",
       "      <td>9237-HQITU</td>\n",
       "      <td>Fiber optic</td>\n",
       "      <td>No</td>\n",
       "      <td>No</td>\n",
       "      <td>No</td>\n",
       "      <td>No</td>\n",
       "      <td>No</td>\n",
       "      <td>No</td>\n",
       "    </tr>\n",
       "  </tbody>\n",
       "</table>\n",
       "</div>"
      ],
      "text/plain": [
       "   customerID InternetService OnlineSecurity OnlineBackup DeviceProtection  \\\n",
       "0  7590-VHVEG             DSL             No          Yes               No   \n",
       "1  5575-GNVDE             DSL            Yes           No              Yes   \n",
       "2  3668-QPYBK             DSL            Yes          Yes               No   \n",
       "3  7795-CFOCW             DSL            Yes           No              Yes   \n",
       "4  9237-HQITU     Fiber optic             No           No               No   \n",
       "\n",
       "  TechSupport StreamingTV StreamingMovies  \n",
       "0          No          No              No  \n",
       "1          No          No              No  \n",
       "2          No          No              No  \n",
       "3         Yes          No              No  \n",
       "4          No          No              No  "
      ]
     },
     "execution_count": 21,
     "metadata": {},
     "output_type": "execute_result"
    }
   ],
   "source": [
    "internet.head()"
   ]
  },
  {
   "cell_type": "code",
   "execution_count": 22,
   "id": "ec1a70f3",
   "metadata": {},
   "outputs": [
    {
     "name": "stdout",
     "output_type": "stream",
     "text": [
      "<class 'pandas.core.frame.DataFrame'>\n",
      "RangeIndex: 5517 entries, 0 to 5516\n",
      "Data columns (total 8 columns):\n",
      " #   Column            Non-Null Count  Dtype \n",
      "---  ------            --------------  ----- \n",
      " 0   customerID        5517 non-null   object\n",
      " 1   InternetService   5517 non-null   object\n",
      " 2   OnlineSecurity    5517 non-null   object\n",
      " 3   OnlineBackup      5517 non-null   object\n",
      " 4   DeviceProtection  5517 non-null   object\n",
      " 5   TechSupport       5517 non-null   object\n",
      " 6   StreamingTV       5517 non-null   object\n",
      " 7   StreamingMovies   5517 non-null   object\n",
      "dtypes: object(8)\n",
      "memory usage: 344.9+ KB\n"
     ]
    }
   ],
   "source": [
    "internet.info()"
   ]
  },
  {
   "cell_type": "code",
   "execution_count": 23,
   "id": "f6c9d3c6",
   "metadata": {},
   "outputs": [
    {
     "data": {
      "text/plain": [
       "0"
      ]
     },
     "execution_count": 23,
     "metadata": {},
     "output_type": "execute_result"
    }
   ],
   "source": [
    "#Проверим дубликаты\n",
    "internet.duplicated().sum()"
   ]
  },
  {
   "cell_type": "markdown",
   "id": "5eee5f8a",
   "metadata": {},
   "source": [
    "Здесь все столбцы категориальные, тип данных правильный."
   ]
  },
  {
   "cell_type": "markdown",
   "id": "ad408883",
   "metadata": {},
   "source": [
    "***Загрузим и ознакомимся с данными об услугах телефонии***"
   ]
  },
  {
   "cell_type": "code",
   "execution_count": 24,
   "id": "37c57a29",
   "metadata": {},
   "outputs": [],
   "source": [
    "phone = pd.read_csv('phone_new.csv')"
   ]
  },
  {
   "cell_type": "code",
   "execution_count": 25,
   "id": "811663fd",
   "metadata": {},
   "outputs": [
    {
     "data": {
      "text/html": [
       "<div>\n",
       "<style scoped>\n",
       "    .dataframe tbody tr th:only-of-type {\n",
       "        vertical-align: middle;\n",
       "    }\n",
       "\n",
       "    .dataframe tbody tr th {\n",
       "        vertical-align: top;\n",
       "    }\n",
       "\n",
       "    .dataframe thead th {\n",
       "        text-align: right;\n",
       "    }\n",
       "</style>\n",
       "<table border=\"1\" class=\"dataframe\">\n",
       "  <thead>\n",
       "    <tr style=\"text-align: right;\">\n",
       "      <th></th>\n",
       "      <th>customerID</th>\n",
       "      <th>MultipleLines</th>\n",
       "    </tr>\n",
       "  </thead>\n",
       "  <tbody>\n",
       "    <tr>\n",
       "      <th>0</th>\n",
       "      <td>5575-GNVDE</td>\n",
       "      <td>No</td>\n",
       "    </tr>\n",
       "    <tr>\n",
       "      <th>1</th>\n",
       "      <td>3668-QPYBK</td>\n",
       "      <td>No</td>\n",
       "    </tr>\n",
       "    <tr>\n",
       "      <th>2</th>\n",
       "      <td>9237-HQITU</td>\n",
       "      <td>No</td>\n",
       "    </tr>\n",
       "    <tr>\n",
       "      <th>3</th>\n",
       "      <td>9305-CDSKC</td>\n",
       "      <td>Yes</td>\n",
       "    </tr>\n",
       "    <tr>\n",
       "      <th>4</th>\n",
       "      <td>1452-KIOVK</td>\n",
       "      <td>Yes</td>\n",
       "    </tr>\n",
       "  </tbody>\n",
       "</table>\n",
       "</div>"
      ],
      "text/plain": [
       "   customerID MultipleLines\n",
       "0  5575-GNVDE            No\n",
       "1  3668-QPYBK            No\n",
       "2  9237-HQITU            No\n",
       "3  9305-CDSKC           Yes\n",
       "4  1452-KIOVK           Yes"
      ]
     },
     "execution_count": 25,
     "metadata": {},
     "output_type": "execute_result"
    }
   ],
   "source": [
    "phone.head()"
   ]
  },
  {
   "cell_type": "code",
   "execution_count": 26,
   "id": "725383ca",
   "metadata": {},
   "outputs": [
    {
     "name": "stdout",
     "output_type": "stream",
     "text": [
      "<class 'pandas.core.frame.DataFrame'>\n",
      "RangeIndex: 6361 entries, 0 to 6360\n",
      "Data columns (total 2 columns):\n",
      " #   Column         Non-Null Count  Dtype \n",
      "---  ------         --------------  ----- \n",
      " 0   customerID     6361 non-null   object\n",
      " 1   MultipleLines  6361 non-null   object\n",
      "dtypes: object(2)\n",
      "memory usage: 99.5+ KB\n"
     ]
    }
   ],
   "source": [
    "phone.info()"
   ]
  },
  {
   "cell_type": "markdown",
   "id": "63ac894b",
   "metadata": {},
   "source": [
    "Здесь все столбцы категориальные, тип данных правильный."
   ]
  },
  {
   "cell_type": "markdown",
   "id": "9cd91bc3",
   "metadata": {},
   "source": [
    "**Объединим таблицы**"
   ]
  },
  {
   "cell_type": "code",
   "execution_count": 27,
   "id": "e73f6c20",
   "metadata": {},
   "outputs": [],
   "source": [
    "#Объединим  таблицы contract и personal, должны остаться только общие ID, так как в contract мы удаляли строки\n",
    "merged_df = pd.merge(contract, personal, on='customerID')"
   ]
  },
  {
   "cell_type": "code",
   "execution_count": 28,
   "id": "ce165174",
   "metadata": {},
   "outputs": [
    {
     "name": "stdout",
     "output_type": "stream",
     "text": [
      "<class 'pandas.core.frame.DataFrame'>\n",
      "Int64Index: 7032 entries, 0 to 7031\n",
      "Data columns (total 12 columns):\n",
      " #   Column            Non-Null Count  Dtype  \n",
      "---  ------            --------------  -----  \n",
      " 0   customerID        7032 non-null   object \n",
      " 1   BeginDate         7032 non-null   object \n",
      " 2   EndDate           7032 non-null   object \n",
      " 3   Type              7032 non-null   object \n",
      " 4   PaperlessBilling  7032 non-null   object \n",
      " 5   PaymentMethod     7032 non-null   object \n",
      " 6   MonthlyCharges    7032 non-null   float64\n",
      " 7   TotalCharges      7032 non-null   float64\n",
      " 8   gender            7032 non-null   object \n",
      " 9   SeniorCitizen     7032 non-null   object \n",
      " 10  Partner           7032 non-null   object \n",
      " 11  Dependents        7032 non-null   object \n",
      "dtypes: float64(2), object(10)\n",
      "memory usage: 714.2+ KB\n"
     ]
    }
   ],
   "source": [
    "merged_df.info()"
   ]
  },
  {
   "cell_type": "code",
   "execution_count": 29,
   "id": "c1ce8c7c",
   "metadata": {},
   "outputs": [],
   "source": [
    "# Присоединим таблицу  internet\n",
    "merged_internet = pd.merge(merged_df, internet, on='customerID', how='left')"
   ]
  },
  {
   "cell_type": "code",
   "execution_count": 30,
   "id": "824754a9",
   "metadata": {},
   "outputs": [
    {
     "name": "stdout",
     "output_type": "stream",
     "text": [
      "<class 'pandas.core.frame.DataFrame'>\n",
      "Int64Index: 7032 entries, 0 to 7031\n",
      "Data columns (total 19 columns):\n",
      " #   Column            Non-Null Count  Dtype  \n",
      "---  ------            --------------  -----  \n",
      " 0   customerID        7032 non-null   object \n",
      " 1   BeginDate         7032 non-null   object \n",
      " 2   EndDate           7032 non-null   object \n",
      " 3   Type              7032 non-null   object \n",
      " 4   PaperlessBilling  7032 non-null   object \n",
      " 5   PaymentMethod     7032 non-null   object \n",
      " 6   MonthlyCharges    7032 non-null   float64\n",
      " 7   TotalCharges      7032 non-null   float64\n",
      " 8   gender            7032 non-null   object \n",
      " 9   SeniorCitizen     7032 non-null   object \n",
      " 10  Partner           7032 non-null   object \n",
      " 11  Dependents        7032 non-null   object \n",
      " 12  InternetService   5512 non-null   object \n",
      " 13  OnlineSecurity    5512 non-null   object \n",
      " 14  OnlineBackup      5512 non-null   object \n",
      " 15  DeviceProtection  5512 non-null   object \n",
      " 16  TechSupport       5512 non-null   object \n",
      " 17  StreamingTV       5512 non-null   object \n",
      " 18  StreamingMovies   5512 non-null   object \n",
      "dtypes: float64(2), object(17)\n",
      "memory usage: 1.1+ MB\n"
     ]
    }
   ],
   "source": [
    "merged_internet.info()"
   ]
  },
  {
   "cell_type": "code",
   "execution_count": 31,
   "id": "4429eb2a",
   "metadata": {},
   "outputs": [
    {
     "data": {
      "text/html": [
       "<div>\n",
       "<style scoped>\n",
       "    .dataframe tbody tr th:only-of-type {\n",
       "        vertical-align: middle;\n",
       "    }\n",
       "\n",
       "    .dataframe tbody tr th {\n",
       "        vertical-align: top;\n",
       "    }\n",
       "\n",
       "    .dataframe thead th {\n",
       "        text-align: right;\n",
       "    }\n",
       "</style>\n",
       "<table border=\"1\" class=\"dataframe\">\n",
       "  <thead>\n",
       "    <tr style=\"text-align: right;\">\n",
       "      <th></th>\n",
       "      <th>customerID</th>\n",
       "      <th>BeginDate</th>\n",
       "      <th>EndDate</th>\n",
       "      <th>Type</th>\n",
       "      <th>PaperlessBilling</th>\n",
       "      <th>PaymentMethod</th>\n",
       "      <th>MonthlyCharges</th>\n",
       "      <th>TotalCharges</th>\n",
       "      <th>gender</th>\n",
       "      <th>SeniorCitizen</th>\n",
       "      <th>Partner</th>\n",
       "      <th>Dependents</th>\n",
       "      <th>InternetService</th>\n",
       "      <th>OnlineSecurity</th>\n",
       "      <th>OnlineBackup</th>\n",
       "      <th>DeviceProtection</th>\n",
       "      <th>TechSupport</th>\n",
       "      <th>StreamingTV</th>\n",
       "      <th>StreamingMovies</th>\n",
       "    </tr>\n",
       "  </thead>\n",
       "  <tbody>\n",
       "    <tr>\n",
       "      <th>0</th>\n",
       "      <td>7590-VHVEG</td>\n",
       "      <td>2020-01-01</td>\n",
       "      <td>No</td>\n",
       "      <td>Month-to-month</td>\n",
       "      <td>Yes</td>\n",
       "      <td>Electronic check</td>\n",
       "      <td>29.85</td>\n",
       "      <td>31.04</td>\n",
       "      <td>Female</td>\n",
       "      <td>No</td>\n",
       "      <td>Yes</td>\n",
       "      <td>No</td>\n",
       "      <td>DSL</td>\n",
       "      <td>No</td>\n",
       "      <td>Yes</td>\n",
       "      <td>No</td>\n",
       "      <td>No</td>\n",
       "      <td>No</td>\n",
       "      <td>No</td>\n",
       "    </tr>\n",
       "    <tr>\n",
       "      <th>1</th>\n",
       "      <td>5575-GNVDE</td>\n",
       "      <td>2017-04-01</td>\n",
       "      <td>No</td>\n",
       "      <td>One year</td>\n",
       "      <td>No</td>\n",
       "      <td>Mailed check</td>\n",
       "      <td>56.95</td>\n",
       "      <td>2071.84</td>\n",
       "      <td>Male</td>\n",
       "      <td>No</td>\n",
       "      <td>No</td>\n",
       "      <td>No</td>\n",
       "      <td>DSL</td>\n",
       "      <td>Yes</td>\n",
       "      <td>No</td>\n",
       "      <td>Yes</td>\n",
       "      <td>No</td>\n",
       "      <td>No</td>\n",
       "      <td>No</td>\n",
       "    </tr>\n",
       "    <tr>\n",
       "      <th>2</th>\n",
       "      <td>3668-QPYBK</td>\n",
       "      <td>2019-10-01</td>\n",
       "      <td>No</td>\n",
       "      <td>Month-to-month</td>\n",
       "      <td>Yes</td>\n",
       "      <td>Mailed check</td>\n",
       "      <td>53.85</td>\n",
       "      <td>226.17</td>\n",
       "      <td>Male</td>\n",
       "      <td>No</td>\n",
       "      <td>No</td>\n",
       "      <td>No</td>\n",
       "      <td>DSL</td>\n",
       "      <td>Yes</td>\n",
       "      <td>Yes</td>\n",
       "      <td>No</td>\n",
       "      <td>No</td>\n",
       "      <td>No</td>\n",
       "      <td>No</td>\n",
       "    </tr>\n",
       "    <tr>\n",
       "      <th>3</th>\n",
       "      <td>7795-CFOCW</td>\n",
       "      <td>2016-05-01</td>\n",
       "      <td>No</td>\n",
       "      <td>One year</td>\n",
       "      <td>No</td>\n",
       "      <td>Bank transfer (automatic)</td>\n",
       "      <td>42.30</td>\n",
       "      <td>1960.60</td>\n",
       "      <td>Male</td>\n",
       "      <td>No</td>\n",
       "      <td>No</td>\n",
       "      <td>No</td>\n",
       "      <td>DSL</td>\n",
       "      <td>Yes</td>\n",
       "      <td>No</td>\n",
       "      <td>Yes</td>\n",
       "      <td>Yes</td>\n",
       "      <td>No</td>\n",
       "      <td>No</td>\n",
       "    </tr>\n",
       "    <tr>\n",
       "      <th>4</th>\n",
       "      <td>9237-HQITU</td>\n",
       "      <td>2019-09-01</td>\n",
       "      <td>No</td>\n",
       "      <td>Month-to-month</td>\n",
       "      <td>Yes</td>\n",
       "      <td>Electronic check</td>\n",
       "      <td>70.70</td>\n",
       "      <td>353.50</td>\n",
       "      <td>Female</td>\n",
       "      <td>No</td>\n",
       "      <td>No</td>\n",
       "      <td>No</td>\n",
       "      <td>Fiber optic</td>\n",
       "      <td>No</td>\n",
       "      <td>No</td>\n",
       "      <td>No</td>\n",
       "      <td>No</td>\n",
       "      <td>No</td>\n",
       "      <td>No</td>\n",
       "    </tr>\n",
       "  </tbody>\n",
       "</table>\n",
       "</div>"
      ],
      "text/plain": [
       "   customerID   BeginDate EndDate            Type PaperlessBilling  \\\n",
       "0  7590-VHVEG  2020-01-01      No  Month-to-month              Yes   \n",
       "1  5575-GNVDE  2017-04-01      No        One year               No   \n",
       "2  3668-QPYBK  2019-10-01      No  Month-to-month              Yes   \n",
       "3  7795-CFOCW  2016-05-01      No        One year               No   \n",
       "4  9237-HQITU  2019-09-01      No  Month-to-month              Yes   \n",
       "\n",
       "               PaymentMethod  MonthlyCharges  TotalCharges  gender  \\\n",
       "0           Electronic check           29.85         31.04  Female   \n",
       "1               Mailed check           56.95       2071.84    Male   \n",
       "2               Mailed check           53.85        226.17    Male   \n",
       "3  Bank transfer (automatic)           42.30       1960.60    Male   \n",
       "4           Electronic check           70.70        353.50  Female   \n",
       "\n",
       "  SeniorCitizen Partner Dependents InternetService OnlineSecurity  \\\n",
       "0            No     Yes         No             DSL             No   \n",
       "1            No      No         No             DSL            Yes   \n",
       "2            No      No         No             DSL            Yes   \n",
       "3            No      No         No             DSL            Yes   \n",
       "4            No      No         No     Fiber optic             No   \n",
       "\n",
       "  OnlineBackup DeviceProtection TechSupport StreamingTV StreamingMovies  \n",
       "0          Yes               No          No          No              No  \n",
       "1           No              Yes          No          No              No  \n",
       "2          Yes               No          No          No              No  \n",
       "3           No              Yes         Yes          No              No  \n",
       "4           No               No          No          No              No  "
      ]
     },
     "execution_count": 31,
     "metadata": {},
     "output_type": "execute_result"
    }
   ],
   "source": [
    "merged_internet.head()"
   ]
  },
  {
   "cell_type": "code",
   "execution_count": 32,
   "id": "b03798ec",
   "metadata": {},
   "outputs": [],
   "source": [
    "# Присоединим таблицу phone и получим итоговый датасет\n",
    "data = pd.merge(merged_internet, phone, on='customerID', how='left')"
   ]
  },
  {
   "cell_type": "code",
   "execution_count": 33,
   "id": "8f595891",
   "metadata": {},
   "outputs": [
    {
     "name": "stdout",
     "output_type": "stream",
     "text": [
      "<class 'pandas.core.frame.DataFrame'>\n",
      "Int64Index: 7032 entries, 0 to 7031\n",
      "Data columns (total 20 columns):\n",
      " #   Column            Non-Null Count  Dtype  \n",
      "---  ------            --------------  -----  \n",
      " 0   customerID        7032 non-null   object \n",
      " 1   BeginDate         7032 non-null   object \n",
      " 2   EndDate           7032 non-null   object \n",
      " 3   Type              7032 non-null   object \n",
      " 4   PaperlessBilling  7032 non-null   object \n",
      " 5   PaymentMethod     7032 non-null   object \n",
      " 6   MonthlyCharges    7032 non-null   float64\n",
      " 7   TotalCharges      7032 non-null   float64\n",
      " 8   gender            7032 non-null   object \n",
      " 9   SeniorCitizen     7032 non-null   object \n",
      " 10  Partner           7032 non-null   object \n",
      " 11  Dependents        7032 non-null   object \n",
      " 12  InternetService   5512 non-null   object \n",
      " 13  OnlineSecurity    5512 non-null   object \n",
      " 14  OnlineBackup      5512 non-null   object \n",
      " 15  DeviceProtection  5512 non-null   object \n",
      " 16  TechSupport       5512 non-null   object \n",
      " 17  StreamingTV       5512 non-null   object \n",
      " 18  StreamingMovies   5512 non-null   object \n",
      " 19  MultipleLines     6352 non-null   object \n",
      "dtypes: float64(2), object(18)\n",
      "memory usage: 1.1+ MB\n"
     ]
    }
   ],
   "source": [
    "data.info()"
   ]
  },
  {
   "cell_type": "markdown",
   "id": "4d8e3b2f",
   "metadata": {},
   "source": [
    "Итак, мы получили итоговый датафрейм, с которым будем работать, очевидно в нем есть пропуски, все они в категориальных столбцах, поэтому поставим заглушки 'unknown'"
   ]
  },
  {
   "cell_type": "code",
   "execution_count": 34,
   "id": "4728f425",
   "metadata": {},
   "outputs": [],
   "source": [
    "data = data.fillna('unknown')"
   ]
  },
  {
   "cell_type": "code",
   "execution_count": 35,
   "id": "92aacf52",
   "metadata": {},
   "outputs": [
    {
     "name": "stdout",
     "output_type": "stream",
     "text": [
      "<class 'pandas.core.frame.DataFrame'>\n",
      "Int64Index: 7032 entries, 0 to 7031\n",
      "Data columns (total 20 columns):\n",
      " #   Column            Non-Null Count  Dtype  \n",
      "---  ------            --------------  -----  \n",
      " 0   customerID        7032 non-null   object \n",
      " 1   BeginDate         7032 non-null   object \n",
      " 2   EndDate           7032 non-null   object \n",
      " 3   Type              7032 non-null   object \n",
      " 4   PaperlessBilling  7032 non-null   object \n",
      " 5   PaymentMethod     7032 non-null   object \n",
      " 6   MonthlyCharges    7032 non-null   float64\n",
      " 7   TotalCharges      7032 non-null   float64\n",
      " 8   gender            7032 non-null   object \n",
      " 9   SeniorCitizen     7032 non-null   object \n",
      " 10  Partner           7032 non-null   object \n",
      " 11  Dependents        7032 non-null   object \n",
      " 12  InternetService   7032 non-null   object \n",
      " 13  OnlineSecurity    7032 non-null   object \n",
      " 14  OnlineBackup      7032 non-null   object \n",
      " 15  DeviceProtection  7032 non-null   object \n",
      " 16  TechSupport       7032 non-null   object \n",
      " 17  StreamingTV       7032 non-null   object \n",
      " 18  StreamingMovies   7032 non-null   object \n",
      " 19  MultipleLines     7032 non-null   object \n",
      "dtypes: float64(2), object(18)\n",
      "memory usage: 1.1+ MB\n"
     ]
    }
   ],
   "source": [
    "data.info()"
   ]
  },
  {
   "cell_type": "markdown",
   "id": "3c873a75",
   "metadata": {},
   "source": [
    "**Создадим столбец с целевым признаком и преобразуем его**"
   ]
  },
  {
   "cell_type": "code",
   "execution_count": 36,
   "id": "978f2158",
   "metadata": {},
   "outputs": [
    {
     "data": {
      "text/plain": [
       "No            5931\n",
       "2020-01-01      39\n",
       "2019-12-01      38\n",
       "2018-11-01      35\n",
       "2019-09-01      32\n",
       "              ... \n",
       "2014-12-01       2\n",
       "2015-04-01       2\n",
       "2014-11-01       1\n",
       "2014-06-01       1\n",
       "2014-10-01       1\n",
       "Name: EndDate, Length: 67, dtype: int64"
      ]
     },
     "execution_count": 36,
     "metadata": {},
     "output_type": "execute_result"
    }
   ],
   "source": [
    "#Посмотрим значения столбца\n",
    "data['EndDate'].value_counts()"
   ]
  },
  {
   "cell_type": "code",
   "execution_count": 37,
   "id": "b1ab50e1",
   "metadata": {},
   "outputs": [],
   "source": [
    "#Добавим столбец с целевым признаком\n",
    "data['Exited'] = data['EndDate'].copy()"
   ]
  },
  {
   "cell_type": "code",
   "execution_count": 38,
   "id": "a9498a1d",
   "metadata": {},
   "outputs": [],
   "source": [
    "#Заменим все значения, где проставлена дата на 1, то есть клиент ушел\n",
    "data['Exited'] = data['Exited'].map(lambda x: 1 if x != \"No\" else x)"
   ]
  },
  {
   "cell_type": "code",
   "execution_count": 39,
   "id": "24a31b69",
   "metadata": {},
   "outputs": [],
   "source": [
    "#Заменим все значения, где No  на 0, то есть клиент остался\n",
    "data['Exited']  = data['Exited'] .replace(\"No\", 0)"
   ]
  },
  {
   "cell_type": "code",
   "execution_count": 40,
   "id": "2f0e9c6c",
   "metadata": {},
   "outputs": [
    {
     "data": {
      "text/plain": [
       "0    0.84343\n",
       "1    0.15657\n",
       "Name: Exited, dtype: float64"
      ]
     },
     "execution_count": 40,
     "metadata": {},
     "output_type": "execute_result"
    }
   ],
   "source": [
    "data['Exited'].value_counts(normalize=True)"
   ]
  },
  {
   "cell_type": "markdown",
   "id": "2fd34a5b",
   "metadata": {},
   "source": [
    "Итак, мы видим явный дисбаланс классов, 84% оставшихся клиентов против 16% ушедших."
   ]
  },
  {
   "cell_type": "markdown",
   "id": "4cd7c262",
   "metadata": {},
   "source": [
    "**Теперь создадим столбец, где будет отражена продолжительность договора клиента**"
   ]
  },
  {
   "cell_type": "code",
   "execution_count": 41,
   "id": "17896748",
   "metadata": {},
   "outputs": [],
   "source": [
    "# Заменим в столбце EndDate значения No на 2020-02-01, так как данные актуальны на эту дату\n",
    "data['EndDate'] = data['EndDate'].replace(\"No\", '2020-02-01')"
   ]
  },
  {
   "cell_type": "code",
   "execution_count": 42,
   "id": "0781f87d",
   "metadata": {},
   "outputs": [
    {
     "data": {
      "text/plain": [
       "2020-02-01    5931\n",
       "2020-01-01      39\n",
       "2019-12-01      38\n",
       "2018-11-01      35\n",
       "2019-09-01      32\n",
       "              ... \n",
       "2015-04-01       2\n",
       "2014-12-01       2\n",
       "2014-06-01       1\n",
       "2014-11-01       1\n",
       "2014-10-01       1\n",
       "Name: EndDate, Length: 67, dtype: int64"
      ]
     },
     "execution_count": 42,
     "metadata": {},
     "output_type": "execute_result"
    }
   ],
   "source": [
    "data['EndDate'].value_counts()"
   ]
  },
  {
   "cell_type": "code",
   "execution_count": 43,
   "id": "669d52ce",
   "metadata": {},
   "outputs": [],
   "source": [
    "# Преобразуем столбцы в тип данных datetime\n",
    "data['EndDate'] = pd.to_datetime(data['EndDate'])\n",
    "data['BeginDate'] = pd.to_datetime(data['BeginDate'])"
   ]
  },
  {
   "cell_type": "code",
   "execution_count": 44,
   "id": "683fcdea",
   "metadata": {},
   "outputs": [],
   "source": [
    "#Вычислим продолжительность и сохраненим в новый столбец\n",
    "data['duration'] = data['EndDate'] - data['BeginDate']"
   ]
  },
  {
   "cell_type": "code",
   "execution_count": 45,
   "id": "18b2e697",
   "metadata": {},
   "outputs": [
    {
     "data": {
      "text/plain": [
       "0        31 days\n",
       "1      1036 days\n",
       "2       123 days\n",
       "3      1371 days\n",
       "4       153 days\n",
       "          ...   \n",
       "7027    730 days\n",
       "7028   2191 days\n",
       "7029    337 days\n",
       "7030    215 days\n",
       "7031   2010 days\n",
       "Name: duration, Length: 7032, dtype: timedelta64[ns]"
      ]
     },
     "execution_count": 45,
     "metadata": {},
     "output_type": "execute_result"
    }
   ],
   "source": [
    "data['duration']"
   ]
  },
  {
   "cell_type": "code",
   "execution_count": 46,
   "id": "214a153b",
   "metadata": {},
   "outputs": [],
   "source": [
    "# Преобразование timedelta64 в дни\n",
    "data['duration'] = data['duration'].dt.days"
   ]
  },
  {
   "cell_type": "code",
   "execution_count": 47,
   "id": "cd0c8d86",
   "metadata": {},
   "outputs": [
    {
     "data": {
      "text/plain": [
       "2191    265\n",
       "153     249\n",
       "92      243\n",
       "31      236\n",
       "123     236\n",
       "       ... \n",
       "789       1\n",
       "305       1\n",
       "121       1\n",
       "2068      1\n",
       "28        1\n",
       "Name: duration, Length: 250, dtype: int64"
      ]
     },
     "execution_count": 47,
     "metadata": {},
     "output_type": "execute_result"
    }
   ],
   "source": [
    "data['duration'].value_counts()"
   ]
  },
  {
   "cell_type": "markdown",
   "id": "2ad27088",
   "metadata": {},
   "source": [
    "Теперь нам не понадобятся столбцы EndDate и BeginDate, а также customerID не нужен нам для целей машинного обучения, поэтому удалим их."
   ]
  },
  {
   "cell_type": "code",
   "execution_count": 48,
   "id": "bf5a507e",
   "metadata": {},
   "outputs": [],
   "source": [
    "data = data.drop(['EndDate', 'BeginDate', 'customerID'], axis=1)"
   ]
  },
  {
   "cell_type": "code",
   "execution_count": 49,
   "id": "5c78fca6",
   "metadata": {},
   "outputs": [
    {
     "name": "stdout",
     "output_type": "stream",
     "text": [
      "<class 'pandas.core.frame.DataFrame'>\n",
      "Int64Index: 7032 entries, 0 to 7031\n",
      "Data columns (total 19 columns):\n",
      " #   Column            Non-Null Count  Dtype  \n",
      "---  ------            --------------  -----  \n",
      " 0   Type              7032 non-null   object \n",
      " 1   PaperlessBilling  7032 non-null   object \n",
      " 2   PaymentMethod     7032 non-null   object \n",
      " 3   MonthlyCharges    7032 non-null   float64\n",
      " 4   TotalCharges      7032 non-null   float64\n",
      " 5   gender            7032 non-null   object \n",
      " 6   SeniorCitizen     7032 non-null   object \n",
      " 7   Partner           7032 non-null   object \n",
      " 8   Dependents        7032 non-null   object \n",
      " 9   InternetService   7032 non-null   object \n",
      " 10  OnlineSecurity    7032 non-null   object \n",
      " 11  OnlineBackup      7032 non-null   object \n",
      " 12  DeviceProtection  7032 non-null   object \n",
      " 13  TechSupport       7032 non-null   object \n",
      " 14  StreamingTV       7032 non-null   object \n",
      " 15  StreamingMovies   7032 non-null   object \n",
      " 16  MultipleLines     7032 non-null   object \n",
      " 17  Exited            7032 non-null   int64  \n",
      " 18  duration          7032 non-null   int64  \n",
      "dtypes: float64(2), int64(2), object(15)\n",
      "memory usage: 1.1+ MB\n"
     ]
    }
   ],
   "source": [
    "data.info()"
   ]
  },
  {
   "cell_type": "markdown",
   "id": "a6b9c43d",
   "metadata": {},
   "source": [
    "# План работы\n",
    " - EDA\n",
    " - Разделить исходные данные на обучающую и тестовую выборки \n",
    " - Провести кодирование категориальных признаков\n",
    " - Создадим переменные для признаков и целевого признака\n",
    " - Обучение  моделей с подбором гиперпараметров\n",
    " - Выбрать  лучшую модель\n",
    " - Провести финальное тестирование"
   ]
  },
  {
   "cell_type": "markdown",
   "id": "8ff3417c",
   "metadata": {},
   "source": [
    "# EDA"
   ]
  },
  {
   "cell_type": "code",
   "execution_count": 50,
   "id": "63859c70",
   "metadata": {},
   "outputs": [],
   "source": [
    "\n",
    "from sklearn.ensemble import RandomForestClassifier\n",
    "from sklearn.model_selection import train_test_split\n",
    "from sklearn.preprocessing import OrdinalEncoder\n",
    "from sklearn.preprocessing import StandardScaler\n",
    "from sklearn.preprocessing import OneHotEncoder\n",
    "from sklearn.metrics import f1_score\n",
    "from sklearn.utils import shuffle\n",
    "from sklearn.metrics import roc_curve\n",
    "from sklearn.metrics import roc_auc_score\n",
    "from sklearn.metrics import accuracy_score\n",
    "from sklearn.metrics import confusion_matrix\n",
    "from sklearn.metrics import recall_score\n",
    "from sklearn.metrics import precision_score\n",
    "\n",
    "import warnings\n",
    "\n",
    "import pandas as pd\n",
    "import numpy as np\n",
    "\n",
    "import matplotlib.pyplot as plt\n",
    "import seaborn as sns\n",
    "\n",
    "from sklearn.metrics import mean_squared_error\n",
    "from sklearn.model_selection import train_test_split\n",
    "from sklearn.model_selection import RandomizedSearchCV\n",
    "from sklearn.model_selection import GridSearchCV\n",
    "\n",
    "\n",
    "from sklearn.preprocessing import OneHotEncoder\n",
    "from sklearn.preprocessing import StandardScaler\n",
    "from sklearn.preprocessing import OrdinalEncoder\n",
    "\n",
    "from catboost import CatBoostRegressor, Pool"
   ]
  },
  {
   "cell_type": "markdown",
   "id": "9c7bf3f4",
   "metadata": {},
   "source": [
    "***Посмотрим на распределение клиентов по длительности договора***"
   ]
  },
  {
   "cell_type": "code",
   "execution_count": 51,
   "id": "0abbc62d",
   "metadata": {},
   "outputs": [
    {
     "data": {
      "image/png": "[encoded data removed]",
      "text/plain": [
       "<Figure size 1080x360 with 1 Axes>"
      ]
     },
     "metadata": {
      "needs_background": "light"
     },
     "output_type": "display_data"
    }
   ],
   "source": [
    "plt.figure(figsize=(15,5))  \n",
    "sns.histplot(data['duration'],bins=100)\n",
    "plt.title(\"Гистограмма: распределение клиентов по длительности договора\");"
   ]
  },
  {
   "cell_type": "code",
   "execution_count": 52,
   "id": "42238630",
   "metadata": {},
   "outputs": [
    {
     "data": {
      "text/plain": [
       "Text(0.5, 1.0, 'График ящик с усами: распределение клиентов по длительности договора')"
      ]
     },
     "execution_count": 52,
     "metadata": {},
     "output_type": "execute_result"
    },
    {
     "data": {
      "image/png": "[encoded data removed]",
      "text/plain": [
       "<Figure size 1080x360 with 1 Axes>"
      ]
     },
     "metadata": {
      "needs_background": "light"
     },
     "output_type": "display_data"
    }
   ],
   "source": [
    "plt.figure(figsize=(15,5))  \n",
    "sns.boxplot(y=\"duration\", data=data);\n",
    "plt.title(\"График ящик с усами: распределение клиентов по длительности договора\")"
   ]
  },
  {
   "cell_type": "code",
   "execution_count": 53,
   "id": "8669598b",
   "metadata": {},
   "outputs": [
    {
     "data": {
      "text/plain": [
       "count    7032.000000\n",
       "mean      899.961320\n",
       "std       682.738777\n",
       "min        28.000000\n",
       "25%       276.000000\n",
       "50%       761.000000\n",
       "75%      1461.000000\n",
       "max      2314.000000\n",
       "Name: duration, dtype: float64"
      ]
     },
     "execution_count": 53,
     "metadata": {},
     "output_type": "execute_result"
    }
   ],
   "source": [
    "data['duration'].describe()"
   ]
  },
  {
   "cell_type": "markdown",
   "id": "92b0810e",
   "metadata": {},
   "source": [
    "Итак, мы видим что средняя длительность договора около 900 дней. Но величина распределена не равнономерно, большое количество договоров со сроком до 200 дней, а также большое колиество со сроком свыше 2000 дней."
   ]
  },
  {
   "cell_type": "markdown",
   "id": "4e57872d",
   "metadata": {},
   "source": [
    "***Посмотрим на распределение клиентов по ежемесячным тратам на услуги***"
   ]
  },
  {
   "cell_type": "code",
   "execution_count": 54,
   "id": "105640c9",
   "metadata": {},
   "outputs": [
    {
     "data": {
      "image/png": "[encoded data removed]",
      "text/plain": [
       "<Figure size 1080x360 with 1 Axes>"
      ]
     },
     "metadata": {
      "needs_background": "light"
     },
     "output_type": "display_data"
    }
   ],
   "source": [
    "plt.figure(figsize=(15,5))  \n",
    "sns.histplot(data['MonthlyCharges'],bins=50)\n",
    "plt.title(\"Гистограмма: распределение клиентов по  ежемесячным тратам на услуги связи\");"
   ]
  },
  {
   "cell_type": "code",
   "execution_count": 55,
   "id": "b7a0254b",
   "metadata": {},
   "outputs": [
    {
     "data": {
      "image/png": "[encoded data removed]",
      "text/plain": [
       "<Figure size 1080x360 with 1 Axes>"
      ]
     },
     "metadata": {
      "needs_background": "light"
     },
     "output_type": "display_data"
    }
   ],
   "source": [
    "plt.figure(figsize=(15,5))  \n",
    "sns.boxplot(y=\"MonthlyCharges\", data=data);\n",
    "plt.title(\"График ящик с усами: распределение клиентов по ежемесячным тратам на услуги связи\");"
   ]
  },
  {
   "cell_type": "code",
   "execution_count": 56,
   "id": "70e6ecce",
   "metadata": {},
   "outputs": [
    {
     "data": {
      "text/plain": [
       "count    7032.000000\n",
       "mean       64.798208\n",
       "std        30.085974\n",
       "min        18.250000\n",
       "25%        35.587500\n",
       "50%        70.350000\n",
       "75%        89.862500\n",
       "max       118.750000\n",
       "Name: MonthlyCharges, dtype: float64"
      ]
     },
     "execution_count": 56,
     "metadata": {},
     "output_type": "execute_result"
    }
   ],
   "source": [
    "data['MonthlyCharges'].describe()"
   ]
  },
  {
   "cell_type": "markdown",
   "id": "1c6d8250",
   "metadata": {},
   "source": [
    "Итак, мы видим что средняя плата за ежемесячные услуги связи составляет около 65 ден.ед. Но наблюдается большое количество пользвателей, которые платят до 20 ден. ед."
   ]
  },
  {
   "cell_type": "markdown",
   "id": "09773c71",
   "metadata": {},
   "source": [
    "***Построим матрицу коррелиции для численных признаков ( используем корреляцию Спирмена)***"
   ]
  },
  {
   "cell_type": "code",
   "execution_count": 57,
   "id": "25c11f10",
   "metadata": {},
   "outputs": [
    {
     "data": {
      "image/png": "[encoded data removed]",
      "text/plain": [
       "<Figure size 720x576 with 2 Axes>"
      ]
     },
     "metadata": {
      "needs_background": "light"
     },
     "output_type": "display_data"
    }
   ],
   "source": [
    "data_corr = data.drop('Exited', axis=1)\n",
    "correlation_matrix = data_corr.corr(method='spearman')\n",
    "\n",
    "# Построение тепловой карты\n",
    "plt.figure(figsize=(10, 8))\n",
    "sns.heatmap(correlation_matrix, annot=True, cmap='RdYlGn', linewidths=0.2)\n",
    "plt.title('Матрица корреляции')\n",
    "plt.show()"
   ]
  },
  {
   "cell_type": "markdown",
   "id": "dbde4001",
   "metadata": {},
   "source": [
    "Видим весомую корреляцию между совокупными затратами на услуги связи и длительностью договора, что логично."
   ]
  },
  {
   "cell_type": "code",
   "execution_count": 58,
   "id": "fa4f2686",
   "metadata": {},
   "outputs": [
    {
     "name": "stdout",
     "output_type": "stream",
     "text": [
      "Requirement already satisfied: phik in ./opt/anaconda3/lib/python3.9/site-packages (0.12.3)\r\n",
      "Requirement already satisfied: joblib>=0.14.1 in ./opt/anaconda3/lib/python3.9/site-packages (from phik) (1.2.0)\r\n",
      "Requirement already satisfied: scipy>=1.5.2 in ./opt/anaconda3/lib/python3.9/site-packages (from phik) (1.8.0)\r\n",
      "Requirement already satisfied: matplotlib>=2.2.3 in ./opt/anaconda3/lib/python3.9/site-packages (from phik) (3.3.4)\r\n",
      "Requirement already satisfied: numpy>=1.18.0 in ./opt/anaconda3/lib/python3.9/site-packages (from phik) (1.20.1)\r\n",
      "Requirement already satisfied: pandas>=0.25.1 in ./opt/anaconda3/lib/python3.9/site-packages (from phik) (1.2.4)\r\n",
      "Requirement already satisfied: python-dateutil>=2.1 in ./opt/anaconda3/lib/python3.9/site-packages (from matplotlib>=2.2.3->phik) (2.8.2)\r\n",
      "Requirement already satisfied: pyparsing!=2.0.4,!=2.1.2,!=2.1.6,>=2.0.3 in ./opt/anaconda3/lib/python3.9/site-packages (from matplotlib>=2.2.3->phik) (3.0.4)\r\n",
      "Requirement already satisfied: kiwisolver>=1.0.1 in ./opt/anaconda3/lib/python3.9/site-packages (from matplotlib>=2.2.3->phik) (1.3.2)\r\n",
      "Requirement already satisfied: pillow>=6.2.0 in ./opt/anaconda3/lib/python3.9/site-packages (from matplotlib>=2.2.3->phik) (8.4.0)\r\n",
      "Requirement already satisfied: cycler>=0.10 in ./opt/anaconda3/lib/python3.9/site-packages (from matplotlib>=2.2.3->phik) (0.11.0)\r\n",
      "Requirement already satisfied: pytz>=2017.3 in ./opt/anaconda3/lib/python3.9/site-packages (from pandas>=0.25.1->phik) (2021.3)\r\n",
      "Requirement already satisfied: six>=1.5 in ./opt/anaconda3/lib/python3.9/site-packages (from python-dateutil>=2.1->matplotlib>=2.2.3->phik) (1.16.0)\r\n"
     ]
    }
   ],
   "source": [
    "! pip install phik"
   ]
  },
  {
   "cell_type": "code",
   "execution_count": 59,
   "id": "b3f82d86",
   "metadata": {},
   "outputs": [],
   "source": [
    "import phik"
   ]
  },
  {
   "cell_type": "code",
   "execution_count": 60,
   "id": "9f0b0671",
   "metadata": {},
   "outputs": [
    {
     "name": "stdout",
     "output_type": "stream",
     "text": [
      "interval columns not set, guessing: ['MonthlyCharges', 'TotalCharges', 'Exited', 'duration']\n"
     ]
    },
    {
     "data": {
      "image/png": "[encoded data removed]",
      "text/plain": [
       "<Figure size 1080x1080 with 2 Axes>"
      ]
     },
     "metadata": {
      "needs_background": "light"
     },
     "output_type": "display_data"
    }
   ],
   "source": [
    "# Вычисление матрицы корреляции phi_k\n",
    "\n",
    "correlation_matrix1 = data.phik_matrix()\n",
    "\n",
    "plt.figure(figsize=(15,15))\n",
    "# Построение тепловой карты\n",
    "sns.heatmap(correlation_matrix1, annot=True, cmap='coolwarm')\n",
    "\n",
    "# Отображение плота\n",
    "\n",
    "plt.show()"
   ]
  },
  {
   "cell_type": "markdown",
   "id": "5451dffc",
   "metadata": {},
   "source": [
    "Итак, мы видим наличие сильной корреляции в зоне интернет сервисов. Можно предположить если есть услуга интернет сервис, значит и все остальные услуги OnlineSecurity, OnlineBackup, DeviceProtection, TechSupport, StreamingT,  StreamingMovies тоже подключены. Соответственно эти стобцы для дальнейшего построения модели машинного обучения нам не нужны и можно их удалить."
   ]
  },
  {
   "cell_type": "code",
   "execution_count": 61,
   "id": "d6e1d229",
   "metadata": {},
   "outputs": [],
   "source": [
    "#Удаление столбцов OnlineSecurity, OnlineBackup, DeviceProtection, TechSupport, StreamingTV, StreamingMovies\n",
    "columns_drop = ['OnlineSecurity', 'OnlineBackup','DeviceProtection', 'TechSupport', 'StreamingTV', 'StreamingMovies']\n",
    "data = data.drop(columns=columns_drop)"
   ]
  },
  {
   "cell_type": "code",
   "execution_count": 62,
   "id": "9c23d3fa",
   "metadata": {},
   "outputs": [
    {
     "name": "stdout",
     "output_type": "stream",
     "text": [
      "interval columns not set, guessing: ['Exited']\n"
     ]
    },
    {
     "data": {
      "image/png": "[encoded data removed]",
      "text/plain": [
       "<Figure size 720x576 with 1 Axes>"
      ]
     },
     "metadata": {
      "needs_background": "light"
     },
     "output_type": "display_data"
    }
   ],
   "source": [
    "columns_for_drop = ['duration', 'MonthlyCharges', 'TotalCharges']\n",
    "data_phik_target = data.drop(columns=columns_for_drop)\n",
    "\n",
    "# Вычисление матрицы корреляции phi_k\n",
    "correlation_matrix = data_phik_target.phik_matrix()\n",
    "\n",
    "# Выбор столбца, содержащего целевую переменную\n",
    "target_column = 'Exited'\n",
    "\n",
    "# Получение корреляции с таргетом\n",
    "correlation_with_target = correlation_matrix[target_column]\n",
    "\n",
    "# Создание фигуры с заданными размерами\n",
    "plt.figure(figsize=(10, 8))\n",
    "\n",
    "# Построение плота корреляции\n",
    "sns.barplot(x=correlation_with_target.index, y=correlation_with_target.values)\n",
    "\n",
    "# Настройка осей и названия графика\n",
    "plt.xlabel('Признаки')\n",
    "plt.ylabel('Корреляция phi_k')\n",
    "plt.title(f'Корреляция phi_k с {target_column}')\n",
    "\n",
    "# Вывод плота\n",
    "plt.xticks(rotation=90)\n",
    "plt.tight_layout()\n",
    "plt.show()\n",
    "\n"
   ]
  },
  {
   "cell_type": "markdown",
   "id": "eca793f5",
   "metadata": {},
   "source": [
    "Ну также сильной корреляции какого-либо категориального признака с таргетом не обнаружено."
   ]
  },
  {
   "cell_type": "markdown",
   "id": "6adfc546",
   "metadata": {},
   "source": [
    "***Проверка на дисбаланс классов, чувствительность метрики к дисбалансу***"
   ]
  },
  {
   "cell_type": "markdown",
   "id": "7e6b7ca1",
   "metadata": {},
   "source": [
    "Ранее мы провели оценку дисбаланса классов, выяснили что дисбаланс присутствует, соотношение 84 на 16%.\n",
    "Метрика AUC-ROC не является чувствительной к дисбалансу классов. AUC-ROC оценивает качество модели, измеряя ее способность различать между классами. Она учитывает все возможные пороги классификации и оценивает суммарное качество классификации. Поэтому балансировкой заниматься не будем."
   ]
  },
  {
   "cell_type": "markdown",
   "id": "0144eb14",
   "metadata": {},
   "source": [
    "## Деление на выборки"
   ]
  },
  {
   "cell_type": "markdown",
   "id": "b38c27b4",
   "metadata": {},
   "source": [
    "***Разделим датасет на тестовую и обучающую выборки, для тестовой оставим 25%***"
   ]
  },
  {
   "cell_type": "code",
   "execution_count": 63,
   "id": "95931ec3",
   "metadata": {},
   "outputs": [],
   "source": [
    "data_train, data_test = train_test_split(data, test_size=0.25, random_state=220523)"
   ]
  },
  {
   "cell_type": "code",
   "execution_count": 64,
   "id": "bcd6e2d3",
   "metadata": {},
   "outputs": [
    {
     "data": {
      "text/plain": [
       "5274"
      ]
     },
     "execution_count": 64,
     "metadata": {},
     "output_type": "execute_result"
    }
   ],
   "source": [
    "#Проверим размеры выборок\n",
    "len(data_train)"
   ]
  },
  {
   "cell_type": "code",
   "execution_count": 65,
   "id": "8132ea72",
   "metadata": {},
   "outputs": [
    {
     "data": {
      "text/plain": [
       "1758"
      ]
     },
     "execution_count": 65,
     "metadata": {},
     "output_type": "execute_result"
    }
   ],
   "source": [
    "len(data_test)"
   ]
  },
  {
   "cell_type": "markdown",
   "id": "2757529d",
   "metadata": {},
   "source": [
    "***Создадим переменные для признаков и целевого признака***"
   ]
  },
  {
   "cell_type": "code",
   "execution_count": 66,
   "id": "48143f50",
   "metadata": {},
   "outputs": [],
   "source": [
    "features_train = data_train.drop(['Exited'], axis=1)\n",
    "target_train = data_train['Exited']\n",
    "features_test = data_test.drop(['Exited'], axis=1)\n",
    "target_test = data_test['Exited']"
   ]
  },
  {
   "cell_type": "markdown",
   "id": "1d4280f9",
   "metadata": {},
   "source": [
    "## Обучим модели"
   ]
  },
  {
   "cell_type": "markdown",
   "id": "fbc26be7",
   "metadata": {},
   "source": [
    "**LogisticRegression**"
   ]
  },
  {
   "cell_type": "code",
   "execution_count": 67,
   "id": "a971f6e7",
   "metadata": {},
   "outputs": [
    {
     "name": "stdout",
     "output_type": "stream",
     "text": [
      "Requirement already satisfied: scikit-learn==1.1.3 in ./opt/anaconda3/lib/python3.9/site-packages (1.1.3)\r\n",
      "Requirement already satisfied: scipy>=1.3.2 in ./opt/anaconda3/lib/python3.9/site-packages (from scikit-learn==1.1.3) (1.8.0)\r\n",
      "Requirement already satisfied: joblib>=1.0.0 in ./opt/anaconda3/lib/python3.9/site-packages (from scikit-learn==1.1.3) (1.2.0)\r\n",
      "Requirement already satisfied: numpy>=1.17.3 in ./opt/anaconda3/lib/python3.9/site-packages (from scikit-learn==1.1.3) (1.20.1)\r\n",
      "Requirement already satisfied: threadpoolctl>=2.0.0 in ./opt/anaconda3/lib/python3.9/site-packages (from scikit-learn==1.1.3) (2.2.0)\r\n"
     ]
    }
   ],
   "source": [
    "!pip install scikit-learn==1.1.3"
   ]
  },
  {
   "cell_type": "code",
   "execution_count": 68,
   "id": "fc5d3623",
   "metadata": {},
   "outputs": [],
   "source": [
    "from sklearn.pipeline import Pipeline\n",
    "from sklearn.compose import ColumnTransformer\n",
    "from sklearn.preprocessing import StandardScaler, OneHotEncoder\n",
    "from sklearn.linear_model import LogisticRegression\n",
    "from sklearn.model_selection import GridSearchCV"
   ]
  },
  {
   "cell_type": "code",
   "execution_count": 69,
   "id": "e9b0fe53",
   "metadata": {},
   "outputs": [],
   "source": [
    "# В переменную numeric добавим численные признаки\n",
    "numeric_features = ['duration', 'MonthlyCharges', 'TotalCharges']"
   ]
  },
  {
   "cell_type": "code",
   "execution_count": 70,
   "id": "7b260ed0",
   "metadata": {},
   "outputs": [],
   "source": [
    "# В переменную categorical_features добавим категориальные признаки\n",
    "categorical_features = (['Type', 'PaperlessBilling', 'PaymentMethod', \n",
    "                         'gender','SeniorCitizen','Partner',\n",
    "                         'Dependents', 'InternetService','MultipleLines'])"
   ]
  },
  {
   "cell_type": "code",
   "execution_count": 71,
   "id": "c5cd9f49",
   "metadata": {},
   "outputs": [],
   "source": [
    "# Определение пайплайна для предобработки признаков\n",
    "preprocessor = ColumnTransformer(\n",
    "    transformers=[\n",
    "        ('numeric', StandardScaler(), numeric_features),  # Стандартизация численных признаков\n",
    "        ('categorical', OneHotEncoder(drop='first', handle_unknown='ignore'), categorical_features)  # Кодирование категориальных признаков\n",
    "    ])"
   ]
  },
  {
   "cell_type": "code",
   "execution_count": 72,
   "id": "247421ba",
   "metadata": {},
   "outputs": [],
   "source": [
    "# Определение модели логистической регрессии\n",
    "model = LogisticRegression(random_state=220523)"
   ]
  },
  {
   "cell_type": "code",
   "execution_count": 73,
   "id": "4f2bce31",
   "metadata": {},
   "outputs": [],
   "source": [
    "# Создание пайплайна\n",
    "pipeline = Pipeline([\n",
    "    ('preprocessor', preprocessor),\n",
    "    ('model', model)\n",
    "])"
   ]
  },
  {
   "cell_type": "code",
   "execution_count": 74,
   "id": "da6c6e9c",
   "metadata": {},
   "outputs": [],
   "source": [
    "# Определение сетки параметров для GridSearchCV\n",
    "param_grid = {\n",
    "    'model__C': [0.1, 1, 10]\n",
    "}"
   ]
  },
  {
   "cell_type": "code",
   "execution_count": 75,
   "id": "545f01b3",
   "metadata": {},
   "outputs": [],
   "source": [
    "# Создание объекта GridSearchCV\n",
    "grid_search = GridSearchCV(pipeline, param_grid, cv=4, scoring='roc_auc')"
   ]
  },
  {
   "cell_type": "code",
   "execution_count": 76,
   "id": "0afe8883",
   "metadata": {},
   "outputs": [
    {
     "data": {
      "text/html": [
       "<style>#sk-container-id-1 {color: black;background-color: white;}#sk-container-id-1 pre{padding: 0;}#sk-container-id-1 div.sk-toggleable {background-color: white;}#sk-container-id-1 label.sk-toggleable__label {cursor: pointer;display: block;width: 100%;margin-bottom: 0;padding: 0.3em;box-sizing: border-box;text-align: center;}#sk-container-id-1 label.sk-toggleable__label-arrow:before {content: \"▸\";float: left;margin-right: 0.25em;color: #696969;}#sk-container-id-1 label.sk-toggleable__label-arrow:hover:before {color: black;}#sk-container-id-1 div.sk-estimator:hover label.sk-toggleable__label-arrow:before {color: black;}#sk-container-id-1 div.sk-toggleable__content {max-height: 0;max-width: 0;overflow: hidden;text-align: left;background-color: #f0f8ff;}#sk-container-id-1 div.sk-toggleable__content pre {margin: 0.2em;color: black;border-radius: 0.25em;background-color: #f0f8ff;}#sk-container-id-1 input.sk-toggleable__control:checked~div.sk-toggleable__content {max-height: 200px;max-width: 100%;overflow: auto;}#sk-container-id-1 input.sk-toggleable__control:checked~label.sk-toggleable__label-arrow:before {content: \"▾\";}#sk-container-id-1 div.sk-estimator input.sk-toggleable__control:checked~label.sk-toggleable__label {background-color: #d4ebff;}#sk-container-id-1 div.sk-label input.sk-toggleable__control:checked~label.sk-toggleable__label {background-color: #d4ebff;}#sk-container-id-1 input.sk-hidden--visually {border: 0;clip: rect(1px 1px 1px 1px);clip: rect(1px, 1px, 1px, 1px);height: 1px;margin: -1px;overflow: hidden;padding: 0;position: absolute;width: 1px;}#sk-container-id-1 div.sk-estimator {font-family: monospace;background-color: #f0f8ff;border: 1px dotted black;border-radius: 0.25em;box-sizing: border-box;margin-bottom: 0.5em;}#sk-container-id-1 div.sk-estimator:hover {background-color: #d4ebff;}#sk-container-id-1 div.sk-parallel-item::after {content: \"\";width: 100%;border-bottom: 1px solid gray;flex-grow: 1;}#sk-container-id-1 div.sk-label:hover label.sk-toggleable__label {background-color: #d4ebff;}#sk-container-id-1 div.sk-serial::before {content: \"\";position: absolute;border-left: 1px solid gray;box-sizing: border-box;top: 0;bottom: 0;left: 50%;z-index: 0;}#sk-container-id-1 div.sk-serial {display: flex;flex-direction: column;align-items: center;background-color: white;padding-right: 0.2em;padding-left: 0.2em;position: relative;}#sk-container-id-1 div.sk-item {position: relative;z-index: 1;}#sk-container-id-1 div.sk-parallel {display: flex;align-items: stretch;justify-content: center;background-color: white;position: relative;}#sk-container-id-1 div.sk-item::before, #sk-container-id-1 div.sk-parallel-item::before {content: \"\";position: absolute;border-left: 1px solid gray;box-sizing: border-box;top: 0;bottom: 0;left: 50%;z-index: -1;}#sk-container-id-1 div.sk-parallel-item {display: flex;flex-direction: column;z-index: 1;position: relative;background-color: white;}#sk-container-id-1 div.sk-parallel-item:first-child::after {align-self: flex-end;width: 50%;}#sk-container-id-1 div.sk-parallel-item:last-child::after {align-self: flex-start;width: 50%;}#sk-container-id-1 div.sk-parallel-item:only-child::after {width: 0;}#sk-container-id-1 div.sk-dashed-wrapped {border: 1px dashed gray;margin: 0 0.4em 0.5em 0.4em;box-sizing: border-box;padding-bottom: 0.4em;background-color: white;}#sk-container-id-1 div.sk-label label {font-family: monospace;font-weight: bold;display: inline-block;line-height: 1.2em;}#sk-container-id-1 div.sk-label-container {text-align: center;}#sk-container-id-1 div.sk-container {/* jupyter's `normalize.less` sets `[hidden] { display: none; }` but bootstrap.min.css set `[hidden] { display: none !important; }` so we also need the `!important` here to be able to override the default hidden behavior on the sphinx rendered scikit-learn.org. See: https://github.com/scikit-learn/scikit-learn/issues/21755 */display: inline-block !important;position: relative;}#sk-container-id-1 div.sk-text-repr-fallback {display: none;}</style><div id=\"sk-container-id-1\" class=\"sk-top-container\"><div class=\"sk-text-repr-fallback\"><pre>GridSearchCV(cv=4,\n",
       "             estimator=Pipeline(steps=[(&#x27;preprocessor&#x27;,\n",
       "                                        ColumnTransformer(transformers=[(&#x27;numeric&#x27;,\n",
       "                                                                         StandardScaler(),\n",
       "                                                                         [&#x27;duration&#x27;,\n",
       "                                                                          &#x27;MonthlyCharges&#x27;,\n",
       "                                                                          &#x27;TotalCharges&#x27;]),\n",
       "                                                                        (&#x27;categorical&#x27;,\n",
       "                                                                         OneHotEncoder(drop=&#x27;first&#x27;,\n",
       "                                                                                       handle_unknown=&#x27;ignore&#x27;),\n",
       "                                                                         [&#x27;Type&#x27;,\n",
       "                                                                          &#x27;PaperlessBilling&#x27;,\n",
       "                                                                          &#x27;PaymentMethod&#x27;,\n",
       "                                                                          &#x27;gender&#x27;,\n",
       "                                                                          &#x27;SeniorCitizen&#x27;,\n",
       "                                                                          &#x27;Partner&#x27;,\n",
       "                                                                          &#x27;Dependents&#x27;,\n",
       "                                                                          &#x27;InternetService&#x27;,\n",
       "                                                                          &#x27;MultipleLines&#x27;])])),\n",
       "                                       (&#x27;model&#x27;,\n",
       "                                        LogisticRegression(random_state=220523))]),\n",
       "             param_grid={&#x27;model__C&#x27;: [0.1, 1, 10]}, scoring=&#x27;roc_auc&#x27;)</pre><b>In a Jupyter environment, please rerun this cell to show the HTML representation or trust the notebook. <br />On GitHub, the HTML representation is unable to render, please try loading this page with nbviewer.org.</b></div><div class=\"sk-container\" hidden><div class=\"sk-item sk-dashed-wrapped\"><div class=\"sk-label-container\"><div class=\"sk-label sk-toggleable\"><input class=\"sk-toggleable__control sk-hidden--visually\" id=\"sk-estimator-id-1\" type=\"checkbox\" ><label for=\"sk-estimator-id-1\" class=\"sk-toggleable__label sk-toggleable__label-arrow\">GridSearchCV</label><div class=\"sk-toggleable__content\"><pre>GridSearchCV(cv=4,\n",
       "             estimator=Pipeline(steps=[(&#x27;preprocessor&#x27;,\n",
       "                                        ColumnTransformer(transformers=[(&#x27;numeric&#x27;,\n",
       "                                                                         StandardScaler(),\n",
       "                                                                         [&#x27;duration&#x27;,\n",
       "                                                                          &#x27;MonthlyCharges&#x27;,\n",
       "                                                                          &#x27;TotalCharges&#x27;]),\n",
       "                                                                        (&#x27;categorical&#x27;,\n",
       "                                                                         OneHotEncoder(drop=&#x27;first&#x27;,\n",
       "                                                                                       handle_unknown=&#x27;ignore&#x27;),\n",
       "                                                                         [&#x27;Type&#x27;,\n",
       "                                                                          &#x27;PaperlessBilling&#x27;,\n",
       "                                                                          &#x27;PaymentMethod&#x27;,\n",
       "                                                                          &#x27;gender&#x27;,\n",
       "                                                                          &#x27;SeniorCitizen&#x27;,\n",
       "                                                                          &#x27;Partner&#x27;,\n",
       "                                                                          &#x27;Dependents&#x27;,\n",
       "                                                                          &#x27;InternetService&#x27;,\n",
       "                                                                          &#x27;MultipleLines&#x27;])])),\n",
       "                                       (&#x27;model&#x27;,\n",
       "                                        LogisticRegression(random_state=220523))]),\n",
       "             param_grid={&#x27;model__C&#x27;: [0.1, 1, 10]}, scoring=&#x27;roc_auc&#x27;)</pre></div></div></div><div class=\"sk-parallel\"><div class=\"sk-parallel-item\"><div class=\"sk-item\"><div class=\"sk-label-container\"><div class=\"sk-label sk-toggleable\"><input class=\"sk-toggleable__control sk-hidden--visually\" id=\"sk-estimator-id-2\" type=\"checkbox\" ><label for=\"sk-estimator-id-2\" class=\"sk-toggleable__label sk-toggleable__label-arrow\">estimator: Pipeline</label><div class=\"sk-toggleable__content\"><pre>Pipeline(steps=[(&#x27;preprocessor&#x27;,\n",
       "                 ColumnTransformer(transformers=[(&#x27;numeric&#x27;, StandardScaler(),\n",
       "                                                  [&#x27;duration&#x27;, &#x27;MonthlyCharges&#x27;,\n",
       "                                                   &#x27;TotalCharges&#x27;]),\n",
       "                                                 (&#x27;categorical&#x27;,\n",
       "                                                  OneHotEncoder(drop=&#x27;first&#x27;,\n",
       "                                                                handle_unknown=&#x27;ignore&#x27;),\n",
       "                                                  [&#x27;Type&#x27;, &#x27;PaperlessBilling&#x27;,\n",
       "                                                   &#x27;PaymentMethod&#x27;, &#x27;gender&#x27;,\n",
       "                                                   &#x27;SeniorCitizen&#x27;, &#x27;Partner&#x27;,\n",
       "                                                   &#x27;Dependents&#x27;,\n",
       "                                                   &#x27;InternetService&#x27;,\n",
       "                                                   &#x27;MultipleLines&#x27;])])),\n",
       "                (&#x27;model&#x27;, LogisticRegression(random_state=220523))])</pre></div></div></div><div class=\"sk-serial\"><div class=\"sk-item\"><div class=\"sk-serial\"><div class=\"sk-item sk-dashed-wrapped\"><div class=\"sk-label-container\"><div class=\"sk-label sk-toggleable\"><input class=\"sk-toggleable__control sk-hidden--visually\" id=\"sk-estimator-id-3\" type=\"checkbox\" ><label for=\"sk-estimator-id-3\" class=\"sk-toggleable__label sk-toggleable__label-arrow\">preprocessor: ColumnTransformer</label><div class=\"sk-toggleable__content\"><pre>ColumnTransformer(transformers=[(&#x27;numeric&#x27;, StandardScaler(),\n",
       "                                 [&#x27;duration&#x27;, &#x27;MonthlyCharges&#x27;,\n",
       "                                  &#x27;TotalCharges&#x27;]),\n",
       "                                (&#x27;categorical&#x27;,\n",
       "                                 OneHotEncoder(drop=&#x27;first&#x27;,\n",
       "                                               handle_unknown=&#x27;ignore&#x27;),\n",
       "                                 [&#x27;Type&#x27;, &#x27;PaperlessBilling&#x27;, &#x27;PaymentMethod&#x27;,\n",
       "                                  &#x27;gender&#x27;, &#x27;SeniorCitizen&#x27;, &#x27;Partner&#x27;,\n",
       "                                  &#x27;Dependents&#x27;, &#x27;InternetService&#x27;,\n",
       "                                  &#x27;MultipleLines&#x27;])])</pre></div></div></div><div class=\"sk-parallel\"><div class=\"sk-parallel-item\"><div class=\"sk-item\"><div class=\"sk-label-container\"><div class=\"sk-label sk-toggleable\"><input class=\"sk-toggleable__control sk-hidden--visually\" id=\"sk-estimator-id-4\" type=\"checkbox\" ><label for=\"sk-estimator-id-4\" class=\"sk-toggleable__label sk-toggleable__label-arrow\">numeric</label><div class=\"sk-toggleable__content\"><pre>[&#x27;duration&#x27;, &#x27;MonthlyCharges&#x27;, &#x27;TotalCharges&#x27;]</pre></div></div></div><div class=\"sk-serial\"><div class=\"sk-item\"><div class=\"sk-estimator sk-toggleable\"><input class=\"sk-toggleable__control sk-hidden--visually\" id=\"sk-estimator-id-5\" type=\"checkbox\" ><label for=\"sk-estimator-id-5\" class=\"sk-toggleable__label sk-toggleable__label-arrow\">StandardScaler</label><div class=\"sk-toggleable__content\"><pre>StandardScaler()</pre></div></div></div></div></div></div><div class=\"sk-parallel-item\"><div class=\"sk-item\"><div class=\"sk-label-container\"><div class=\"sk-label sk-toggleable\"><input class=\"sk-toggleable__control sk-hidden--visually\" id=\"sk-estimator-id-6\" type=\"checkbox\" ><label for=\"sk-estimator-id-6\" class=\"sk-toggleable__label sk-toggleable__label-arrow\">categorical</label><div class=\"sk-toggleable__content\"><pre>[&#x27;Type&#x27;, &#x27;PaperlessBilling&#x27;, &#x27;PaymentMethod&#x27;, &#x27;gender&#x27;, &#x27;SeniorCitizen&#x27;, &#x27;Partner&#x27;, &#x27;Dependents&#x27;, &#x27;InternetService&#x27;, &#x27;MultipleLines&#x27;]</pre></div></div></div><div class=\"sk-serial\"><div class=\"sk-item\"><div class=\"sk-estimator sk-toggleable\"><input class=\"sk-toggleable__control sk-hidden--visually\" id=\"sk-estimator-id-7\" type=\"checkbox\" ><label for=\"sk-estimator-id-7\" class=\"sk-toggleable__label sk-toggleable__label-arrow\">OneHotEncoder</label><div class=\"sk-toggleable__content\"><pre>OneHotEncoder(drop=&#x27;first&#x27;, handle_unknown=&#x27;ignore&#x27;)</pre></div></div></div></div></div></div></div></div><div class=\"sk-item\"><div class=\"sk-estimator sk-toggleable\"><input class=\"sk-toggleable__control sk-hidden--visually\" id=\"sk-estimator-id-8\" type=\"checkbox\" ><label for=\"sk-estimator-id-8\" class=\"sk-toggleable__label sk-toggleable__label-arrow\">LogisticRegression</label><div class=\"sk-toggleable__content\"><pre>LogisticRegression(random_state=220523)</pre></div></div></div></div></div></div></div></div></div></div></div></div>"
      ],
      "text/plain": [
       "GridSearchCV(cv=4,\n",
       "             estimator=Pipeline(steps=[('preprocessor',\n",
       "                                        ColumnTransformer(transformers=[('numeric',\n",
       "                                                                         StandardScaler(),\n",
       "                                                                         ['duration',\n",
       "                                                                          'MonthlyCharges',\n",
       "                                                                          'TotalCharges']),\n",
       "                                                                        ('categorical',\n",
       "                                                                         OneHotEncoder(drop='first',\n",
       "                                                                                       handle_unknown='ignore'),\n",
       "                                                                         ['Type',\n",
       "                                                                          'PaperlessBilling',\n",
       "                                                                          'PaymentMethod',\n",
       "                                                                          'gender',\n",
       "                                                                          'SeniorCitizen',\n",
       "                                                                          'Partner',\n",
       "                                                                          'Dependents',\n",
       "                                                                          'InternetService',\n",
       "                                                                          'MultipleLines'])])),\n",
       "                                       ('model',\n",
       "                                        LogisticRegression(random_state=220523))]),\n",
       "             param_grid={'model__C': [0.1, 1, 10]}, scoring='roc_auc')"
      ]
     },
     "execution_count": 76,
     "metadata": {},
     "output_type": "execute_result"
    }
   ],
   "source": [
    "grid_search.fit(features_train, target_train)"
   ]
  },
  {
   "cell_type": "code",
   "execution_count": 77,
   "id": "c4f8950d",
   "metadata": {},
   "outputs": [],
   "source": [
    "# Получение лучшей модели\n",
    "best_model = grid_search.best_estimator_\n",
    "\n",
    "# Получение лучшего score\n",
    "best_score = grid_search.best_score_"
   ]
  },
  {
   "cell_type": "code",
   "execution_count": 78,
   "id": "48c13453",
   "metadata": {},
   "outputs": [
    {
     "name": "stdout",
     "output_type": "stream",
     "text": [
      "0.7528496753457077\n"
     ]
    }
   ],
   "source": [
    "print(best_score)"
   ]
  },
  {
   "cell_type": "markdown",
   "id": "b9dff5c6",
   "metadata": {},
   "source": [
    "Итак, полученный roc_auc  составляет 0.75, не дотягивает до целевого результата, очевидно модель логистической регрессии не лучший вариант."
   ]
  },
  {
   "cell_type": "markdown",
   "id": "5abde32f",
   "metadata": {},
   "source": [
    "**CatBoostClassifier**"
   ]
  },
  {
   "cell_type": "markdown",
   "id": "6bf6b10a",
   "metadata": {},
   "source": [
    "CatBoost может сам кодировать категории из типа данных 'object' и 'category', но эта кодровка занимает дополнительное время. Будем кодировать OE, чтобы получилось быстрее."
   ]
  },
  {
   "cell_type": "code",
   "execution_count": 79,
   "id": "57fc1d08",
   "metadata": {},
   "outputs": [],
   "source": [
    "from sklearn.preprocessing import OrdinalEncoder\n",
    "from catboost import CatBoostClassifier"
   ]
  },
  {
   "cell_type": "code",
   "execution_count": 80,
   "id": "9b6d8d6e",
   "metadata": {},
   "outputs": [],
   "source": [
    "# Определение модели CatBoostClassifier\n",
    "model_cb = CatBoostClassifier(random_state=220523, verbose=False)"
   ]
  },
  {
   "cell_type": "code",
   "execution_count": 81,
   "id": "cdb0cb50",
   "metadata": {},
   "outputs": [],
   "source": [
    "\n",
    "# Определение пайплайна для предобработки признаков\n",
    "preprocessor_cb = ColumnTransformer(\n",
    "    transformers=[\n",
    "        ('numeric', StandardScaler(), numeric_features),  # Стандартизация численных признаков\n",
    "        ('categorical', OrdinalEncoder(handle_unknown='use_encoded_value', unknown_value=-1), categorical_features)  # Кодирование категориальных признаков\n",
    "    ])\n",
    "\n"
   ]
  },
  {
   "cell_type": "code",
   "execution_count": 82,
   "id": "4e0b8b52",
   "metadata": {},
   "outputs": [],
   "source": [
    "# Создание пайплайна\n",
    "pipeline_cb = Pipeline([\n",
    "    ('preprocessor', preprocessor_cb),\n",
    "    ('model', model_cb)\n",
    "])\n"
   ]
  },
  {
   "cell_type": "code",
   "execution_count": 83,
   "id": "d101d9d6",
   "metadata": {},
   "outputs": [],
   "source": [
    "# Определение сетки параметров для GridSearchCV\n",
    "param_grid_cb = {\n",
    "    'model__learning_rate': [0.1, 0.01, 0.001],  # Скорость обучения модели CatBoostClassifier\n",
    "    'model__depth': [5, 7]  # Глубина дерева модели CatBoostClassifier\n",
    "}"
   ]
  },
  {
   "cell_type": "code",
   "execution_count": 84,
   "id": "24951041",
   "metadata": {},
   "outputs": [],
   "source": [
    "# Создание объекта GridSearchCV\n",
    "grid_search_cb = GridSearchCV(pipeline_cb, param_grid_cb, cv=5, scoring='roc_auc', verbose=0)"
   ]
  },
  {
   "cell_type": "code",
   "execution_count": 85,
   "id": "0adbc9cd",
   "metadata": {},
   "outputs": [
    {
     "data": {
      "text/html": [
       "<style>#sk-container-id-2 {color: black;background-color: white;}#sk-container-id-2 pre{padding: 0;}#sk-container-id-2 div.sk-toggleable {background-color: white;}#sk-container-id-2 label.sk-toggleable__label {cursor: pointer;display: block;width: 100%;margin-bottom: 0;padding: 0.3em;box-sizing: border-box;text-align: center;}#sk-container-id-2 label.sk-toggleable__label-arrow:before {content: \"▸\";float: left;margin-right: 0.25em;color: #696969;}#sk-container-id-2 label.sk-toggleable__label-arrow:hover:before {color: black;}#sk-container-id-2 div.sk-estimator:hover label.sk-toggleable__label-arrow:before {color: black;}#sk-container-id-2 div.sk-toggleable__content {max-height: 0;max-width: 0;overflow: hidden;text-align: left;background-color: #f0f8ff;}#sk-container-id-2 div.sk-toggleable__content pre {margin: 0.2em;color: black;border-radius: 0.25em;background-color: #f0f8ff;}#sk-container-id-2 input.sk-toggleable__control:checked~div.sk-toggleable__content {max-height: 200px;max-width: 100%;overflow: auto;}#sk-container-id-2 input.sk-toggleable__control:checked~label.sk-toggleable__label-arrow:before {content: \"▾\";}#sk-container-id-2 div.sk-estimator input.sk-toggleable__control:checked~label.sk-toggleable__label {background-color: #d4ebff;}#sk-container-id-2 div.sk-label input.sk-toggleable__control:checked~label.sk-toggleable__label {background-color: #d4ebff;}#sk-container-id-2 input.sk-hidden--visually {border: 0;clip: rect(1px 1px 1px 1px);clip: rect(1px, 1px, 1px, 1px);height: 1px;margin: -1px;overflow: hidden;padding: 0;position: absolute;width: 1px;}#sk-container-id-2 div.sk-estimator {font-family: monospace;background-color: #f0f8ff;border: 1px dotted black;border-radius: 0.25em;box-sizing: border-box;margin-bottom: 0.5em;}#sk-container-id-2 div.sk-estimator:hover {background-color: #d4ebff;}#sk-container-id-2 div.sk-parallel-item::after {content: \"\";width: 100%;border-bottom: 1px solid gray;flex-grow: 1;}#sk-container-id-2 div.sk-label:hover label.sk-toggleable__label {background-color: #d4ebff;}#sk-container-id-2 div.sk-serial::before {content: \"\";position: absolute;border-left: 1px solid gray;box-sizing: border-box;top: 0;bottom: 0;left: 50%;z-index: 0;}#sk-container-id-2 div.sk-serial {display: flex;flex-direction: column;align-items: center;background-color: white;padding-right: 0.2em;padding-left: 0.2em;position: relative;}#sk-container-id-2 div.sk-item {position: relative;z-index: 1;}#sk-container-id-2 div.sk-parallel {display: flex;align-items: stretch;justify-content: center;background-color: white;position: relative;}#sk-container-id-2 div.sk-item::before, #sk-container-id-2 div.sk-parallel-item::before {content: \"\";position: absolute;border-left: 1px solid gray;box-sizing: border-box;top: 0;bottom: 0;left: 50%;z-index: -1;}#sk-container-id-2 div.sk-parallel-item {display: flex;flex-direction: column;z-index: 1;position: relative;background-color: white;}#sk-container-id-2 div.sk-parallel-item:first-child::after {align-self: flex-end;width: 50%;}#sk-container-id-2 div.sk-parallel-item:last-child::after {align-self: flex-start;width: 50%;}#sk-container-id-2 div.sk-parallel-item:only-child::after {width: 0;}#sk-container-id-2 div.sk-dashed-wrapped {border: 1px dashed gray;margin: 0 0.4em 0.5em 0.4em;box-sizing: border-box;padding-bottom: 0.4em;background-color: white;}#sk-container-id-2 div.sk-label label {font-family: monospace;font-weight: bold;display: inline-block;line-height: 1.2em;}#sk-container-id-2 div.sk-label-container {text-align: center;}#sk-container-id-2 div.sk-container {/* jupyter's `normalize.less` sets `[hidden] { display: none; }` but bootstrap.min.css set `[hidden] { display: none !important; }` so we also need the `!important` here to be able to override the default hidden behavior on the sphinx rendered scikit-learn.org. See: https://github.com/scikit-learn/scikit-learn/issues/21755 */display: inline-block !important;position: relative;}#sk-container-id-2 div.sk-text-repr-fallback {display: none;}</style><div id=\"sk-container-id-2\" class=\"sk-top-container\"><div class=\"sk-text-repr-fallback\"><pre>GridSearchCV(cv=5,\n",
       "             estimator=Pipeline(steps=[(&#x27;preprocessor&#x27;,\n",
       "                                        ColumnTransformer(transformers=[(&#x27;numeric&#x27;,\n",
       "                                                                         StandardScaler(),\n",
       "                                                                         [&#x27;duration&#x27;,\n",
       "                                                                          &#x27;MonthlyCharges&#x27;,\n",
       "                                                                          &#x27;TotalCharges&#x27;]),\n",
       "                                                                        (&#x27;categorical&#x27;,\n",
       "                                                                         OrdinalEncoder(handle_unknown=&#x27;use_encoded_value&#x27;,\n",
       "                                                                                        unknown_value=-1),\n",
       "                                                                         [&#x27;Type&#x27;,\n",
       "                                                                          &#x27;PaperlessBilling&#x27;,\n",
       "                                                                          &#x27;PaymentMethod&#x27;,\n",
       "                                                                          &#x27;gender&#x27;,\n",
       "                                                                          &#x27;SeniorCitizen&#x27;,\n",
       "                                                                          &#x27;Partner&#x27;,\n",
       "                                                                          &#x27;Dependents&#x27;,\n",
       "                                                                          &#x27;InternetService&#x27;,\n",
       "                                                                          &#x27;MultipleLines&#x27;])])),\n",
       "                                       (&#x27;model&#x27;,\n",
       "                                        &lt;catboost.core.CatBoostClassifier object at 0x7fde007fdd30&gt;)]),\n",
       "             param_grid={&#x27;model__depth&#x27;: [5, 7],\n",
       "                         &#x27;model__learning_rate&#x27;: [0.1, 0.01, 0.001]},\n",
       "             scoring=&#x27;roc_auc&#x27;)</pre><b>In a Jupyter environment, please rerun this cell to show the HTML representation or trust the notebook. <br />On GitHub, the HTML representation is unable to render, please try loading this page with nbviewer.org.</b></div><div class=\"sk-container\" hidden><div class=\"sk-item sk-dashed-wrapped\"><div class=\"sk-label-container\"><div class=\"sk-label sk-toggleable\"><input class=\"sk-toggleable__control sk-hidden--visually\" id=\"sk-estimator-id-9\" type=\"checkbox\" ><label for=\"sk-estimator-id-9\" class=\"sk-toggleable__label sk-toggleable__label-arrow\">GridSearchCV</label><div class=\"sk-toggleable__content\"><pre>GridSearchCV(cv=5,\n",
       "             estimator=Pipeline(steps=[(&#x27;preprocessor&#x27;,\n",
       "                                        ColumnTransformer(transformers=[(&#x27;numeric&#x27;,\n",
       "                                                                         StandardScaler(),\n",
       "                                                                         [&#x27;duration&#x27;,\n",
       "                                                                          &#x27;MonthlyCharges&#x27;,\n",
       "                                                                          &#x27;TotalCharges&#x27;]),\n",
       "                                                                        (&#x27;categorical&#x27;,\n",
       "                                                                         OrdinalEncoder(handle_unknown=&#x27;use_encoded_value&#x27;,\n",
       "                                                                                        unknown_value=-1),\n",
       "                                                                         [&#x27;Type&#x27;,\n",
       "                                                                          &#x27;PaperlessBilling&#x27;,\n",
       "                                                                          &#x27;PaymentMethod&#x27;,\n",
       "                                                                          &#x27;gender&#x27;,\n",
       "                                                                          &#x27;SeniorCitizen&#x27;,\n",
       "                                                                          &#x27;Partner&#x27;,\n",
       "                                                                          &#x27;Dependents&#x27;,\n",
       "                                                                          &#x27;InternetService&#x27;,\n",
       "                                                                          &#x27;MultipleLines&#x27;])])),\n",
       "                                       (&#x27;model&#x27;,\n",
       "                                        &lt;catboost.core.CatBoostClassifier object at 0x7fde007fdd30&gt;)]),\n",
       "             param_grid={&#x27;model__depth&#x27;: [5, 7],\n",
       "                         &#x27;model__learning_rate&#x27;: [0.1, 0.01, 0.001]},\n",
       "             scoring=&#x27;roc_auc&#x27;)</pre></div></div></div><div class=\"sk-parallel\"><div class=\"sk-parallel-item\"><div class=\"sk-item\"><div class=\"sk-label-container\"><div class=\"sk-label sk-toggleable\"><input class=\"sk-toggleable__control sk-hidden--visually\" id=\"sk-estimator-id-10\" type=\"checkbox\" ><label for=\"sk-estimator-id-10\" class=\"sk-toggleable__label sk-toggleable__label-arrow\">estimator: Pipeline</label><div class=\"sk-toggleable__content\"><pre>Pipeline(steps=[(&#x27;preprocessor&#x27;,\n",
       "                 ColumnTransformer(transformers=[(&#x27;numeric&#x27;, StandardScaler(),\n",
       "                                                  [&#x27;duration&#x27;, &#x27;MonthlyCharges&#x27;,\n",
       "                                                   &#x27;TotalCharges&#x27;]),\n",
       "                                                 (&#x27;categorical&#x27;,\n",
       "                                                  OrdinalEncoder(handle_unknown=&#x27;use_encoded_value&#x27;,\n",
       "                                                                 unknown_value=-1),\n",
       "                                                  [&#x27;Type&#x27;, &#x27;PaperlessBilling&#x27;,\n",
       "                                                   &#x27;PaymentMethod&#x27;, &#x27;gender&#x27;,\n",
       "                                                   &#x27;SeniorCitizen&#x27;, &#x27;Partner&#x27;,\n",
       "                                                   &#x27;Dependents&#x27;,\n",
       "                                                   &#x27;InternetService&#x27;,\n",
       "                                                   &#x27;MultipleLines&#x27;])])),\n",
       "                (&#x27;model&#x27;,\n",
       "                 &lt;catboost.core.CatBoostClassifier object at 0x7fde007fdd30&gt;)])</pre></div></div></div><div class=\"sk-serial\"><div class=\"sk-item\"><div class=\"sk-serial\"><div class=\"sk-item sk-dashed-wrapped\"><div class=\"sk-label-container\"><div class=\"sk-label sk-toggleable\"><input class=\"sk-toggleable__control sk-hidden--visually\" id=\"sk-estimator-id-11\" type=\"checkbox\" ><label for=\"sk-estimator-id-11\" class=\"sk-toggleable__label sk-toggleable__label-arrow\">preprocessor: ColumnTransformer</label><div class=\"sk-toggleable__content\"><pre>ColumnTransformer(transformers=[(&#x27;numeric&#x27;, StandardScaler(),\n",
       "                                 [&#x27;duration&#x27;, &#x27;MonthlyCharges&#x27;,\n",
       "                                  &#x27;TotalCharges&#x27;]),\n",
       "                                (&#x27;categorical&#x27;,\n",
       "                                 OrdinalEncoder(handle_unknown=&#x27;use_encoded_value&#x27;,\n",
       "                                                unknown_value=-1),\n",
       "                                 [&#x27;Type&#x27;, &#x27;PaperlessBilling&#x27;, &#x27;PaymentMethod&#x27;,\n",
       "                                  &#x27;gender&#x27;, &#x27;SeniorCitizen&#x27;, &#x27;Partner&#x27;,\n",
       "                                  &#x27;Dependents&#x27;, &#x27;InternetService&#x27;,\n",
       "                                  &#x27;MultipleLines&#x27;])])</pre></div></div></div><div class=\"sk-parallel\"><div class=\"sk-parallel-item\"><div class=\"sk-item\"><div class=\"sk-label-container\"><div class=\"sk-label sk-toggleable\"><input class=\"sk-toggleable__control sk-hidden--visually\" id=\"sk-estimator-id-12\" type=\"checkbox\" ><label for=\"sk-estimator-id-12\" class=\"sk-toggleable__label sk-toggleable__label-arrow\">numeric</label><div class=\"sk-toggleable__content\"><pre>[&#x27;duration&#x27;, &#x27;MonthlyCharges&#x27;, &#x27;TotalCharges&#x27;]</pre></div></div></div><div class=\"sk-serial\"><div class=\"sk-item\"><div class=\"sk-estimator sk-toggleable\"><input class=\"sk-toggleable__control sk-hidden--visually\" id=\"sk-estimator-id-13\" type=\"checkbox\" ><label for=\"sk-estimator-id-13\" class=\"sk-toggleable__label sk-toggleable__label-arrow\">StandardScaler</label><div class=\"sk-toggleable__content\"><pre>StandardScaler()</pre></div></div></div></div></div></div><div class=\"sk-parallel-item\"><div class=\"sk-item\"><div class=\"sk-label-container\"><div class=\"sk-label sk-toggleable\"><input class=\"sk-toggleable__control sk-hidden--visually\" id=\"sk-estimator-id-14\" type=\"checkbox\" ><label for=\"sk-estimator-id-14\" class=\"sk-toggleable__label sk-toggleable__label-arrow\">categorical</label><div class=\"sk-toggleable__content\"><pre>[&#x27;Type&#x27;, &#x27;PaperlessBilling&#x27;, &#x27;PaymentMethod&#x27;, &#x27;gender&#x27;, &#x27;SeniorCitizen&#x27;, &#x27;Partner&#x27;, &#x27;Dependents&#x27;, &#x27;InternetService&#x27;, &#x27;MultipleLines&#x27;]</pre></div></div></div><div class=\"sk-serial\"><div class=\"sk-item\"><div class=\"sk-estimator sk-toggleable\"><input class=\"sk-toggleable__control sk-hidden--visually\" id=\"sk-estimator-id-15\" type=\"checkbox\" ><label for=\"sk-estimator-id-15\" class=\"sk-toggleable__label sk-toggleable__label-arrow\">OrdinalEncoder</label><div class=\"sk-toggleable__content\"><pre>OrdinalEncoder(handle_unknown=&#x27;use_encoded_value&#x27;, unknown_value=-1)</pre></div></div></div></div></div></div></div></div><div class=\"sk-item\"><div class=\"sk-estimator sk-toggleable\"><input class=\"sk-toggleable__control sk-hidden--visually\" id=\"sk-estimator-id-16\" type=\"checkbox\" ><label for=\"sk-estimator-id-16\" class=\"sk-toggleable__label sk-toggleable__label-arrow\">CatBoostClassifier</label><div class=\"sk-toggleable__content\"><pre>&lt;catboost.core.CatBoostClassifier object at 0x7fde007fdd30&gt;</pre></div></div></div></div></div></div></div></div></div></div></div></div>"
      ],
      "text/plain": [
       "GridSearchCV(cv=5,\n",
       "             estimator=Pipeline(steps=[('preprocessor',\n",
       "                                        ColumnTransformer(transformers=[('numeric',\n",
       "                                                                         StandardScaler(),\n",
       "                                                                         ['duration',\n",
       "                                                                          'MonthlyCharges',\n",
       "                                                                          'TotalCharges']),\n",
       "                                                                        ('categorical',\n",
       "                                                                         OrdinalEncoder(handle_unknown='use_encoded_value',\n",
       "                                                                                        unknown_value=-1),\n",
       "                                                                         ['Type',\n",
       "                                                                          'PaperlessBilling',\n",
       "                                                                          'PaymentMethod',\n",
       "                                                                          'gender',\n",
       "                                                                          'SeniorCitizen',\n",
       "                                                                          'Partner',\n",
       "                                                                          'Dependents',\n",
       "                                                                          'InternetService',\n",
       "                                                                          'MultipleLines'])])),\n",
       "                                       ('model',\n",
       "                                        <catboost.core.CatBoostClassifier object at 0x7fde007fdd30>)]),\n",
       "             param_grid={'model__depth': [5, 7],\n",
       "                         'model__learning_rate': [0.1, 0.01, 0.001]},\n",
       "             scoring='roc_auc')"
      ]
     },
     "execution_count": 85,
     "metadata": {},
     "output_type": "execute_result"
    }
   ],
   "source": [
    "# Обучение модели с подбором параметров\n",
    "grid_search_cb.fit(features_train, target_train)"
   ]
  },
  {
   "cell_type": "code",
   "execution_count": 86,
   "id": "3d93e600",
   "metadata": {},
   "outputs": [],
   "source": [
    "# Получение лучшей модели\n",
    "best_model_cb = grid_search_cb.best_estimator_\n",
    "\n",
    "# Получение лучшего score\n",
    "best_score_cb = grid_search_cb.best_score_\n",
    "\n",
    "#Получение лучших гиперпараметров\n",
    "best_params_cb = grid_search_cb.best_params_"
   ]
  },
  {
   "cell_type": "code",
   "execution_count": 87,
   "id": "96b51b5a",
   "metadata": {},
   "outputs": [
    {
     "name": "stdout",
     "output_type": "stream",
     "text": [
      "0.9138608989583178\n"
     ]
    }
   ],
   "source": [
    "print(best_score_cb)"
   ]
  },
  {
   "cell_type": "code",
   "execution_count": 88,
   "id": "dbea2328",
   "metadata": {},
   "outputs": [
    {
     "data": {
      "text/plain": [
       "{'model__depth': 5, 'model__learning_rate': 0.1}"
      ]
     },
     "execution_count": 88,
     "metadata": {},
     "output_type": "execute_result"
    }
   ],
   "source": [
    "best_params_cb"
   ]
  },
  {
   "cell_type": "markdown",
   "id": "0b4f972f",
   "metadata": {},
   "source": [
    "**CatBoostClassifier** без предварительного кодирования категориальных признаков"
   ]
  },
  {
   "cell_type": "markdown",
   "id": "ceaac913",
   "metadata": {},
   "source": [
    "Для сравнения посмотрим метрику без предварительного кодирования OrdinalEncoder"
   ]
  },
  {
   "cell_type": "code",
   "execution_count": 89,
   "id": "51cf15f2",
   "metadata": {},
   "outputs": [],
   "source": [
    "# Создание ColumnTransformer для стандартизации численных признаков\n",
    "preprocessor1 = ColumnTransformer(\n",
    "    transformers=[\n",
    "        ('numeric', StandardScaler(), numeric_features)\n",
    "    ])\n",
    "\n",
    "# Создание pipeline с ColumnTransformer и CatBoostClassifier\n",
    "pipeline1 = Pipeline([\n",
    "    ('preprocessor', preprocessor1),\n",
    "    ('classifier', CatBoostClassifier(random_state=220523, verbose=False))\n",
    "])\n",
    "\n",
    "# Определение параметров для GridSearchCV\n",
    "param_grid1 = {\n",
    "    'classifier__iterations': [100, 200, 300],\n",
    "    'classifier__learning_rate': [0.1, 0.01, 0.001]\n",
    "}\n",
    "\n",
    "# Создание объекта GridSearchCV\n",
    "grid_search1 = GridSearchCV(pipeline1, param_grid1, scoring='roc_auc', cv=5, verbose=0)\n"
   ]
  },
  {
   "cell_type": "code",
   "execution_count": 90,
   "id": "e2071004",
   "metadata": {},
   "outputs": [
    {
     "data": {
      "text/html": [
       "<style>#sk-container-id-3 {color: black;background-color: white;}#sk-container-id-3 pre{padding: 0;}#sk-container-id-3 div.sk-toggleable {background-color: white;}#sk-container-id-3 label.sk-toggleable__label {cursor: pointer;display: block;width: 100%;margin-bottom: 0;padding: 0.3em;box-sizing: border-box;text-align: center;}#sk-container-id-3 label.sk-toggleable__label-arrow:before {content: \"▸\";float: left;margin-right: 0.25em;color: #696969;}#sk-container-id-3 label.sk-toggleable__label-arrow:hover:before {color: black;}#sk-container-id-3 div.sk-estimator:hover label.sk-toggleable__label-arrow:before {color: black;}#sk-container-id-3 div.sk-toggleable__content {max-height: 0;max-width: 0;overflow: hidden;text-align: left;background-color: #f0f8ff;}#sk-container-id-3 div.sk-toggleable__content pre {margin: 0.2em;color: black;border-radius: 0.25em;background-color: #f0f8ff;}#sk-container-id-3 input.sk-toggleable__control:checked~div.sk-toggleable__content {max-height: 200px;max-width: 100%;overflow: auto;}#sk-container-id-3 input.sk-toggleable__control:checked~label.sk-toggleable__label-arrow:before {content: \"▾\";}#sk-container-id-3 div.sk-estimator input.sk-toggleable__control:checked~label.sk-toggleable__label {background-color: #d4ebff;}#sk-container-id-3 div.sk-label input.sk-toggleable__control:checked~label.sk-toggleable__label {background-color: #d4ebff;}#sk-container-id-3 input.sk-hidden--visually {border: 0;clip: rect(1px 1px 1px 1px);clip: rect(1px, 1px, 1px, 1px);height: 1px;margin: -1px;overflow: hidden;padding: 0;position: absolute;width: 1px;}#sk-container-id-3 div.sk-estimator {font-family: monospace;background-color: #f0f8ff;border: 1px dotted black;border-radius: 0.25em;box-sizing: border-box;margin-bottom: 0.5em;}#sk-container-id-3 div.sk-estimator:hover {background-color: #d4ebff;}#sk-container-id-3 div.sk-parallel-item::after {content: \"\";width: 100%;border-bottom: 1px solid gray;flex-grow: 1;}#sk-container-id-3 div.sk-label:hover label.sk-toggleable__label {background-color: #d4ebff;}#sk-container-id-3 div.sk-serial::before {content: \"\";position: absolute;border-left: 1px solid gray;box-sizing: border-box;top: 0;bottom: 0;left: 50%;z-index: 0;}#sk-container-id-3 div.sk-serial {display: flex;flex-direction: column;align-items: center;background-color: white;padding-right: 0.2em;padding-left: 0.2em;position: relative;}#sk-container-id-3 div.sk-item {position: relative;z-index: 1;}#sk-container-id-3 div.sk-parallel {display: flex;align-items: stretch;justify-content: center;background-color: white;position: relative;}#sk-container-id-3 div.sk-item::before, #sk-container-id-3 div.sk-parallel-item::before {content: \"\";position: absolute;border-left: 1px solid gray;box-sizing: border-box;top: 0;bottom: 0;left: 50%;z-index: -1;}#sk-container-id-3 div.sk-parallel-item {display: flex;flex-direction: column;z-index: 1;position: relative;background-color: white;}#sk-container-id-3 div.sk-parallel-item:first-child::after {align-self: flex-end;width: 50%;}#sk-container-id-3 div.sk-parallel-item:last-child::after {align-self: flex-start;width: 50%;}#sk-container-id-3 div.sk-parallel-item:only-child::after {width: 0;}#sk-container-id-3 div.sk-dashed-wrapped {border: 1px dashed gray;margin: 0 0.4em 0.5em 0.4em;box-sizing: border-box;padding-bottom: 0.4em;background-color: white;}#sk-container-id-3 div.sk-label label {font-family: monospace;font-weight: bold;display: inline-block;line-height: 1.2em;}#sk-container-id-3 div.sk-label-container {text-align: center;}#sk-container-id-3 div.sk-container {/* jupyter's `normalize.less` sets `[hidden] { display: none; }` but bootstrap.min.css set `[hidden] { display: none !important; }` so we also need the `!important` here to be able to override the default hidden behavior on the sphinx rendered scikit-learn.org. See: https://github.com/scikit-learn/scikit-learn/issues/21755 */display: inline-block !important;position: relative;}#sk-container-id-3 div.sk-text-repr-fallback {display: none;}</style><div id=\"sk-container-id-3\" class=\"sk-top-container\"><div class=\"sk-text-repr-fallback\"><pre>GridSearchCV(cv=5,\n",
       "             estimator=Pipeline(steps=[(&#x27;preprocessor&#x27;,\n",
       "                                        ColumnTransformer(transformers=[(&#x27;numeric&#x27;,\n",
       "                                                                         StandardScaler(),\n",
       "                                                                         [&#x27;duration&#x27;,\n",
       "                                                                          &#x27;MonthlyCharges&#x27;,\n",
       "                                                                          &#x27;TotalCharges&#x27;])])),\n",
       "                                       (&#x27;classifier&#x27;,\n",
       "                                        &lt;catboost.core.CatBoostClassifier object at 0x7fde2167b220&gt;)]),\n",
       "             param_grid={&#x27;classifier__iterations&#x27;: [100, 200, 300],\n",
       "                         &#x27;classifier__learning_rate&#x27;: [0.1, 0.01, 0.001]},\n",
       "             scoring=&#x27;roc_auc&#x27;)</pre><b>In a Jupyter environment, please rerun this cell to show the HTML representation or trust the notebook. <br />On GitHub, the HTML representation is unable to render, please try loading this page with nbviewer.org.</b></div><div class=\"sk-container\" hidden><div class=\"sk-item sk-dashed-wrapped\"><div class=\"sk-label-container\"><div class=\"sk-label sk-toggleable\"><input class=\"sk-toggleable__control sk-hidden--visually\" id=\"sk-estimator-id-17\" type=\"checkbox\" ><label for=\"sk-estimator-id-17\" class=\"sk-toggleable__label sk-toggleable__label-arrow\">GridSearchCV</label><div class=\"sk-toggleable__content\"><pre>GridSearchCV(cv=5,\n",
       "             estimator=Pipeline(steps=[(&#x27;preprocessor&#x27;,\n",
       "                                        ColumnTransformer(transformers=[(&#x27;numeric&#x27;,\n",
       "                                                                         StandardScaler(),\n",
       "                                                                         [&#x27;duration&#x27;,\n",
       "                                                                          &#x27;MonthlyCharges&#x27;,\n",
       "                                                                          &#x27;TotalCharges&#x27;])])),\n",
       "                                       (&#x27;classifier&#x27;,\n",
       "                                        &lt;catboost.core.CatBoostClassifier object at 0x7fde2167b220&gt;)]),\n",
       "             param_grid={&#x27;classifier__iterations&#x27;: [100, 200, 300],\n",
       "                         &#x27;classifier__learning_rate&#x27;: [0.1, 0.01, 0.001]},\n",
       "             scoring=&#x27;roc_auc&#x27;)</pre></div></div></div><div class=\"sk-parallel\"><div class=\"sk-parallel-item\"><div class=\"sk-item\"><div class=\"sk-label-container\"><div class=\"sk-label sk-toggleable\"><input class=\"sk-toggleable__control sk-hidden--visually\" id=\"sk-estimator-id-18\" type=\"checkbox\" ><label for=\"sk-estimator-id-18\" class=\"sk-toggleable__label sk-toggleable__label-arrow\">estimator: Pipeline</label><div class=\"sk-toggleable__content\"><pre>Pipeline(steps=[(&#x27;preprocessor&#x27;,\n",
       "                 ColumnTransformer(transformers=[(&#x27;numeric&#x27;, StandardScaler(),\n",
       "                                                  [&#x27;duration&#x27;, &#x27;MonthlyCharges&#x27;,\n",
       "                                                   &#x27;TotalCharges&#x27;])])),\n",
       "                (&#x27;classifier&#x27;,\n",
       "                 &lt;catboost.core.CatBoostClassifier object at 0x7fde2167b220&gt;)])</pre></div></div></div><div class=\"sk-serial\"><div class=\"sk-item\"><div class=\"sk-serial\"><div class=\"sk-item sk-dashed-wrapped\"><div class=\"sk-label-container\"><div class=\"sk-label sk-toggleable\"><input class=\"sk-toggleable__control sk-hidden--visually\" id=\"sk-estimator-id-19\" type=\"checkbox\" ><label for=\"sk-estimator-id-19\" class=\"sk-toggleable__label sk-toggleable__label-arrow\">preprocessor: ColumnTransformer</label><div class=\"sk-toggleable__content\"><pre>ColumnTransformer(transformers=[(&#x27;numeric&#x27;, StandardScaler(),\n",
       "                                 [&#x27;duration&#x27;, &#x27;MonthlyCharges&#x27;,\n",
       "                                  &#x27;TotalCharges&#x27;])])</pre></div></div></div><div class=\"sk-parallel\"><div class=\"sk-parallel-item\"><div class=\"sk-item\"><div class=\"sk-label-container\"><div class=\"sk-label sk-toggleable\"><input class=\"sk-toggleable__control sk-hidden--visually\" id=\"sk-estimator-id-20\" type=\"checkbox\" ><label for=\"sk-estimator-id-20\" class=\"sk-toggleable__label sk-toggleable__label-arrow\">numeric</label><div class=\"sk-toggleable__content\"><pre>[&#x27;duration&#x27;, &#x27;MonthlyCharges&#x27;, &#x27;TotalCharges&#x27;]</pre></div></div></div><div class=\"sk-serial\"><div class=\"sk-item\"><div class=\"sk-estimator sk-toggleable\"><input class=\"sk-toggleable__control sk-hidden--visually\" id=\"sk-estimator-id-21\" type=\"checkbox\" ><label for=\"sk-estimator-id-21\" class=\"sk-toggleable__label sk-toggleable__label-arrow\">StandardScaler</label><div class=\"sk-toggleable__content\"><pre>StandardScaler()</pre></div></div></div></div></div></div></div></div><div class=\"sk-item\"><div class=\"sk-estimator sk-toggleable\"><input class=\"sk-toggleable__control sk-hidden--visually\" id=\"sk-estimator-id-22\" type=\"checkbox\" ><label for=\"sk-estimator-id-22\" class=\"sk-toggleable__label sk-toggleable__label-arrow\">CatBoostClassifier</label><div class=\"sk-toggleable__content\"><pre>&lt;catboost.core.CatBoostClassifier object at 0x7fde2167b220&gt;</pre></div></div></div></div></div></div></div></div></div></div></div></div>"
      ],
      "text/plain": [
       "GridSearchCV(cv=5,\n",
       "             estimator=Pipeline(steps=[('preprocessor',\n",
       "                                        ColumnTransformer(transformers=[('numeric',\n",
       "                                                                         StandardScaler(),\n",
       "                                                                         ['duration',\n",
       "                                                                          'MonthlyCharges',\n",
       "                                                                          'TotalCharges'])])),\n",
       "                                       ('classifier',\n",
       "                                        <catboost.core.CatBoostClassifier object at 0x7fde2167b220>)]),\n",
       "             param_grid={'classifier__iterations': [100, 200, 300],\n",
       "                         'classifier__learning_rate': [0.1, 0.01, 0.001]},\n",
       "             scoring='roc_auc')"
      ]
     },
     "execution_count": 90,
     "metadata": {},
     "output_type": "execute_result"
    }
   ],
   "source": [
    "grid_search1.fit(features_train, target_train)"
   ]
  },
  {
   "cell_type": "code",
   "execution_count": 91,
   "id": "30ebc3c2",
   "metadata": {},
   "outputs": [],
   "source": [
    "# Получение лучшей модели\n",
    "best_model_1 = grid_search1.best_estimator_\n",
    "\n",
    "# Получение лучшего score\n",
    "best_score_1 = grid_search1.best_score_"
   ]
  },
  {
   "cell_type": "code",
   "execution_count": 92,
   "id": "d0311bd1",
   "metadata": {},
   "outputs": [
    {
     "name": "stdout",
     "output_type": "stream",
     "text": [
      "0.896816992185709\n"
     ]
    }
   ],
   "source": [
    "print(best_score_1)"
   ]
  },
  {
   "cell_type": "markdown",
   "id": "f621d832",
   "metadata": {},
   "source": [
    "Таким образом, разница auc_roc не так существенна с предварительным кодированием и без."
   ]
  },
  {
   "cell_type": "markdown",
   "id": "8b73e88e",
   "metadata": {},
   "source": [
    "**RandomForestClassifier**"
   ]
  },
  {
   "cell_type": "markdown",
   "id": "2c0171b4",
   "metadata": {},
   "source": [
    "Стандартизируем численные признаки и закодируем категориальные признаки методом OrdinalEncoder, при переборе гиперпараметров будем использовать RandomizedSearchCV"
   ]
  },
  {
   "cell_type": "code",
   "execution_count": 93,
   "id": "31902f42",
   "metadata": {},
   "outputs": [],
   "source": [
    "from sklearn.ensemble import RandomForestClassifier\n",
    "from sklearn.model_selection import RandomizedSearchCV"
   ]
  },
  {
   "cell_type": "code",
   "execution_count": 94,
   "id": "a9815ea8",
   "metadata": {},
   "outputs": [],
   "source": [
    "# Определение пайплайна для предобработки признаков\n",
    "preprocessor_rf = ColumnTransformer(\n",
    "    transformers=[\n",
    "        ('numeric', StandardScaler(), numeric_features),  # Стандартизация численных признаков\n",
    "        ('categorical',OrdinalEncoder(handle_unknown='use_encoded_value', unknown_value=-1), categorical_features)  # Кодирование категориальных признаков\n",
    "    ])\n",
    "\n"
   ]
  },
  {
   "cell_type": "code",
   "execution_count": 95,
   "id": "c776db8a",
   "metadata": {},
   "outputs": [],
   "source": [
    "# Создание pipeline с преобразованием и моделью\n",
    "pipeline_rf = Pipeline(steps=[('preprocessor', preprocessor_rf),\n",
    "                           ('classifier', RandomForestClassifier(random_state=220523))])\n"
   ]
  },
  {
   "cell_type": "code",
   "execution_count": 96,
   "id": "96942203",
   "metadata": {},
   "outputs": [],
   "source": [
    "param_grid_rf = {\n",
    "    'classifier__n_estimators': [100, 200, 300],\n",
    "    'classifier__max_depth': [None, 5, 10],\n",
    "    'classifier__min_samples_split': [2, 5, 10]\n",
    "}\n"
   ]
  },
  {
   "cell_type": "code",
   "execution_count": 97,
   "id": "845b857a",
   "metadata": {},
   "outputs": [],
   "source": [
    "# Создание объекта RandomizedSearchCV\n",
    "random_search = (RandomizedSearchCV(estimator=pipeline_rf, \n",
    "                                    param_distributions=param_grid_rf, \n",
    "                                    scoring='roc_auc', n_iter=10, cv=5,random_state=220523))\n"
   ]
  },
  {
   "cell_type": "code",
   "execution_count": 98,
   "id": "e6e6d771",
   "metadata": {},
   "outputs": [
    {
     "data": {
      "text/html": [
       "<style>#sk-container-id-4 {color: black;background-color: white;}#sk-container-id-4 pre{padding: 0;}#sk-container-id-4 div.sk-toggleable {background-color: white;}#sk-container-id-4 label.sk-toggleable__label {cursor: pointer;display: block;width: 100%;margin-bottom: 0;padding: 0.3em;box-sizing: border-box;text-align: center;}#sk-container-id-4 label.sk-toggleable__label-arrow:before {content: \"▸\";float: left;margin-right: 0.25em;color: #696969;}#sk-container-id-4 label.sk-toggleable__label-arrow:hover:before {color: black;}#sk-container-id-4 div.sk-estimator:hover label.sk-toggleable__label-arrow:before {color: black;}#sk-container-id-4 div.sk-toggleable__content {max-height: 0;max-width: 0;overflow: hidden;text-align: left;background-color: #f0f8ff;}#sk-container-id-4 div.sk-toggleable__content pre {margin: 0.2em;color: black;border-radius: 0.25em;background-color: #f0f8ff;}#sk-container-id-4 input.sk-toggleable__control:checked~div.sk-toggleable__content {max-height: 200px;max-width: 100%;overflow: auto;}#sk-container-id-4 input.sk-toggleable__control:checked~label.sk-toggleable__label-arrow:before {content: \"▾\";}#sk-container-id-4 div.sk-estimator input.sk-toggleable__control:checked~label.sk-toggleable__label {background-color: #d4ebff;}#sk-container-id-4 div.sk-label input.sk-toggleable__control:checked~label.sk-toggleable__label {background-color: #d4ebff;}#sk-container-id-4 input.sk-hidden--visually {border: 0;clip: rect(1px 1px 1px 1px);clip: rect(1px, 1px, 1px, 1px);height: 1px;margin: -1px;overflow: hidden;padding: 0;position: absolute;width: 1px;}#sk-container-id-4 div.sk-estimator {font-family: monospace;background-color: #f0f8ff;border: 1px dotted black;border-radius: 0.25em;box-sizing: border-box;margin-bottom: 0.5em;}#sk-container-id-4 div.sk-estimator:hover {background-color: #d4ebff;}#sk-container-id-4 div.sk-parallel-item::after {content: \"\";width: 100%;border-bottom: 1px solid gray;flex-grow: 1;}#sk-container-id-4 div.sk-label:hover label.sk-toggleable__label {background-color: #d4ebff;}#sk-container-id-4 div.sk-serial::before {content: \"\";position: absolute;border-left: 1px solid gray;box-sizing: border-box;top: 0;bottom: 0;left: 50%;z-index: 0;}#sk-container-id-4 div.sk-serial {display: flex;flex-direction: column;align-items: center;background-color: white;padding-right: 0.2em;padding-left: 0.2em;position: relative;}#sk-container-id-4 div.sk-item {position: relative;z-index: 1;}#sk-container-id-4 div.sk-parallel {display: flex;align-items: stretch;justify-content: center;background-color: white;position: relative;}#sk-container-id-4 div.sk-item::before, #sk-container-id-4 div.sk-parallel-item::before {content: \"\";position: absolute;border-left: 1px solid gray;box-sizing: border-box;top: 0;bottom: 0;left: 50%;z-index: -1;}#sk-container-id-4 div.sk-parallel-item {display: flex;flex-direction: column;z-index: 1;position: relative;background-color: white;}#sk-container-id-4 div.sk-parallel-item:first-child::after {align-self: flex-end;width: 50%;}#sk-container-id-4 div.sk-parallel-item:last-child::after {align-self: flex-start;width: 50%;}#sk-container-id-4 div.sk-parallel-item:only-child::after {width: 0;}#sk-container-id-4 div.sk-dashed-wrapped {border: 1px dashed gray;margin: 0 0.4em 0.5em 0.4em;box-sizing: border-box;padding-bottom: 0.4em;background-color: white;}#sk-container-id-4 div.sk-label label {font-family: monospace;font-weight: bold;display: inline-block;line-height: 1.2em;}#sk-container-id-4 div.sk-label-container {text-align: center;}#sk-container-id-4 div.sk-container {/* jupyter's `normalize.less` sets `[hidden] { display: none; }` but bootstrap.min.css set `[hidden] { display: none !important; }` so we also need the `!important` here to be able to override the default hidden behavior on the sphinx rendered scikit-learn.org. See: https://github.com/scikit-learn/scikit-learn/issues/21755 */display: inline-block !important;position: relative;}#sk-container-id-4 div.sk-text-repr-fallback {display: none;}</style><div id=\"sk-container-id-4\" class=\"sk-top-container\"><div class=\"sk-text-repr-fallback\"><pre>RandomizedSearchCV(cv=5,\n",
       "                   estimator=Pipeline(steps=[(&#x27;preprocessor&#x27;,\n",
       "                                              ColumnTransformer(transformers=[(&#x27;numeric&#x27;,\n",
       "                                                                               StandardScaler(),\n",
       "                                                                               [&#x27;duration&#x27;,\n",
       "                                                                                &#x27;MonthlyCharges&#x27;,\n",
       "                                                                                &#x27;TotalCharges&#x27;]),\n",
       "                                                                              (&#x27;categorical&#x27;,\n",
       "                                                                               OrdinalEncoder(handle_unknown=&#x27;use_encoded_value&#x27;,\n",
       "                                                                                              unknown_value=-1),\n",
       "                                                                               [&#x27;Type&#x27;,\n",
       "                                                                                &#x27;PaperlessBilling&#x27;,\n",
       "                                                                                &#x27;PaymentMethod&#x27;,\n",
       "                                                                                &#x27;gender&#x27;,\n",
       "                                                                                &#x27;SeniorCitizen&#x27;,\n",
       "                                                                                &#x27;Partner&#x27;,\n",
       "                                                                                &#x27;Dependents&#x27;,\n",
       "                                                                                &#x27;InternetService&#x27;,\n",
       "                                                                                &#x27;MultipleLines&#x27;])])),\n",
       "                                             (&#x27;classifier&#x27;,\n",
       "                                              RandomForestClassifier(random_state=220523))]),\n",
       "                   param_distributions={&#x27;classifier__max_depth&#x27;: [None, 5, 10],\n",
       "                                        &#x27;classifier__min_samples_split&#x27;: [2, 5,\n",
       "                                                                          10],\n",
       "                                        &#x27;classifier__n_estimators&#x27;: [100, 200,\n",
       "                                                                     300]},\n",
       "                   random_state=220523, scoring=&#x27;roc_auc&#x27;)</pre><b>In a Jupyter environment, please rerun this cell to show the HTML representation or trust the notebook. <br />On GitHub, the HTML representation is unable to render, please try loading this page with nbviewer.org.</b></div><div class=\"sk-container\" hidden><div class=\"sk-item sk-dashed-wrapped\"><div class=\"sk-label-container\"><div class=\"sk-label sk-toggleable\"><input class=\"sk-toggleable__control sk-hidden--visually\" id=\"sk-estimator-id-23\" type=\"checkbox\" ><label for=\"sk-estimator-id-23\" class=\"sk-toggleable__label sk-toggleable__label-arrow\">RandomizedSearchCV</label><div class=\"sk-toggleable__content\"><pre>RandomizedSearchCV(cv=5,\n",
       "                   estimator=Pipeline(steps=[(&#x27;preprocessor&#x27;,\n",
       "                                              ColumnTransformer(transformers=[(&#x27;numeric&#x27;,\n",
       "                                                                               StandardScaler(),\n",
       "                                                                               [&#x27;duration&#x27;,\n",
       "                                                                                &#x27;MonthlyCharges&#x27;,\n",
       "                                                                                &#x27;TotalCharges&#x27;]),\n",
       "                                                                              (&#x27;categorical&#x27;,\n",
       "                                                                               OrdinalEncoder(handle_unknown=&#x27;use_encoded_value&#x27;,\n",
       "                                                                                              unknown_value=-1),\n",
       "                                                                               [&#x27;Type&#x27;,\n",
       "                                                                                &#x27;PaperlessBilling&#x27;,\n",
       "                                                                                &#x27;PaymentMethod&#x27;,\n",
       "                                                                                &#x27;gender&#x27;,\n",
       "                                                                                &#x27;SeniorCitizen&#x27;,\n",
       "                                                                                &#x27;Partner&#x27;,\n",
       "                                                                                &#x27;Dependents&#x27;,\n",
       "                                                                                &#x27;InternetService&#x27;,\n",
       "                                                                                &#x27;MultipleLines&#x27;])])),\n",
       "                                             (&#x27;classifier&#x27;,\n",
       "                                              RandomForestClassifier(random_state=220523))]),\n",
       "                   param_distributions={&#x27;classifier__max_depth&#x27;: [None, 5, 10],\n",
       "                                        &#x27;classifier__min_samples_split&#x27;: [2, 5,\n",
       "                                                                          10],\n",
       "                                        &#x27;classifier__n_estimators&#x27;: [100, 200,\n",
       "                                                                     300]},\n",
       "                   random_state=220523, scoring=&#x27;roc_auc&#x27;)</pre></div></div></div><div class=\"sk-parallel\"><div class=\"sk-parallel-item\"><div class=\"sk-item\"><div class=\"sk-label-container\"><div class=\"sk-label sk-toggleable\"><input class=\"sk-toggleable__control sk-hidden--visually\" id=\"sk-estimator-id-24\" type=\"checkbox\" ><label for=\"sk-estimator-id-24\" class=\"sk-toggleable__label sk-toggleable__label-arrow\">estimator: Pipeline</label><div class=\"sk-toggleable__content\"><pre>Pipeline(steps=[(&#x27;preprocessor&#x27;,\n",
       "                 ColumnTransformer(transformers=[(&#x27;numeric&#x27;, StandardScaler(),\n",
       "                                                  [&#x27;duration&#x27;, &#x27;MonthlyCharges&#x27;,\n",
       "                                                   &#x27;TotalCharges&#x27;]),\n",
       "                                                 (&#x27;categorical&#x27;,\n",
       "                                                  OrdinalEncoder(handle_unknown=&#x27;use_encoded_value&#x27;,\n",
       "                                                                 unknown_value=-1),\n",
       "                                                  [&#x27;Type&#x27;, &#x27;PaperlessBilling&#x27;,\n",
       "                                                   &#x27;PaymentMethod&#x27;, &#x27;gender&#x27;,\n",
       "                                                   &#x27;SeniorCitizen&#x27;, &#x27;Partner&#x27;,\n",
       "                                                   &#x27;Dependents&#x27;,\n",
       "                                                   &#x27;InternetService&#x27;,\n",
       "                                                   &#x27;MultipleLines&#x27;])])),\n",
       "                (&#x27;classifier&#x27;, RandomForestClassifier(random_state=220523))])</pre></div></div></div><div class=\"sk-serial\"><div class=\"sk-item\"><div class=\"sk-serial\"><div class=\"sk-item sk-dashed-wrapped\"><div class=\"sk-label-container\"><div class=\"sk-label sk-toggleable\"><input class=\"sk-toggleable__control sk-hidden--visually\" id=\"sk-estimator-id-25\" type=\"checkbox\" ><label for=\"sk-estimator-id-25\" class=\"sk-toggleable__label sk-toggleable__label-arrow\">preprocessor: ColumnTransformer</label><div class=\"sk-toggleable__content\"><pre>ColumnTransformer(transformers=[(&#x27;numeric&#x27;, StandardScaler(),\n",
       "                                 [&#x27;duration&#x27;, &#x27;MonthlyCharges&#x27;,\n",
       "                                  &#x27;TotalCharges&#x27;]),\n",
       "                                (&#x27;categorical&#x27;,\n",
       "                                 OrdinalEncoder(handle_unknown=&#x27;use_encoded_value&#x27;,\n",
       "                                                unknown_value=-1),\n",
       "                                 [&#x27;Type&#x27;, &#x27;PaperlessBilling&#x27;, &#x27;PaymentMethod&#x27;,\n",
       "                                  &#x27;gender&#x27;, &#x27;SeniorCitizen&#x27;, &#x27;Partner&#x27;,\n",
       "                                  &#x27;Dependents&#x27;, &#x27;InternetService&#x27;,\n",
       "                                  &#x27;MultipleLines&#x27;])])</pre></div></div></div><div class=\"sk-parallel\"><div class=\"sk-parallel-item\"><div class=\"sk-item\"><div class=\"sk-label-container\"><div class=\"sk-label sk-toggleable\"><input class=\"sk-toggleable__control sk-hidden--visually\" id=\"sk-estimator-id-26\" type=\"checkbox\" ><label for=\"sk-estimator-id-26\" class=\"sk-toggleable__label sk-toggleable__label-arrow\">numeric</label><div class=\"sk-toggleable__content\"><pre>[&#x27;duration&#x27;, &#x27;MonthlyCharges&#x27;, &#x27;TotalCharges&#x27;]</pre></div></div></div><div class=\"sk-serial\"><div class=\"sk-item\"><div class=\"sk-estimator sk-toggleable\"><input class=\"sk-toggleable__control sk-hidden--visually\" id=\"sk-estimator-id-27\" type=\"checkbox\" ><label for=\"sk-estimator-id-27\" class=\"sk-toggleable__label sk-toggleable__label-arrow\">StandardScaler</label><div class=\"sk-toggleable__content\"><pre>StandardScaler()</pre></div></div></div></div></div></div><div class=\"sk-parallel-item\"><div class=\"sk-item\"><div class=\"sk-label-container\"><div class=\"sk-label sk-toggleable\"><input class=\"sk-toggleable__control sk-hidden--visually\" id=\"sk-estimator-id-28\" type=\"checkbox\" ><label for=\"sk-estimator-id-28\" class=\"sk-toggleable__label sk-toggleable__label-arrow\">categorical</label><div class=\"sk-toggleable__content\"><pre>[&#x27;Type&#x27;, &#x27;PaperlessBilling&#x27;, &#x27;PaymentMethod&#x27;, &#x27;gender&#x27;, &#x27;SeniorCitizen&#x27;, &#x27;Partner&#x27;, &#x27;Dependents&#x27;, &#x27;InternetService&#x27;, &#x27;MultipleLines&#x27;]</pre></div></div></div><div class=\"sk-serial\"><div class=\"sk-item\"><div class=\"sk-estimator sk-toggleable\"><input class=\"sk-toggleable__control sk-hidden--visually\" id=\"sk-estimator-id-29\" type=\"checkbox\" ><label for=\"sk-estimator-id-29\" class=\"sk-toggleable__label sk-toggleable__label-arrow\">OrdinalEncoder</label><div class=\"sk-toggleable__content\"><pre>OrdinalEncoder(handle_unknown=&#x27;use_encoded_value&#x27;, unknown_value=-1)</pre></div></div></div></div></div></div></div></div><div class=\"sk-item\"><div class=\"sk-estimator sk-toggleable\"><input class=\"sk-toggleable__control sk-hidden--visually\" id=\"sk-estimator-id-30\" type=\"checkbox\" ><label for=\"sk-estimator-id-30\" class=\"sk-toggleable__label sk-toggleable__label-arrow\">RandomForestClassifier</label><div class=\"sk-toggleable__content\"><pre>RandomForestClassifier(random_state=220523)</pre></div></div></div></div></div></div></div></div></div></div></div></div>"
      ],
      "text/plain": [
       "RandomizedSearchCV(cv=5,\n",
       "                   estimator=Pipeline(steps=[('preprocessor',\n",
       "                                              ColumnTransformer(transformers=[('numeric',\n",
       "                                                                               StandardScaler(),\n",
       "                                                                               ['duration',\n",
       "                                                                                'MonthlyCharges',\n",
       "                                                                                'TotalCharges']),\n",
       "                                                                              ('categorical',\n",
       "                                                                               OrdinalEncoder(handle_unknown='use_encoded_value',\n",
       "                                                                                              unknown_value=-1),\n",
       "                                                                               ['Type',\n",
       "                                                                                'PaperlessBilling',\n",
       "                                                                                'PaymentMethod',\n",
       "                                                                                'gender',\n",
       "                                                                                'SeniorCitizen',\n",
       "                                                                                'Partner',\n",
       "                                                                                'Dependents',\n",
       "                                                                                'InternetService',\n",
       "                                                                                'MultipleLines'])])),\n",
       "                                             ('classifier',\n",
       "                                              RandomForestClassifier(random_state=220523))]),\n",
       "                   param_distributions={'classifier__max_depth': [None, 5, 10],\n",
       "                                        'classifier__min_samples_split': [2, 5,\n",
       "                                                                          10],\n",
       "                                        'classifier__n_estimators': [100, 200,\n",
       "                                                                     300]},\n",
       "                   random_state=220523, scoring='roc_auc')"
      ]
     },
     "execution_count": 98,
     "metadata": {},
     "output_type": "execute_result"
    }
   ],
   "source": [
    "# Обучение модели с подбором параметров\n",
    "random_search.fit(features_train, target_train)"
   ]
  },
  {
   "cell_type": "code",
   "execution_count": 99,
   "id": "523561e1",
   "metadata": {},
   "outputs": [],
   "source": [
    "best_score_rf = random_search.best_score_"
   ]
  },
  {
   "cell_type": "code",
   "execution_count": 100,
   "id": "bf961c9b",
   "metadata": {},
   "outputs": [
    {
     "name": "stdout",
     "output_type": "stream",
     "text": [
      "Best AUC-ROC score: 0.8226066879946392\n",
      "Best parameters: {'classifier__n_estimators': 300, 'classifier__min_samples_split': 5, 'classifier__max_depth': 10}\n"
     ]
    }
   ],
   "source": [
    "print(\"Best AUC-ROC score:\", best_score_rf)\n",
    "print(\"Best parameters:\", random_search.best_params_)"
   ]
  },
  {
   "cell_type": "markdown",
   "id": "ede33c0b",
   "metadata": {},
   "source": [
    "Сведем все результаты по обученным моделям в таблицу"
   ]
  },
  {
   "cell_type": "code",
   "execution_count": 101,
   "id": "a60ac7ca",
   "metadata": {},
   "outputs": [
    {
     "data": {
      "text/html": [
       "<div>\n",
       "<style scoped>\n",
       "    .dataframe tbody tr th:only-of-type {\n",
       "        vertical-align: middle;\n",
       "    }\n",
       "\n",
       "    .dataframe tbody tr th {\n",
       "        vertical-align: top;\n",
       "    }\n",
       "\n",
       "    .dataframe thead th {\n",
       "        text-align: right;\n",
       "    }\n",
       "</style>\n",
       "<table border=\"1\" class=\"dataframe\">\n",
       "  <thead>\n",
       "    <tr style=\"text-align: right;\">\n",
       "      <th></th>\n",
       "      <th>AUC-ROC</th>\n",
       "    </tr>\n",
       "  </thead>\n",
       "  <tbody>\n",
       "    <tr>\n",
       "      <th>LogisticRegression</th>\n",
       "      <td>0.752850</td>\n",
       "    </tr>\n",
       "    <tr>\n",
       "      <th>CatBoostClassifier c OE</th>\n",
       "      <td>0.913861</td>\n",
       "    </tr>\n",
       "    <tr>\n",
       "      <th>CatBoostClassifier</th>\n",
       "      <td>0.896817</td>\n",
       "    </tr>\n",
       "    <tr>\n",
       "      <th>RandomForestClassifier</th>\n",
       "      <td>0.822607</td>\n",
       "    </tr>\n",
       "  </tbody>\n",
       "</table>\n",
       "</div>"
      ],
      "text/plain": [
       "                          AUC-ROC\n",
       "LogisticRegression       0.752850\n",
       "CatBoostClassifier c OE  0.913861\n",
       "CatBoostClassifier       0.896817\n",
       "RandomForestClassifier   0.822607"
      ]
     },
     "execution_count": 101,
     "metadata": {},
     "output_type": "execute_result"
    }
   ],
   "source": [
    "result = pd.DataFrame(\n",
    "    [best_score, best_score_cb, best_score_1, best_score_rf], \n",
    "    index=['LogisticRegression','CatBoostClassifier c OE', 'CatBoostClassifier','RandomForestClassifier'], \n",
    "    columns=['AUC-ROC']\n",
    ")\n",
    "result"
   ]
  },
  {
   "cell_type": "markdown",
   "id": "8fff92bb",
   "metadata": {},
   "source": [
    "**Вывод по обучению моделей**"
   ]
  },
  {
   "cell_type": "markdown",
   "id": "51797012",
   "metadata": {},
   "source": [
    "Таким образом, лучше значение AUC-ROC на кроссвалидации у модели CatBoostClassifier с предварительным кодированием категориальных признаков с помощью OrdinalEncoder, будем использовать ее для проверки качества на тестовой выборке."
   ]
  },
  {
   "cell_type": "markdown",
   "id": "68ea094e",
   "metadata": {},
   "source": [
    "## Проверка на тестовой выборке"
   ]
  },
  {
   "cell_type": "markdown",
   "id": "30d79b1e",
   "metadata": {},
   "source": [
    "Проверим качество лучшей модели на тестовой выборке"
   ]
  },
  {
   "cell_type": "code",
   "execution_count": 102,
   "id": "06428833",
   "metadata": {},
   "outputs": [],
   "source": [
    "probabilities_cb = best_model_cb.predict_proba(features_test)"
   ]
  },
  {
   "cell_type": "code",
   "execution_count": 103,
   "id": "5cc91f9e",
   "metadata": {},
   "outputs": [
    {
     "data": {
      "text/plain": [
       "0.9266456219641463"
      ]
     },
     "execution_count": 103,
     "metadata": {},
     "output_type": "execute_result"
    }
   ],
   "source": [
    "probabilities_one_cb = probabilities_cb[:,1]\n",
    "auc_roc_cb = roc_auc_score(target_test,probabilities_one_cb)\n",
    "auc_roc_cb"
   ]
  },
  {
   "cell_type": "markdown",
   "id": "316d07a3",
   "metadata": {},
   "source": [
    "Значение **auc_roc на тестовой выборке** осталось примерно в тех же пределах **0.92**"
   ]
  },
  {
   "cell_type": "markdown",
   "id": "d6bfa68c",
   "metadata": {},
   "source": [
    " В качестве дополнительной метрики так же вычислим **accuracy**."
   ]
  },
  {
   "cell_type": "code",
   "execution_count": 104,
   "id": "812a486f",
   "metadata": {},
   "outputs": [
    {
     "name": "stdout",
     "output_type": "stream",
     "text": [
      "Accuracy: 0.9294653014789533\n"
     ]
    }
   ],
   "source": [
    "from sklearn.metrics import accuracy_score\n",
    "\n",
    "# Предсказанные значения\n",
    "y_pred = best_model_cb.predict(features_test)\n",
    "\n",
    "# Вычисление accuracy\n",
    "accuracy = accuracy_score(target_test, y_pred)\n",
    "\n",
    "print(\"Accuracy:\", accuracy)\n"
   ]
  },
  {
   "cell_type": "markdown",
   "id": "5543b37e",
   "metadata": {},
   "source": [
    "## Анализ важности признаков"
   ]
  },
  {
   "cell_type": "code",
   "execution_count": 105,
   "id": "11b1a3c5",
   "metadata": {},
   "outputs": [
    {
     "data": {
      "text/html": [
       "<style>#sk-container-id-5 {color: black;background-color: white;}#sk-container-id-5 pre{padding: 0;}#sk-container-id-5 div.sk-toggleable {background-color: white;}#sk-container-id-5 label.sk-toggleable__label {cursor: pointer;display: block;width: 100%;margin-bottom: 0;padding: 0.3em;box-sizing: border-box;text-align: center;}#sk-container-id-5 label.sk-toggleable__label-arrow:before {content: \"▸\";float: left;margin-right: 0.25em;color: #696969;}#sk-container-id-5 label.sk-toggleable__label-arrow:hover:before {color: black;}#sk-container-id-5 div.sk-estimator:hover label.sk-toggleable__label-arrow:before {color: black;}#sk-container-id-5 div.sk-toggleable__content {max-height: 0;max-width: 0;overflow: hidden;text-align: left;background-color: #f0f8ff;}#sk-container-id-5 div.sk-toggleable__content pre {margin: 0.2em;color: black;border-radius: 0.25em;background-color: #f0f8ff;}#sk-container-id-5 input.sk-toggleable__control:checked~div.sk-toggleable__content {max-height: 200px;max-width: 100%;overflow: auto;}#sk-container-id-5 input.sk-toggleable__control:checked~label.sk-toggleable__label-arrow:before {content: \"▾\";}#sk-container-id-5 div.sk-estimator input.sk-toggleable__control:checked~label.sk-toggleable__label {background-color: #d4ebff;}#sk-container-id-5 div.sk-label input.sk-toggleable__control:checked~label.sk-toggleable__label {background-color: #d4ebff;}#sk-container-id-5 input.sk-hidden--visually {border: 0;clip: rect(1px 1px 1px 1px);clip: rect(1px, 1px, 1px, 1px);height: 1px;margin: -1px;overflow: hidden;padding: 0;position: absolute;width: 1px;}#sk-container-id-5 div.sk-estimator {font-family: monospace;background-color: #f0f8ff;border: 1px dotted black;border-radius: 0.25em;box-sizing: border-box;margin-bottom: 0.5em;}#sk-container-id-5 div.sk-estimator:hover {background-color: #d4ebff;}#sk-container-id-5 div.sk-parallel-item::after {content: \"\";width: 100%;border-bottom: 1px solid gray;flex-grow: 1;}#sk-container-id-5 div.sk-label:hover label.sk-toggleable__label {background-color: #d4ebff;}#sk-container-id-5 div.sk-serial::before {content: \"\";position: absolute;border-left: 1px solid gray;box-sizing: border-box;top: 0;bottom: 0;left: 50%;z-index: 0;}#sk-container-id-5 div.sk-serial {display: flex;flex-direction: column;align-items: center;background-color: white;padding-right: 0.2em;padding-left: 0.2em;position: relative;}#sk-container-id-5 div.sk-item {position: relative;z-index: 1;}#sk-container-id-5 div.sk-parallel {display: flex;align-items: stretch;justify-content: center;background-color: white;position: relative;}#sk-container-id-5 div.sk-item::before, #sk-container-id-5 div.sk-parallel-item::before {content: \"\";position: absolute;border-left: 1px solid gray;box-sizing: border-box;top: 0;bottom: 0;left: 50%;z-index: -1;}#sk-container-id-5 div.sk-parallel-item {display: flex;flex-direction: column;z-index: 1;position: relative;background-color: white;}#sk-container-id-5 div.sk-parallel-item:first-child::after {align-self: flex-end;width: 50%;}#sk-container-id-5 div.sk-parallel-item:last-child::after {align-self: flex-start;width: 50%;}#sk-container-id-5 div.sk-parallel-item:only-child::after {width: 0;}#sk-container-id-5 div.sk-dashed-wrapped {border: 1px dashed gray;margin: 0 0.4em 0.5em 0.4em;box-sizing: border-box;padding-bottom: 0.4em;background-color: white;}#sk-container-id-5 div.sk-label label {font-family: monospace;font-weight: bold;display: inline-block;line-height: 1.2em;}#sk-container-id-5 div.sk-label-container {text-align: center;}#sk-container-id-5 div.sk-container {/* jupyter's `normalize.less` sets `[hidden] { display: none; }` but bootstrap.min.css set `[hidden] { display: none !important; }` so we also need the `!important` here to be able to override the default hidden behavior on the sphinx rendered scikit-learn.org. See: https://github.com/scikit-learn/scikit-learn/issues/21755 */display: inline-block !important;position: relative;}#sk-container-id-5 div.sk-text-repr-fallback {display: none;}</style><div id=\"sk-container-id-5\" class=\"sk-top-container\"><div class=\"sk-text-repr-fallback\"><pre>Pipeline(steps=[(&#x27;preprocessor&#x27;,\n",
       "                 ColumnTransformer(transformers=[(&#x27;numeric&#x27;, StandardScaler(),\n",
       "                                                  [&#x27;duration&#x27;, &#x27;MonthlyCharges&#x27;,\n",
       "                                                   &#x27;TotalCharges&#x27;]),\n",
       "                                                 (&#x27;categorical&#x27;,\n",
       "                                                  OrdinalEncoder(handle_unknown=&#x27;use_encoded_value&#x27;,\n",
       "                                                                 unknown_value=-1),\n",
       "                                                  [&#x27;Type&#x27;, &#x27;PaperlessBilling&#x27;,\n",
       "                                                   &#x27;PaymentMethod&#x27;, &#x27;gender&#x27;,\n",
       "                                                   &#x27;SeniorCitizen&#x27;, &#x27;Partner&#x27;,\n",
       "                                                   &#x27;Dependents&#x27;,\n",
       "                                                   &#x27;InternetService&#x27;,\n",
       "                                                   &#x27;MultipleLines&#x27;])])),\n",
       "                (&#x27;model&#x27;,\n",
       "                 &lt;catboost.core.CatBoostClassifier object at 0x7fde007fdd30&gt;)])</pre><b>In a Jupyter environment, please rerun this cell to show the HTML representation or trust the notebook. <br />On GitHub, the HTML representation is unable to render, please try loading this page with nbviewer.org.</b></div><div class=\"sk-container\" hidden><div class=\"sk-item sk-dashed-wrapped\"><div class=\"sk-label-container\"><div class=\"sk-label sk-toggleable\"><input class=\"sk-toggleable__control sk-hidden--visually\" id=\"sk-estimator-id-31\" type=\"checkbox\" ><label for=\"sk-estimator-id-31\" class=\"sk-toggleable__label sk-toggleable__label-arrow\">Pipeline</label><div class=\"sk-toggleable__content\"><pre>Pipeline(steps=[(&#x27;preprocessor&#x27;,\n",
       "                 ColumnTransformer(transformers=[(&#x27;numeric&#x27;, StandardScaler(),\n",
       "                                                  [&#x27;duration&#x27;, &#x27;MonthlyCharges&#x27;,\n",
       "                                                   &#x27;TotalCharges&#x27;]),\n",
       "                                                 (&#x27;categorical&#x27;,\n",
       "                                                  OrdinalEncoder(handle_unknown=&#x27;use_encoded_value&#x27;,\n",
       "                                                                 unknown_value=-1),\n",
       "                                                  [&#x27;Type&#x27;, &#x27;PaperlessBilling&#x27;,\n",
       "                                                   &#x27;PaymentMethod&#x27;, &#x27;gender&#x27;,\n",
       "                                                   &#x27;SeniorCitizen&#x27;, &#x27;Partner&#x27;,\n",
       "                                                   &#x27;Dependents&#x27;,\n",
       "                                                   &#x27;InternetService&#x27;,\n",
       "                                                   &#x27;MultipleLines&#x27;])])),\n",
       "                (&#x27;model&#x27;,\n",
       "                 &lt;catboost.core.CatBoostClassifier object at 0x7fde007fdd30&gt;)])</pre></div></div></div><div class=\"sk-serial\"><div class=\"sk-item sk-dashed-wrapped\"><div class=\"sk-label-container\"><div class=\"sk-label sk-toggleable\"><input class=\"sk-toggleable__control sk-hidden--visually\" id=\"sk-estimator-id-32\" type=\"checkbox\" ><label for=\"sk-estimator-id-32\" class=\"sk-toggleable__label sk-toggleable__label-arrow\">preprocessor: ColumnTransformer</label><div class=\"sk-toggleable__content\"><pre>ColumnTransformer(transformers=[(&#x27;numeric&#x27;, StandardScaler(),\n",
       "                                 [&#x27;duration&#x27;, &#x27;MonthlyCharges&#x27;,\n",
       "                                  &#x27;TotalCharges&#x27;]),\n",
       "                                (&#x27;categorical&#x27;,\n",
       "                                 OrdinalEncoder(handle_unknown=&#x27;use_encoded_value&#x27;,\n",
       "                                                unknown_value=-1),\n",
       "                                 [&#x27;Type&#x27;, &#x27;PaperlessBilling&#x27;, &#x27;PaymentMethod&#x27;,\n",
       "                                  &#x27;gender&#x27;, &#x27;SeniorCitizen&#x27;, &#x27;Partner&#x27;,\n",
       "                                  &#x27;Dependents&#x27;, &#x27;InternetService&#x27;,\n",
       "                                  &#x27;MultipleLines&#x27;])])</pre></div></div></div><div class=\"sk-parallel\"><div class=\"sk-parallel-item\"><div class=\"sk-item\"><div class=\"sk-label-container\"><div class=\"sk-label sk-toggleable\"><input class=\"sk-toggleable__control sk-hidden--visually\" id=\"sk-estimator-id-33\" type=\"checkbox\" ><label for=\"sk-estimator-id-33\" class=\"sk-toggleable__label sk-toggleable__label-arrow\">numeric</label><div class=\"sk-toggleable__content\"><pre>[&#x27;duration&#x27;, &#x27;MonthlyCharges&#x27;, &#x27;TotalCharges&#x27;]</pre></div></div></div><div class=\"sk-serial\"><div class=\"sk-item\"><div class=\"sk-estimator sk-toggleable\"><input class=\"sk-toggleable__control sk-hidden--visually\" id=\"sk-estimator-id-34\" type=\"checkbox\" ><label for=\"sk-estimator-id-34\" class=\"sk-toggleable__label sk-toggleable__label-arrow\">StandardScaler</label><div class=\"sk-toggleable__content\"><pre>StandardScaler()</pre></div></div></div></div></div></div><div class=\"sk-parallel-item\"><div class=\"sk-item\"><div class=\"sk-label-container\"><div class=\"sk-label sk-toggleable\"><input class=\"sk-toggleable__control sk-hidden--visually\" id=\"sk-estimator-id-35\" type=\"checkbox\" ><label for=\"sk-estimator-id-35\" class=\"sk-toggleable__label sk-toggleable__label-arrow\">categorical</label><div class=\"sk-toggleable__content\"><pre>[&#x27;Type&#x27;, &#x27;PaperlessBilling&#x27;, &#x27;PaymentMethod&#x27;, &#x27;gender&#x27;, &#x27;SeniorCitizen&#x27;, &#x27;Partner&#x27;, &#x27;Dependents&#x27;, &#x27;InternetService&#x27;, &#x27;MultipleLines&#x27;]</pre></div></div></div><div class=\"sk-serial\"><div class=\"sk-item\"><div class=\"sk-estimator sk-toggleable\"><input class=\"sk-toggleable__control sk-hidden--visually\" id=\"sk-estimator-id-36\" type=\"checkbox\" ><label for=\"sk-estimator-id-36\" class=\"sk-toggleable__label sk-toggleable__label-arrow\">OrdinalEncoder</label><div class=\"sk-toggleable__content\"><pre>OrdinalEncoder(handle_unknown=&#x27;use_encoded_value&#x27;, unknown_value=-1)</pre></div></div></div></div></div></div></div></div><div class=\"sk-item\"><div class=\"sk-estimator sk-toggleable\"><input class=\"sk-toggleable__control sk-hidden--visually\" id=\"sk-estimator-id-37\" type=\"checkbox\" ><label for=\"sk-estimator-id-37\" class=\"sk-toggleable__label sk-toggleable__label-arrow\">CatBoostClassifier</label><div class=\"sk-toggleable__content\"><pre>&lt;catboost.core.CatBoostClassifier object at 0x7fde007fdd30&gt;</pre></div></div></div></div></div></div></div>"
      ],
      "text/plain": [
       "Pipeline(steps=[('preprocessor',\n",
       "                 ColumnTransformer(transformers=[('numeric', StandardScaler(),\n",
       "                                                  ['duration', 'MonthlyCharges',\n",
       "                                                   'TotalCharges']),\n",
       "                                                 ('categorical',\n",
       "                                                  OrdinalEncoder(handle_unknown='use_encoded_value',\n",
       "                                                                 unknown_value=-1),\n",
       "                                                  ['Type', 'PaperlessBilling',\n",
       "                                                   'PaymentMethod', 'gender',\n",
       "                                                   'SeniorCitizen', 'Partner',\n",
       "                                                   'Dependents',\n",
       "                                                   'InternetService',\n",
       "                                                   'MultipleLines'])])),\n",
       "                ('model',\n",
       "                 <catboost.core.CatBoostClassifier object at 0x7fde007fdd30>)])"
      ]
     },
     "execution_count": 105,
     "metadata": {},
     "output_type": "execute_result"
    }
   ],
   "source": [
    "pipeline_cb.fit(features_train, target_train)"
   ]
  },
  {
   "cell_type": "code",
   "execution_count": 106,
   "id": "51604697",
   "metadata": {},
   "outputs": [
    {
     "name": "stdout",
     "output_type": "stream",
     "text": [
      "numeric__duration: 43.9937444628151\n",
      "numeric__MonthlyCharges: 10.445691309229957\n",
      "numeric__TotalCharges: 8.214855143576925\n",
      "categorical__Type: 11.352691992531438\n",
      "categorical__PaperlessBilling: 1.7509232314179826\n",
      "categorical__PaymentMethod: 5.617975317212847\n",
      "categorical__gender: 1.2721555608875956\n",
      "categorical__SeniorCitizen: 1.7452291908966104\n",
      "categorical__Partner: 4.3425252129132295\n",
      "categorical__Dependents: 1.7454369232639597\n",
      "categorical__InternetService: 4.116761340595538\n",
      "categorical__MultipleLines: 5.402010314658809\n"
     ]
    }
   ],
   "source": [
    "\n",
    "model = pipeline_cb['model']\n",
    " # Получение важности признаков\n",
    "feature_importances = model.get_feature_importance()\n",
    " # Вывод важности признаков\n",
    "for feature, importance in zip(pipeline_cb['preprocessor'].get_feature_names_out(), feature_importances):\n",
    "     print(f\"{feature}: {importance}\")"
   ]
  },
  {
   "cell_type": "code",
   "execution_count": 107,
   "id": "68664921",
   "metadata": {},
   "outputs": [
    {
     "data": {
      "image/png": "[encoded data removed]",
      "text/plain": [
       "<Figure size 432x288 with 1 Axes>"
      ]
     },
     "metadata": {
      "needs_background": "light"
     },
     "output_type": "display_data"
    }
   ],
   "source": [
    "\n",
    "feat_importances = pd.Series(pipeline_cb['model'].feature_importances_, index=pipeline_cb['preprocessor'].get_feature_names_out())\n",
    "feat_importances.nlargest(20).plot(kind='barh')\n",
    "plt.show()"
   ]
  },
  {
   "cell_type": "markdown",
   "id": "89df7dd9",
   "metadata": {},
   "source": [
    "Таким образом, самые важные признаки оказались длительность договра, тип оплаты (ежемесячный, годовой) и  ежемесячные траты на услуги связи. Что соответствует здравому смыслу, если форма оплаты годовая логично, что клиент с меньшей вероятностью расторгнет догвор, а также лояльные клиенты, которые уже долго пользуются услугами компании."
   ]
  },
  {
   "cell_type": "markdown",
   "id": "105774ad",
   "metadata": {},
   "source": [
    "## Матрица ошибок"
   ]
  },
  {
   "cell_type": "code",
   "execution_count": 108,
   "id": "a3638642",
   "metadata": {},
   "outputs": [],
   "source": [
    "from sklearn.metrics import confusion_matrix"
   ]
  },
  {
   "cell_type": "code",
   "execution_count": 109,
   "id": "90561f05",
   "metadata": {},
   "outputs": [
    {
     "name": "stdout",
     "output_type": "stream",
     "text": [
      "[[1448   17]\n",
      " [ 107  186]]\n"
     ]
    }
   ],
   "source": [
    "# Предсказанные значения\n",
    "y_pred = best_model_cb.predict(features_test)\n",
    "\n",
    "# Истинные значения\n",
    "y_true = target_test\n",
    "\n",
    "# Получение матрицы ошибок\n",
    "cm = confusion_matrix(y_true, y_pred)\n",
    "print(cm)"
   ]
  },
  {
   "cell_type": "code",
   "execution_count": 110,
   "id": "2c6465ed",
   "metadata": {},
   "outputs": [
    {
     "data": {
      "image/png": "[encoded data removed]",
      "text/plain": [
       "<Figure size 576x432 with 2 Axes>"
      ]
     },
     "metadata": {
      "needs_background": "light"
     },
     "output_type": "display_data"
    }
   ],
   "source": [
    "# Визуализация матрицы ошибок\n",
    "plt.figure(figsize=(8, 6))\n",
    "sns.heatmap(cm, annot=True, fmt='d', cmap='Blues')\n",
    "plt.xlabel('Predicted')\n",
    "plt.ylabel('True')\n",
    "plt.title('Confusion Matrix')\n",
    "plt.show()"
   ]
  },
  {
   "cell_type": "code",
   "execution_count": 111,
   "id": "dff4408d",
   "metadata": {},
   "outputs": [
    {
     "data": {
      "text/plain": [
       "0    1465\n",
       "1     293\n",
       "Name: Exited, dtype: int64"
      ]
     },
     "execution_count": 111,
     "metadata": {},
     "output_type": "execute_result"
    }
   ],
   "source": [
    "target_test.value_counts()"
   ]
  },
  {
   "cell_type": "markdown",
   "id": "d22ca5ed",
   "metadata": {},
   "source": [
    "Таким образом, модель пропустила 107 клиентов из 293, которые собирались уйти, что составляет 36% довольно много, но в то же время модель определила 17 клиентов (около 1%) как желающих уйти, но они уходить не собирались, соответственно им были предложены промокоды и этот убыток не так велик."
   ]
  },
  {
   "cell_type": "markdown",
   "id": "537a8501",
   "metadata": {},
   "source": [
    "# Отчет по решению"
   ]
  },
  {
   "cell_type": "markdown",
   "id": "b4daf360",
   "metadata": {},
   "source": [
    "Мы проанализировали данные оператора связи «Ниединогоразрыва.ком».\n",
    "\n",
    "В рамках исследования необходимо было выполнить следующие пункты:\n",
    "- провести EDA\n",
    "- Разделить исходные данные на обучающую и тестовую выборки\n",
    "- Провести кодирование категориальных признаков\n",
    "- Создадим переменные для признаков и целевого признака\n",
    "- Обучение моделей с подбором гиперпараметров\n",
    "- Выбрать лучшую модель\n",
    "- Провести финальное тестирование\n",
    "\n",
    "Все шаги работы были успешно выполнены. На этапе предобработки данных были изменены типы данных, удаленны лишние признаки и сгенерирован новый признак 'Длительность договора'. \n",
    "\n",
    "Также было проведено исследование признаков на мультиколлинеарность, после чего были удаленны лишние признаки.\n",
    "\n",
    "В данных был выявлен дисбаланс классов 84 на 16%. Для оценки моделей использовалась метрика AUC-ROC, которая не чувствительна к балансу классов.\n",
    "\n",
    "Для построения модели машиного обучения были использованы количественные признаки:\n",
    "\n",
    "  - MonthlyCharges  \n",
    "  - TotalCharges   \n",
    "  - duration \n",
    "  \n",
    "А также категориальные признаки:\n",
    "\n",
    "   - Type              \n",
    "   - PaperlessBilling  \n",
    "   - PaymentMethod    \n",
    "   - gender \n",
    "   - Dependents\n",
    "   - SeniorCitizen      \n",
    "   - Partner           \n",
    "   - InternetService  \n",
    "   - MultipleLines\n",
    "\n",
    "Были построенны модели LogisticRegression, CatBoostClassifier ,RandomForestClassifier.\n",
    "\n",
    "Наилучшей моделью с показателем AUC-ROC на кроссвалидации 0.91 оказалась модель CatBoostClassifier со следующимим гиперпараметрами: model__depth: 5, model__learning_rate: 0.1, random_state: 220523\n",
    "\n",
    "Так же был проведен анализ важности признаков выбранной модели, в ходе которго выявленно, что самые важные признаки это\n",
    " - длительность договра, \n",
    " - тип оплаты (ежемесячный, годовой),\n",
    " - ежемесячные траты на услуги связи.\n",
    " \n",
    "Что соответствует здравому смыслу, если форма оплаты годовая логично, что клиент с меньшей вероятностью расторгнет догвор, а также лояльные клиенты, которые уже долго пользуются услугами компании.\n",
    "\n",
    "Значение AUC-ROC  модели на тестовой выборке составилo 0.92, что соответствует заявленному целевому уровню больше 0.85.\n",
    "\n",
    "Была составлена матрица ошибок, где наглядно представленно количество  правильных и ложно определенных моделью клиентов в соответствии с классом ( ушел/не ушел). На основании которой в дальнейшем можно расчитать бизнесс метрики о затратах на промокоды, а также об убытках, связанных с утраченными клиентами.\n",
    "\n"
   ]
  }
 ],
 "metadata": {
  "ExecuteTimeLog": [
   {
    "duration": 383,
    "start_time": "2023-05-30T13:10:27.344Z"
   },
   {
    "duration": 218,
    "start_time": "2023-05-30T13:10:27.729Z"
   },
   {
    "duration": 17,
    "start_time": "2023-05-30T13:10:27.949Z"
   },
   {
    "duration": 12,
    "start_time": "2023-05-30T13:10:27.968Z"
   },
   {
    "duration": 20,
    "start_time": "2023-05-30T13:10:27.981Z"
   },
   {
    "duration": 9,
    "start_time": "2023-05-30T13:10:28.002Z"
   },
   {
    "duration": 12,
    "start_time": "2023-05-30T13:10:28.013Z"
   },
   {
    "duration": 18,
    "start_time": "2023-05-30T13:10:28.026Z"
   },
   {
    "duration": 15,
    "start_time": "2023-05-30T13:10:28.045Z"
   },
   {
    "duration": 13,
    "start_time": "2023-05-30T13:10:28.062Z"
   },
   {
    "duration": 16,
    "start_time": "2023-05-30T13:10:28.076Z"
   },
   {
    "duration": 184,
    "start_time": "2023-05-30T13:10:28.094Z"
   },
   {
    "duration": 8,
    "start_time": "2023-05-30T13:10:28.279Z"
   },
   {
    "duration": 20,
    "start_time": "2023-05-30T13:10:28.288Z"
   },
   {
    "duration": 6,
    "start_time": "2023-05-30T13:10:28.309Z"
   },
   {
    "duration": 9,
    "start_time": "2023-05-30T13:10:28.316Z"
   },
   {
    "duration": 14,
    "start_time": "2023-05-30T13:10:28.326Z"
   },
   {
    "duration": 7,
    "start_time": "2023-05-30T13:10:28.341Z"
   },
   {
    "duration": 9,
    "start_time": "2023-05-30T13:10:28.349Z"
   },
   {
    "duration": 411,
    "start_time": "2023-05-30T13:10:28.360Z"
   },
   {
    "duration": 9,
    "start_time": "2023-05-30T13:10:28.772Z"
   },
   {
    "duration": 19,
    "start_time": "2023-05-30T13:10:28.782Z"
   },
   {
    "duration": 13,
    "start_time": "2023-05-30T13:10:28.802Z"
   },
   {
    "duration": 226,
    "start_time": "2023-05-30T13:10:28.816Z"
   },
   {
    "duration": 6,
    "start_time": "2023-05-30T13:10:29.044Z"
   },
   {
    "duration": 14,
    "start_time": "2023-05-30T13:10:29.051Z"
   },
   {
    "duration": 23,
    "start_time": "2023-05-30T13:10:29.067Z"
   },
   {
    "duration": 16,
    "start_time": "2023-05-30T13:10:29.093Z"
   },
   {
    "duration": 10,
    "start_time": "2023-05-30T13:10:29.110Z"
   },
   {
    "duration": 26,
    "start_time": "2023-05-30T13:10:29.121Z"
   },
   {
    "duration": 21,
    "start_time": "2023-05-30T13:10:29.149Z"
   },
   {
    "duration": 16,
    "start_time": "2023-05-30T13:10:29.171Z"
   },
   {
    "duration": 29,
    "start_time": "2023-05-30T13:10:29.189Z"
   },
   {
    "duration": 13,
    "start_time": "2023-05-30T13:10:29.220Z"
   },
   {
    "duration": 18,
    "start_time": "2023-05-30T13:10:29.235Z"
   },
   {
    "duration": 5,
    "start_time": "2023-05-30T13:10:29.255Z"
   },
   {
    "duration": 9,
    "start_time": "2023-05-30T13:10:29.261Z"
   },
   {
    "duration": 7,
    "start_time": "2023-05-30T13:10:29.272Z"
   },
   {
    "duration": 7,
    "start_time": "2023-05-30T13:10:29.280Z"
   },
   {
    "duration": 19,
    "start_time": "2023-05-30T13:10:29.288Z"
   },
   {
    "duration": 3,
    "start_time": "2023-05-30T13:10:29.308Z"
   },
   {
    "duration": 9,
    "start_time": "2023-05-30T13:10:29.313Z"
   },
   {
    "duration": 7,
    "start_time": "2023-05-30T13:10:29.324Z"
   },
   {
    "duration": 6,
    "start_time": "2023-05-30T13:10:29.332Z"
   },
   {
    "duration": 15,
    "start_time": "2023-05-30T13:10:29.340Z"
   },
   {
    "duration": 7,
    "start_time": "2023-05-30T13:10:29.356Z"
   },
   {
    "duration": 10,
    "start_time": "2023-05-30T13:10:29.364Z"
   },
   {
    "duration": 6,
    "start_time": "2023-05-30T13:10:29.375Z"
   },
   {
    "duration": 25,
    "start_time": "2023-05-30T13:10:29.382Z"
   },
   {
    "duration": 1329,
    "start_time": "2023-05-30T13:10:29.408Z"
   },
   {
    "duration": 259,
    "start_time": "2023-05-30T13:10:30.738Z"
   },
   {
    "duration": 198,
    "start_time": "2023-05-30T13:10:30.998Z"
   },
   {
    "duration": 8,
    "start_time": "2023-05-30T13:10:31.206Z"
   },
   {
    "duration": 251,
    "start_time": "2023-05-30T13:10:31.215Z"
   },
   {
    "duration": 121,
    "start_time": "2023-05-30T13:10:31.468Z"
   },
   {
    "duration": 16,
    "start_time": "2023-05-30T13:10:31.591Z"
   },
   {
    "duration": 368,
    "start_time": "2023-05-30T13:10:31.609Z"
   },
   {
    "duration": 290,
    "start_time": "2023-05-30T13:10:31.979Z"
   },
   {
    "duration": 2917,
    "start_time": "2023-05-30T13:10:32.270Z"
   },
   {
    "duration": 31,
    "start_time": "2023-05-30T13:10:35.189Z"
   },
   {
    "duration": 2005,
    "start_time": "2023-05-30T13:10:35.222Z"
   },
   {
    "duration": 4,
    "start_time": "2023-05-30T13:10:37.229Z"
   },
   {
    "duration": 543,
    "start_time": "2023-05-30T13:10:37.234Z"
   },
   {
    "duration": 6,
    "start_time": "2023-05-30T13:10:37.778Z"
   },
   {
    "duration": 8,
    "start_time": "2023-05-30T13:10:37.785Z"
   },
   {
    "duration": 4,
    "start_time": "2023-05-30T13:10:37.805Z"
   },
   {
    "duration": 21,
    "start_time": "2023-05-30T13:10:37.810Z"
   },
   {
    "duration": 5568,
    "start_time": "2023-05-30T13:10:37.832Z"
   },
   {
    "duration": 110,
    "start_time": "2023-05-30T13:10:43.402Z"
   },
   {
    "duration": 0,
    "start_time": "2023-05-30T13:10:43.514Z"
   },
   {
    "duration": 0,
    "start_time": "2023-05-30T13:10:43.515Z"
   },
   {
    "duration": 0,
    "start_time": "2023-05-30T13:10:43.516Z"
   },
   {
    "duration": 0,
    "start_time": "2023-05-30T13:10:43.517Z"
   },
   {
    "duration": 0,
    "start_time": "2023-05-30T13:10:43.518Z"
   },
   {
    "duration": 0,
    "start_time": "2023-05-30T13:10:43.518Z"
   },
   {
    "duration": 0,
    "start_time": "2023-05-30T13:10:43.519Z"
   },
   {
    "duration": 0,
    "start_time": "2023-05-30T13:10:43.520Z"
   },
   {
    "duration": 0,
    "start_time": "2023-05-30T13:10:43.521Z"
   },
   {
    "duration": 0,
    "start_time": "2023-05-30T13:10:43.522Z"
   },
   {
    "duration": 0,
    "start_time": "2023-05-30T13:10:43.523Z"
   },
   {
    "duration": 0,
    "start_time": "2023-05-30T13:10:43.524Z"
   },
   {
    "duration": 0,
    "start_time": "2023-05-30T13:10:43.524Z"
   },
   {
    "duration": 0,
    "start_time": "2023-05-30T13:10:43.525Z"
   },
   {
    "duration": 0,
    "start_time": "2023-05-30T13:10:43.526Z"
   },
   {
    "duration": 0,
    "start_time": "2023-05-30T13:10:43.527Z"
   },
   {
    "duration": 0,
    "start_time": "2023-05-30T13:10:43.528Z"
   },
   {
    "duration": 0,
    "start_time": "2023-05-30T13:10:43.529Z"
   },
   {
    "duration": 0,
    "start_time": "2023-05-30T13:10:43.529Z"
   },
   {
    "duration": 0,
    "start_time": "2023-05-30T13:10:43.530Z"
   },
   {
    "duration": 0,
    "start_time": "2023-05-30T13:10:43.531Z"
   },
   {
    "duration": 0,
    "start_time": "2023-05-30T13:10:43.532Z"
   },
   {
    "duration": 0,
    "start_time": "2023-05-30T13:10:43.533Z"
   },
   {
    "duration": 0,
    "start_time": "2023-05-30T13:10:43.534Z"
   },
   {
    "duration": 0,
    "start_time": "2023-05-30T13:10:43.534Z"
   },
   {
    "duration": 0,
    "start_time": "2023-05-30T13:10:43.535Z"
   },
   {
    "duration": 0,
    "start_time": "2023-05-30T13:10:43.536Z"
   },
   {
    "duration": 0,
    "start_time": "2023-05-30T13:10:43.537Z"
   },
   {
    "duration": 0,
    "start_time": "2023-05-30T13:10:43.538Z"
   },
   {
    "duration": 0,
    "start_time": "2023-05-30T13:10:43.539Z"
   },
   {
    "duration": 0,
    "start_time": "2023-05-30T13:10:43.540Z"
   },
   {
    "duration": 0,
    "start_time": "2023-05-30T13:10:43.541Z"
   },
   {
    "duration": 0,
    "start_time": "2023-05-30T13:10:43.542Z"
   },
   {
    "duration": 0,
    "start_time": "2023-05-30T13:10:43.543Z"
   },
   {
    "duration": 0,
    "start_time": "2023-05-30T13:10:43.544Z"
   },
   {
    "duration": 0,
    "start_time": "2023-05-30T13:10:43.545Z"
   },
   {
    "duration": 0,
    "start_time": "2023-05-30T13:10:43.545Z"
   },
   {
    "duration": 0,
    "start_time": "2023-05-30T13:10:43.546Z"
   },
   {
    "duration": 0,
    "start_time": "2023-05-30T13:10:43.547Z"
   },
   {
    "duration": 0,
    "start_time": "2023-05-30T13:10:43.548Z"
   },
   {
    "duration": 0,
    "start_time": "2023-05-30T13:10:43.549Z"
   },
   {
    "duration": 0,
    "start_time": "2023-05-30T13:10:43.550Z"
   },
   {
    "duration": 10,
    "start_time": "2023-05-30T13:18:47.161Z"
   },
   {
    "duration": 392,
    "start_time": "2023-05-30T13:19:00.101Z"
   },
   {
    "duration": 141,
    "start_time": "2023-05-30T13:19:00.495Z"
   },
   {
    "duration": 17,
    "start_time": "2023-05-30T13:19:00.637Z"
   },
   {
    "duration": 69,
    "start_time": "2023-05-30T13:19:00.657Z"
   },
   {
    "duration": 39,
    "start_time": "2023-05-30T13:19:00.728Z"
   },
   {
    "duration": 40,
    "start_time": "2023-05-30T13:19:00.768Z"
   },
   {
    "duration": 37,
    "start_time": "2023-05-30T13:19:00.810Z"
   },
   {
    "duration": 49,
    "start_time": "2023-05-30T13:19:00.848Z"
   },
   {
    "duration": 34,
    "start_time": "2023-05-30T13:19:00.899Z"
   },
   {
    "duration": 37,
    "start_time": "2023-05-30T13:19:00.936Z"
   },
   {
    "duration": 39,
    "start_time": "2023-05-30T13:19:00.974Z"
   },
   {
    "duration": 140,
    "start_time": "2023-05-30T13:19:01.015Z"
   },
   {
    "duration": 8,
    "start_time": "2023-05-30T13:19:01.157Z"
   },
   {
    "duration": 43,
    "start_time": "2023-05-30T13:19:01.167Z"
   },
   {
    "duration": 19,
    "start_time": "2023-05-30T13:19:01.212Z"
   },
   {
    "duration": 41,
    "start_time": "2023-05-30T13:19:01.233Z"
   },
   {
    "duration": 57,
    "start_time": "2023-05-30T13:19:01.275Z"
   },
   {
    "duration": 37,
    "start_time": "2023-05-30T13:19:01.334Z"
   },
   {
    "duration": 62,
    "start_time": "2023-05-30T13:19:01.372Z"
   },
   {
    "duration": 114,
    "start_time": "2023-05-30T13:19:01.435Z"
   },
   {
    "duration": 9,
    "start_time": "2023-05-30T13:19:01.551Z"
   },
   {
    "duration": 50,
    "start_time": "2023-05-30T13:19:01.561Z"
   },
   {
    "duration": 37,
    "start_time": "2023-05-30T13:19:01.613Z"
   },
   {
    "duration": 131,
    "start_time": "2023-05-30T13:19:01.652Z"
   },
   {
    "duration": 7,
    "start_time": "2023-05-30T13:19:01.785Z"
   },
   {
    "duration": 48,
    "start_time": "2023-05-30T13:19:01.794Z"
   },
   {
    "duration": 28,
    "start_time": "2023-05-30T13:19:01.843Z"
   },
   {
    "duration": 32,
    "start_time": "2023-05-30T13:19:01.875Z"
   },
   {
    "duration": 55,
    "start_time": "2023-05-30T13:19:01.909Z"
   },
   {
    "duration": 35,
    "start_time": "2023-05-30T13:19:01.965Z"
   },
   {
    "duration": 43,
    "start_time": "2023-05-30T13:19:02.001Z"
   },
   {
    "duration": 42,
    "start_time": "2023-05-30T13:19:02.046Z"
   },
   {
    "duration": 39,
    "start_time": "2023-05-30T13:19:02.089Z"
   },
   {
    "duration": 39,
    "start_time": "2023-05-30T13:19:02.129Z"
   },
   {
    "duration": 48,
    "start_time": "2023-05-30T13:19:02.170Z"
   },
   {
    "duration": 20,
    "start_time": "2023-05-30T13:19:02.220Z"
   },
   {
    "duration": 25,
    "start_time": "2023-05-30T13:19:02.242Z"
   },
   {
    "duration": 12,
    "start_time": "2023-05-30T13:19:02.268Z"
   },
   {
    "duration": 34,
    "start_time": "2023-05-30T13:19:02.282Z"
   },
   {
    "duration": 40,
    "start_time": "2023-05-30T13:19:02.317Z"
   },
   {
    "duration": 10,
    "start_time": "2023-05-30T13:19:02.359Z"
   },
   {
    "duration": 51,
    "start_time": "2023-05-30T13:19:02.370Z"
   },
   {
    "duration": 29,
    "start_time": "2023-05-30T13:19:02.423Z"
   },
   {
    "duration": 23,
    "start_time": "2023-05-30T13:19:02.455Z"
   },
   {
    "duration": 18,
    "start_time": "2023-05-30T13:19:02.480Z"
   },
   {
    "duration": 42,
    "start_time": "2023-05-30T13:19:02.500Z"
   },
   {
    "duration": 16,
    "start_time": "2023-05-30T13:19:02.544Z"
   },
   {
    "duration": 12,
    "start_time": "2023-05-30T13:19:02.561Z"
   },
   {
    "duration": 26,
    "start_time": "2023-05-30T13:19:02.575Z"
   },
   {
    "duration": 834,
    "start_time": "2023-05-30T13:19:02.603Z"
   },
   {
    "duration": 254,
    "start_time": "2023-05-30T13:19:03.439Z"
   },
   {
    "duration": 102,
    "start_time": "2023-05-30T13:19:03.695Z"
   },
   {
    "duration": 13,
    "start_time": "2023-05-30T13:19:03.798Z"
   },
   {
    "duration": 208,
    "start_time": "2023-05-30T13:19:03.813Z"
   },
   {
    "duration": 185,
    "start_time": "2023-05-30T13:19:04.023Z"
   },
   {
    "duration": 7,
    "start_time": "2023-05-30T13:19:04.210Z"
   },
   {
    "duration": 320,
    "start_time": "2023-05-30T13:19:04.218Z"
   },
   {
    "duration": 243,
    "start_time": "2023-05-30T13:19:04.540Z"
   },
   {
    "duration": 1819,
    "start_time": "2023-05-30T13:19:04.784Z"
   },
   {
    "duration": 8,
    "start_time": "2023-05-30T13:19:06.605Z"
   },
   {
    "duration": 2022,
    "start_time": "2023-05-30T13:19:06.615Z"
   },
   {
    "duration": 4,
    "start_time": "2023-05-30T13:19:08.639Z"
   },
   {
    "duration": 526,
    "start_time": "2023-05-30T13:19:08.644Z"
   },
   {
    "duration": 5,
    "start_time": "2023-05-30T13:19:09.172Z"
   },
   {
    "duration": 15,
    "start_time": "2023-05-30T13:19:09.179Z"
   },
   {
    "duration": 20,
    "start_time": "2023-05-30T13:19:09.195Z"
   },
   {
    "duration": 29,
    "start_time": "2023-05-30T13:19:09.216Z"
   },
   {
    "duration": 1803,
    "start_time": "2023-05-30T13:19:09.247Z"
   },
   {
    "duration": 6,
    "start_time": "2023-05-30T13:19:11.052Z"
   },
   {
    "duration": 7,
    "start_time": "2023-05-30T13:19:11.060Z"
   },
   {
    "duration": 10,
    "start_time": "2023-05-30T13:19:11.069Z"
   },
   {
    "duration": 8,
    "start_time": "2023-05-30T13:19:11.080Z"
   },
   {
    "duration": 4,
    "start_time": "2023-05-30T13:19:11.090Z"
   },
   {
    "duration": 6,
    "start_time": "2023-05-30T13:19:11.095Z"
   },
   {
    "duration": 6,
    "start_time": "2023-05-30T13:19:11.102Z"
   },
   {
    "duration": 7,
    "start_time": "2023-05-30T13:19:11.109Z"
   },
   {
    "duration": 5002,
    "start_time": "2023-05-30T13:19:11.117Z"
   },
   {
    "duration": 3,
    "start_time": "2023-05-30T13:19:16.121Z"
   },
   {
    "duration": 11,
    "start_time": "2023-05-30T13:19:16.125Z"
   },
   {
    "duration": 20,
    "start_time": "2023-05-30T13:19:16.138Z"
   },
   {
    "duration": 5,
    "start_time": "2023-05-30T13:19:16.160Z"
   },
   {
    "duration": 3,
    "start_time": "2023-05-30T13:19:16.170Z"
   },
   {
    "duration": 11,
    "start_time": "2023-05-30T13:19:16.174Z"
   },
   {
    "duration": 5,
    "start_time": "2023-05-30T13:19:16.187Z"
   },
   {
    "duration": 10,
    "start_time": "2023-05-30T13:19:16.193Z"
   },
   {
    "duration": 87372,
    "start_time": "2023-05-30T13:19:16.205Z"
   },
   {
    "duration": 3,
    "start_time": "2023-05-30T13:20:43.578Z"
   },
   {
    "duration": 14,
    "start_time": "2023-05-30T13:20:43.582Z"
   },
   {
    "duration": 17,
    "start_time": "2023-05-30T13:20:43.598Z"
   },
   {
    "duration": 25,
    "start_time": "2023-05-30T13:20:43.617Z"
   },
   {
    "duration": 53157,
    "start_time": "2023-05-30T13:20:43.643Z"
   },
   {
    "duration": 3,
    "start_time": "2023-05-30T13:21:36.803Z"
   },
   {
    "duration": 5,
    "start_time": "2023-05-30T13:21:36.809Z"
   },
   {
    "duration": 9,
    "start_time": "2023-05-30T13:21:36.816Z"
   },
   {
    "duration": 17,
    "start_time": "2023-05-30T13:21:36.827Z"
   },
   {
    "duration": 25,
    "start_time": "2023-05-30T13:21:36.846Z"
   },
   {
    "duration": 7,
    "start_time": "2023-05-30T13:21:36.874Z"
   },
   {
    "duration": 16,
    "start_time": "2023-05-30T13:21:36.883Z"
   },
   {
    "duration": 38808,
    "start_time": "2023-05-30T13:21:36.901Z"
   },
   {
    "duration": 3,
    "start_time": "2023-05-30T13:22:15.710Z"
   },
   {
    "duration": 7,
    "start_time": "2023-05-30T13:22:15.714Z"
   },
   {
    "duration": 9,
    "start_time": "2023-05-30T13:22:15.722Z"
   },
   {
    "duration": 18,
    "start_time": "2023-05-30T13:22:15.732Z"
   },
   {
    "duration": 8,
    "start_time": "2023-05-30T13:22:15.752Z"
   },
   {
    "duration": 16,
    "start_time": "2023-05-30T13:22:15.762Z"
   },
   {
    "duration": 2849,
    "start_time": "2023-05-30T13:22:15.780Z"
   },
   {
    "duration": 6,
    "start_time": "2023-05-30T13:22:18.631Z"
   },
   {
    "duration": 12,
    "start_time": "2023-05-30T13:22:18.638Z"
   },
   {
    "duration": 23,
    "start_time": "2023-05-30T13:22:18.651Z"
   },
   {
    "duration": 283,
    "start_time": "2023-05-30T13:22:18.675Z"
   },
   {
    "duration": 4,
    "start_time": "2023-05-30T13:22:18.960Z"
   },
   {
    "duration": 4,
    "start_time": "2023-05-30T13:22:45.881Z"
   },
   {
    "duration": 337,
    "start_time": "2023-05-30T13:22:50.796Z"
   },
   {
    "duration": 4,
    "start_time": "2023-05-30T13:23:04.794Z"
   },
   {
    "duration": 446,
    "start_time": "2023-05-30T13:23:32.334Z"
   },
   {
    "duration": 276,
    "start_time": "2023-05-30T13:23:32.782Z"
   },
   {
    "duration": 17,
    "start_time": "2023-05-30T13:23:33.060Z"
   },
   {
    "duration": 20,
    "start_time": "2023-05-30T13:23:33.079Z"
   },
   {
    "duration": 22,
    "start_time": "2023-05-30T13:23:33.101Z"
   },
   {
    "duration": 16,
    "start_time": "2023-05-30T13:23:33.125Z"
   },
   {
    "duration": 11,
    "start_time": "2023-05-30T13:23:33.143Z"
   },
   {
    "duration": 12,
    "start_time": "2023-05-30T13:23:33.156Z"
   },
   {
    "duration": 17,
    "start_time": "2023-05-30T13:23:33.170Z"
   },
   {
    "duration": 5,
    "start_time": "2023-05-30T13:23:33.188Z"
   },
   {
    "duration": 17,
    "start_time": "2023-05-30T13:23:33.194Z"
   },
   {
    "duration": 104,
    "start_time": "2023-05-30T13:23:33.212Z"
   },
   {
    "duration": 8,
    "start_time": "2023-05-30T13:23:33.318Z"
   },
   {
    "duration": 14,
    "start_time": "2023-05-30T13:23:33.330Z"
   },
   {
    "duration": 7,
    "start_time": "2023-05-30T13:23:33.346Z"
   },
   {
    "duration": 6,
    "start_time": "2023-05-30T13:23:33.355Z"
   },
   {
    "duration": 20,
    "start_time": "2023-05-30T13:23:33.363Z"
   },
   {
    "duration": 13,
    "start_time": "2023-05-30T13:23:33.385Z"
   },
   {
    "duration": 31,
    "start_time": "2023-05-30T13:23:33.399Z"
   },
   {
    "duration": 109,
    "start_time": "2023-05-30T13:23:33.431Z"
   },
   {
    "duration": 10,
    "start_time": "2023-05-30T13:23:33.542Z"
   },
   {
    "duration": 15,
    "start_time": "2023-05-30T13:23:33.554Z"
   },
   {
    "duration": 18,
    "start_time": "2023-05-30T13:23:33.571Z"
   },
   {
    "duration": 96,
    "start_time": "2023-05-30T13:23:33.591Z"
   },
   {
    "duration": 6,
    "start_time": "2023-05-30T13:23:33.689Z"
   },
   {
    "duration": 10,
    "start_time": "2023-05-30T13:23:33.697Z"
   },
   {
    "duration": 10,
    "start_time": "2023-05-30T13:23:33.708Z"
   },
   {
    "duration": 12,
    "start_time": "2023-05-30T13:23:33.719Z"
   },
   {
    "duration": 10,
    "start_time": "2023-05-30T13:23:33.732Z"
   },
   {
    "duration": 29,
    "start_time": "2023-05-30T13:23:33.744Z"
   },
   {
    "duration": 56,
    "start_time": "2023-05-30T13:23:33.775Z"
   },
   {
    "duration": 11,
    "start_time": "2023-05-30T13:23:33.834Z"
   },
   {
    "duration": 31,
    "start_time": "2023-05-30T13:23:33.847Z"
   },
   {
    "duration": 25,
    "start_time": "2023-05-30T13:23:33.880Z"
   },
   {
    "duration": 15,
    "start_time": "2023-05-30T13:23:33.907Z"
   },
   {
    "duration": 14,
    "start_time": "2023-05-30T13:23:33.924Z"
   },
   {
    "duration": 20,
    "start_time": "2023-05-30T13:23:33.940Z"
   },
   {
    "duration": 25,
    "start_time": "2023-05-30T13:23:33.962Z"
   },
   {
    "duration": 7,
    "start_time": "2023-05-30T13:23:33.988Z"
   },
   {
    "duration": 17,
    "start_time": "2023-05-30T13:23:33.997Z"
   },
   {
    "duration": 16,
    "start_time": "2023-05-30T13:23:34.019Z"
   },
   {
    "duration": 21,
    "start_time": "2023-05-30T13:23:34.036Z"
   },
   {
    "duration": 19,
    "start_time": "2023-05-30T13:23:34.058Z"
   },
   {
    "duration": 8,
    "start_time": "2023-05-30T13:23:34.078Z"
   },
   {
    "duration": 32,
    "start_time": "2023-05-30T13:23:34.087Z"
   },
   {
    "duration": 10,
    "start_time": "2023-05-30T13:23:34.121Z"
   },
   {
    "duration": 23,
    "start_time": "2023-05-30T13:23:34.132Z"
   },
   {
    "duration": 8,
    "start_time": "2023-05-30T13:23:34.156Z"
   },
   {
    "duration": 27,
    "start_time": "2023-05-30T13:23:34.166Z"
   },
   {
    "duration": 794,
    "start_time": "2023-05-30T13:23:34.195Z"
   },
   {
    "duration": 266,
    "start_time": "2023-05-30T13:23:34.990Z"
   },
   {
    "duration": 112,
    "start_time": "2023-05-30T13:23:35.257Z"
   },
   {
    "duration": 9,
    "start_time": "2023-05-30T13:23:35.370Z"
   },
   {
    "duration": 205,
    "start_time": "2023-05-30T13:23:35.380Z"
   },
   {
    "duration": 185,
    "start_time": "2023-05-30T13:23:35.586Z"
   },
   {
    "duration": 8,
    "start_time": "2023-05-30T13:23:35.772Z"
   },
   {
    "duration": 327,
    "start_time": "2023-05-30T13:23:35.781Z"
   },
   {
    "duration": 257,
    "start_time": "2023-05-30T13:23:36.110Z"
   },
   {
    "duration": 1868,
    "start_time": "2023-05-30T13:23:36.369Z"
   },
   {
    "duration": 8,
    "start_time": "2023-05-30T13:23:38.239Z"
   },
   {
    "duration": 1964,
    "start_time": "2023-05-30T13:23:38.249Z"
   },
   {
    "duration": 4,
    "start_time": "2023-05-30T13:23:40.215Z"
   },
   {
    "duration": 543,
    "start_time": "2023-05-30T13:23:40.220Z"
   },
   {
    "duration": 6,
    "start_time": "2023-05-30T13:23:40.764Z"
   },
   {
    "duration": 8,
    "start_time": "2023-05-30T13:23:40.771Z"
   },
   {
    "duration": 11,
    "start_time": "2023-05-30T13:23:40.780Z"
   },
   {
    "duration": 15,
    "start_time": "2023-05-30T13:23:40.792Z"
   },
   {
    "duration": 1854,
    "start_time": "2023-05-30T13:23:40.809Z"
   },
   {
    "duration": 6,
    "start_time": "2023-05-30T13:23:42.665Z"
   },
   {
    "duration": 8,
    "start_time": "2023-05-30T13:23:42.672Z"
   },
   {
    "duration": 6,
    "start_time": "2023-05-30T13:23:42.681Z"
   },
   {
    "duration": 12,
    "start_time": "2023-05-30T13:23:42.688Z"
   },
   {
    "duration": 4,
    "start_time": "2023-05-30T13:23:42.702Z"
   },
   {
    "duration": 9,
    "start_time": "2023-05-30T13:23:42.707Z"
   },
   {
    "duration": 5,
    "start_time": "2023-05-30T13:23:42.717Z"
   },
   {
    "duration": 7,
    "start_time": "2023-05-30T13:23:42.723Z"
   },
   {
    "duration": 4782,
    "start_time": "2023-05-30T13:23:42.731Z"
   },
   {
    "duration": 2,
    "start_time": "2023-05-30T13:23:47.515Z"
   },
   {
    "duration": 13,
    "start_time": "2023-05-30T13:23:47.518Z"
   },
   {
    "duration": 26,
    "start_time": "2023-05-30T13:23:47.532Z"
   },
   {
    "duration": 11,
    "start_time": "2023-05-30T13:23:47.560Z"
   },
   {
    "duration": 4,
    "start_time": "2023-05-30T13:23:47.573Z"
   },
   {
    "duration": 23,
    "start_time": "2023-05-30T13:23:47.578Z"
   },
   {
    "duration": 4,
    "start_time": "2023-05-30T13:23:47.603Z"
   },
   {
    "duration": 5,
    "start_time": "2023-05-30T13:23:47.608Z"
   },
   {
    "duration": 86432,
    "start_time": "2023-05-30T13:23:47.615Z"
   },
   {
    "duration": 3,
    "start_time": "2023-05-30T13:25:14.049Z"
   },
   {
    "duration": 9,
    "start_time": "2023-05-30T13:25:14.053Z"
   },
   {
    "duration": 6,
    "start_time": "2023-05-30T13:25:14.063Z"
   },
   {
    "duration": 5,
    "start_time": "2023-05-30T13:25:14.070Z"
   },
   {
    "duration": 50557,
    "start_time": "2023-05-30T13:25:14.076Z"
   },
   {
    "duration": 2,
    "start_time": "2023-05-30T13:26:04.635Z"
   },
   {
    "duration": 16,
    "start_time": "2023-05-30T13:26:04.638Z"
   },
   {
    "duration": 10,
    "start_time": "2023-05-30T13:26:04.655Z"
   },
   {
    "duration": 11,
    "start_time": "2023-05-30T13:26:04.667Z"
   },
   {
    "duration": 13,
    "start_time": "2023-05-30T13:26:04.680Z"
   },
   {
    "duration": 17,
    "start_time": "2023-05-30T13:26:04.694Z"
   },
   {
    "duration": 28,
    "start_time": "2023-05-30T13:26:04.713Z"
   },
   {
    "duration": 39833,
    "start_time": "2023-05-30T13:26:04.742Z"
   },
   {
    "duration": 2,
    "start_time": "2023-05-30T13:26:44.577Z"
   },
   {
    "duration": 16,
    "start_time": "2023-05-30T13:26:44.581Z"
   },
   {
    "duration": 13,
    "start_time": "2023-05-30T13:26:44.599Z"
   },
   {
    "duration": 23,
    "start_time": "2023-05-30T13:26:44.613Z"
   },
   {
    "duration": 6,
    "start_time": "2023-05-30T13:26:44.638Z"
   },
   {
    "duration": 22,
    "start_time": "2023-05-30T13:26:44.645Z"
   },
   {
    "duration": 2942,
    "start_time": "2023-05-30T13:26:44.668Z"
   },
   {
    "duration": 7,
    "start_time": "2023-05-30T13:26:47.611Z"
   },
   {
    "duration": 3,
    "start_time": "2023-05-30T13:26:47.619Z"
   },
   {
    "duration": 20,
    "start_time": "2023-05-30T13:26:47.623Z"
   },
   {
    "duration": 230,
    "start_time": "2023-05-30T13:26:47.644Z"
   },
   {
    "duration": 4,
    "start_time": "2023-05-30T13:26:47.875Z"
   },
   {
    "duration": 14,
    "start_time": "2023-05-30T13:27:43.294Z"
   },
   {
    "duration": 99,
    "start_time": "2023-05-30T13:30:19.723Z"
   },
   {
    "duration": 7,
    "start_time": "2023-05-30T13:30:28.510Z"
   },
   {
    "duration": 8,
    "start_time": "2023-05-30T13:30:34.192Z"
   },
   {
    "duration": 5,
    "start_time": "2023-05-30T13:31:28.808Z"
   },
   {
    "duration": 12,
    "start_time": "2023-05-30T13:31:43.694Z"
   },
   {
    "duration": 12,
    "start_time": "2023-05-30T13:32:26.669Z"
   },
   {
    "duration": 4,
    "start_time": "2023-05-30T13:32:33.926Z"
   },
   {
    "duration": 8,
    "start_time": "2023-05-30T13:32:42.883Z"
   },
   {
    "duration": 151,
    "start_time": "2023-05-30T13:35:16.201Z"
   },
   {
    "duration": 141,
    "start_time": "2023-05-30T13:35:46.621Z"
   }
  ],
  "kernelspec": {
   "display_name": "Python 3 (ipykernel)",
   "language": "python",
   "name": "python3"
  },
  "language_info": {
   "codemirror_mode": {
    "name": "ipython",
    "version": 3
   },
   "file_extension": ".py",
   "mimetype": "text/x-python",
   "name": "python",
   "nbconvert_exporter": "python",
   "pygments_lexer": "ipython3",
   "version": "3.9.12"
  },
  "toc": {
   "base_numbering": 1,
   "nav_menu": {},
   "number_sections": true,
   "sideBar": true,
   "skip_h1_title": true,
   "title_cell": "Table of Contents",
   "title_sidebar": "Contents",
   "toc_cell": false,
   "toc_position": {},
   "toc_section_display": true,
   "toc_window_display": false
  }
 },
 "nbformat": 4,
 "nbformat_minor": 5
}
